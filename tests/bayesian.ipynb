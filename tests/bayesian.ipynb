{
 "cells": [
  {
   "cell_type": "code",
   "execution_count": 1,
   "metadata": {},
   "outputs": [],
   "source": [
    "# %% Imports\n",
    "from jax import random, numpy as jnp\n",
    "\n",
    "from modax.data.burgers import burgers\n",
    "from modax.models import DeepmodBayes, Deepmod\n",
    "from modax.training import train_probabilistic, train, train_probabilistic_mse\n",
    "from modax.linear_model.mask_estimator import ThresholdedLasso\n",
    "from flax import optim\n",
    "\n",
    "import matplotlib.pyplot as plt\n",
    "import seaborn as sns\n",
    "sns.set()\n",
    "\n",
    "%load_ext autoreload\n",
    "%autoreload 2"
   ]
  },
  {
   "cell_type": "code",
   "execution_count": 2,
   "metadata": {},
   "outputs": [],
   "source": [
    "# %% Making data\n",
    "key = random.PRNGKey(42)\n",
    "\n",
    "x = jnp.linspace(-3, 4, 50)\n",
    "t = jnp.linspace(0.5, 5.0, 20)\n",
    "t_grid, x_grid = jnp.meshgrid(t, x, indexing=\"ij\")\n",
    "u = burgers(x_grid, t_grid, 0.1, 1.0)\n",
    "\n",
    "X = jnp.concatenate([t_grid.reshape(-1, 1), x_grid.reshape(-1, 1)], axis=1)\n",
    "y = u.reshape(-1, 1)\n",
    "y += 0.10 * jnp.std(y) * random.normal(key, y.shape)"
   ]
  },
  {
   "cell_type": "markdown",
   "metadata": {},
   "source": [
    "# Baseline"
   ]
  },
  {
   "cell_type": "code",
   "execution_count": 96,
   "metadata": {},
   "outputs": [],
   "source": [
    "from modax.losses import loss_fn_pinn_stateful"
   ]
  },
  {
   "cell_type": "code",
   "execution_count": 98,
   "metadata": {},
   "outputs": [],
   "source": [
    "model = Deepmod([30, 30, 30, 1])\n",
    "variables = model.init(key, X)\n",
    "\n",
    "optimizer = optim.Adam(learning_rate=2e-3, beta1=0.99, beta2=0.99)\n",
    "state, params = variables.pop(\"params\")\n",
    "optimizer = optimizer.create(params)\n",
    "\n",
    "mask_fn = ThresholdedLasso(threshold=0.1)"
   ]
  },
  {
   "cell_type": "code",
   "execution_count": 102,
   "metadata": {},
   "outputs": [
    {
     "name": "stdout",
     "output_type": "stream",
     "text": [
      "Loss step 0.0: 0.017135808244347572\n",
      "Loss step 1000.0: 0.0001830585242714733\n"
     ]
    },
    {
     "name": "stderr",
     "output_type": "stream",
     "text": [
      "/home/gert-jan/anaconda3/lib/python3.8/site-packages/sklearn/linear_model/_coordinate_descent.py:529: ConvergenceWarning: Objective did not converge. You might want to increase the number of iterations. Duality gap: 0.00019119429634884, tolerance: 9.999998292187229e-05\n",
      "  model = cd_fast.enet_coordinate_descent(\n"
     ]
    },
    {
     "name": "stdout",
     "output_type": "stream",
     "text": [
      "Loss step 2000.0: 0.00018156386795453727\n",
      "Loss step 3000.0: 0.00017614390526432544\n",
      "Loss step 4000.0: 0.00017252062389161438\n",
      "Loss step 5000.0: 0.00016004795907065272\n",
      "Converged at epoch 5836.0 with mask [[False]\n",
      " [False]\n",
      " [ True]\n",
      " [False]\n",
      " [False]\n",
      " [ True]\n",
      " [False]\n",
      " [False]\n",
      " [False]\n",
      " [False]\n",
      " [False]\n",
      " [False]].\n"
     ]
    }
   ],
   "source": [
    "optimizer, state = train(\n",
    "    model,\n",
    "    optimizer,\n",
    "    state,\n",
    "    loss_fn_pinn_stateful,\n",
    "    mask_fn,\n",
    "    X,\n",
    "    y,\n",
    "    max_epochs=1e4,\n",
    "    split=0.8,\n",
    "    rand_seed=42,\n",
    ")"
   ]
  },
  {
   "cell_type": "code",
   "execution_count": 103,
   "metadata": {},
   "outputs": [],
   "source": [
    "variables = {\"params\": optimizer.target, **state}\n",
    "prediction = model.apply(variables, X, mutable=list(state.keys()))[0][0].reshape(x_grid.shape)"
   ]
  },
  {
   "cell_type": "code",
   "execution_count": 104,
   "metadata": {},
   "outputs": [
    {
     "data": {
      "text/plain": [
       "[<matplotlib.lines.Line2D at 0x7f3af05f9670>]"
      ]
     },
     "execution_count": 104,
     "metadata": {},
     "output_type": "execute_result"
    },
    {
     "data": {
      "image/png": "[encoded data removed]",
      "text/plain": [
       "<Figure size 432x288 with 1 Axes>"
      ]
     },
     "metadata": {},
     "output_type": "display_data"
    }
   ],
   "source": [
    "frame = 10\n",
    "plt.plot(x, u[frame, :])\n",
    "plt.plot(x, prediction[frame, :], 'o')"
   ]
  },
  {
   "cell_type": "markdown",
   "metadata": {},
   "source": [
    "# MSE"
   ]
  },
  {
   "cell_type": "markdown",
   "metadata": {},
   "source": [
    "## Grad"
   ]
  },
  {
   "cell_type": "code",
   "execution_count": 3,
   "metadata": {},
   "outputs": [],
   "source": [
    "from modax.losses.bayesian import loss_fn_mse_grad"
   ]
  },
  {
   "cell_type": "code",
   "execution_count": 4,
   "metadata": {},
   "outputs": [],
   "source": [
    "model = DeepmodBayes([30, 30, 30, 1])\n",
    "variables = model.init(key, X)\n",
    "\n",
    "optimizer = optim.Adam(learning_rate=2e-3, beta1=0.99, beta2=0.99)\n",
    "state, params = variables.pop(\"params\")\n",
    "optimizer = optimizer.create(params)"
   ]
  },
  {
   "cell_type": "code",
   "execution_count": 5,
   "metadata": {},
   "outputs": [
    {
     "name": "stdout",
     "output_type": "stream",
     "text": [
      "Loss step 0.0: 725.1221923828125\n",
      "Loss step 1000.0: 525.1157836914062\n"
     ]
    }
   ],
   "source": [
    "# only train mse, stop at minimum mse testset\n",
    "optimizer, state = train_probabilistic_mse(\n",
    "    model,\n",
    "    optimizer,\n",
    "    state,\n",
    "    loss_fn_mse_grad,\n",
    "    X,\n",
    "    y,\n",
    "    max_epochs=1e4,\n",
    "    split=0.8,\n",
    "    rand_seed=42,\n",
    ")"
   ]
  },
  {
   "cell_type": "code",
   "execution_count": 6,
   "metadata": {},
   "outputs": [],
   "source": [
    "variables = {\"params\": optimizer.target, **state}\n",
    "prediction = model.apply(variables, X, mutable=list(state.keys()))[0][0].reshape(x_grid.shape)"
   ]
  },
  {
   "cell_type": "code",
   "execution_count": 7,
   "metadata": {},
   "outputs": [
    {
     "data": {
      "text/plain": [
       "[<matplotlib.lines.Line2D at 0x7f3c2008a5b0>]"
      ]
     },
     "execution_count": 7,
     "metadata": {},
     "output_type": "execute_result"
    },
    {
     "data": {
      "image/png": "[encoded data removed]",
      "text/plain": [
       "<Figure size 432x288 with 1 Axes>"
      ]
     },
     "metadata": {},
     "output_type": "display_data"
    }
   ],
   "source": [
    "frame = 10\n",
    "plt.plot(x, u[frame, :])\n",
    "plt.plot(x, prediction[frame, :], 'o')"
   ]
  },
  {
   "cell_type": "markdown",
   "metadata": {},
   "source": [
    "We see from tensorboard that mse reaches a minimum, but p_mse is not maximal yet; that's because tau hasn't converged yet."
   ]
  },
  {
   "cell_type": "markdown",
   "metadata": {},
   "source": [
    "## Precalc"
   ]
  },
  {
   "cell_type": "code",
   "execution_count": 10,
   "metadata": {},
   "outputs": [],
   "source": [
    "from modax.losses.bayesian import loss_fn_mse_precalc"
   ]
  },
  {
   "cell_type": "code",
   "execution_count": 11,
   "metadata": {},
   "outputs": [],
   "source": [
    "model = DeepmodBayes([30, 30, 30, 1])\n",
    "variables = model.init(key, X)\n",
    "\n",
    "optimizer = optim.Adam(learning_rate=2e-3, beta1=0.99, beta2=0.99)\n",
    "state, params = variables.pop(\"params\")\n",
    "optimizer = optimizer.create(params)"
   ]
  },
  {
   "cell_type": "code",
   "execution_count": 12,
   "metadata": {},
   "outputs": [
    {
     "name": "stdout",
     "output_type": "stream",
     "text": [
      "Loss step 0.0: -55.43794631958008\n"
     ]
    }
   ],
   "source": [
    "# only train mse, stop at minimum mse testset\n",
    "optimizer, state = train_probabilistic_mse(\n",
    "    model,\n",
    "    optimizer,\n",
    "    state,\n",
    "    loss_fn_mse_precalc,\n",
    "    X,\n",
    "    y,\n",
    "    max_epochs=1e4,\n",
    "    split=0.8,\n",
    "    rand_seed=42,\n",
    ")"
   ]
  },
  {
   "cell_type": "code",
   "execution_count": 13,
   "metadata": {},
   "outputs": [],
   "source": [
    "variables = {\"params\": optimizer.target, **state}\n",
    "prediction = model.apply(variables, X, mutable=list(state.keys()))[0][0].reshape(x_grid.shape)"
   ]
  },
  {
   "cell_type": "code",
   "execution_count": 14,
   "metadata": {},
   "outputs": [
    {
     "data": {
      "text/plain": [
       "[<matplotlib.lines.Line2D at 0x7f3be8451b20>]"
      ]
     },
     "execution_count": 14,
     "metadata": {},
     "output_type": "execute_result"
    },
    {
     "data": {
      "image/png": "[encoded data removed]",
      "text/plain": [
       "<Figure size 432x288 with 1 Axes>"
      ]
     },
     "metadata": {},
     "output_type": "display_data"
    }
   ],
   "source": [
    "frame = 10\n",
    "plt.plot(x, u[frame, :])\n",
    "plt.plot(x, prediction[frame, :], 'o')"
   ]
  },
  {
   "cell_type": "markdown",
   "metadata": {},
   "source": [
    "Now the two are perfectly aligned, and it doesn't matter whether we check the validation for the mse or p_mse, as it is (and should be) similar."
   ]
  },
  {
   "cell_type": "markdown",
   "metadata": {},
   "source": [
    "# Multitask"
   ]
  },
  {
   "cell_type": "markdown",
   "metadata": {},
   "source": [
    "## Grad"
   ]
  },
  {
   "cell_type": "code",
   "execution_count": 75,
   "metadata": {},
   "outputs": [],
   "source": [
    "from modax.losses.bayesian import loss_fn_multitask_grad"
   ]
  },
  {
   "cell_type": "code",
   "execution_count": 76,
   "metadata": {},
   "outputs": [],
   "source": [
    "model = DeepmodBayes([30, 30, 30, 1])\n",
    "variables = model.init(key, X)\n",
    "\n",
    "optimizer = optim.Adam(learning_rate=2e-3, beta1=0.99, beta2=0.99)\n",
    "state, params = variables.pop(\"params\")\n",
    "optimizer = optimizer.create(params)\n",
    "\n",
    "mask_fn = ThresholdedLasso(threshold=0.1)"
   ]
  },
  {
   "cell_type": "code",
   "execution_count": 77,
   "metadata": {},
   "outputs": [
    {
     "name": "stdout",
     "output_type": "stream",
     "text": [
      "Loss step 0.0: 1510.201416015625\n",
      "Loss step 1000.0: 1110.20947265625\n",
      "Loss step 2000.0: 910.2023315429688\n",
      "Loss step 3000.0: 510.2184753417969\n",
      "Loss step 4000.0: 110.36080932617188\n",
      "Loss step 5000.0: -288.7017822265625\n",
      "Loss step 6000.0: -681.9421997070312\n",
      "Loss step 7000.0: -1033.44140625\n",
      "Loss step 8000.0: -1244.39794921875\n",
      "Loss step 9000.0: -1438.6051025390625\n"
     ]
    }
   ],
   "source": [
    "# only train mse, stop at minimum mse testset\n",
    "optimizer, state = train_probabilistic(\n",
    "    model,\n",
    "    optimizer,\n",
    "    state,\n",
    "    loss_fn_multitask_grad,\n",
    "    mask_fn,\n",
    "    X,\n",
    "    y,\n",
    "    max_epochs=1e4,\n",
    "    split=0.8,\n",
    "    rand_seed=42,\n",
    ")"
   ]
  },
  {
   "cell_type": "code",
   "execution_count": 78,
   "metadata": {},
   "outputs": [],
   "source": [
    "variables = {\"params\": optimizer.target, **state}\n",
    "prediction = model.apply(variables, X, mutable=list(state.keys()))[0][0].reshape(x_grid.shape)"
   ]
  },
  {
   "cell_type": "code",
   "execution_count": 79,
   "metadata": {},
   "outputs": [
    {
     "data": {
      "text/plain": [
       "[<matplotlib.lines.Line2D at 0x7f3b244bbca0>]"
      ]
     },
     "execution_count": 79,
     "metadata": {},
     "output_type": "execute_result"
    },
    {
     "data": {
      "image/png": "[encoded data removed]",
      "text/plain": [
       "<Figure size 432x288 with 1 Axes>"
      ]
     },
     "metadata": {},
     "output_type": "display_data"
    }
   ],
   "source": [
    "frame = 10\n",
    "plt.plot(x, u[frame, :])\n",
    "plt.plot(x, prediction[frame, :], 'o')"
   ]
  },
  {
   "cell_type": "markdown",
   "metadata": {},
   "source": [
    "So it finds the right eq, but:\n",
    "1. nu and tau are not converged \n",
    "2. if you run this for very long it'll explode cause nu -> infinity; we already see tau going down."
   ]
  },
  {
   "cell_type": "markdown",
   "metadata": {},
   "source": [
    "## Precalc"
   ]
  },
  {
   "cell_type": "code",
   "execution_count": 80,
   "metadata": {},
   "outputs": [],
   "source": [
    "from modax.losses.bayesian import loss_fn_multitask_precalc"
   ]
  },
  {
   "cell_type": "code",
   "execution_count": 81,
   "metadata": {},
   "outputs": [],
   "source": [
    "model = DeepmodBayes([30, 30, 30, 1])\n",
    "variables = model.init(key, X)\n",
    "\n",
    "optimizer = optim.Adam(learning_rate=2e-3, beta1=0.99, beta2=0.99)\n",
    "state, params = variables.pop(\"params\")\n",
    "optimizer = optimizer.create(params)\n",
    "\n",
    "mask_fn = ThresholdedLasso(threshold=0.1)"
   ]
  },
  {
   "cell_type": "code",
   "execution_count": null,
   "metadata": {},
   "outputs": [],
   "source": [
    "# only train mse, stop at minimum mse testset\n",
    "optimizer, state = train_probabilistic(\n",
    "    model,\n",
    "    optimizer,\n",
    "    state,\n",
    "    loss_fn_multitask_precalc,\n",
    "    mask_fn,\n",
    "    X,\n",
    "    y,\n",
    "    max_epochs=1e4,\n",
    "    split=0.8,\n",
    "    rand_seed=42,\n",
    ")"
   ]
  },
  {
   "cell_type": "code",
   "execution_count": 83,
   "metadata": {},
   "outputs": [],
   "source": [
    "variables = {\"params\": optimizer.target, **state}\n",
    "prediction = model.apply(variables, X, mutable=list(state.keys()))[0][0].reshape(x_grid.shape)"
   ]
  },
  {
   "cell_type": "code",
   "execution_count": 84,
   "metadata": {},
   "outputs": [
    {
     "data": {
      "text/plain": [
       "[<matplotlib.lines.Line2D at 0x7f3b242bc3d0>]"
      ]
     },
     "execution_count": 84,
     "metadata": {},
     "output_type": "execute_result"
    },
    {
     "data": {
      "image/png": "[encoded data removed]",
      "text/plain": [
       "<Figure size 432x288 with 1 Axes>"
      ]
     },
     "metadata": {},
     "output_type": "display_data"
    }
   ],
   "source": [
    "frame = 10\n",
    "plt.plot(x, u[frame, :])\n",
    "plt.plot(x, prediction[frame, :], 'o')"
   ]
  },
  {
   "cell_type": "markdown",
   "metadata": {},
   "source": [
    "This is super bad. What happened? We see that it didn't learn the mse; by precalculating the precision it gets stuck."
   ]
  },
  {
   "cell_type": "markdown",
   "metadata": {},
   "source": [
    "# Bayesian multitask"
   ]
  },
  {
   "cell_type": "markdown",
   "metadata": {},
   "source": [
    "now let's do bayesian. I have good experience with setting alpha = n_samples / 2, beta = 1 / (n_samples / 2 * 1e-4), but I haven't picked them carefully or optimized. We set an uninformative prior on the mse:"
   ]
  },
  {
   "cell_type": "code",
   "execution_count": 85,
   "metadata": {},
   "outputs": [],
   "source": [
    "n_samples = X.shape[0]\n",
    "prior_params_reg = (n_samples/2, n_samples/2 * 1e-4)\n",
    "prior_params_mse = (0.0, 0.0)"
   ]
  },
  {
   "cell_type": "markdown",
   "metadata": {},
   "source": [
    "## Grad"
   ]
  },
  {
   "cell_type": "code",
   "execution_count": 86,
   "metadata": {},
   "outputs": [],
   "source": [
    "from modax.losses.bayesian import loss_fn_pinn_bayes_grad"
   ]
  },
  {
   "cell_type": "code",
   "execution_count": 87,
   "metadata": {},
   "outputs": [],
   "source": [
    "model = DeepmodBayes([30, 30, 30, 1])\n",
    "variables = model.init(key, X)\n",
    "\n",
    "optimizer = optim.Adam(learning_rate=2e-3, beta1=0.99, beta2=0.99)\n",
    "state, params = variables.pop(\"params\")\n",
    "optimizer = optimizer.create(params)\n",
    "\n",
    "mask_fn = ThresholdedLasso(threshold=0.1)"
   ]
  },
  {
   "cell_type": "code",
   "execution_count": 88,
   "metadata": {},
   "outputs": [
    {
     "name": "stdout",
     "output_type": "stream",
     "text": [
      "Loss step 0.0: 4505.23291015625\n",
      "Loss step 1000.0: 3109.31396484375\n",
      "Loss step 2000.0: 2411.28564453125\n",
      "Loss step 3000.0: 1015.3003540039062\n",
      "Loss step 4000.0: -380.4397888183594\n",
      "Loss step 5000.0: -1774.6619873046875\n",
      "Loss step 6000.0: -3157.54736328125\n",
      "Loss step 7000.0: -4458.22607421875\n",
      "Loss step 8000.0: -5319.65283203125\n",
      "Loss step 9000.0: -5364.75830078125\n"
     ]
    }
   ],
   "source": [
    "# only train mse, stop at minimum mse testset\n",
    "optimizer, state = train_probabilistic(\n",
    "    model,\n",
    "    optimizer,\n",
    "    state,\n",
    "    loss_fn_pinn_bayes_grad,\n",
    "    mask_fn,\n",
    "    X,\n",
    "    y,\n",
    "    max_epochs=1e4,\n",
    "    split=0.8,\n",
    "    rand_seed=42,\n",
    "    prior_params_reg = prior_params_reg,\n",
    "    prior_params_mse = prior_params_mse\n",
    ")"
   ]
  },
  {
   "cell_type": "code",
   "execution_count": 89,
   "metadata": {},
   "outputs": [],
   "source": [
    "variables = {\"params\": optimizer.target, **state}\n",
    "prediction = model.apply(variables, X, mutable=list(state.keys()))[0][0].reshape(x_grid.shape)"
   ]
  },
  {
   "cell_type": "code",
   "execution_count": 90,
   "metadata": {},
   "outputs": [
    {
     "data": {
      "text/plain": [
       "[<matplotlib.lines.Line2D at 0x7f3b1c1a4400>]"
      ]
     },
     "execution_count": 90,
     "metadata": {},
     "output_type": "execute_result"
    },
    {
     "data": {
      "image/png": "[encoded data removed]",
      "text/plain": [
       "<Figure size 432x288 with 1 Axes>"
      ]
     },
     "metadata": {},
     "output_type": "display_data"
    }
   ],
   "source": [
    "frame = 10\n",
    "plt.plot(x, u[frame, :])\n",
    "plt.plot(x, prediction[frame, :], 'o')"
   ]
  },
  {
   "cell_type": "markdown",
   "metadata": {},
   "source": [
    "As expected we still get a good result."
   ]
  },
  {
   "cell_type": "markdown",
   "metadata": {},
   "source": [
    "## Precalc"
   ]
  },
  {
   "cell_type": "code",
   "execution_count": 91,
   "metadata": {},
   "outputs": [],
   "source": [
    "from modax.losses.bayesian import loss_fn_pinn_bayes_typeII"
   ]
  },
  {
   "cell_type": "code",
   "execution_count": 92,
   "metadata": {},
   "outputs": [],
   "source": [
    "model = DeepmodBayes([30, 30, 30, 1])\n",
    "variables = model.init(key, X)\n",
    "\n",
    "optimizer = optim.Adam(learning_rate=2e-3, beta1=0.99, beta2=0.99)\n",
    "state, params = variables.pop(\"params\")\n",
    "optimizer = optimizer.create(params)\n",
    "\n",
    "mask_fn = ThresholdedLasso(threshold=0.1)"
   ]
  },
  {
   "cell_type": "code",
   "execution_count": 93,
   "metadata": {},
   "outputs": [
    {
     "name": "stdout",
     "output_type": "stream",
     "text": [
      "Loss step 0.0: -4401.35693359375\n",
      "Loss step 1000.0: -5342.21484375\n",
      "Loss step 2000.0: -5340.7548828125\n",
      "Loss step 3000.0: -5342.6015625\n",
      "Converged at epoch 3586.0 with mask [[False]\n",
      " [False]\n",
      " [ True]\n",
      " [False]\n",
      " [False]\n",
      " [ True]\n",
      " [False]\n",
      " [False]\n",
      " [False]\n",
      " [False]\n",
      " [False]\n",
      " [False]].\n"
     ]
    }
   ],
   "source": [
    "# only train mse, stop at minimum mse testset\n",
    "optimizer, state = train_probabilistic(\n",
    "    model,\n",
    "    optimizer,\n",
    "    state,\n",
    "    loss_fn_pinn_bayes_typeII,\n",
    "    mask_fn,\n",
    "    X,\n",
    "    y,\n",
    "    max_epochs=1e4,\n",
    "    split=0.8,\n",
    "    rand_seed=42,\n",
    "    prior_params_reg = prior_params_reg,\n",
    "    prior_params_mse = prior_params_mse\n",
    ")"
   ]
  },
  {
   "cell_type": "code",
   "execution_count": 94,
   "metadata": {},
   "outputs": [],
   "source": [
    "variables = {\"params\": optimizer.target, **state}\n",
    "prediction = model.apply(variables, X, mutable=list(state.keys()))[0][0].reshape(x_grid.shape)"
   ]
  },
  {
   "cell_type": "code",
   "execution_count": 95,
   "metadata": {},
   "outputs": [
    {
     "data": {
      "text/plain": [
       "[<matplotlib.lines.Line2D at 0x7f3af07328b0>]"
      ]
     },
     "execution_count": 95,
     "metadata": {},
     "output_type": "execute_result"
    },
    {
     "data": {
      "image/png": "[encoded data removed]",
      "text/plain": [
       "<Figure size 432x288 with 1 Axes>"
      ]
     },
     "metadata": {},
     "output_type": "display_data"
    }
   ],
   "source": [
    "frame = 10\n",
    "plt.plot(x, u[frame, :])\n",
    "plt.plot(x, prediction[frame, :], 'o')"
   ]
  },
  {
   "cell_type": "markdown",
   "metadata": {},
   "source": [
    "This does wonderfully well... and at this frame also better than the normal pinn?"
   ]
  },
  {
   "cell_type": "markdown",
   "metadata": {},
   "source": [
    "Options to check:\n",
    "1. Marginalizing over tau/nu to give students t, with a preset alpha / beta\n",
    "2. Marginalizing over tau/nu and learn alpha / beta?"
   ]
  },
  {
   "cell_type": "code",
   "execution_count": null,
   "metadata": {},
   "outputs": [],
   "source": []
  }
 ],
 "metadata": {
  "kernelspec": {
   "display_name": "Python 3",
   "language": "python",
   "name": "python3"
  },
  "language_info": {
   "codemirror_mode": {
    "name": "ipython",
    "version": 3
   },
   "file_extension": ".py",
   "mimetype": "text/x-python",
   "name": "python",
   "nbconvert_exporter": "python",
   "pygments_lexer": "ipython3",
   "version": "3.8.5"
  }
 },
 "nbformat": 4,
 "nbformat_minor": 4
}
