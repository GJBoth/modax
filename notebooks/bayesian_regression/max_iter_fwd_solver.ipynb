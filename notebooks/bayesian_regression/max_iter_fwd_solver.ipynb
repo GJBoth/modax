{
 "cells": [
  {
   "cell_type": "markdown",
   "metadata": {},
   "source": [
    "We need to add a maximum iteration count to the forward solver otherwise SBL becomes very slow."
   ]
  },
  {
   "cell_type": "code",
   "execution_count": 1,
   "metadata": {},
   "outputs": [],
   "source": [
    "# %% Imports\n",
    "import jax\n",
    "from jax import jit, numpy as jnp, lax\n",
    "from functools import partial"
   ]
  },
  {
   "cell_type": "code",
   "execution_count": 36,
   "metadata": {},
   "outputs": [],
   "source": [
    "@partial(jit, static_argnums=(0,))\n",
    "def fwd_solver(f, z_init, tol=1e-4, max_iter=300):\n",
    "    def cond_fun(carry):\n",
    "        iteration, z_prev, z = carry\n",
    "        # we check the change in alpha (element 0 in z tuple)\n",
    "        # and the maximum number of iterations\n",
    "        cond_norm = jnp.linalg.norm(z_prev[:-1] - z[:-1]) < tol\n",
    "        cond_iter = iteration >= max_iter\n",
    "        return ~jnp.logical_or(cond_norm, cond_iter)\n",
    "\n",
    "    def body_fun(carry):\n",
    "        iteration, _, z = carry\n",
    "        return iteration + 1, z, f(z)\n",
    "\n",
    "    init_carry = (0, z_init, f(z_init))  # first arg is iteration count\n",
    "    _, _, z_star = lax.while_loop(cond_fun, body_fun, init_carry)\n",
    "    return z_star"
   ]
  },
  {
   "cell_type": "code",
   "execution_count": 37,
   "metadata": {},
   "outputs": [],
   "source": [
    "def update(prior_params, X, y, eigvals, norms, hyper_prior_params):\n",
    "    # Unpacking parameters\n",
    "    alpha_prev, beta_prev = prior_params\n",
    "    a, b = hyper_prior_params\n",
    "\n",
    "    # Calculating intermediate matrices\n",
    "    n_samples, _ = X.shape\n",
    "    gamma_ = jnp.sum(\n",
    "        (beta_prev * eigvals) / (alpha_prev * norms + beta_prev * eigvals)\n",
    "    )\n",
    "    S = jnp.linalg.inv(beta_prev * X.T @ X + jnp.diag(alpha_prev * norms))\n",
    "    mn = beta_prev * S @ X.T @ y\n",
    "\n",
    "    # Update estimate\n",
    "    alpha = gamma_ / jnp.sum(norms[:, None] * (mn ** 2))\n",
    "    \n",
    "    beta = (n_samples - gamma_ + 2 * (a - 1)) / (jnp.sum((y - X @ mn) ** 2) + 2 * b)\n",
    "\n",
    "    return (alpha, beta)"
   ]
  },
  {
   "cell_type": "code",
   "execution_count": 4,
   "metadata": {},
   "outputs": [],
   "source": [
    "# loading testdata\n",
    "data = jnp.load('test_data.npy', allow_pickle=True).item()\n",
    "y, X = data['y'], data['X']\n",
    "\n",
    "X_normed = X / jnp.linalg.norm(X, axis=0)\n",
    "\n",
    "X = X_normed"
   ]
  },
  {
   "cell_type": "code",
   "execution_count": 5,
   "metadata": {},
   "outputs": [],
   "source": [
    "eigvals = jnp.linalg.eigvalsh(X.T @ X)\n",
    "norms = jnp.linalg.norm(X, axis=0)\n",
    "prior_params_init = (1.0, 1.0 / jnp.var(y))\n",
    "hyper_prior_params = (0.0, 0.0)\n",
    "tol=1e-4\n",
    "max_iter = 5"
   ]
  },
  {
   "cell_type": "code",
   "execution_count": 6,
   "metadata": {},
   "outputs": [],
   "source": [
    "partial_update_fn = lambda z: update(z, X, y, eigvals, norms, hyper_prior_params)"
   ]
  },
  {
   "cell_type": "code",
   "execution_count": 7,
   "metadata": {},
   "outputs": [],
   "source": [
    "with jax.disable_jit():\n",
    "    prior_params = fwd_solver(partial_update_fn, prior_params_init, tol=tol, max_iter=300)"
   ]
  },
  {
   "cell_type": "code",
   "execution_count": 8,
   "metadata": {},
   "outputs": [
    {
     "data": {
      "text/plain": [
       "(DeviceArray(0.3566604, dtype=float32), DeviceArray(273403.28, dtype=float32))"
      ]
     },
     "execution_count": 8,
     "metadata": {},
     "output_type": "execute_result"
    }
   ],
   "source": [
    "prior_params"
   ]
  },
  {
   "cell_type": "code",
   "execution_count": 9,
   "metadata": {},
   "outputs": [],
   "source": [
    "prior_params = fwd_solver(partial_update_fn, prior_params_init, tol=tol, max_iter=2)"
   ]
  },
  {
   "cell_type": "code",
   "execution_count": 10,
   "metadata": {},
   "outputs": [
    {
     "data": {
      "text/plain": [
       "(DeviceArray(0.3566477, dtype=float32), DeviceArray(273403.06, dtype=float32))"
      ]
     },
     "execution_count": 10,
     "metadata": {},
     "output_type": "execute_result"
    }
   ],
   "source": [
    "prior_params"
   ]
  },
  {
   "cell_type": "code",
   "execution_count": 38,
   "metadata": {},
   "outputs": [],
   "source": [
    "@jit\n",
    "def bayesianregression(\n",
    "    X, y, prior_params_init=None, hyper_prior_params=jnp.zeros((2, )), tol=1e-4, max_iter=300\n",
    "):\n",
    "    def update(prior_params, X, y, eigvals, hyper_prior_params):\n",
    "        # Unpacking parameters\n",
    "        alpha_prev, beta_prev = prior_params[:-1], prior_params[-1]\n",
    "        a, b = hyper_prior_params\n",
    "\n",
    "        # Calculating intermediate matrices\n",
    "        n_samples, n_terms = X.shape\n",
    "        gamma_ = jnp.sum((beta_prev * eigvals) / (alpha_prev + beta_prev * eigvals))\n",
    "        S = jnp.linalg.inv(\n",
    "            beta_prev * X.T @ X + alpha_prev * jnp.eye(n_terms)\n",
    "        )  # remove inverse?\n",
    "        mn = beta_prev * S @ X.T @ y\n",
    "\n",
    "        # Update estimate\n",
    "        alpha = gamma_ / jnp.sum(mn ** 2)\n",
    "        beta = (n_samples - gamma_ + 2 * (a - 1)) / (jnp.sum((y - X @ mn) ** 2) + 2 * b)\n",
    "        \n",
    "        return jnp.stack([alpha, beta])\n",
    "\n",
    "    # Constructing update function.\n",
    "    X_normed = X / jnp.linalg.norm(X, axis=0)\n",
    "    eigvals = jnp.linalg.eigvalsh(X_normed.T @ X_normed)\n",
    "\n",
    "    if prior_params_init is None:\n",
    "        prior_params_init = jnp.stack([1.0, 1.0 / jnp.var(y)])\n",
    "\n",
    "    # Calculating optimal prior\n",
    "    prior_params = fixed_point_solver(\n",
    "        update, (X_normed, y, eigvals, hyper_prior_params), prior_params_init, tol=tol, max_iter=max_iter\n",
    "    )\n",
    "    \n",
    "    return prior_params"
   ]
  },
  {
   "cell_type": "code",
   "execution_count": 42,
   "metadata": {},
   "outputs": [],
   "source": []
  },
  {
   "cell_type": "code",
   "execution_count": null,
   "metadata": {},
   "outputs": [],
   "source": []
  },
  {
   "cell_type": "code",
   "execution_count": 43,
   "metadata": {},
   "outputs": [
    {
     "data": {
      "text/plain": [
       "DeviceArray([3.5665095e-01, 2.7340316e+05], dtype=float32)"
      ]
     },
     "execution_count": 43,
     "metadata": {},
     "output_type": "execute_result"
    }
   ],
   "source": [
    "bayesianregression(X, y)"
   ]
  },
  {
   "cell_type": "code",
   "execution_count": 44,
   "metadata": {},
   "outputs": [
    {
     "data": {
      "text/plain": [
       "DeviceArray([[-2.4349557e-04,  4.5630853e-03, -1.4199648e-02, ...,\n",
       "               9.4683617e-03,  2.4732723e-04,  3.9888197e-03],\n",
       "             [-1.0425382e-04,  1.4725944e-03, -1.6905170e-02, ...,\n",
       "               4.2636171e-03,  1.3767934e-03, -3.2405937e-04],\n",
       "             [-1.9567695e-05, -4.3725586e-04, -1.9224431e-02, ...,\n",
       "               1.1115847e-03,  2.1444408e-03, -3.0756784e-03],\n",
       "             ...,\n",
       "             [-4.7815830e-04,  7.0107328e-03, -7.3108636e-02, ...,\n",
       "               1.9427489e-02,  5.7208943e-03, -4.6256278e-04],\n",
       "             [-2.7099944e-04,  3.1487744e-03, -6.0116306e-02, ...,\n",
       "               1.1369799e-02,  5.4335683e-03, -3.7544412e-03],\n",
       "             [-8.9526795e-05, -4.3830590e-04, -5.3410657e-02, ...,\n",
       "               4.3993918e-03,  5.7278667e-03, -7.5057046e-03]],            dtype=float32)"
      ]
     },
     "execution_count": 44,
     "metadata": {},
     "output_type": "execute_result"
    }
   ],
   "source": [
    "jax.grad(lambda x: bayesianregression(x, y)[0])(X)"
   ]
  },
  {
   "cell_type": "code",
   "execution_count": null,
   "metadata": {},
   "outputs": [],
   "source": []
  }
 ],
 "metadata": {
  "kernelspec": {
   "display_name": "Python 3",
   "language": "python",
   "name": "python3"
  },
  "language_info": {
   "codemirror_mode": {
    "name": "ipython",
    "version": 3
   },
   "file_extension": ".py",
   "mimetype": "text/x-python",
   "name": "python",
   "nbconvert_exporter": "python",
   "pygments_lexer": "ipython3",
   "version": "3.8.5"
  },
  "toc-showmarkdowntxt": false,
  "toc-showtags": true
 },
 "nbformat": 4,
 "nbformat_minor": 4
}
