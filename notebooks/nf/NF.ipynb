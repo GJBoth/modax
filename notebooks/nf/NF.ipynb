{
 "cells": [
  {
   "cell_type": "code",
   "execution_count": 1,
   "id": "forty-execution",
   "metadata": {},
   "outputs": [],
   "source": [
    "import jax.numpy as jnp\n",
    "import jax.random as random\n",
    "from flax import optim\n",
    "from modax.training import create_update, train_max_iter\n",
    "from nf import NormalizingFlow\n",
    "import seaborn as sns\n",
    "import matplotlib.pyplot as plt\n",
    "sns.set()\n",
    "%load_ext autoreload\n",
    "%autoreload 2"
   ]
  },
  {
   "cell_type": "code",
   "execution_count": 2,
   "id": "alleged-cookbook",
   "metadata": {},
   "outputs": [],
   "source": [
    "key = random.PRNGKey(42)\n",
    "# Making sample dataset\n",
    "n_samples = 100\n",
    "n_dims = 1\n",
    "x_samples = 0.5 * random.normal(key, (n_samples, n_dims))"
   ]
  },
  {
   "cell_type": "code",
   "execution_count": 3,
   "id": "disabled-moldova",
   "metadata": {},
   "outputs": [],
   "source": [
    "def loss_fn(params, state, model, x):\n",
    "    log_p = model.apply(params, x)\n",
    "    loss = -jnp.sum(log_p)\n",
    "    metrics = {\"loss\": loss}\n",
    "    return loss, (state, metrics, log_p)"
   ]
  },
  {
   "cell_type": "code",
   "execution_count": 4,
   "id": "certain-warrior",
   "metadata": {},
   "outputs": [],
   "source": [
    "# Initializing model\n",
    "model = NormalizingFlow(10)\n",
    "params = model.init(key, x_samples)\n",
    "optimizer_def = optim.Adam(learning_rate=2e-3, beta1=0.99, beta2=0.99)\n",
    "optimizer = optimizer_def.create(params)\n",
    "\n",
    "# Compiling train step\n",
    "update = create_update(loss_fn, (model, x_samples))"
   ]
  },
  {
   "cell_type": "code",
   "execution_count": 5,
   "id": "latin-avatar",
   "metadata": {},
   "outputs": [
    {
     "name": "stdout",
     "output_type": "stream",
     "text": [
      "Loss step 0: 596.0853271484375\n",
      "Loss step 500: 109.53028869628906\n",
      "Loss step 1000: 75.07597351074219\n",
      "Loss step 1500: 70.94039154052734\n",
      "Loss step 2000: 69.32939147949219\n",
      "Loss step 2500: 68.82476806640625\n",
      "Loss step 3000: 68.56381225585938\n",
      "Loss step 3500: 68.38976287841797\n",
      "Loss step 4000: 68.31812286376953\n",
      "Loss step 4500: 68.23841857910156\n"
     ]
    }
   ],
   "source": [
    "optimizer, _ = train_max_iter(update, optimizer, None, 5000)\n"
   ]
  },
  {
   "cell_type": "code",
   "execution_count": 6,
   "id": "first-petersburg",
   "metadata": {},
   "outputs": [],
   "source": [
    "x_grid = jnp.linspace(-5, 5, 100)"
   ]
  },
  {
   "cell_type": "code",
   "execution_count": 7,
   "id": "unknown-population",
   "metadata": {},
   "outputs": [],
   "source": [
    "log_p = model.apply(optimizer.target, x_grid[:, None])\n",
    "p = jnp.exp(log_p)"
   ]
  },
  {
   "cell_type": "code",
   "execution_count": 8,
   "id": "defined-marks",
   "metadata": {},
   "outputs": [
    {
     "data": {
      "text/plain": [
       "<AxesSubplot:ylabel='Density'>"
      ]
     },
     "execution_count": 8,
     "metadata": {},
     "output_type": "execute_result"
    },
    {
     "data": {
      "image/png": "[encoded data removed]",
      "text/plain": [
       "<Figure size 432x288 with 1 Axes>"
      ]
     },
     "metadata": {},
     "output_type": "display_data"
    }
   ],
   "source": [
    "plt.plot(x_grid, p, color='r')\n",
    "sns.histplot(x_samples, stat='density')"
   ]
  },
  {
   "cell_type": "code",
   "execution_count": null,
   "id": "supposed-george",
   "metadata": {},
   "outputs": [],
   "source": [
    "68.21"
   ]
  }
 ],
 "metadata": {
  "kernelspec": {
   "display_name": "Python 3",
   "language": "python",
   "name": "python3"
  },
  "language_info": {
   "codemirror_mode": {
    "name": "ipython",
    "version": 3
   },
   "file_extension": ".py",
   "mimetype": "text/x-python",
   "name": "python",
   "nbconvert_exporter": "python",
   "pygments_lexer": "ipython3",
   "version": "3.8.3"
  }
 },
 "nbformat": 4,
 "nbformat_minor": 5
}
