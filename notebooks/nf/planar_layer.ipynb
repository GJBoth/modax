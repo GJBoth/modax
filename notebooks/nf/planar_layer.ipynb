{
 "cells": [
  {
   "cell_type": "code",
   "execution_count": 153,
   "id": "flush-sheffield",
   "metadata": {},
   "outputs": [],
   "source": [
    "import jax.numpy as jnp\n",
    "from jax import random\n",
    "import jax"
   ]
  },
  {
   "cell_type": "code",
   "execution_count": 2,
   "id": "liberal-highway",
   "metadata": {},
   "outputs": [],
   "source": [
    "key = random.PRNGKey(42)"
   ]
  },
  {
   "cell_type": "code",
   "execution_count": 89,
   "id": "junior-actress",
   "metadata": {},
   "outputs": [],
   "source": [
    "n_dims = 2\n",
    "\n",
    "u = random.normal(key, (1, n_dims))\n",
    "w = random.normal(key, (1, n_dims))\n",
    "b = random.normal(key, (1, ))\n",
    "\n",
    "z = random.normal(key, (10, n_dims))"
   ]
  },
  {
   "cell_type": "markdown",
   "id": "trained-stupid",
   "metadata": {},
   "source": [
    "# without checking for inverse"
   ]
  },
  {
   "cell_type": "code",
   "execution_count": 132,
   "id": "incorporated-pixel",
   "metadata": {},
   "outputs": [],
   "source": [
    "a = jnp.tanh(jnp.dot(z, w.T) + b)\n",
    "f_z = z + a * u"
   ]
  },
  {
   "cell_type": "code",
   "execution_count": 133,
   "id": "grand-vegetable",
   "metadata": {},
   "outputs": [],
   "source": [
    "psi = (1 - a**2) * w"
   ]
  },
  {
   "cell_type": "code",
   "execution_count": 134,
   "id": "round-recipe",
   "metadata": {},
   "outputs": [],
   "source": [
    "log_det = jnp.log(jnp.abs(1 + jnp.dot(psi, u.T)))"
   ]
  },
  {
   "cell_type": "code",
   "execution_count": 135,
   "id": "artificial-pioneer",
   "metadata": {},
   "outputs": [
    {
     "data": {
      "text/plain": [
       "DeviceArray([[7.0586407e-01],\n",
       "             [1.7356923e+00],\n",
       "             [6.4933568e-01],\n",
       "             [1.7187123e-03],\n",
       "             [1.2462626e+00],\n",
       "             [1.5734894e+00],\n",
       "             [5.4141873e-01],\n",
       "             [1.7079745e-01],\n",
       "             [1.6818756e+00],\n",
       "             [1.2972219e+00]], dtype=float32)"
      ]
     },
     "execution_count": 135,
     "metadata": {},
     "output_type": "execute_result"
    }
   ],
   "source": [
    "log_det"
   ]
  },
  {
   "cell_type": "code",
   "execution_count": 106,
   "id": "willing-train",
   "metadata": {},
   "outputs": [
    {
     "data": {
      "text/plain": [
       "DeviceArray([[-1.9248432 ,  1.3059537 ],\n",
       "             [ 2.0724218 ,  0.8170076 ],\n",
       "             [-1.6387651 ,  3.1203785 ],\n",
       "             [ 4.163963  , -0.81497204],\n",
       "             [-0.7484112 ,  1.6867993 ],\n",
       "             [ 0.27362704,  2.0167742 ],\n",
       "             [ 2.9737387 , -0.97599727],\n",
       "             [ 2.9625885 , -1.7842555 ],\n",
       "             [ 0.8964971 ,  2.6955755 ],\n",
       "             [-0.58546245,  1.8676493 ]], dtype=float32)"
      ]
     },
     "execution_count": 106,
     "metadata": {},
     "output_type": "execute_result"
    }
   ],
   "source": [
    "f_z + log_det"
   ]
  },
  {
   "cell_type": "code",
   "execution_count": 107,
   "id": "union-indian",
   "metadata": {},
   "outputs": [
    {
     "data": {
      "text/plain": [
       "(1, 2)"
      ]
     },
     "execution_count": 107,
     "metadata": {},
     "output_type": "execute_result"
    }
   ],
   "source": [
    "u.shape"
   ]
  },
  {
   "cell_type": "code",
   "execution_count": 108,
   "id": "million-death",
   "metadata": {},
   "outputs": [
    {
     "data": {
      "text/plain": [
       "(1, 2)"
      ]
     },
     "execution_count": 108,
     "metadata": {},
     "output_type": "execute_result"
    }
   ],
   "source": [
    "w.shape"
   ]
  },
  {
   "cell_type": "code",
   "execution_count": 111,
   "id": "analyzed-allowance",
   "metadata": {},
   "outputs": [
    {
     "data": {
      "text/plain": [
       "DeviceArray([[ True]], dtype=bool)"
      ]
     },
     "execution_count": 111,
     "metadata": {},
     "output_type": "execute_result"
    }
   ],
   "source": [
    "jnp.dot(w, u.T) > 1"
   ]
  },
  {
   "cell_type": "markdown",
   "id": "abroad-court",
   "metadata": {},
   "source": [
    "# Putting in check:"
   ]
  },
  {
   "cell_type": "code",
   "execution_count": 114,
   "id": "lonely-moral",
   "metadata": {},
   "outputs": [],
   "source": [
    "m = lambda x: -1 + jnp.log1p(jnp.exp(x))"
   ]
  },
  {
   "cell_type": "code",
   "execution_count": 115,
   "id": "parallel-pressure",
   "metadata": {},
   "outputs": [],
   "source": [
    "wu = jnp.dot(w, u.T)"
   ]
  },
  {
   "cell_type": "code",
   "execution_count": 125,
   "id": "coastal-privilege",
   "metadata": {},
   "outputs": [],
   "source": [
    "u_hat = u + (m(wu) - wu) * w / jnp.dot(w, w.T)"
   ]
  },
  {
   "cell_type": "code",
   "execution_count": 126,
   "id": "welsh-commissioner",
   "metadata": {},
   "outputs": [
    {
     "data": {
      "text/plain": [
       "DeviceArray([[-1.7323706 ,  0.37109286]], dtype=float32)"
      ]
     },
     "execution_count": 126,
     "metadata": {},
     "output_type": "execute_result"
    }
   ],
   "source": [
    "u_hat"
   ]
  },
  {
   "cell_type": "code",
   "execution_count": 127,
   "id": "excited-frame",
   "metadata": {},
   "outputs": [
    {
     "data": {
      "text/plain": [
       "DeviceArray([[-2.169826  ,  0.46480063]], dtype=float32)"
      ]
     },
     "execution_count": 127,
     "metadata": {},
     "output_type": "execute_result"
    }
   ],
   "source": [
    "u"
   ]
  },
  {
   "cell_type": "code",
   "execution_count": 129,
   "id": "optional-filling",
   "metadata": {},
   "outputs": [],
   "source": [
    "def planar_flow(u, w, b, z):\n",
    "    # making sure its invertible\n",
    "    wu = jnp.dot(w, u.T)\n",
    "    u_hat = u + (-1 + jnp.log1p(jnp.exp(wu)) - wu) * w / jnp.dot(w, w.T)\n",
    "    \n",
    "    # transforming\n",
    "    a = jnp.tanh(jnp.dot(z, w.T) + b)\n",
    "    f_z = z + a * u_hat\n",
    "    psi = (1 - a**2) * w\n",
    "    log_det = jnp.log(jnp.abs(1 + jnp.dot(psi, u_hat.T)))\n",
    "    return f_z, log_det"
   ]
  },
  {
   "cell_type": "code",
   "execution_count": 130,
   "id": "technical-picking",
   "metadata": {},
   "outputs": [
    {
     "data": {
      "text/plain": [
       "(DeviceArray([[-2.2414646 ,  0.51670957],\n",
       "              [ 0.2378994 , -0.89751416],\n",
       "              [-1.8933396 ,  2.3864808 ],\n",
       "              [ 3.7248652 , -0.72299933],\n",
       "              [-1.6863042 ,  0.37448058],\n",
       "              [-1.093035  ,  0.39898   ],\n",
       "              [ 2.0280344 , -1.4308136 ],\n",
       "              [ 2.3626885 , -1.8631344 ],\n",
       "              [-0.6393704 ,  0.98242337],\n",
       "              [-1.5859914 ,  0.5068725 ]], dtype=float32),\n",
       " DeviceArray([[5.9819186e-01],\n",
       "              [1.5540872e+00],\n",
       "              [5.4808933e-01],\n",
       "              [1.3724680e-03],\n",
       "              [1.0912092e+00],\n",
       "              [1.3993610e+00],\n",
       "              [4.5336533e-01],\n",
       "              [1.3863160e-01],\n",
       "              [1.5026240e+00],\n",
       "              [1.1387993e+00]], dtype=float32))"
      ]
     },
     "execution_count": 130,
     "metadata": {},
     "output_type": "execute_result"
    }
   ],
   "source": [
    "planar_flow(u, w, b, z)"
   ]
  },
  {
   "cell_type": "markdown",
   "id": "alpine-surveillance",
   "metadata": {},
   "source": [
    "Looks decent - now let's look at doing it in batches using vmap"
   ]
  },
  {
   "cell_type": "markdown",
   "id": "difficult-webcam",
   "metadata": {},
   "source": [
    "# batching"
   ]
  },
  {
   "cell_type": "code",
   "execution_count": 144,
   "id": "thrown-major",
   "metadata": {},
   "outputs": [],
   "source": [
    "n_dims = 2\n",
    "n_batch = 5\n",
    "n_samples = 10\n",
    "\n",
    "u = random.normal(key, (n_batch, 1, n_dims))\n",
    "w = random.normal(key, (n_batch, 1, n_dims))\n",
    "b = random.normal(key, (n_batch, 1, ))\n",
    "\n",
    "x = random.normal(key, (n_batch, n_samples, n_dims))"
   ]
  },
  {
   "cell_type": "code",
   "execution_count": 148,
   "id": "preceding-madagascar",
   "metadata": {},
   "outputs": [],
   "source": [
    "z = []\n",
    "log_det = []\n",
    "for idx in jnp.arange(u.shape[0]):\n",
    "    z_i, log_det_i = planar_flow(u[idx], w[idx], b[idx], x[idx])\n",
    "    z.append(z_i)\n",
    "    log_det.append(log_det_i)\n",
    "z = jnp.stack(z, axis=0)\n",
    "log_det = jnp.stack(log_det, axis=0)"
   ]
  },
  {
   "cell_type": "code",
   "execution_count": 149,
   "id": "professional-courage",
   "metadata": {},
   "outputs": [
    {
     "data": {
      "text/plain": [
       "(5, 10, 2)"
      ]
     },
     "execution_count": 149,
     "metadata": {},
     "output_type": "execute_result"
    }
   ],
   "source": [
    "z.shape"
   ]
  },
  {
   "cell_type": "code",
   "execution_count": 150,
   "id": "executed-covering",
   "metadata": {},
   "outputs": [
    {
     "data": {
      "text/plain": [
       "(5, 10, 1)"
      ]
     },
     "execution_count": 150,
     "metadata": {},
     "output_type": "execute_result"
    }
   ],
   "source": [
    "log_det.shape"
   ]
  },
  {
   "cell_type": "markdown",
   "id": "compound-lewis",
   "metadata": {},
   "source": [
    "Now lets try it with vmap"
   ]
  },
  {
   "cell_type": "code",
   "execution_count": 163,
   "id": "quarterly-coordination",
   "metadata": {},
   "outputs": [],
   "source": [
    "z_vmap, log_det_vmap = jax.vmap(planar_flow)(u, w, b, x)"
   ]
  },
  {
   "cell_type": "code",
   "execution_count": 164,
   "id": "positive-thong",
   "metadata": {},
   "outputs": [
    {
     "data": {
      "text/plain": [
       "DeviceArray(True, dtype=bool)"
      ]
     },
     "execution_count": 164,
     "metadata": {},
     "output_type": "execute_result"
    }
   ],
   "source": [
    "jnp.allclose(z_vmap, z)"
   ]
  },
  {
   "cell_type": "code",
   "execution_count": 165,
   "id": "laden-playback",
   "metadata": {},
   "outputs": [
    {
     "data": {
      "text/plain": [
       "DeviceArray(True, dtype=bool)"
      ]
     },
     "execution_count": 165,
     "metadata": {},
     "output_type": "execute_result"
    }
   ],
   "source": [
    "jnp.allclose(log_det, log_det_vmap)"
   ]
  },
  {
   "cell_type": "markdown",
   "id": "retained-unknown",
   "metadata": {},
   "source": [
    "Okay that works, great. Now let's try and get it working from a matrix with multiple layers etc."
   ]
  },
  {
   "cell_type": "markdown",
   "id": "tough-cradle",
   "metadata": {},
   "source": [
    "# batching, hyper network"
   ]
  },
  {
   "cell_type": "code",
   "execution_count": 227,
   "id": "after-lewis",
   "metadata": {},
   "outputs": [],
   "source": [
    "n_dims = 1\n",
    "n_batch = 5\n",
    "n_samples = 10\n",
    "n_layers = 15\n",
    "\n",
    "params = random.normal(key, (n_batch, (2 * n_dims + 1) * n_layers))\n",
    "z = random.normal(key, (n_batch, n_samples, n_dims))"
   ]
  },
  {
   "cell_type": "code",
   "execution_count": 228,
   "id": "processed-aircraft",
   "metadata": {},
   "outputs": [
    {
     "data": {
      "text/plain": [
       "(5, 10, 1)"
      ]
     },
     "execution_count": 228,
     "metadata": {},
     "output_type": "execute_result"
    }
   ],
   "source": [
    "z.shape"
   ]
  },
  {
   "cell_type": "code",
   "execution_count": 229,
   "id": "conservative-theme",
   "metadata": {},
   "outputs": [],
   "source": [
    "u, w, b = jnp.split(params, [n_layers * n_dims, 2 * n_layers * n_dims],axis=1)\n",
    "u = jnp.swapaxes(u.reshape(n_batch, n_layers, 1, n_dims), 1, 0) # (n_layers, n_batch, 1, n_dim)\n",
    "w = jnp.swapaxes(w.reshape(n_batch, n_layers, 1, n_dims), 1, 0) # (n_layers, n_batch, 1, n_dim)\n",
    "b = jnp.swapaxes(b.reshape(n_batch, n_layers, 1, ), 1, 0) # (n_layers, n_batch, 1, )"
   ]
  },
  {
   "cell_type": "code",
   "execution_count": 230,
   "id": "valued-winter",
   "metadata": {},
   "outputs": [],
   "source": [
    "log_jacob = jnp.zeros((n_batch, n_samples, 1))\n",
    "for idx in jnp.arange(n_layers):\n",
    "    z, log_jacob_i = jax.vmap(planar_flow)(u[idx], w[idx], b[idx], z)\n",
    "    log_jacob += log_jacob_i"
   ]
  },
  {
   "cell_type": "code",
   "execution_count": 231,
   "id": "independent-patrick",
   "metadata": {},
   "outputs": [
    {
     "data": {
      "text/plain": [
       "(5, 10, 1)"
      ]
     },
     "execution_count": 231,
     "metadata": {},
     "output_type": "execute_result"
    }
   ],
   "source": [
    "z.shape"
   ]
  },
  {
   "cell_type": "code",
   "execution_count": 232,
   "id": "outside-monkey",
   "metadata": {},
   "outputs": [
    {
     "data": {
      "text/plain": [
       "(5, 10, 1)"
      ]
     },
     "execution_count": 232,
     "metadata": {},
     "output_type": "execute_result"
    }
   ],
   "source": [
    "log_jacob.shape"
   ]
  },
  {
   "cell_type": "code",
   "execution_count": 233,
   "id": "caring-champagne",
   "metadata": {},
   "outputs": [],
   "source": [
    "from jax.scipy.stats import norm"
   ]
  },
  {
   "cell_type": "code",
   "execution_count": 236,
   "id": "portable-journal",
   "metadata": {},
   "outputs": [
    {
     "data": {
      "text/plain": [
       "DeviceArray(-1088.2534, dtype=float32)"
      ]
     },
     "execution_count": 236,
     "metadata": {},
     "output_type": "execute_result"
    }
   ],
   "source": [
    "jnp.sum(norm.logpdf(z) + log_jacob)"
   ]
  },
  {
   "cell_type": "code",
   "execution_count": null,
   "id": "eastern-office",
   "metadata": {},
   "outputs": [],
   "source": [
    "norm.logpdf()"
   ]
  },
  {
   "cell_type": "code",
   "execution_count": 239,
   "id": "statistical-supplement",
   "metadata": {},
   "outputs": [
    {
     "data": {
      "text/plain": [
       "50"
      ]
     },
     "execution_count": 239,
     "metadata": {},
     "output_type": "execute_result"
    }
   ],
   "source": [
    "z.size"
   ]
  },
  {
   "cell_type": "code",
   "execution_count": 240,
   "id": "medium-chain",
   "metadata": {},
   "outputs": [],
   "source": [
    "from jax.lax import scan"
   ]
  },
  {
   "cell_type": "code",
   "execution_count": 241,
   "id": "democratic-casting",
   "metadata": {},
   "outputs": [],
   "source": [
    "log_jacob = jnp.zeros((n_batch, n_samples, 1))\n",
    "for idx in jnp.arange(n_layers):\n",
    "    z, log_jacob_i = jax.vmap(planar_flow)(u[idx], w[idx], b[idx], z)\n",
    "    log_jacob += log_jacob_i"
   ]
  },
  {
   "cell_type": "code",
   "execution_count": 287,
   "id": "gothic-evidence",
   "metadata": {},
   "outputs": [],
   "source": [
    "n_dims = 1\n",
    "n_batch = 5\n",
    "n_samples = 10\n",
    "n_layers = 15\n",
    "\n",
    "params = random.normal(key, (n_batch, (2 * n_dims + 1) * n_layers))\n",
    "x = random.normal(key, (n_batch, n_samples, n_dims))"
   ]
  },
  {
   "cell_type": "code",
   "execution_count": 272,
   "id": "bored-native",
   "metadata": {},
   "outputs": [],
   "source": [
    "u, w, b = jnp.split(params, [n_layers * n_dims, 2 * n_layers * n_dims],axis=1)\n",
    "u = jnp.swapaxes(u.reshape(n_batch, n_layers, 1, n_dims), 1, 0) # (n_layers, n_batch, 1, n_dim)\n",
    "w = jnp.swapaxes(w.reshape(n_batch, n_layers, 1, n_dims), 1, 0) # (n_layers, n_batch, 1, n_dim)\n",
    "b = jnp.swapaxes(b.reshape(n_batch, n_layers, 1, ), 1, 0) # (n_layers, n_batch, 1, )"
   ]
  },
  {
   "cell_type": "code",
   "execution_count": 273,
   "id": "disciplinary-finding",
   "metadata": {},
   "outputs": [],
   "source": [
    "z, log_jac = scan(lambda z, params: jax.vmap(planar_flow)(*params, z), x, (u, w, b))"
   ]
  },
  {
   "cell_type": "code",
   "execution_count": 274,
   "id": "featured-immigration",
   "metadata": {},
   "outputs": [
    {
     "data": {
      "text/plain": [
       "(5, 10, 1)"
      ]
     },
     "execution_count": 274,
     "metadata": {},
     "output_type": "execute_result"
    }
   ],
   "source": [
    "z.shape"
   ]
  },
  {
   "cell_type": "code",
   "execution_count": 275,
   "id": "excellent-worth",
   "metadata": {},
   "outputs": [
    {
     "data": {
      "text/plain": [
       "(15, 5, 10, 1)"
      ]
     },
     "execution_count": 275,
     "metadata": {},
     "output_type": "execute_result"
    }
   ],
   "source": [
    "log_jac.shape"
   ]
  },
  {
   "cell_type": "code",
   "execution_count": 256,
   "id": "imported-attention",
   "metadata": {},
   "outputs": [],
   "source": [
    "log_jac = jnp.sum(log_jac, axis=0)"
   ]
  },
  {
   "cell_type": "code",
   "execution_count": 257,
   "id": "crazy-shakespeare",
   "metadata": {},
   "outputs": [
    {
     "data": {
      "text/plain": [
       "DeviceArray(-1037.6753, dtype=float32)"
      ]
     },
     "execution_count": 257,
     "metadata": {},
     "output_type": "execute_result"
    }
   ],
   "source": [
    "jnp.sum(norm.logpdf(z) + log_jacob)"
   ]
  },
  {
   "cell_type": "markdown",
   "id": "negative-mattress",
   "metadata": {},
   "source": [
    "What if we do the vmap over the scan?"
   ]
  },
  {
   "cell_type": "code",
   "execution_count": 278,
   "id": "aquatic-selection",
   "metadata": {},
   "outputs": [],
   "source": [
    "u, w, b = jnp.split(params, [n_layers * n_dims, 2 * n_layers * n_dims],axis=1)\n",
    "u = u.reshape(n_batch, n_layers, 1, n_dims)\n",
    "w = w.reshape(n_batch, n_layers, 1, n_dims)\n",
    "b = b.reshape(n_batch, n_layers, 1, )"
   ]
  },
  {
   "cell_type": "code",
   "execution_count": 294,
   "id": "specialized-annotation",
   "metadata": {},
   "outputs": [],
   "source": [
    "z, log_jac = scan(planar_flow, x[0], (u[0], w[0], b[0]));"
   ]
  },
  {
   "cell_type": "code",
   "execution_count": null,
   "id": "universal-campbell",
   "metadata": {},
   "outputs": [],
   "source": []
  },
  {
   "cell_type": "code",
   "execution_count": 295,
   "id": "regular-expert",
   "metadata": {},
   "outputs": [
    {
     "data": {
      "text/plain": [
       "(10, 1)"
      ]
     },
     "execution_count": 295,
     "metadata": {},
     "output_type": "execute_result"
    }
   ],
   "source": [
    "z.shape"
   ]
  },
  {
   "cell_type": "code",
   "execution_count": 286,
   "id": "heard-anchor",
   "metadata": {},
   "outputs": [
    {
     "data": {
      "text/plain": [
       "(15, 10, 1)"
      ]
     },
     "execution_count": 286,
     "metadata": {},
     "output_type": "execute_result"
    }
   ],
   "source": [
    "log_jac.shape"
   ]
  },
  {
   "cell_type": "code",
   "execution_count": 301,
   "id": "black-quarterly",
   "metadata": {},
   "outputs": [],
   "source": [
    "z, log_jac = jax.vmap(lambda batch_params, batch_x: scan(planar_flow, batch_x, batch_params))((u, w, b), x)"
   ]
  },
  {
   "cell_type": "code",
   "execution_count": 302,
   "id": "seventh-donna",
   "metadata": {},
   "outputs": [
    {
     "data": {
      "text/plain": [
       "(5, 10, 1)"
      ]
     },
     "execution_count": 302,
     "metadata": {},
     "output_type": "execute_result"
    }
   ],
   "source": [
    "z.shape"
   ]
  },
  {
   "cell_type": "code",
   "execution_count": 303,
   "id": "animal-attendance",
   "metadata": {},
   "outputs": [
    {
     "data": {
      "text/plain": [
       "(5, 15, 10, 1)"
      ]
     },
     "execution_count": 303,
     "metadata": {},
     "output_type": "execute_result"
    }
   ],
   "source": [
    "log_jac.shape"
   ]
  },
  {
   "cell_type": "code",
   "execution_count": 306,
   "id": "affiliated-business",
   "metadata": {},
   "outputs": [
    {
     "data": {
      "text/plain": [
       "(5, 10, 1)"
      ]
     },
     "execution_count": 306,
     "metadata": {},
     "output_type": "execute_result"
    }
   ],
   "source": [
    "jnp.sum(log_jac, axis=-3).shape"
   ]
  },
  {
   "cell_type": "code",
   "execution_count": 293,
   "id": "honest-express",
   "metadata": {},
   "outputs": [],
   "source": [
    "def planar_flow(z, params):\n",
    "    u, w, b = params\n",
    "    # making sure its invertible\n",
    "    wu = jnp.dot(w, u.T)\n",
    "    u_hat = u + (-1 + jnp.log1p(jnp.exp(wu)) - wu) * w / jnp.dot(w, w.T)\n",
    "    \n",
    "    # transforming\n",
    "    a = jnp.tanh(jnp.dot(z, w.T) + b)\n",
    "    f_z = z + a * u_hat\n",
    "    psi = (1 - a**2) * w\n",
    "    log_det = jnp.log(jnp.abs(1 + jnp.dot(psi, u_hat.T)))\n",
    "    return f_z, log_det"
   ]
  },
  {
   "cell_type": "code",
   "execution_count": null,
   "id": "interim-heating",
   "metadata": {},
   "outputs": [],
   "source": []
  }
 ],
 "metadata": {
  "kernelspec": {
   "display_name": "Python 3",
   "language": "python",
   "name": "python3"
  },
  "language_info": {
   "codemirror_mode": {
    "name": "ipython",
    "version": 3
   },
   "file_extension": ".py",
   "mimetype": "text/x-python",
   "name": "python",
   "nbconvert_exporter": "python",
   "pygments_lexer": "ipython3",
   "version": "3.8.3"
  }
 },
 "nbformat": 4,
 "nbformat_minor": 5
}
