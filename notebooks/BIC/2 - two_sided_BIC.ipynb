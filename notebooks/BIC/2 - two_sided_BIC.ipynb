{
 "cells": [
  {
   "cell_type": "markdown",
   "id": "direct-bicycle",
   "metadata": {},
   "source": [
    "We have two issues open\n",
    "* When to stop training?\n",
    "* Where to put the threshold?\n",
    "\n",
    "We solved the first one with the BIC, but can also solve the second one using the BIC. The idea is to calculate the BIC with the threshold between every alpha and do that every iteration."
   ]
  },
  {
   "cell_type": "markdown",
   "id": "delayed-palace",
   "metadata": {},
   "source": [
    "To implement that, let's get some sample data going."
   ]
  },
  {
   "cell_type": "code",
   "execution_count": 62,
   "id": "looking-coffee",
   "metadata": {},
   "outputs": [],
   "source": [
    "# %% Imports\n",
    "from jax import numpy as jnp, random\n",
    "from modax.data.kdv import doublesoliton\n",
    "from modax.models import Deepmod\n",
    "from modax.training.utils import create_update\n",
    "from flax import optim\n",
    "\n",
    "from modax.training import train_max_iter\n",
    "from BIC import loss_fn_SBL\n",
    "from modax.training.losses.utils import precision, normal_LL\n",
    "import jax\n",
    "from modax.linear_model.SBL import SBL\n",
    "import matplotlib.pyplot as plt"
   ]
  },
  {
   "cell_type": "code",
   "execution_count": 2,
   "id": "contemporary-momentum",
   "metadata": {},
   "outputs": [],
   "source": [
    "key = random.PRNGKey(42)"
   ]
  },
  {
   "cell_type": "code",
   "execution_count": 4,
   "id": "acknowledged-vertex",
   "metadata": {},
   "outputs": [],
   "source": [
    "# Making data\n",
    "x = jnp.linspace(-10, 10, 100)\n",
    "t = jnp.linspace(0.1, 1.0, 10)\n",
    "t_grid, x_grid = jnp.meshgrid(t, x, indexing=\"ij\")\n",
    "u = doublesoliton(x_grid, t_grid, c=[5.0, 2.0], x0=[0.0, -5.0])\n",
    "\n",
    "X = jnp.concatenate([t_grid.reshape(-1, 1), x_grid.reshape(-1, 1)], axis=1)\n",
    "y = u.reshape(-1, 1)\n",
    "y += 0.50 * jnp.std(y) * random.normal(key, y.shape)"
   ]
  },
  {
   "cell_type": "code",
   "execution_count": 5,
   "id": "prime-lambda",
   "metadata": {},
   "outputs": [
    {
     "name": "stdout",
     "output_type": "stream",
     "text": [
      "Loss step 0: 1465.6734619140625\n",
      "Loss step 100: 623.8909301757812\n",
      "Loss step 200: 156.97830200195312\n",
      "Loss step 300: -396.1244812011719\n",
      "Loss step 400: -629.4345092773438\n",
      "Loss step 500: -811.847412109375\n",
      "Loss step 600: -910.2644653320312\n",
      "Loss step 700: -979.4105224609375\n",
      "Loss step 800: -1039.2022705078125\n",
      "Loss step 900: -1201.4581298828125\n",
      "Loss step 1000: -1247.674560546875\n",
      "Loss step 1100: -1258.6812744140625\n",
      "Loss step 1200: -1261.8131103515625\n",
      "Loss step 1300: -1263.030029296875\n",
      "Loss step 1400: -1263.685302734375\n",
      "Loss step 1500: -1263.6876220703125\n",
      "Loss step 1600: -1264.1336669921875\n",
      "Loss step 1700: -1264.3343505859375\n",
      "Loss step 1800: -1264.567138671875\n",
      "Loss step 1900: -1264.58642578125\n"
     ]
    }
   ],
   "source": [
    "# Training model for 2k iterations\n",
    "model = Deepmod([30, 30, 30, 1])\n",
    "optimizer_def = optim.Adam(learning_rate=2e-3, beta1=0.99, beta2=0.99)\n",
    "\n",
    "update_fn = create_update(loss_fn_SBL, (model, X, y, True))\n",
    "variables = model.init(key, X)\n",
    "state, params = variables.pop(\"params\")\n",
    "state = (state, {\"prior_init\": None})  # adding prior to state\n",
    "optimizer = optimizer_def.create(params)\n",
    "optimizer, state = train_max_iter(update_fn, optimizer, state, 2000,)"
   ]
  },
  {
   "cell_type": "markdown",
   "id": "vocational-israel",
   "metadata": {},
   "source": [
    "Now to get the prior and stuff out."
   ]
  },
  {
   "cell_type": "code",
   "execution_count": 8,
   "id": "applied-grammar",
   "metadata": {},
   "outputs": [],
   "source": [
    "model_state, loss_state = state\n",
    "variables = {\"params\": optimizer.target, **model_state}\n",
    "(prediction, dt, theta, coeffs), updated_model_state = model.apply(variables, X, mutable=list(model_state.keys()))"
   ]
  },
  {
   "cell_type": "code",
   "execution_count": 13,
   "id": "elder-optimization",
   "metadata": {},
   "outputs": [],
   "source": [
    "n_samples, n_features = theta.shape\n",
    "\n",
    "# MSE stuff\n",
    "tau = precision(y, prediction, 0.0, 0.0)\n",
    "p_mse, MSE = normal_LL(prediction, y, tau)\n",
    "\n",
    "# Regression stuff\n",
    "# we dont want the gradient\n",
    "beta_prior = (\n",
    "    n_samples / 2,\n",
    "    n_samples / (jax.lax.stop_gradient(tau)),\n",
    ")"
   ]
  },
  {
   "cell_type": "code",
   "execution_count": 15,
   "id": "competent-facility",
   "metadata": {},
   "outputs": [],
   "source": [
    "prior_init = loss_state[\"prior_init\"]\n",
    "p_reg, mn, prior, fwd_metric = SBL(\n",
    "        theta,\n",
    "        dt,\n",
    "        prior_init=prior_init,\n",
    "        hyper_prior=((1e-6, 1e-6), beta_prior),\n",
    "        tol=1e-4,\n",
    "        max_iter=2000,\n",
    "    )"
   ]
  },
  {
   "cell_type": "code",
   "execution_count": 17,
   "id": "confidential-prevention",
   "metadata": {},
   "outputs": [],
   "source": [
    "alpha, beta = prior[:-1], prior[-1]"
   ]
  },
  {
   "cell_type": "code",
   "execution_count": 19,
   "id": "emerging-wayne",
   "metadata": {},
   "outputs": [
    {
     "name": "stdout",
     "output_type": "stream",
     "text": [
      "[[6.7982930e+04]\n",
      " [9.5097275e+03]\n",
      " [4.0377434e+04]\n",
      " [1.1197382e+00]\n",
      " [2.7732732e+04]\n",
      " [2.7479384e-02]\n",
      " [5.1492535e+04]\n",
      " [5.7994066e+04]\n",
      " [3.4442230e+04]\n",
      " [1.1327446e+04]\n",
      " [1.0000000e+05]\n",
      " [1.0000000e+05]] (12,)\n"
     ]
    }
   ],
   "source": [
    "print(alpha[:, None], alpha.shape)"
   ]
  },
  {
   "cell_type": "markdown",
   "id": "coordinated-captain",
   "metadata": {},
   "source": [
    "Okay let's get started"
   ]
  },
  {
   "cell_type": "code",
   "execution_count": 86,
   "id": "certified-bronze",
   "metadata": {},
   "outputs": [
    {
     "data": {
      "text/plain": [
       "[<matplotlib.lines.Line2D at 0x7fcbe44adac0>]"
      ]
     },
     "execution_count": 86,
     "metadata": {},
     "output_type": "execute_result"
    },
    {
     "data": {
      "image/png": "[encoded data removed]",
      "text/plain": [
       "<Figure size 432x288 with 1 Axes>"
      ]
     },
     "metadata": {
      "needs_background": "light"
     },
     "output_type": "display_data"
    }
   ],
   "source": [
    "plt.plot(alpha < 1e4, 'x')"
   ]
  },
  {
   "cell_type": "code",
   "execution_count": 25,
   "id": "square-basin",
   "metadata": {},
   "outputs": [
    {
     "data": {
      "text/plain": [
       "DeviceArray([2.7479384e-02, 1.1197382e+00, 9.5097275e+03, 1.1327446e+04,\n",
       "             2.7732732e+04, 3.4442230e+04, 4.0377434e+04, 5.1492535e+04,\n",
       "             5.7994066e+04, 6.7982930e+04, 1.0000000e+05, 1.0000000e+05],            dtype=float32)"
      ]
     },
     "execution_count": 25,
     "metadata": {},
     "output_type": "execute_result"
    }
   ],
   "source": [
    "jnp.sort(alpha)"
   ]
  },
  {
   "cell_type": "code",
   "execution_count": 28,
   "id": "interested-poetry",
   "metadata": {},
   "outputs": [],
   "source": [
    "thresholds = jnp.minimum(jnp.sort(alpha[:-1]) + 0.5 * jnp.diff(jnp.sort(alpha)), 1e5)"
   ]
  },
  {
   "cell_type": "code",
   "execution_count": 30,
   "id": "listed-orlando",
   "metadata": {},
   "outputs": [
    {
     "data": {
      "text/plain": [
       "[DeviceArray([False, False, False, False, False,  True, False, False,\n",
       "              False, False, False, False], dtype=bool),\n",
       " DeviceArray([False, False, False,  True, False,  True, False, False,\n",
       "              False, False, False, False], dtype=bool),\n",
       " DeviceArray([False,  True, False,  True, False,  True, False, False,\n",
       "              False, False, False, False], dtype=bool),\n",
       " DeviceArray([False,  True, False,  True, False,  True, False, False,\n",
       "              False,  True, False, False], dtype=bool),\n",
       " DeviceArray([False,  True, False,  True,  True,  True, False, False,\n",
       "              False,  True, False, False], dtype=bool),\n",
       " DeviceArray([False,  True, False,  True,  True,  True, False, False,\n",
       "               True,  True, False, False], dtype=bool),\n",
       " DeviceArray([False,  True,  True,  True,  True,  True, False, False,\n",
       "               True,  True, False, False], dtype=bool),\n",
       " DeviceArray([False,  True,  True,  True,  True,  True,  True, False,\n",
       "               True,  True, False, False], dtype=bool),\n",
       " DeviceArray([False,  True,  True,  True,  True,  True,  True,  True,\n",
       "               True,  True, False, False], dtype=bool),\n",
       " DeviceArray([ True,  True,  True,  True,  True,  True,  True,  True,\n",
       "               True,  True, False, False], dtype=bool),\n",
       " DeviceArray([ True,  True,  True,  True,  True,  True,  True,  True,\n",
       "               True,  True, False, False], dtype=bool)]"
      ]
     },
     "execution_count": 30,
     "metadata": {},
     "output_type": "execute_result"
    }
   ],
   "source": [
    "[alpha < threshold for threshold in thresholds]"
   ]
  },
  {
   "cell_type": "code",
   "execution_count": 35,
   "id": "expired-permit",
   "metadata": {},
   "outputs": [],
   "source": [
    "masks = jnp.stack([alpha < threshold for threshold in thresholds])"
   ]
  },
  {
   "cell_type": "code",
   "execution_count": 37,
   "id": "printable-folks",
   "metadata": {},
   "outputs": [
    {
     "data": {
      "text/plain": [
       "DeviceArray([[False, False, False, False, False,  True, False, False,\n",
       "              False, False, False, False],\n",
       "             [False, False, False,  True, False,  True, False, False,\n",
       "              False, False, False, False],\n",
       "             [False,  True, False,  True, False,  True, False, False,\n",
       "              False, False, False, False],\n",
       "             [False,  True, False,  True, False,  True, False, False,\n",
       "              False,  True, False, False],\n",
       "             [False,  True, False,  True,  True,  True, False, False,\n",
       "              False,  True, False, False],\n",
       "             [False,  True, False,  True,  True,  True, False, False,\n",
       "               True,  True, False, False],\n",
       "             [False,  True,  True,  True,  True,  True, False, False,\n",
       "               True,  True, False, False],\n",
       "             [False,  True,  True,  True,  True,  True,  True, False,\n",
       "               True,  True, False, False],\n",
       "             [False,  True,  True,  True,  True,  True,  True,  True,\n",
       "               True,  True, False, False],\n",
       "             [ True,  True,  True,  True,  True,  True,  True,  True,\n",
       "               True,  True, False, False],\n",
       "             [ True,  True,  True,  True,  True,  True,  True,  True,\n",
       "               True,  True, False, False]], dtype=bool)"
      ]
     },
     "execution_count": 37,
     "metadata": {},
     "output_type": "execute_result"
    }
   ],
   "source": [
    "masks"
   ]
  },
  {
   "cell_type": "code",
   "execution_count": 107,
   "id": "innocent-serbia",
   "metadata": {},
   "outputs": [],
   "source": [
    "coeffs, regs = jax.vmap(lambda mask: jnp.linalg.lstsq(theta * jnp.where(mask == 0, 1e-7, 1.0), dt)[:2])(masks)\n",
    "n_samples = theta.shape[0]\n",
    "regs = regs / n_samples"
   ]
  },
  {
   "cell_type": "code",
   "execution_count": 128,
   "id": "correct-netscape",
   "metadata": {},
   "outputs": [
    {
     "data": {
      "text/plain": [
       "(11, 12, 1)"
      ]
     },
     "execution_count": 128,
     "metadata": {},
     "output_type": "execute_result"
    }
   ],
   "source": [
    "coeffs.shape"
   ]
  },
  {
   "cell_type": "code",
   "execution_count": 129,
   "id": "threaded-pixel",
   "metadata": {},
   "outputs": [
    {
     "data": {
      "text/plain": [
       "(11, 12)"
      ]
     },
     "execution_count": 129,
     "metadata": {},
     "output_type": "execute_result"
    }
   ],
   "source": [
    "masks.shape"
   ]
  },
  {
   "cell_type": "code",
   "execution_count": 130,
   "id": "still-diploma",
   "metadata": {},
   "outputs": [
    {
     "data": {
      "text/plain": [
       "DeviceArray([[-0.0000000e+00, -0.0000000e+00,  0.0000000e+00,\n",
       "               0.0000000e+00, -0.0000000e+00, -3.0341907e+00,\n",
       "               0.0000000e+00,  0.0000000e+00, -0.0000000e+00,\n",
       "              -0.0000000e+00,  0.0000000e+00,  0.0000000e+00],\n",
       "             [ 0.0000000e+00,  0.0000000e+00, -0.0000000e+00,\n",
       "              -9.4387782e-01, -0.0000000e+00, -6.0330334e+00,\n",
       "               0.0000000e+00,  0.0000000e+00, -0.0000000e+00,\n",
       "              -0.0000000e+00,  0.0000000e+00, -0.0000000e+00],\n",
       "             [-0.0000000e+00,  6.8011284e-03,  0.0000000e+00,\n",
       "              -9.4518310e-01, -0.0000000e+00, -6.0414028e+00,\n",
       "               0.0000000e+00,  0.0000000e+00, -0.0000000e+00,\n",
       "              -0.0000000e+00,  0.0000000e+00,  0.0000000e+00],\n",
       "             [-0.0000000e+00, -7.3647499e-04,  0.0000000e+00,\n",
       "              -9.4601172e-01, -0.0000000e+00, -6.0247755e+00,\n",
       "               0.0000000e+00, -0.0000000e+00, -0.0000000e+00,\n",
       "              -8.1825852e-03,  0.0000000e+00, -0.0000000e+00],\n",
       "             [-0.0000000e+00, -9.9158287e-04,  0.0000000e+00,\n",
       "              -9.4597864e-01, -2.3121592e-02, -6.0244164e+00,\n",
       "               0.0000000e+00, -0.0000000e+00, -0.0000000e+00,\n",
       "              -8.2339644e-03,  0.0000000e+00, -0.0000000e+00],\n",
       "             [-0.0000000e+00, -1.5728474e-03,  0.0000000e+00,\n",
       "              -9.4573516e-01,  1.4897618e-02, -6.0237489e+00,\n",
       "              -0.0000000e+00, -0.0000000e+00, -2.1844182e-02,\n",
       "              -7.9725981e-03,  0.0000000e+00, -0.0000000e+00],\n",
       "             [-0.0000000e+00, -2.3570061e-03,  7.1900114e-03,\n",
       "              -9.4563401e-01, -1.7975625e-03, -6.0226407e+00,\n",
       "              -0.0000000e+00, -0.0000000e+00, -8.4540965e-03,\n",
       "              -8.1316829e-03, -0.0000000e+00, -0.0000000e+00],\n",
       "             [-0.0000000e+00, -2.1936893e-03,  3.8124686e-03,\n",
       "              -9.4565147e-01, -5.2113468e-03, -6.0228710e+00,\n",
       "               2.9391204e-03, -0.0000000e+00, -4.1308468e-03,\n",
       "              -8.0878735e-03,  0.0000000e+00, -0.0000000e+00],\n",
       "             [-0.0000000e+00, -8.6995363e-03,  3.8210505e-03,\n",
       "              -9.4424772e-01, -5.2479641e-03, -6.0028605e+00,\n",
       "               2.9326640e-03, -2.3654699e-03, -4.1029169e-03,\n",
       "              -2.2691250e-02,  0.0000000e+00,  0.0000000e+00],\n",
       "             [ 1.8658657e-03, -5.6481361e-03,  2.8809989e-03,\n",
       "              -9.4486523e-01, -1.0360621e-02, -6.0112143e+00,\n",
       "               3.7305108e-03, -1.4804304e-03, -1.3973718e-03,\n",
       "              -1.7120600e-02,  0.0000000e+00,  0.0000000e+00],\n",
       "             [ 1.8658657e-03, -5.6481361e-03,  2.8809989e-03,\n",
       "              -9.4486523e-01, -1.0360621e-02, -6.0112143e+00,\n",
       "               3.7305108e-03, -1.4804304e-03, -1.3973718e-03,\n",
       "              -1.7120600e-02,  0.0000000e+00,  0.0000000e+00]],            dtype=float32)"
      ]
     },
     "execution_count": 130,
     "metadata": {},
     "output_type": "execute_result"
    }
   ],
   "source": [
    "coeffs.squeeze() * masks"
   ]
  },
  {
   "cell_type": "code",
   "execution_count": 117,
   "id": "discrete-diversity",
   "metadata": {},
   "outputs": [],
   "source": [
    "regs_self = jax.vmap(lambda w: jnp.mean(jnp.abs(dt - jnp.dot(theta, w))))(coeffs)"
   ]
  },
  {
   "cell_type": "code",
   "execution_count": 118,
   "id": "metallic-glossary",
   "metadata": {},
   "outputs": [
    {
     "data": {
      "text/plain": [
       "DeviceArray([[1.3196992e+00],\n",
       "             [4.2108790e-04],\n",
       "             [4.2041834e-04],\n",
       "             [4.1711077e-04],\n",
       "             [1.8213567e-04],\n",
       "             [8.5864747e-05],\n",
       "             [6.7353802e-05],\n",
       "             [6.3969041e-05],\n",
       "             [6.3858213e-05],\n",
       "             [6.2130501e-05],\n",
       "             [6.2130501e-05]], dtype=float32)"
      ]
     },
     "execution_count": 118,
     "metadata": {},
     "output_type": "execute_result"
    }
   ],
   "source": [
    "regs"
   ]
  },
  {
   "cell_type": "code",
   "execution_count": 119,
   "id": "suburban-wealth",
   "metadata": {},
   "outputs": [
    {
     "data": {
      "text/plain": [
       "DeviceArray([0.58414257, 0.01100761, 0.01098049, 0.01095006, 0.00978881,\n",
       "             0.007439  , 0.0066422 , 0.00655413, 0.0065508 , 0.00629029,\n",
       "             0.00629029], dtype=float32)"
      ]
     },
     "execution_count": 119,
     "metadata": {},
     "output_type": "execute_result"
    }
   ],
   "source": [
    "regs_self"
   ]
  },
  {
   "cell_type": "code",
   "execution_count": 120,
   "id": "charming-province",
   "metadata": {},
   "outputs": [],
   "source": [
    "mse = jnp.mean((prediction - y) ** 2)\n",
    "L1 = n_samples * jnp.log(mse)"
   ]
  },
  {
   "cell_type": "code",
   "execution_count": 121,
   "id": "encouraging-preservation",
   "metadata": {},
   "outputs": [],
   "source": [
    "L2 = n_samples * jnp.log(regs_self.squeeze())"
   ]
  },
  {
   "cell_type": "code",
   "execution_count": 122,
   "id": "boring-domestic",
   "metadata": {},
   "outputs": [],
   "source": [
    "BICS = (L1 + L2) + jnp.sum(masks, axis=1) * jnp.log(n_samples)"
   ]
  },
  {
   "cell_type": "code",
   "execution_count": 123,
   "id": "imported-camel",
   "metadata": {},
   "outputs": [
    {
     "data": {
      "text/plain": [
       "DeviceArray([ 1,  2,  3,  4,  5,  6,  7,  8,  9, 10, 10], dtype=int32)"
      ]
     },
     "execution_count": 123,
     "metadata": {},
     "output_type": "execute_result"
    }
   ],
   "source": [
    "jnp.sum(masks, axis=1)"
   ]
  },
  {
   "cell_type": "code",
   "execution_count": 124,
   "id": "disabled-january",
   "metadata": {},
   "outputs": [
    {
     "data": {
      "text/plain": [
       "DeviceArray([-2996.6619, -6961.3125, -6956.8716, -6952.7397, -7057.936 ,\n",
       "             -7325.532 , -7431.917 , -7438.358 , -7431.9575, -7465.6294,\n",
       "             -7465.6294], dtype=float32)"
      ]
     },
     "execution_count": 124,
     "metadata": {},
     "output_type": "execute_result"
    }
   ],
   "source": [
    "BICS"
   ]
  },
  {
   "cell_type": "code",
   "execution_count": 125,
   "id": "unexpected-season",
   "metadata": {},
   "outputs": [
    {
     "data": {
      "text/plain": [
       "[<matplotlib.lines.Line2D at 0x7fcc00054790>]"
      ]
     },
     "execution_count": 125,
     "metadata": {},
     "output_type": "execute_result"
    },
    {
     "data": {
      "image/png": "[encoded data removed]",
      "text/plain": [
       "<Figure size 432x288 with 1 Axes>"
      ]
     },
     "metadata": {
      "needs_background": "light"
     },
     "output_type": "display_data"
    }
   ],
   "source": [
    "plt.plot(BICS - BICS.min())"
   ]
  },
  {
   "cell_type": "code",
   "execution_count": 79,
   "id": "ecological-dressing",
   "metadata": {},
   "outputs": [
    {
     "data": {
      "text/plain": [
       "[<matplotlib.lines.Line2D at 0x7fcc30022040>]"
      ]
     },
     "execution_count": 79,
     "metadata": {},
     "output_type": "execute_result"
    },
    {
     "data": {
      "image/png": "[encoded data removed]",
      "text/plain": [
       "<Figure size 432x288 with 1 Axes>"
      ]
     },
     "metadata": {
      "needs_background": "light"
     },
     "output_type": "display_data"
    }
   ],
   "source": [
    "plt.semilogy(BICS - BICS.min())"
   ]
  },
  {
   "cell_type": "code",
   "execution_count": 81,
   "id": "continuing-lambda",
   "metadata": {},
   "outputs": [
    {
     "data": {
      "text/plain": [
       "DeviceArray([[ 0.2774038],\n",
       "             [-7.772669 ],\n",
       "             [-7.7742605],\n",
       "             [-7.782159 ],\n",
       "             [-8.610759 ],\n",
       "             [-9.362738 ],\n",
       "             [-9.605551 ],\n",
       "             [-9.657111 ],\n",
       "             [-9.658845 ],\n",
       "             [-9.686274 ],\n",
       "             [-9.686274 ]], dtype=float32)"
      ]
     },
     "execution_count": 81,
     "metadata": {},
     "output_type": "execute_result"
    }
   ],
   "source": [
    "jnp.log(regs)"
   ]
  },
  {
   "cell_type": "code",
   "execution_count": 68,
   "id": "marked-limit",
   "metadata": {},
   "outputs": [
    {
     "data": {
      "text/plain": [
       "[<matplotlib.lines.Line2D at 0x7fcd002fca60>]"
      ]
     },
     "execution_count": 68,
     "metadata": {},
     "output_type": "execute_result"
    },
    {
     "data": {
      "image/png": "[encoded data removed]",
      "text/plain": [
       "<Figure size 432x288 with 1 Axes>"
      ]
     },
     "metadata": {
      "needs_background": "light"
     },
     "output_type": "display_data"
    }
   ],
   "source": [
    "plt.plot(L2)"
   ]
  },
  {
   "cell_type": "code",
   "execution_count": 92,
   "id": "starting-designation",
   "metadata": {},
   "outputs": [
    {
     "data": {
      "text/plain": [
       "<matplotlib.legend.Legend at 0x7fcbe425b4c0>"
      ]
     },
     "execution_count": 92,
     "metadata": {},
     "output_type": "execute_result"
    },
    {
     "data": {
      "image/png": "[encoded data removed]",
      "text/plain": [
       "<Figure size 432x288 with 1 Axes>"
      ]
     },
     "metadata": {
      "needs_background": "light"
     },
     "output_type": "display_data"
    }
   ],
   "source": [
    "plt.plot(jnp.sum(masks, axis=1) * jnp.log(n_samples))\n",
    "plt.plot(jnp.sum(masks, axis=1) * jnp.log((n_samples +2)/24), label='adjusted')\n",
    "plt.legend()"
   ]
  },
  {
   "cell_type": "code",
   "execution_count": null,
   "id": "eligible-layer",
   "metadata": {},
   "outputs": [],
   "source": [
    "BIC = (L1 + L2) + jnp.sum(mask) * jnp.log(n_samples)"
   ]
  },
  {
   "cell_type": "code",
   "execution_count": 82,
   "id": "express-signal",
   "metadata": {},
   "outputs": [
    {
     "data": {
      "text/plain": [
       "DeviceArray(0.00690776, dtype=float32)"
      ]
     },
     "execution_count": 82,
     "metadata": {},
     "output_type": "execute_result"
    }
   ],
   "source": [
    "jnp.log(n_samples) / n_samples"
   ]
  },
  {
   "cell_type": "code",
   "execution_count": null,
   "id": "compound-contents",
   "metadata": {},
   "outputs": [],
   "source": []
  }
 ],
 "metadata": {
  "kernelspec": {
   "display_name": "Python 3",
   "language": "python",
   "name": "python3"
  },
  "language_info": {
   "codemirror_mode": {
    "name": "ipython",
    "version": 3
   },
   "file_extension": ".py",
   "mimetype": "text/x-python",
   "name": "python",
   "nbconvert_exporter": "python",
   "pygments_lexer": "ipython3",
   "version": "3.8.3"
  }
 },
 "nbformat": 4,
 "nbformat_minor": 5
}
