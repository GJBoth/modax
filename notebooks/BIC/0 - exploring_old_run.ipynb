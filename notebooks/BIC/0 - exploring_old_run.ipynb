{
 "cells": [
  {
   "cell_type": "markdown",
   "id": "finite-designer",
   "metadata": {},
   "source": [
    "Now that we have the differentiable forward solver fixed, we can implement the BIC. Before we actually implement it, let's study an old run and plot the BIC for that one."
   ]
  },
  {
   "cell_type": "code",
   "execution_count": 33,
   "id": "funky-roads",
   "metadata": {},
   "outputs": [],
   "source": [
    "import matplotlib.pyplot as plt\n",
    "import seaborn as sns\n",
    "sns.set()\n",
    "\n",
    "import jax.numpy as jnp\n",
    "import numpy as np\n",
    "from deepymod.analysis import load_tensorboard\n",
    "from natsort import natsorted"
   ]
  },
  {
   "cell_type": "code",
   "execution_count": 2,
   "id": "purple-heading",
   "metadata": {},
   "outputs": [],
   "source": [
    "df = load_tensorboard(\"../differentiable_fwd_solver/runs/sbl_run_0/\")"
   ]
  },
  {
   "cell_type": "code",
   "execution_count": 122,
   "id": "demanding-particle",
   "metadata": {},
   "outputs": [],
   "source": [
    "alpha_threshold = 1e4\n",
    "n_samples = 1000"
   ]
  },
  {
   "cell_type": "code",
   "execution_count": 123,
   "id": "above-dayton",
   "metadata": {},
   "outputs": [],
   "source": [
    "# Getting number of active samples\n",
    "alpha_keys = natsorted([key for key in df.keys() if key.find('alpha') == 0])\n",
    "n_active = (df[alpha_keys] < alpha_threshold).sum(axis=1)"
   ]
  },
  {
   "cell_type": "code",
   "execution_count": 139,
   "id": "better-railway",
   "metadata": {},
   "outputs": [],
   "source": [
    "# Getting likelihood\n",
    "L = -n_samples  / 2 * (df.tau * df.mse - np.log(df.tau) + df.beta * df.reg - np.log(df.beta))\n",
    "#L = -n_samples  / 2 * (df.beta * df.reg - np.log(df.beta) + np.log(2 * jnp.pi))"
   ]
  },
  {
   "cell_type": "code",
   "execution_count": 125,
   "id": "killing-regard",
   "metadata": {},
   "outputs": [
    {
     "data": {
      "text/plain": [
       "[<matplotlib.lines.Line2D at 0x7ff150198940>]"
      ]
     },
     "execution_count": 125,
     "metadata": {},
     "output_type": "execute_result"
    },
    {
     "data": {
      "image/png": "[encoded data removed]",
      "text/plain": [
       "<Figure size 432x288 with 1 Axes>"
      ]
     },
     "metadata": {},
     "output_type": "display_data"
    }
   ],
   "source": [
    "plt.plot(n_active)\n"
   ]
  },
  {
   "cell_type": "code",
   "execution_count": 126,
   "id": "correct-discount",
   "metadata": {},
   "outputs": [
    {
     "data": {
      "text/plain": [
       "[<matplotlib.lines.Line2D at 0x7ff150152d60>]"
      ]
     },
     "execution_count": 126,
     "metadata": {},
     "output_type": "execute_result"
    },
    {
     "data": {
      "image/png": "[encoded data removed]",
      "text/plain": [
       "<Figure size 432x288 with 1 Axes>"
      ]
     },
     "metadata": {},
     "output_type": "display_data"
    }
   ],
   "source": [
    "plt.loglog(n_active * np.log(n_samples))"
   ]
  },
  {
   "cell_type": "code",
   "execution_count": 135,
   "id": "paperback-statement",
   "metadata": {},
   "outputs": [],
   "source": [
    "BIC = n_active * np.log(n_samples) + 2 * df.loss"
   ]
  },
  {
   "cell_type": "code",
   "execution_count": 138,
   "id": "peripheral-reunion",
   "metadata": {},
   "outputs": [
    {
     "data": {
      "text/plain": [
       "[<matplotlib.lines.Line2D at 0x7ff1480f7b80>]"
      ]
     },
     "execution_count": 138,
     "metadata": {},
     "output_type": "execute_result"
    },
    {
     "data": {
      "image/png": "[encoded data removed]",
      "text/plain": [
       "<Figure size 432x288 with 1 Axes>"
      ]
     },
     "metadata": {},
     "output_type": "display_data"
    }
   ],
   "source": [
    "plt.plot(BIC / np.min(BIC))"
   ]
  },
  {
   "cell_type": "code",
   "execution_count": 64,
   "id": "environmental-arrangement",
   "metadata": {},
   "outputs": [
    {
     "data": {
      "text/plain": [
       "9997"
      ]
     },
     "execution_count": 64,
     "metadata": {},
     "output_type": "execute_result"
    }
   ],
   "source": [
    "np.argmin(BIC)"
   ]
  },
  {
   "cell_type": "code",
   "execution_count": 105,
   "id": "hourly-growing",
   "metadata": {},
   "outputs": [
    {
     "data": {
      "text/plain": [
       "5       -5504.903925\n",
       "15      -6192.927959\n",
       "16      -6300.743786\n",
       "23      -7204.807055\n",
       "28      -6262.752892\n",
       "            ...     \n",
       "99966   -9133.658954\n",
       "99968   -9128.973486\n",
       "99987   -9161.349350\n",
       "99991   -9128.560196\n",
       "99999   -9144.268121\n",
       "Name: reg, Length: 10000, dtype: float64"
      ]
     },
     "execution_count": 105,
     "metadata": {},
     "output_type": "execute_result"
    }
   ],
   "source": [
    "n_samples * np.log(df.reg)  "
   ]
  },
  {
   "cell_type": "code",
   "execution_count": 95,
   "id": "caring-shakespeare",
   "metadata": {},
   "outputs": [
    {
     "data": {
      "text/plain": [
       "5       -5.504904\n",
       "15      -6.192928\n",
       "16      -6.300744\n",
       "23      -7.204807\n",
       "28      -6.262753\n",
       "           ...   \n",
       "99966   -9.133659\n",
       "99968   -9.128973\n",
       "99987   -9.161349\n",
       "99991   -9.128560\n",
       "99999   -9.144268\n",
       "Name: reg, Length: 10000, dtype: float64"
      ]
     },
     "execution_count": 95,
     "metadata": {},
     "output_type": "execute_result"
    }
   ],
   "source": [
    "np.log(df.reg)"
   ]
  },
  {
   "cell_type": "code",
   "execution_count": 88,
   "id": "second-hungarian",
   "metadata": {},
   "outputs": [
    {
     "data": {
      "text/plain": [
       "144.76482730108395"
      ]
     },
     "execution_count": 88,
     "metadata": {},
     "output_type": "execute_result"
    }
   ],
   "source": [
    "n_samples / np.log(n_samples)"
   ]
  },
  {
   "cell_type": "code",
   "execution_count": 89,
   "id": "available-catering",
   "metadata": {},
   "outputs": [
    {
     "data": {
      "text/plain": [
       "5       -2.657349\n",
       "15      -3.383364\n",
       "16      -3.304198\n",
       "23      -3.241559\n",
       "28      -3.631298\n",
       "           ...   \n",
       "99966   -4.945239\n",
       "99968   -4.945219\n",
       "99987   -4.945224\n",
       "99991   -4.945207\n",
       "99999   -4.945242\n",
       "Name: mse, Length: 10000, dtype: float64"
      ]
     },
     "execution_count": 89,
     "metadata": {},
     "output_type": "execute_result"
    }
   ],
   "source": [
    "np.log(df.mse)"
   ]
  },
  {
   "cell_type": "code",
   "execution_count": null,
   "id": "neither-phrase",
   "metadata": {},
   "outputs": [],
   "source": []
  }
 ],
 "metadata": {
  "kernelspec": {
   "display_name": "Python 3",
   "language": "python",
   "name": "python3"
  },
  "language_info": {
   "codemirror_mode": {
    "name": "ipython",
    "version": 3
   },
   "file_extension": ".py",
   "mimetype": "text/x-python",
   "name": "python",
   "nbconvert_exporter": "python",
   "pygments_lexer": "ipython3",
   "version": "3.8.3"
  }
 },
 "nbformat": 4,
 "nbformat_minor": 5
}
