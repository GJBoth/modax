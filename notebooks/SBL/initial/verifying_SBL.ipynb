{
 "cells": [
  {
   "cell_type": "code",
   "execution_count": 10,
   "metadata": {},
   "outputs": [
    {
     "name": "stdout",
     "output_type": "stream",
     "text": [
      "The autoreload extension is already loaded. To reload it, use:\n",
      "  %reload_ext autoreload\n"
     ]
    }
   ],
   "source": [
    "# %% Imports\n",
    "import jax\n",
    "from jax import jit, numpy as jnp, lax, random\n",
    "from functools import partial\n",
    "from modax.linear_model import SBL\n",
    "\n",
    "from sklearn.linear_model import ARDRegression\n",
    "\n",
    "\n",
    "%load_ext autoreload \n",
    "%autoreload 2"
   ]
  },
  {
   "cell_type": "code",
   "execution_count": 11,
   "metadata": {},
   "outputs": [],
   "source": [
    "data = jnp.load('test_data.npy', allow_pickle=True).item()\n",
    "y, X = data['y'], data['X']\n",
    "\n",
    "X_normed = X / jnp.linalg.norm(X, axis=0)"
   ]
  },
  {
   "cell_type": "code",
   "execution_count": 49,
   "metadata": {},
   "outputs": [
    {
     "name": "stdout",
     "output_type": "stream",
     "text": [
      "[1.3595734e+03 5.6380401e+00 7.0157982e-02 5.3128362e+00 8.4873238e+01\n",
      " 5.7919085e-02 1.2744015e+01 2.6220288e+00 9.1703812e+01 8.0625182e-01\n",
      " 1.2733847e+01 4.6117731e+02 2.7395503e+05]\n"
     ]
    }
   ],
   "source": [
    "prior = SBL.SBLregression(X_normed, y)\n",
    "print(prior)"
   ]
  },
  {
   "cell_type": "code",
   "execution_count": 62,
   "metadata": {},
   "outputs": [
    {
     "data": {
      "text/plain": [
       "DeviceArray([[1.3595734e+03],\n",
       "             [5.6380401e+00],\n",
       "             [7.0157982e-02],\n",
       "             [5.3128362e+00],\n",
       "             [8.4873238e+01],\n",
       "             [5.7919085e-02],\n",
       "             [1.2744015e+01],\n",
       "             [2.6220288e+00],\n",
       "             [9.1703812e+01],\n",
       "             [8.0625182e-01],\n",
       "             [1.2733847e+01],\n",
       "             [4.6117731e+02]], dtype=float32)"
      ]
     },
     "execution_count": 62,
     "metadata": {},
     "output_type": "execute_result"
    }
   ],
   "source": [
    "prior[:-1, None]"
   ]
  },
  {
   "cell_type": "code",
   "execution_count": 64,
   "metadata": {},
   "outputs": [
    {
     "name": "stdout",
     "output_type": "stream",
     "text": [
      "5710.3774 [[ 0.02696981]\n",
      " [-0.42118847]\n",
      " [ 3.7753148 ]\n",
      " [ 0.43370676]\n",
      " [-0.1081934 ]\n",
      " [-4.154943  ]\n",
      " [ 0.27753925]\n",
      " [-0.6172552 ]\n",
      " [ 0.10374784]\n",
      " [-1.1136498 ]\n",
      " [-0.27886343]\n",
      " [-0.04382658]]\n"
     ]
    }
   ],
   "source": [
    "evidence, mn = SBL.evidence(X_normed, y, prior, (0.0, 0.0))\n",
    "print(evidence, mn)"
   ]
  },
  {
   "cell_type": "code",
   "execution_count": 53,
   "metadata": {},
   "outputs": [],
   "source": [
    "reg = ARDRegression(compute_score=True, \n",
    "                    fit_intercept=False, \n",
    "                    alpha_1=0.0, \n",
    "                    alpha_2=0.0,\n",
    "                    lambda_1=0.0,\n",
    "                    lambda_2=0.0, \n",
    "                   tol=1e-4)"
   ]
  },
  {
   "cell_type": "code",
   "execution_count": 54,
   "metadata": {},
   "outputs": [
    {
     "data": {
      "text/plain": [
       "ARDRegression(alpha_1=0.0, alpha_2=0.0, compute_score=True, fit_intercept=False,\n",
       "              lambda_1=0.0, lambda_2=0.0, tol=0.0001)"
      ]
     },
     "execution_count": 54,
     "metadata": {},
     "output_type": "execute_result"
    }
   ],
   "source": [
    "reg.fit(X_normed, y.squeeze())"
   ]
  },
  {
   "cell_type": "code",
   "execution_count": 55,
   "metadata": {},
   "outputs": [
    {
     "data": {
      "text/plain": [
       "253961.6121603202"
      ]
     },
     "execution_count": 55,
     "metadata": {},
     "output_type": "execute_result"
    }
   ],
   "source": [
    "reg.alpha_"
   ]
  },
  {
   "cell_type": "code",
   "execution_count": 56,
   "metadata": {},
   "outputs": [
    {
     "data": {
      "text/plain": [
       "array([[3.44620966e+03],\n",
       "       [5.64050771e+00],\n",
       "       [6.90140592e-02],\n",
       "       [5.10886248e+00],\n",
       "       [6.90789256e+02],\n",
       "       [5.74954487e-02],\n",
       "       [7.93799507e+01],\n",
       "       [3.16854132e+00],\n",
       "       [1.09172455e+04],\n",
       "       [9.06506097e-01],\n",
       "       [2.52464024e+01],\n",
       "       [1.41182674e+02]])"
      ]
     },
     "execution_count": 56,
     "metadata": {},
     "output_type": "execute_result"
    }
   ],
   "source": [
    "reg.lambda_[:, None]"
   ]
  },
  {
   "cell_type": "code",
   "execution_count": 57,
   "metadata": {},
   "outputs": [
    {
     "data": {
      "text/plain": [
       "[4063.464736735098,\n",
       " 5674.823066162173,\n",
       " 5682.251057953032,\n",
       " 5682.014236012988,\n",
       " 5682.012401103186,\n",
       " 5682.012200107362,\n",
       " 5682.012173293515]"
      ]
     },
     "execution_count": 57,
     "metadata": {},
     "output_type": "execute_result"
    }
   ],
   "source": [
    "reg.scores_"
   ]
  },
  {
   "cell_type": "code",
   "execution_count": 60,
   "metadata": {},
   "outputs": [
    {
     "data": {
      "text/plain": [
       "array([[ 0.01683335],\n",
       "       [-0.42096037],\n",
       "       [ 3.80653338],\n",
       "       [ 0.44227556],\n",
       "       [-0.03790536],\n",
       "       [-4.17038708],\n",
       "       [ 0.10705643],\n",
       "       [-0.56129879],\n",
       "       [ 0.        ],\n",
       "       [-1.05015642],\n",
       "       [-0.19732784],\n",
       "       [-0.08252294]])"
      ]
     },
     "execution_count": 60,
     "metadata": {},
     "output_type": "execute_result"
    }
   ],
   "source": [
    "reg.coef_[:, None]"
   ]
  },
  {
   "cell_type": "code",
   "execution_count": 65,
   "metadata": {},
   "outputs": [
    {
     "data": {
      "text/plain": [
       "DeviceArray([[ 0.02696981],\n",
       "             [-0.42118847],\n",
       "             [ 3.7753148 ],\n",
       "             [ 0.43370676],\n",
       "             [-0.1081934 ],\n",
       "             [-4.154943  ],\n",
       "             [ 0.27753925],\n",
       "             [-0.6172552 ],\n",
       "             [ 0.10374784],\n",
       "             [-1.1136498 ],\n",
       "             [-0.27886343],\n",
       "             [-0.04382658]], dtype=float32)"
      ]
     },
     "execution_count": 65,
     "metadata": {},
     "output_type": "execute_result"
    }
   ],
   "source": [
    "mn"
   ]
  },
  {
   "cell_type": "code",
   "execution_count": 44,
   "metadata": {},
   "outputs": [
    {
     "data": {
      "text/plain": [
       "array([[ 0.        ],\n",
       "       [-0.02956439],\n",
       "       [ 0.09587161],\n",
       "       [ 0.        ],\n",
       "       [-0.0193805 ],\n",
       "       [-0.87973161],\n",
       "       [ 0.        ],\n",
       "       [ 0.        ],\n",
       "       [ 0.0336494 ],\n",
       "       [-0.08981044],\n",
       "       [ 0.        ],\n",
       "       [ 0.        ]])"
      ]
     },
     "execution_count": 44,
     "metadata": {},
     "output_type": "execute_result"
    }
   ],
   "source": [
    "reg.fit(X, y.squeeze()).coef_[:, None]"
   ]
  },
  {
   "cell_type": "code",
   "execution_count": 47,
   "metadata": {},
   "outputs": [
    {
     "data": {
      "text/plain": [
       "array([[1.32819420e+06],\n",
       "       [1.13433641e+03],\n",
       "       [1.08796093e+02],\n",
       "       [3.14849151e+05],\n",
       "       [2.60501863e+03],\n",
       "       [1.29192640e+00],\n",
       "       [1.74882926e+05],\n",
       "       [1.69096594e+05],\n",
       "       [8.56825597e+02],\n",
       "       [1.22728101e+02],\n",
       "       [8.57527675e+04],\n",
       "       [1.47666149e+06]])"
      ]
     },
     "execution_count": 47,
     "metadata": {},
     "output_type": "execute_result"
    }
   ],
   "source": [
    "reg.lambda_[:, None]"
   ]
  },
  {
   "cell_type": "code",
   "execution_count": 48,
   "metadata": {},
   "outputs": [
    {
     "name": "stdout",
     "output_type": "stream",
     "text": [
      "[[1.00000000e+06]\n",
      " [5.76688232e+02]\n",
      " [1.02008888e+02]\n",
      " [3.80333156e+05]\n",
      " [4.80305176e+03]\n",
      " [1.72114873e+00]\n",
      " [1.24310928e+04]\n",
      " [1.20778625e+05]\n",
      " [1.80649500e+03]\n",
      " [1.45358677e+01]\n",
      " [1.33389336e+04]\n",
      " [1.00000000e+06]\n",
      " [2.73934031e+05]]\n"
     ]
    }
   ],
   "source": [
    "prior = SBL.SBLregression(X, y)\n",
    "print(prior[:, None])"
   ]
  },
  {
   "cell_type": "markdown",
   "metadata": {},
   "source": [
    "Not sure it's correct; it's off more than a numerical factor. Could be due to my not removing terms, but that seems hardly the case... Let's use it for now an come back to it later.\n"
   ]
  },
  {
   "cell_type": "code",
   "execution_count": 77,
   "metadata": {},
   "outputs": [],
   "source": [
    "def update(prior_params, X, y, hyper_prior_params):\n",
    "    # Unpacking parameters\n",
    "    alpha_prev, beta_prev = prior_params[:-1], prior_params[-1]\n",
    "    a, b = hyper_prior_params\n",
    "\n",
    "    # Calculating intermediate matrices\n",
    "    n_samples, n_terms = X.shape\n",
    "    Sigma = jnp.linalg.inv(beta_prev * X.T @ X + jnp.diag(alpha_prev))\n",
    "    mu = beta_prev * Sigma @ X.T @ y\n",
    "    gamma = 1 - alpha_prev * jnp.diag(Sigma)\n",
    "\n",
    "\n",
    "    # Updating\n",
    "    cap = 1e6\n",
    "    alpha = jnp.minimum(gamma / (mu ** 2).squeeze(), cap)\n",
    "    beta = (n_samples - jnp.sum(gamma) + 2 * a) / (\n",
    "        jnp.sum((y - X @ mu) ** 2) + 2 * b\n",
    "    )\n",
    "\n",
    "    return jnp.concatenate([alpha, beta[None]], axis=0)"
   ]
  },
  {
   "cell_type": "code",
   "execution_count": 78,
   "metadata": {},
   "outputs": [],
   "source": [
    "prior_params_init = jnp.concatenate(\n",
    "            (jnp.ones((X.shape[1],)), 1.0 / jnp.var(y)[None]), axis=0\n",
    "        )"
   ]
  },
  {
   "cell_type": "code",
   "execution_count": 79,
   "metadata": {},
   "outputs": [
    {
     "name": "stdout",
     "output_type": "stream",
     "text": [
      "[8.1802086e+01 4.3041584e-01 8.7814875e-02 6.4752374e+00 1.4092141e+03\n",
      " 9.0157993e-02 1.6357720e+00 1.5733417e+01 9.3208799e+00 1.7367724e-01\n",
      " 7.7745576e+00 2.4815776e+00]\n"
     ]
    },
    {
     "data": {
      "text/plain": [
       "DeviceArray([8.1802086e+01, 4.3041584e-01, 8.7814875e-02, 6.4752374e+00,\n",
       "             1.4092141e+03, 9.0157993e-02, 1.6357720e+00, 1.5733417e+01,\n",
       "             9.3208799e+00, 1.7367724e-01, 7.7745576e+00, 2.4815776e+00,\n",
       "             9.3036387e+03], dtype=float32)"
      ]
     },
     "execution_count": 79,
     "metadata": {},
     "output_type": "execute_result"
    }
   ],
   "source": [
    "update(prior_params_init, X_normed, y, (0.0, 0.0))"
   ]
  },
  {
   "cell_type": "code",
   "execution_count": null,
   "metadata": {},
   "outputs": [],
   "source": []
  }
 ],
 "metadata": {
  "kernelspec": {
   "display_name": "Python 3",
   "language": "python",
   "name": "python3"
  },
  "language_info": {
   "codemirror_mode": {
    "name": "ipython",
    "version": 3
   },
   "file_extension": ".py",
   "mimetype": "text/x-python",
   "name": "python",
   "nbconvert_exporter": "python",
   "pygments_lexer": "ipython3",
   "version": "3.8.5"
  }
 },
 "nbformat": 4,
 "nbformat_minor": 4
}
