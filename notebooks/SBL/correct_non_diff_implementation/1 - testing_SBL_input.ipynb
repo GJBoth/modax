{
 "cells": [
  {
   "cell_type": "markdown",
   "id": "sorted-venture",
   "metadata": {},
   "source": [
    "We've build an implementation, now to make sure the SBL function works and the training as well."
   ]
  },
  {
   "cell_type": "code",
   "execution_count": 1,
   "id": "rural-irish",
   "metadata": {},
   "outputs": [],
   "source": [
    "# %% Imports\n",
    "from jax import numpy as jnp, random\n",
    "import jax\n",
    "from modax.data.kdv import doublesoliton\n",
    "from modax.models import Deepmod\n",
    "from modax.training.utils import create_update\n",
    "from flax import optim\n",
    "\n",
    "from modax.training import train_max_iter\n",
    "from modax.training.losses.utils import precision, normal_LL\n",
    "from modax.training.losses.SBL import loss_fn_SBL\n",
    "from modax.linear_model.SBL import SBL\n",
    "\n",
    "import matplotlib.pyplot as plt\n",
    "import seaborn as sns\n",
    "sns.set()\n",
    "\n",
    "\n",
    "%load_ext autoreload\n",
    "%autoreload 2\n",
    "\n",
    "%config InlineBackend.figure_format = 'svg'"
   ]
  },
  {
   "cell_type": "markdown",
   "id": "cognitive-costa",
   "metadata": {},
   "source": [
    "# Making data"
   ]
  },
  {
   "cell_type": "code",
   "execution_count": 2,
   "id": "chemical-vacation",
   "metadata": {},
   "outputs": [],
   "source": [
    "key = random.PRNGKey(42)\n",
    "x = jnp.linspace(-10, 10, 100)\n",
    "t = jnp.linspace(0.1, 1.0, 10)\n",
    "t_grid, x_grid = jnp.meshgrid(t, x, indexing=\"ij\")\n",
    "u = doublesoliton(x_grid, t_grid, c=[5.0, 2.0], x0=[0.0, -5.0])\n",
    "\n",
    "X = jnp.concatenate([t_grid.reshape(-1, 1), x_grid.reshape(-1, 1)], axis=1)\n",
    "y = u.reshape(-1, 1)\n",
    "y += 0.10 * jnp.std(y) * random.normal(key, y.shape)"
   ]
  },
  {
   "cell_type": "code",
   "execution_count": 3,
   "id": "convenient-dairy",
   "metadata": {},
   "outputs": [],
   "source": [
    "# %% Building model and params\n",
    "model = Deepmod([30, 30, 30, 1])\n",
    "variables = model.init(key, X)\n",
    "\n",
    "state, params = variables.pop(\"params\")\n",
    "\n",
    "prediction, dt, theta, coeffs = model.apply({\"params\": params, **state}, X)\n",
    "theta_normed = theta / jnp.linalg.norm(theta, axis=0)"
   ]
  },
  {
   "cell_type": "code",
   "execution_count": 4,
   "id": "artistic-suite",
   "metadata": {},
   "outputs": [],
   "source": [
    "n_samples, n_features = theta.shape\n",
    "prior_params_mse = (0.0, 0.0)\n",
    "tau = precision(y, prediction, *prior_params_mse)"
   ]
  },
  {
   "cell_type": "code",
   "execution_count": 5,
   "id": "permanent-mission",
   "metadata": {},
   "outputs": [],
   "source": [
    "alpha_prior = (1e-6, 1e-6)\n",
    "beta_prior = (n_samples / 2, n_samples / (2 * jax.lax.stop_gradient(tau)))\n",
    "hyper_prior = (alpha_prior, beta_prior)"
   ]
  },
  {
   "cell_type": "markdown",
   "id": "executed-victor",
   "metadata": {},
   "source": [
    "# testing function"
   ]
  },
  {
   "cell_type": "code",
   "execution_count": 6,
   "id": "direct-database",
   "metadata": {},
   "outputs": [],
   "source": [
    "loss, coeffs, prior, metrics = SBL(theta_normed, dt, None, hyper_prior, tol=1e-5, max_iter=1000)"
   ]
  },
  {
   "cell_type": "code",
   "execution_count": 7,
   "id": "fleet-legislation",
   "metadata": {},
   "outputs": [
    {
     "name": "stdout",
     "output_type": "stream",
     "text": [
      "(DeviceArray(472, dtype=int32), DeviceArray(1.0035904e-05, dtype=float32))\n"
     ]
    }
   ],
   "source": [
    "print(metrics)"
   ]
  },
  {
   "cell_type": "markdown",
   "id": "intellectual-warner",
   "metadata": {},
   "source": [
    "Now let's try with a prior init:"
   ]
  },
  {
   "cell_type": "code",
   "execution_count": 8,
   "id": "aboriginal-helen",
   "metadata": {},
   "outputs": [
    {
     "data": {
      "text/plain": [
       "(DeviceArray(455.70856, dtype=float32),\n",
       " DeviceArray([[ 4.8159838e-02],\n",
       "              [-1.7831131e-05],\n",
       "              [ 6.5489697e-01],\n",
       "              [-8.3192805e-05],\n",
       "              [ 1.6062738e+00],\n",
       "              [ 6.3539577e-05],\n",
       "              [-6.0119817e-04],\n",
       "              [ 7.5133808e-04],\n",
       "              [-3.0716820e-04],\n",
       "              [ 4.9009838e-04],\n",
       "              [ 6.5006682e-04],\n",
       "              [-4.6149743e-04]], dtype=float32),\n",
       " DeviceArray([3.8262371e+01, 1.3062083e+03, 1.5917872e+00, 1.4582084e+03,\n",
       "              3.5256827e-01, 1.4764838e+03, 1.0433547e+03, 1.2462081e+03,\n",
       "              8.3055188e+02, 1.3493473e+03, 8.2135358e+02, 1.3354717e+03,\n",
       "              4.2957764e+00], dtype=float32),\n",
       " (DeviceArray(1, dtype=int32), DeviceArray(1., dtype=float32)))"
      ]
     },
     "execution_count": 8,
     "metadata": {},
     "output_type": "execute_result"
    }
   ],
   "source": [
    "SBL(theta_normed, dt, prior, hyper_prior, tol=1e-5, max_iter=1000)"
   ]
  },
  {
   "cell_type": "code",
   "execution_count": 9,
   "id": "twenty-moldova",
   "metadata": {},
   "outputs": [],
   "source": [
    "test = lambda x: SBL(x, dt, prior, hyper_prior, tol=1e-5, max_iter=1000)[0]"
   ]
  },
  {
   "cell_type": "code",
   "execution_count": 10,
   "id": "later-percentage",
   "metadata": {},
   "outputs": [
    {
     "data": {
      "text/plain": [
       "DeviceArray(455.70856, dtype=float32)"
      ]
     },
     "execution_count": 10,
     "metadata": {},
     "output_type": "execute_result"
    }
   ],
   "source": [
    "test(theta_normed)"
   ]
  },
  {
   "cell_type": "code",
   "execution_count": 11,
   "id": "interested-watch",
   "metadata": {},
   "outputs": [
    {
     "data": {
      "text/plain": [
       "DeviceArray([[-1.2440701e-03,  3.8723842e-06,  2.5634898e-02, ...,\n",
       "               1.9643254e-05,  1.8920218e-05, -2.0201613e-05],\n",
       "             [-1.3898911e-03,  4.0267396e-06,  2.3853581e-02, ...,\n",
       "               1.8187544e-05,  1.7692948e-05, -1.8726023e-05],\n",
       "             [-1.5444972e-03,  4.1821468e-06,  2.1956580e-02, ...,\n",
       "               1.6643622e-05,  1.6365988e-05, -1.7164115e-05],\n",
       "             ...,\n",
       "             [ 5.0725369e-04,  4.6074656e-06,  3.1805620e-02, ...,\n",
       "               3.5687837e-05, -2.1029897e-05, -4.3647586e-05],\n",
       "             [ 4.1563646e-04,  4.5651877e-06,  3.0797089e-02, ...,\n",
       "               3.4767811e-05, -2.1377313e-05, -4.2674856e-05],\n",
       "             [ 3.2546185e-04,  4.5169600e-06,  2.9804943e-02, ...,\n",
       "               3.3862052e-05, -2.1718381e-05, -4.1717405e-05]],            dtype=float32)"
      ]
     },
     "execution_count": 11,
     "metadata": {},
     "output_type": "execute_result"
    }
   ],
   "source": [
    "jax.grad(lambda x: SBL(x, dt, prior, hyper_prior, tol=1e-5, max_iter=1000)[0])(theta_normed)"
   ]
  },
  {
   "cell_type": "markdown",
   "id": "failing-option",
   "metadata": {},
   "source": [
    "# testing training"
   ]
  },
  {
   "cell_type": "code",
   "execution_count": 12,
   "id": "possible-ideal",
   "metadata": {},
   "outputs": [],
   "source": [
    "# %% Building model and params\n",
    "model = Deepmod([30, 30, 30, 1])\n",
    "variables = model.init(key, X)\n",
    "\n",
    "optimizer = optim.Adam(learning_rate=2e-3, beta1=0.99, beta2=0.99)\n",
    "state, params = variables.pop(\"params\")\n",
    "optimizer = optimizer.create(params)\n",
    "\n",
    "state = (state, {\"prior_init\": None})  # adding prior to state\n",
    "update_fn = create_update(loss_fn_SBL, (model, X, y, True))"
   ]
  },
  {
   "cell_type": "code",
   "execution_count": 13,
   "id": "cross-interstate",
   "metadata": {},
   "outputs": [
    {
     "name": "stdout",
     "output_type": "stream",
     "text": [
      "Loss step 0: 577.9456787109375\n",
      "Loss step 100: -463.77923583984375\n",
      "Loss step 200: -1175.1824951171875\n",
      "Loss step 300: -2273.142578125\n",
      "Loss step 400: -2774.034423828125\n",
      "Loss step 500: -3403.81982421875\n",
      "Loss step 600: -3751.59912109375\n",
      "Loss step 700: -4754.9013671875\n",
      "Loss step 800: -6389.67236328125\n",
      "Loss step 900: -6642.81005859375\n",
      "Loss step 1000: -6722.11767578125\n",
      "Loss step 1100: -6735.8134765625\n",
      "Loss step 1200: -6743.01611328125\n",
      "Loss step 1300: -6745.375\n",
      "Loss step 1400: -6747.2119140625\n",
      "Loss step 1500: -6759.123046875\n",
      "Loss step 1600: -6755.7216796875\n",
      "Loss step 1700: -6745.0556640625\n",
      "Loss step 1800: -6749.6240234375\n",
      "Loss step 1900: -6761.83837890625\n",
      "Loss step 2000: -6762.3427734375\n",
      "Loss step 2100: -6754.748046875\n",
      "Loss step 2200: -6758.02734375\n",
      "Loss step 2300: -6759.517578125\n",
      "Loss step 2400: -6749.99755859375\n",
      "Loss step 2500: -6767.84716796875\n",
      "Loss step 2600: -6756.38671875\n",
      "Loss step 2700: -6757.427734375\n",
      "Loss step 2800: -6766.6083984375\n",
      "Loss step 2900: -6764.9697265625\n",
      "Loss step 3000: -6757.6494140625\n",
      "Loss step 3100: -6750.85302734375\n",
      "Loss step 3200: -6761.603515625\n",
      "Loss step 3300: -6755.91357421875\n"
     ]
    },
    {
     "ename": "KeyboardInterrupt",
     "evalue": "",
     "output_type": "error",
     "traceback": [
      "\u001b[0;31m---------------------------------------------------------------------------\u001b[0m",
      "\u001b[0;31mKeyboardInterrupt\u001b[0m                         Traceback (most recent call last)",
      "\u001b[0;32m<ipython-input-13-3e5dd21142bd>\u001b[0m in \u001b[0;36m<module>\u001b[0;34m\u001b[0m\n\u001b[0;32m----> 1\u001b[0;31m \u001b[0mtrain_max_iter\u001b[0m\u001b[0;34m(\u001b[0m\u001b[0mupdate_fn\u001b[0m\u001b[0;34m,\u001b[0m \u001b[0moptimizer\u001b[0m\u001b[0;34m,\u001b[0m \u001b[0mstate\u001b[0m\u001b[0;34m,\u001b[0m \u001b[0;36m5000\u001b[0m\u001b[0;34m)\u001b[0m\u001b[0;34m\u001b[0m\u001b[0;34m\u001b[0m\u001b[0m\n\u001b[0m",
      "\u001b[0;32m~/Documents/modax/src/modax/training/training.py\u001b[0m in \u001b[0;36mtrain_max_iter\u001b[0;34m(update_fn, optimizer, state, max_epochs)\u001b[0m\n\u001b[1;32m     12\u001b[0m     \u001b[0mlogger\u001b[0m \u001b[0;34m=\u001b[0m \u001b[0mLogger\u001b[0m\u001b[0;34m(\u001b[0m\u001b[0;34m)\u001b[0m\u001b[0;34m\u001b[0m\u001b[0;34m\u001b[0m\u001b[0m\n\u001b[1;32m     13\u001b[0m     \u001b[0;32mfor\u001b[0m \u001b[0mepoch\u001b[0m \u001b[0;32min\u001b[0m \u001b[0mjnp\u001b[0m\u001b[0;34m.\u001b[0m\u001b[0marange\u001b[0m\u001b[0;34m(\u001b[0m\u001b[0mmax_epochs\u001b[0m\u001b[0;34m)\u001b[0m\u001b[0;34m:\u001b[0m\u001b[0;34m\u001b[0m\u001b[0;34m\u001b[0m\u001b[0m\n\u001b[0;32m---> 14\u001b[0;31m         \u001b[0;34m(\u001b[0m\u001b[0moptimizer\u001b[0m\u001b[0;34m,\u001b[0m \u001b[0mstate\u001b[0m\u001b[0;34m)\u001b[0m\u001b[0;34m,\u001b[0m \u001b[0mmetrics\u001b[0m\u001b[0;34m,\u001b[0m \u001b[0moutput\u001b[0m \u001b[0;34m=\u001b[0m \u001b[0mupdate_fn\u001b[0m\u001b[0;34m(\u001b[0m\u001b[0moptimizer\u001b[0m\u001b[0;34m,\u001b[0m \u001b[0mstate\u001b[0m\u001b[0;34m)\u001b[0m\u001b[0;34m\u001b[0m\u001b[0;34m\u001b[0m\u001b[0m\n\u001b[0m\u001b[1;32m     15\u001b[0m \u001b[0;34m\u001b[0m\u001b[0m\n\u001b[1;32m     16\u001b[0m         \u001b[0;32mif\u001b[0m \u001b[0mepoch\u001b[0m \u001b[0;34m%\u001b[0m \u001b[0;36m100\u001b[0m \u001b[0;34m==\u001b[0m \u001b[0;36m0\u001b[0m\u001b[0;34m:\u001b[0m\u001b[0;34m\u001b[0m\u001b[0;34m\u001b[0m\u001b[0m\n",
      "\u001b[0;32m~/anaconda3/envs/updated/lib/python3.8/site-packages/jax/_src/traceback_util.py\u001b[0m in \u001b[0;36mreraise_with_filtered_traceback\u001b[0;34m(*args, **kwargs)\u001b[0m\n\u001b[1;32m    137\u001b[0m   \u001b[0;32mdef\u001b[0m \u001b[0mreraise_with_filtered_traceback\u001b[0m\u001b[0;34m(\u001b[0m\u001b[0;34m*\u001b[0m\u001b[0margs\u001b[0m\u001b[0;34m,\u001b[0m \u001b[0;34m**\u001b[0m\u001b[0mkwargs\u001b[0m\u001b[0;34m)\u001b[0m\u001b[0;34m:\u001b[0m\u001b[0;34m\u001b[0m\u001b[0;34m\u001b[0m\u001b[0m\n\u001b[1;32m    138\u001b[0m     \u001b[0;32mtry\u001b[0m\u001b[0;34m:\u001b[0m\u001b[0;34m\u001b[0m\u001b[0;34m\u001b[0m\u001b[0m\n\u001b[0;32m--> 139\u001b[0;31m       \u001b[0;32mreturn\u001b[0m \u001b[0mfun\u001b[0m\u001b[0;34m(\u001b[0m\u001b[0;34m*\u001b[0m\u001b[0margs\u001b[0m\u001b[0;34m,\u001b[0m \u001b[0;34m**\u001b[0m\u001b[0mkwargs\u001b[0m\u001b[0;34m)\u001b[0m\u001b[0;34m\u001b[0m\u001b[0;34m\u001b[0m\u001b[0m\n\u001b[0m\u001b[1;32m    140\u001b[0m     \u001b[0;32mexcept\u001b[0m \u001b[0mException\u001b[0m \u001b[0;32mas\u001b[0m \u001b[0me\u001b[0m\u001b[0;34m:\u001b[0m\u001b[0;34m\u001b[0m\u001b[0;34m\u001b[0m\u001b[0m\n\u001b[1;32m    141\u001b[0m       \u001b[0;32mif\u001b[0m \u001b[0;32mnot\u001b[0m \u001b[0mis_under_reraiser\u001b[0m\u001b[0;34m(\u001b[0m\u001b[0me\u001b[0m\u001b[0;34m)\u001b[0m\u001b[0;34m:\u001b[0m\u001b[0;34m\u001b[0m\u001b[0;34m\u001b[0m\u001b[0m\n",
      "\u001b[0;32m~/anaconda3/envs/updated/lib/python3.8/site-packages/jax/api.py\u001b[0m in \u001b[0;36mf_jitted\u001b[0;34m(*args, **kwargs)\u001b[0m\n\u001b[1;32m    414\u001b[0m       \u001b[0;32mreturn\u001b[0m \u001b[0mcpp_jitted_f\u001b[0m\u001b[0;34m(\u001b[0m\u001b[0;34m*\u001b[0m\u001b[0margs\u001b[0m\u001b[0;34m,\u001b[0m \u001b[0;34m**\u001b[0m\u001b[0mkwargs\u001b[0m\u001b[0;34m)\u001b[0m\u001b[0;34m\u001b[0m\u001b[0;34m\u001b[0m\u001b[0m\n\u001b[1;32m    415\u001b[0m     \u001b[0;32melse\u001b[0m\u001b[0;34m:\u001b[0m\u001b[0;34m\u001b[0m\u001b[0;34m\u001b[0m\u001b[0m\n\u001b[0;32m--> 416\u001b[0;31m       \u001b[0;32mreturn\u001b[0m \u001b[0mcpp_jitted_f\u001b[0m\u001b[0;34m(\u001b[0m\u001b[0mcontext\u001b[0m\u001b[0;34m,\u001b[0m \u001b[0;34m*\u001b[0m\u001b[0margs\u001b[0m\u001b[0;34m,\u001b[0m \u001b[0;34m**\u001b[0m\u001b[0mkwargs\u001b[0m\u001b[0;34m)\u001b[0m\u001b[0;34m\u001b[0m\u001b[0;34m\u001b[0m\u001b[0m\n\u001b[0m\u001b[1;32m    417\u001b[0m   \u001b[0mf_jitted\u001b[0m\u001b[0;34m.\u001b[0m\u001b[0m_cpp_jitted_f\u001b[0m \u001b[0;34m=\u001b[0m \u001b[0mcpp_jitted_f\u001b[0m\u001b[0;34m\u001b[0m\u001b[0;34m\u001b[0m\u001b[0m\n\u001b[1;32m    418\u001b[0m \u001b[0;34m\u001b[0m\u001b[0m\n",
      "\u001b[0;32m~/anaconda3/envs/updated/lib/python3.8/site-packages/flax/struct.py\u001b[0m in \u001b[0;36mclz_from_iterable\u001b[0;34m(meta, data)\u001b[0m\n\u001b[1;32m     96\u001b[0m     \u001b[0;32mreturn\u001b[0m \u001b[0mdata\u001b[0m\u001b[0;34m,\u001b[0m \u001b[0mmeta\u001b[0m\u001b[0;34m\u001b[0m\u001b[0;34m\u001b[0m\u001b[0m\n\u001b[1;32m     97\u001b[0m \u001b[0;34m\u001b[0m\u001b[0m\n\u001b[0;32m---> 98\u001b[0;31m   \u001b[0;32mdef\u001b[0m \u001b[0mclz_from_iterable\u001b[0m\u001b[0;34m(\u001b[0m\u001b[0mmeta\u001b[0m\u001b[0;34m,\u001b[0m \u001b[0mdata\u001b[0m\u001b[0;34m)\u001b[0m\u001b[0;34m:\u001b[0m\u001b[0;34m\u001b[0m\u001b[0;34m\u001b[0m\u001b[0m\n\u001b[0m\u001b[1;32m     99\u001b[0m     \u001b[0mmeta_args\u001b[0m \u001b[0;34m=\u001b[0m \u001b[0mtuple\u001b[0m\u001b[0;34m(\u001b[0m\u001b[0mzip\u001b[0m\u001b[0;34m(\u001b[0m\u001b[0mmeta_fields\u001b[0m\u001b[0;34m,\u001b[0m \u001b[0mmeta\u001b[0m\u001b[0;34m)\u001b[0m\u001b[0;34m)\u001b[0m\u001b[0;34m\u001b[0m\u001b[0;34m\u001b[0m\u001b[0m\n\u001b[1;32m    100\u001b[0m     \u001b[0mdata_args\u001b[0m \u001b[0;34m=\u001b[0m \u001b[0mtuple\u001b[0m\u001b[0;34m(\u001b[0m\u001b[0mzip\u001b[0m\u001b[0;34m(\u001b[0m\u001b[0mdata_fields\u001b[0m\u001b[0;34m,\u001b[0m \u001b[0mdata\u001b[0m\u001b[0;34m)\u001b[0m\u001b[0;34m)\u001b[0m\u001b[0;34m\u001b[0m\u001b[0;34m\u001b[0m\u001b[0m\n",
      "\u001b[0;31mKeyboardInterrupt\u001b[0m: "
     ]
    }
   ],
   "source": [
    "train_max_iter(update_fn, optimizer, state, 5000)"
   ]
  },
  {
   "cell_type": "code",
   "execution_count": null,
   "id": "recognized-camping",
   "metadata": {},
   "outputs": [],
   "source": []
  }
 ],
 "metadata": {
  "kernelspec": {
   "display_name": "Python 3",
   "language": "python",
   "name": "python3"
  },
  "language_info": {
   "codemirror_mode": {
    "name": "ipython",
    "version": 3
   },
   "file_extension": ".py",
   "mimetype": "text/x-python",
   "name": "python",
   "nbconvert_exporter": "python",
   "pygments_lexer": "ipython3",
   "version": "3.8.3"
  }
 },
 "nbformat": 4,
 "nbformat_minor": 5
}
