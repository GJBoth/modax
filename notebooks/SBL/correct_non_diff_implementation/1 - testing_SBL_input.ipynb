{
 "cells": [
  {
   "cell_type": "markdown",
   "id": "charged-search",
   "metadata": {},
   "source": [
    "We've build an implementation, now to make sure the SBL function works."
   ]
  },
  {
   "cell_type": "code",
   "execution_count": 8,
   "id": "textile-chart",
   "metadata": {},
   "outputs": [
    {
     "name": "stdout",
     "output_type": "stream",
     "text": [
      "The autoreload extension is already loaded. To reload it, use:\n",
      "  %reload_ext autoreload\n"
     ]
    }
   ],
   "source": [
    "# %% Imports\n",
    "from jax import numpy as jnp, random\n",
    "import jax\n",
    "from modax.data.kdv import doublesoliton\n",
    "from modax.models import Deepmod\n",
    "from modax.training.utils import create_update\n",
    "from flax import optim\n",
    "\n",
    "from modax.training import train_max_iter\n",
    "from modax.training.losses.utils import precision, normal_LL\n",
    "from modax.linear_model.SBL import SBL\n",
    "\n",
    "\n",
    "from flax.core import unfreeze\n",
    "from flax.traverse_util import flatten_dict\n",
    "import matplotlib.pyplot as plt\n",
    "import seaborn as sns\n",
    "sns.set()\n",
    "\n",
    "\n",
    "%load_ext autoreload\n",
    "%autoreload 2\n",
    "\n",
    "%config InlineBackend.figure_format = 'svg'"
   ]
  },
  {
   "cell_type": "markdown",
   "id": "linear-valuable",
   "metadata": {},
   "source": [
    "# Making data"
   ]
  },
  {
   "cell_type": "code",
   "execution_count": 2,
   "id": "shared-florist",
   "metadata": {},
   "outputs": [],
   "source": [
    "key = random.PRNGKey(42)\n",
    "x = jnp.linspace(-10, 10, 100)\n",
    "t = jnp.linspace(0.1, 1.0, 10)\n",
    "t_grid, x_grid = jnp.meshgrid(t, x, indexing=\"ij\")\n",
    "u = doublesoliton(x_grid, t_grid, c=[5.0, 2.0], x0=[0.0, -5.0])\n",
    "\n",
    "X = jnp.concatenate([t_grid.reshape(-1, 1), x_grid.reshape(-1, 1)], axis=1)\n",
    "y = u.reshape(-1, 1)\n",
    "y += 0.10 * jnp.std(y) * random.normal(key, y.shape)"
   ]
  },
  {
   "cell_type": "code",
   "execution_count": 3,
   "id": "rational-warren",
   "metadata": {},
   "outputs": [],
   "source": [
    "# %% Building model and params\n",
    "model = Deepmod([30, 30, 30, 1])\n",
    "variables = model.init(key, X)\n",
    "\n",
    "state, params = variables.pop(\"params\")\n",
    "\n",
    "prediction, dt, theta, coeffs = model.apply({\"params\": params, **state}, X)\n",
    "theta_normed = theta / jnp.linalg.norm(theta, axis=0)"
   ]
  },
  {
   "cell_type": "code",
   "execution_count": 4,
   "id": "failing-borough",
   "metadata": {},
   "outputs": [],
   "source": [
    "n_samples, n_features = theta.shape\n",
    "prior_params_mse = (0.0, 0.0)\n",
    "tau = precision(y, prediction, *prior_params_mse)"
   ]
  },
  {
   "cell_type": "code",
   "execution_count": 5,
   "id": "designing-gardening",
   "metadata": {},
   "outputs": [],
   "source": [
    "alpha_prior = (1e-6, 1e-6)\n",
    "beta_prior = (n_samples / 2, n_samples / (2 * jax.lax.stop_gradient(tau)))\n",
    "hyper_prior = (alpha_prior, beta_prior)"
   ]
  },
  {
   "cell_type": "markdown",
   "id": "smaller-cream",
   "metadata": {},
   "source": [
    "# testing"
   ]
  },
  {
   "cell_type": "code",
   "execution_count": 9,
   "id": "sonic-lingerie",
   "metadata": {},
   "outputs": [
    {
     "data": {
      "text/plain": [
       "(DeviceArray(455.70856, dtype=float32),\n",
       " DeviceArray([[ 4.8159838e-02],\n",
       "              [-1.7831131e-05],\n",
       "              [ 6.5489697e-01],\n",
       "              [-8.3192805e-05],\n",
       "              [ 1.6062738e+00],\n",
       "              [ 6.3539577e-05],\n",
       "              [-6.0119817e-04],\n",
       "              [ 7.5133808e-04],\n",
       "              [-3.0716820e-04],\n",
       "              [ 4.9009838e-04],\n",
       "              [ 6.5006682e-04],\n",
       "              [-4.6149743e-04]], dtype=float32),\n",
       " DeviceArray([3.8262371e+01, 1.3062083e+03, 1.5917872e+00, 1.4582084e+03,\n",
       "              3.5256827e-01, 1.4764838e+03, 1.0433547e+03, 1.2462081e+03,\n",
       "              8.3055188e+02, 1.3493473e+03, 8.2135358e+02, 1.3354717e+03,\n",
       "              4.2957764e+00], dtype=float32),\n",
       " DeviceArray(471, dtype=int32))"
      ]
     },
     "execution_count": 9,
     "metadata": {},
     "output_type": "execute_result"
    }
   ],
   "source": [
    "SBL(theta_normed, dt, None, hyper_prior, tol=1e-5, max_iter=1000, stop_prior_grad=True)"
   ]
  },
  {
   "cell_type": "code",
   "execution_count": null,
   "id": "approximate-dylan",
   "metadata": {},
   "outputs": [],
   "source": []
  }
 ],
 "metadata": {
  "kernelspec": {
   "display_name": "Python 3",
   "language": "python",
   "name": "python3"
  },
  "language_info": {
   "codemirror_mode": {
    "name": "ipython",
    "version": 3
   },
   "file_extension": ".py",
   "mimetype": "text/x-python",
   "name": "python",
   "nbconvert_exporter": "python",
   "pygments_lexer": "ipython3",
   "version": "3.8.3"
  }
 },
 "nbformat": 4,
 "nbformat_minor": 5
}
