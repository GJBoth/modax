{
 "cells": [
  {
   "cell_type": "code",
   "execution_count": 1,
   "metadata": {},
   "outputs": [],
   "source": [
    "# %% Imports\n",
    "import jax\n",
    "from jax import random, numpy as jnp\n",
    "from flax import optim\n",
    "from modax.models import Deepmod\n",
    "from modax.training import create_update\n",
    "from modax.losses import loss_fn_mse, loss_fn_pinn\n",
    "from modax.logging import Logger\n",
    "from modax.data.burgers import burgers\n",
    "from time import time\n",
    "\n",
    "%load_ext autoreload\n",
    "%autoreload 2"
   ]
  },
  {
   "cell_type": "code",
   "execution_count": 2,
   "metadata": {},
   "outputs": [],
   "source": [
    "# Making dataset\n",
    "x = jnp.linspace(-3, 4, 100)\n",
    "t = jnp.linspace(0.5, 5.0, 20)\n",
    "\n",
    "t_grid, x_grid = jnp.meshgrid(t, x, indexing=\"ij\")\n",
    "u = burgers(x_grid, t_grid, 0.1, 1.0)\n",
    "\n",
    "X_train = jnp.concatenate([t_grid.reshape(-1, 1), x_grid.reshape(-1, 1)], axis=1)\n",
    "y_train = u.reshape(-1, 1)"
   ]
  },
  {
   "cell_type": "code",
   "execution_count": 3,
   "metadata": {},
   "outputs": [],
   "source": [
    "# Instantiating model and optimizers\n",
    "model = Deepmod(features=[50, 50, 1])\n",
    "key = random.PRNGKey(42)\n",
    "params = model.init(key, X_train)\n",
    "optimizer = optim.Adam(learning_rate=2e-3, beta1=0.99, beta2=0.99)\n",
    "optimizer = optimizer.create(params)"
   ]
  },
  {
   "cell_type": "code",
   "execution_count": 4,
   "metadata": {},
   "outputs": [],
   "source": [
    "# Compiling train step\n",
    "update = create_update(loss_fn_pinn, model=model, x=X_train, y=y_train)\n",
    "_ = update(optimizer)  # triggering compilation"
   ]
  },
  {
   "cell_type": "code",
   "execution_count": 5,
   "metadata": {},
   "outputs": [
    {
     "name": "stdout",
     "output_type": "stream",
     "text": [
      "Loss step 0: 0.053290676325559616\n",
      "Loss step 1000: 2.422910984023474e-05\n",
      "Loss step 2000: 7.069579623930622e-07\n",
      "Loss step 3000: 2.1927279192368587e-07\n",
      "Loss step 4000: 2.7093531684840855e-07\n",
      "Loss step 5000: 1.5286441623629798e-07\n",
      "Loss step 6000: 1.0731930188967453e-07\n",
      "Loss step 7000: 1.97639351995349e-07\n",
      "Loss step 8000: 9.446227977605304e-08\n",
      "Loss step 9000: 5.8184117079917996e-08\n",
      "Loss step 10000: 1.0624194857200564e-07\n",
      "15.614403247833252\n",
      "[[ 6.4229132e-03]\n",
      " [-2.1348760e-02]\n",
      " [ 5.0729265e+00]\n",
      " [ 4.2522405e-03]\n",
      " [ 6.5230890e-03]\n",
      " [-7.2715979e+00]\n",
      " [ 1.2733145e-02]\n",
      " [-3.8976349e-02]\n",
      " [-2.1299455e-02]\n",
      " [-3.7962530e-02]\n",
      " [-7.3218577e-02]\n",
      " [ 9.1348916e-02]]\n"
     ]
    }
   ],
   "source": [
    "# Running to convergence\n",
    "max_epochs = 10001\n",
    "\n",
    "t_start = time()\n",
    "logger = Logger()\n",
    "for epoch in jnp.arange(max_epochs):\n",
    "    optimizer, metrics = update(optimizer)\n",
    "    if epoch % 1000 == 0:\n",
    "        print(f\"Loss step {epoch}: {metrics['mse']}\")\n",
    "    if epoch % 100 == 0:\n",
    "        logger.write(metrics, epoch)\n",
    "t_end = time()\n",
    "logger.close()\n",
    "print(t_end - t_start)\n",
    "theta, coeffs = model.apply(optimizer.target, X_train)[2:]\n",
    "print(coeffs * jnp.linalg.norm(theta, axis=0, keepdims=True).T)"
   ]
  },
  {
   "cell_type": "code",
   "execution_count": 11,
   "metadata": {},
   "outputs": [
    {
     "data": {
      "text/plain": [
       "0"
      ]
     },
     "execution_count": 11,
     "metadata": {},
     "output_type": "execute_result"
    }
   ],
   "source": [
    "metrics['mse']"
   ]
  },
  {
   "cell_type": "code",
   "execution_count": 16,
   "metadata": {},
   "outputs": [
    {
     "name": "stdout",
     "output_type": "stream",
     "text": [
      "mse 8.819382e-08\n"
     ]
    }
   ],
   "source": [
    "\n",
    "    "
   ]
  },
  {
   "cell_type": "code",
   "execution_count": null,
   "metadata": {},
   "outputs": [],
   "source": []
  }
 ],
 "metadata": {
  "kernelspec": {
   "display_name": "Python 3",
   "language": "python",
   "name": "python3"
  },
  "language_info": {
   "codemirror_mode": {
    "name": "ipython",
    "version": 3
   },
   "file_extension": ".py",
   "mimetype": "text/x-python",
   "name": "python",
   "nbconvert_exporter": "python",
   "pygments_lexer": "ipython3",
   "version": "3.8.5"
  }
 },
 "nbformat": 4,
 "nbformat_minor": 4
}
