{
 "cells": [
  {
   "cell_type": "code",
   "execution_count": 11,
   "id": "flush-southwest",
   "metadata": {},
   "outputs": [],
   "source": [
    "from jax import random\n",
    "import jax.numpy as jnp\n",
    "from functools import partial\n",
    "import jax"
   ]
  },
  {
   "cell_type": "code",
   "execution_count": 12,
   "id": "enabling-contributor",
   "metadata": {},
   "outputs": [],
   "source": [
    "ndim = 10\n",
    "W = random.normal(random.PRNGKey(0), (ndim, ndim)) / jnp.sqrt(ndim)\n",
    "x = random.normal(random.PRNGKey(1), (ndim,))"
   ]
  },
  {
   "cell_type": "code",
   "execution_count": 13,
   "id": "absolute-nudist",
   "metadata": {},
   "outputs": [],
   "source": [
    "def fwd_solver(f, z_init):\n",
    "  z_prev, z = z_init, f(z_init)\n",
    "  while jnp.linalg.norm(z_prev - z) > 1e-5:\n",
    "    z_prev, z = z, f(z)\n",
    "  return z"
   ]
  },
  {
   "cell_type": "code",
   "execution_count": 44,
   "id": "champion-elder",
   "metadata": {},
   "outputs": [],
   "source": [
    "@partial(jax.custom_vjp, nondiff_argnums=(0, 1))\n",
    "def fixed_point_layer(solver, f, params, x):\n",
    "  z_star = solver(lambda z: f(params, x, z), z_init=jnp.zeros_like(x))\n",
    "  return z_star\n",
    "\n",
    "def fixed_point_layer_fwd(solver, f, params, x):\n",
    "  z_star = fixed_point_layer(solver, f, params, x)\n",
    "  return z_star, (params, x, z_star)\n",
    "\n",
    "def fixed_point_layer_bwd(solver, f, res, z_star_bar):\n",
    "  params, x, z_star = res\n",
    "  print(z_star_bar.shape)\n",
    "  _, vjp_a = jax.vjp(lambda params, x: f(params, x, z_star), params, x)\n",
    "  _, vjp_z = jax.vjp(lambda z: f(params, x, z), z_star)\n",
    "  return vjp_a(solver(lambda u: vjp_z(u)[0] + z_star_bar,\n",
    "                      z_init=jnp.zeros_like(z_star)))\n",
    "\n",
    "fixed_point_layer.defvjp(fixed_point_layer_fwd, fixed_point_layer_bwd)"
   ]
  },
  {
   "cell_type": "code",
   "execution_count": 45,
   "id": "operating-asset",
   "metadata": {},
   "outputs": [],
   "source": [
    "f = lambda W, x, z: jnp.tanh(jnp.dot(W, z) + x)"
   ]
  },
  {
   "cell_type": "code",
   "execution_count": 46,
   "id": "frank-climb",
   "metadata": {},
   "outputs": [
    {
     "name": "stdout",
     "output_type": "stream",
     "text": [
      "(10,)\n",
      "[ 0.00752357 -0.8125729  -1.1404755  -0.04860361 -0.7125366  -0.55805445\n",
      "  0.6697886   1.1068368  -0.09697603  0.97840637]\n"
     ]
    }
   ],
   "source": [
    "g = jax.grad(lambda W: fixed_point_layer(fwd_solver, f, W, x).sum())(W)\n",
    "print(g[0])"
   ]
  },
  {
   "cell_type": "code",
   "execution_count": 47,
   "id": "appreciated-banana",
   "metadata": {},
   "outputs": [
    {
     "name": "stdout",
     "output_type": "stream",
     "text": [
      "(10,)\n",
      "[ 0.00373198 -0.40306717 -0.5657194  -0.02410925 -0.35344535 -0.2768163\n",
      "  0.33224073  0.54903334 -0.04810381  0.48532692]\n"
     ]
    }
   ],
   "source": [
    "g = jax.grad(lambda W: fixed_point_layer(fwd_solver, f, W, x)[0])(W)\n",
    "print(g[0])"
   ]
  },
  {
   "cell_type": "code",
   "execution_count": 49,
   "id": "ethical-fight",
   "metadata": {},
   "outputs": [
    {
     "data": {
      "text/plain": [
       "DeviceArray([ 0.00649604, -0.7015957 , -0.98471504, -0.04196557,\n",
       "             -0.61522186, -0.48183814,  0.5783122 ,  0.95567054,\n",
       "             -0.08373152,  0.8447805 ], dtype=float32)"
      ]
     },
     "execution_count": 49,
     "metadata": {},
     "output_type": "execute_result"
    }
   ],
   "source": [
    "z_star = fixed_point_layer(fwd_solver, f, W, x)\n",
    "z_star"
   ]
  },
  {
   "cell_type": "markdown",
   "id": "imperial-plane",
   "metadata": {},
   "source": [
    "Let's see if we can deconstruct the backwards function:"
   ]
  },
  {
   "cell_type": "code",
   "execution_count": 55,
   "id": "noble-contest",
   "metadata": {},
   "outputs": [],
   "source": [
    "z_star_bar = jnp.zeros((10, ))\n",
    "z_star_bar = jax.ops.index_update(z_star_bar, 0, 1)"
   ]
  },
  {
   "cell_type": "code",
   "execution_count": 56,
   "id": "major-welsh",
   "metadata": {},
   "outputs": [],
   "source": [
    "_, vjp_a = jax.vjp(lambda W, x: f(W, x, z_star), W, x)\n",
    "_, vjp_z = jax.vjp(lambda z: f(W, x, z), z_star)"
   ]
  },
  {
   "cell_type": "code",
   "execution_count": 65,
   "id": "included-conversation",
   "metadata": {},
   "outputs": [],
   "source": [
    "u = fwd_solver(lambda u: vjp_z(u)[0] + z_star_bar,\n",
    "                      z_init=jnp.zeros_like(z_star))\n",
    "g = vjp_a(u)"
   ]
  },
  {
   "cell_type": "code",
   "execution_count": 67,
   "id": "welcome-james",
   "metadata": {},
   "outputs": [
    {
     "data": {
      "text/plain": [
       "DeviceArray([ 0.00373198, -0.40306717, -0.5657194 , -0.02410925,\n",
       "             -0.35344535, -0.2768163 ,  0.33224073,  0.54903334,\n",
       "             -0.04810381,  0.48532692], dtype=float32)"
      ]
     },
     "execution_count": 67,
     "metadata": {},
     "output_type": "execute_result"
    }
   ],
   "source": [
    "g[0][0]"
   ]
  },
  {
   "cell_type": "code",
   "execution_count": 70,
   "id": "following-closure",
   "metadata": {},
   "outputs": [
    {
     "data": {
      "text/plain": [
       "DeviceArray([ 0.5745249 ,  0.23003381,  0.25346488, -0.03544246,\n",
       "             -0.3168217 ,  0.12168527, -0.00903781,  0.01450401,\n",
       "             -0.022818  , -0.15082248], dtype=float32)"
      ]
     },
     "execution_count": 70,
     "metadata": {},
     "output_type": "execute_result"
    }
   ],
   "source": [
    "u"
   ]
  },
  {
   "cell_type": "code",
   "execution_count": 73,
   "id": "dying-belle",
   "metadata": {},
   "outputs": [
    {
     "data": {
      "text/plain": [
       "(10,)"
      ]
     },
     "execution_count": 73,
     "metadata": {},
     "output_type": "execute_result"
    }
   ],
   "source": [
    "z_star.shape"
   ]
  },
  {
   "cell_type": "code",
   "execution_count": 77,
   "id": "thousand-replication",
   "metadata": {},
   "outputs": [],
   "source": [
    "u_diff = jnp.linalg.inv(jnp.eye(z_star.shape[0]) - jax.jacobian(lambda z: f(W, x, z))(z_star))"
   ]
  },
  {
   "cell_type": "code",
   "execution_count": 80,
   "id": "sustained-delay",
   "metadata": {},
   "outputs": [
    {
     "data": {
      "text/plain": [
       "DeviceArray([ 0.5745274 ,  0.23003279,  0.25346458, -0.03544248,\n",
       "             -0.31682113,  0.12168445, -0.00903799,  0.01450502,\n",
       "             -0.02281865, -0.15082209], dtype=float32)"
      ]
     },
     "execution_count": 80,
     "metadata": {},
     "output_type": "execute_result"
    }
   ],
   "source": [
    "jnp.dot(z_star_bar, u_diff)"
   ]
  },
  {
   "cell_type": "code",
   "execution_count": 79,
   "id": "hundred-damages",
   "metadata": {},
   "outputs": [
    {
     "data": {
      "text/plain": [
       "DeviceArray([[ 5.74527383e-01,  2.30032787e-01,  2.53464580e-01,\n",
       "              -3.54424752e-02, -3.16821128e-01,  1.21684454e-01,\n",
       "              -9.03799478e-03,  1.45050213e-02, -2.28186548e-02,\n",
       "              -1.50822088e-01],\n",
       "             [-9.71050113e-02,  7.36825943e-01,  1.18140623e-01,\n",
       "               1.05652541e-01, -7.06935301e-02,  6.67412132e-02,\n",
       "              -6.45479113e-02, -1.28294125e-01, -1.40098333e-01,\n",
       "              -6.30238801e-02],\n",
       "             [-1.20770314e-03,  1.17540210e-02,  1.00734746e+00,\n",
       "               7.36990338e-03, -4.77466546e-03,  5.61290048e-03,\n",
       "              -1.75211253e-03, -1.20259523e-02,  3.17129446e-03,\n",
       "              -2.04873439e-02],\n",
       "             [ 3.46762180e-01, -3.00977588e-01,  7.59065747e-02,\n",
       "               1.07281601e+00, -3.88183624e-01,  1.43041372e-01,\n",
       "               1.48075059e-01, -3.79792005e-01,  3.34723443e-01,\n",
       "              -3.19274127e-01],\n",
       "             [ 1.71978116e-01, -2.26782054e-01,  1.48526236e-01,\n",
       "               3.96907628e-01,  1.34232533e+00,  3.05539101e-01,\n",
       "               5.88044897e-02, -3.46090317e-01, -2.91933250e-02,\n",
       "               9.05554667e-02],\n",
       "             [ 1.85879506e-02,  1.40794396e-01,  4.25092906e-01,\n",
       "               2.34955978e-02, -2.31523544e-01,  9.08179879e-01,\n",
       "               1.41963828e-02,  4.57895190e-01,  3.38496384e-03,\n",
       "              -1.98958486e-01],\n",
       "             [ 1.27283856e-01,  1.96477205e-01,  2.08952308e-01,\n",
       "               4.01925147e-01, -3.24848555e-02,  4.29595709e-01,\n",
       "               1.11421049e+00, -9.93522233e-04,  1.12514365e-02,\n",
       "               1.91774979e-01],\n",
       "             [-9.01837740e-03, -3.85499932e-03,  2.39305627e-02,\n",
       "               2.10337844e-02,  1.88658684e-02, -1.42377093e-02,\n",
       "               6.88569201e-03,  1.02438819e+00, -2.75526308e-02,\n",
       "               1.85783510e-03],\n",
       "             [ 7.84916729e-02,  1.39335319e-01,  1.35004362e-02,\n",
       "              -1.59172520e-01, -7.37430751e-02, -3.54945436e-02,\n",
       "              -9.21519622e-02,  2.19323516e-01,  7.05299318e-01,\n",
       "               8.87043998e-02],\n",
       "             [-5.20699695e-02, -1.58841565e-01, -1.48137227e-01,\n",
       "              -3.90687697e-02,  1.41432017e-01, -1.04059547e-01,\n",
       "              -7.18938559e-02,  2.09731370e-01,  8.57385471e-02,\n",
       "               1.02615249e+00]], dtype=float32)"
      ]
     },
     "execution_count": 79,
     "metadata": {},
     "output_type": "execute_result"
    }
   ],
   "source": [
    "u_diff"
   ]
  },
  {
   "cell_type": "code",
   "execution_count": null,
   "id": "colonial-maine",
   "metadata": {},
   "outputs": [],
   "source": []
  }
 ],
 "metadata": {
  "kernelspec": {
   "display_name": "Python 3",
   "language": "python",
   "name": "python3"
  },
  "language_info": {
   "codemirror_mode": {
    "name": "ipython",
    "version": 3
   },
   "file_extension": ".py",
   "mimetype": "text/x-python",
   "name": "python",
   "nbconvert_exporter": "python",
   "pygments_lexer": "ipython3",
   "version": "3.8.3"
  }
 },
 "nbformat": 4,
 "nbformat_minor": 5
}
