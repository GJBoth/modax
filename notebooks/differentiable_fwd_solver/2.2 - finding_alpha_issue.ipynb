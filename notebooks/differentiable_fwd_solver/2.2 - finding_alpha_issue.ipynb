{
 "cells": [
  {
   "cell_type": "markdown",
   "id": "controlling-bangladesh",
   "metadata": {},
   "source": [
    "We know that the issue is in the custom backprop, so that gives us two lines to focus in one. Let's deconstruct the SBl function so we get the prior and manually figure out which operation is messing it up."
   ]
  },
  {
   "cell_type": "code",
   "execution_count": 1,
   "id": "differential-beatles",
   "metadata": {},
   "outputs": [],
   "source": [
    "# %% Imports\n",
    "from jax import numpy as jnp, random\n",
    "import jax\n",
    "\n",
    "from modax.data.kdv import doublesoliton\n",
    "from modax.models import Deepmod\n",
    "from modax.training.utils import create_update\n",
    "from flax import optim\n",
    "from modax.training import train_max_iter\n",
    "from modax.training.losses.utils import precision, normal_LL\n",
    "\n",
    "\n",
    "from forward_solver import fixed_point_solver_explicit, fixed_point_solver_implicit, fwd_solver\n",
    "from SBL import update, evidence, SBL\n",
    "import matplotlib.pyplot as plt\n",
    "\n",
    "%load_ext autoreload\n",
    "%autoreload 2"
   ]
  },
  {
   "cell_type": "markdown",
   "id": "breeding-links",
   "metadata": {},
   "source": [
    "Lets first create some fake input the neural network:"
   ]
  },
  {
   "cell_type": "markdown",
   "id": "optical-airfare",
   "metadata": {},
   "source": [
    "# test data"
   ]
  },
  {
   "cell_type": "code",
   "execution_count": 2,
   "id": "dimensional-episode",
   "metadata": {},
   "outputs": [],
   "source": [
    "key = random.PRNGKey(42)\n",
    "x = jnp.linspace(-10, 10, 100)\n",
    "t = jnp.linspace(0.1, 1.0, 10)\n",
    "t_grid, x_grid = jnp.meshgrid(t, x, indexing=\"ij\")\n",
    "u = doublesoliton(x_grid, t_grid, c=[5.0, 2.0], x0=[0.0, -5.0])\n",
    "\n",
    "X = jnp.concatenate([t_grid.reshape(-1, 1), x_grid.reshape(-1, 1)], axis=1)\n",
    "y = u.reshape(-1, 1)\n",
    "y += 0.10 * jnp.std(y) * random.normal(key, y.shape)"
   ]
  },
  {
   "cell_type": "code",
   "execution_count": 3,
   "id": "radical-smell",
   "metadata": {},
   "outputs": [],
   "source": [
    "# %% Building model and params\n",
    "model = Deepmod([30, 30, 30, 1])\n",
    "variables = model.init(key, X)\n",
    "\n",
    "prediction, dt, theta, coeffs = model.apply(variables, X)"
   ]
  },
  {
   "cell_type": "code",
   "execution_count": 4,
   "id": "realistic-combat",
   "metadata": {},
   "outputs": [],
   "source": [
    "n_samples, n_features = theta.shape\n",
    "prior_params_mse = (0.0, 0.0)\n",
    "tau = precision(y, prediction, *prior_params_mse)"
   ]
  },
  {
   "cell_type": "code",
   "execution_count": 5,
   "id": "linear-denial",
   "metadata": {},
   "outputs": [],
   "source": [
    "alpha_prior = (1e-6, 1e-6)\n",
    "beta_prior = (n_samples / 2, n_samples / (jax.lax.stop_gradient(tau)))\n",
    "hyper_prior = (alpha_prior, beta_prior)"
   ]
  },
  {
   "cell_type": "markdown",
   "id": "antique-europe",
   "metadata": {},
   "source": [
    "# Baseline"
   ]
  },
  {
   "cell_type": "code",
   "execution_count": 6,
   "id": "linear-advantage",
   "metadata": {},
   "outputs": [],
   "source": [
    "n_samples, n_features = theta.shape"
   ]
  },
  {
   "cell_type": "code",
   "execution_count": 7,
   "id": "creative-packet",
   "metadata": {},
   "outputs": [],
   "source": [
    "prior_init = jnp.ones((n_features + 1,))\n",
    "prior_init = jax.ops.index_update(\n",
    "        prior_init, n_features, 1 / (jnp.var(dt) + 1e-6)) \n",
    "#prior_init = jnp.concatenate([prior_init, jnp.ones((n_features,))], axis=0)\n"
   ]
  },
  {
   "cell_type": "code",
   "execution_count": 8,
   "id": "interracial-appeal",
   "metadata": {},
   "outputs": [],
   "source": [
    "gram = jnp.dot(theta.T, theta)\n",
    "XT_y = jnp.dot(theta.T, dt)"
   ]
  },
  {
   "cell_type": "code",
   "execution_count": 10,
   "id": "advanced-calendar",
   "metadata": {},
   "outputs": [],
   "source": [
    "with jax.disable_jit():\n",
    "    prior_params, iterations = fixed_point_solver_explicit(\n",
    "        update,\n",
    "        (theta, dt, gram, XT_y, hyper_prior),\n",
    "        prior_init,\n",
    "        lambda z_prev, z: True,\n",
    "        max_iter=2000)"
   ]
  },
  {
   "cell_type": "markdown",
   "id": "flush-appointment",
   "metadata": {},
   "source": [
    "Let's check if we have a decent minimum:"
   ]
  },
  {
   "cell_type": "code",
   "execution_count": 22,
   "id": "periodic-laugh",
   "metadata": {},
   "outputs": [
    {
     "data": {
      "text/plain": [
       "DeviceArray([-1.4501247e-12, -3.4814569e-08,  1.9314452e-09,\n",
       "              1.5473245e-09, -9.7549560e-09,  2.7867371e-09,\n",
       "              2.8886293e-09, -3.9100545e-10,  1.1769790e-09,\n",
       "              8.5388621e-09, -3.7124970e-09, -4.0797605e-09,\n",
       "              1.5258789e-05], dtype=float32)"
      ]
     },
     "execution_count": 22,
     "metadata": {},
     "output_type": "execute_result"
    }
   ],
   "source": [
    "jax.grad(lambda a: evidence(theta, dt, gram, XT_y, a, hyper_prior)[0])(prior_params)"
   ]
  },
  {
   "cell_type": "markdown",
   "id": "seventh-yukon",
   "metadata": {},
   "source": [
    "So yes its a proper minimum. Now if we calculate the derivative of alpha w.r.t to the rest:"
   ]
  },
  {
   "cell_type": "code",
   "execution_count": 12,
   "id": "residential-trademark",
   "metadata": {},
   "outputs": [],
   "source": [
    "with jax.disable_jit():\n",
    "    explicit_grad = jax.grad(lambda x: fixed_point_solver_explicit(\n",
    "    update,\n",
    "    (x, dt, gram, XT_y, (alpha_prior, beta_prior)),\n",
    "    prior_init,\n",
    "    lambda z_prev, z: True,\n",
    "    max_iter=2000)[0][0])(theta)"
   ]
  },
  {
   "cell_type": "code",
   "execution_count": 13,
   "id": "conditional-scout",
   "metadata": {},
   "outputs": [
    {
     "data": {
      "text/plain": [
       "DeviceArray([ 5.9304049e-04, -2.1750495e-06,  1.0385219e-02,\n",
       "             -1.2006798e-05,  1.5026473e-01,  8.7360866e-05,\n",
       "             -4.8979324e-05,  1.2004944e-04,  4.6569319e-05,\n",
       "              1.2302976e-04,  1.1448472e-04, -7.0657217e-05],            dtype=float32)"
      ]
     },
     "execution_count": 13,
     "metadata": {},
     "output_type": "execute_result"
    }
   ],
   "source": [
    "explicit_grad[0, :]"
   ]
  },
  {
   "cell_type": "code",
   "execution_count": 14,
   "id": "artistic-recipe",
   "metadata": {},
   "outputs": [
    {
     "data": {
      "text/plain": [
       "DeviceArray([ 9.76562500e-03,  4.89866943e+01,  0.00000000e+00,\n",
       "             -1.20390625e+01,  2.38418579e-07, -2.06573486e-01,\n",
       "             -5.52230835e-01,  1.72668457e-01, -1.38168335e-01,\n",
       "             -3.54404449e-02,  1.56177521e-01,  4.04167175e-02,\n",
       "             -2.38418579e-07], dtype=float32)"
      ]
     },
     "execution_count": 14,
     "metadata": {},
     "output_type": "execute_result"
    }
   ],
   "source": [
    "prior_params - update(prior_params, theta, dt, gram, XT_y, hyper_prior)"
   ]
  },
  {
   "cell_type": "markdown",
   "id": "proper-emphasis",
   "metadata": {},
   "source": [
    "Okay so we have the gradient using the explicit method - let's try and get the "
   ]
  },
  {
   "cell_type": "code",
   "execution_count": 23,
   "id": "clean-smith",
   "metadata": {},
   "outputs": [],
   "source": [
    "_, vjp_z = jax.vjp(lambda z: update(z, theta, dt, gram, XT_y, hyper_prior), prior_params)\n",
    "_, vjp_a = jax.vjp(lambda x: update(prior_params, x, dt, gram, XT_y, hyper_prior), theta)"
   ]
  },
  {
   "cell_type": "code",
   "execution_count": 24,
   "id": "processed-recipe",
   "metadata": {},
   "outputs": [],
   "source": [
    "z_star_bar = jnp.ones_like(prior_params)\n",
    "z_star_bar = jax.ops.index_update(z_star_bar, 0, 1)"
   ]
  },
  {
   "cell_type": "code",
   "execution_count": 25,
   "id": "little-tourism",
   "metadata": {},
   "outputs": [],
   "source": [
    "temp, its = fwd_solver(lambda u: vjp_z(u)[0] + z_star_bar,\n",
    "        jnp.zeros_like(prior_params),\n",
    "        lambda z_prev, z: jnp.linalg.norm(z - z_prev) > 1e-6,\n",
    "        max_iter=2000,\n",
    "    )"
   ]
  },
  {
   "cell_type": "code",
   "execution_count": 26,
   "id": "institutional-printing",
   "metadata": {},
   "outputs": [
    {
     "data": {
      "text/plain": [
       "DeviceArray(2000, dtype=int32)"
      ]
     },
     "execution_count": 26,
     "metadata": {},
     "output_type": "execute_result"
    }
   ],
   "source": [
    "its"
   ]
  },
  {
   "cell_type": "code",
   "execution_count": 27,
   "id": "photographic-listing",
   "metadata": {},
   "outputs": [
    {
     "data": {
      "text/plain": [
       "DeviceArray([ 8.22197122e-04, -2.94798042e-06,  1.43981995e-02,\n",
       "             -1.66622140e-05,  2.08328426e-01,  1.21292534e-04,\n",
       "             -6.80181474e-05,  1.66412952e-04,  6.46140252e-05,\n",
       "              1.71060718e-04,  1.58225201e-04, -9.78130047e-05],            dtype=float32)"
      ]
     },
     "execution_count": 27,
     "metadata": {},
     "output_type": "execute_result"
    }
   ],
   "source": [
    "vjp_a(temp)[0][0]"
   ]
  },
  {
   "cell_type": "markdown",
   "id": "unauthorized-sunday",
   "metadata": {},
   "source": [
    "Okay so it goes wrong in the first vjp. Let's check that out a little and then manually perform the calculation?"
   ]
  },
  {
   "cell_type": "code",
   "execution_count": 43,
   "id": "ancient-treaty",
   "metadata": {},
   "outputs": [
    {
     "name": "stdout",
     "output_type": "stream",
     "text": [
      "[1. 1. 1. 1. 1. 1. 1. 1. 1. 1. 1. 1. 1.]\n",
      "[ 2.2745152e+00  1.1691406e+01 -2.1374512e+02  3.7730026e-01\n",
      " -9.4501680e+03  4.6166992e-01  4.7656250e-01  5.6365967e-01\n",
      "  5.1293945e-01  5.8007812e-01  5.7519531e-01  5.1513672e-01\n",
      "  4.4797192e+02]\n",
      "[ 2.2726221e+00  2.7458594e+02 -2.1399780e+02 -4.1478882e+00\n",
      " -9.4632734e+03 -1.6015625e+00 -3.6181641e-01  5.0781250e-02\n",
      "  5.3503418e-01 -3.5156250e-01  4.4042969e-01  5.6640625e-02\n",
      " -1.4795292e+05]\n",
      "[ 2.22604847e+00  6.71450000e+03 -2.20035889e+02 -1.13640625e+02\n",
      " -9.78062793e+03 -5.21875000e+01 -2.08632812e+01 -1.25380859e+01\n",
      "  1.10690308e+00 -2.30625000e+01 -2.89843750e+00 -1.12656250e+01\n",
      " -3.78761050e+06]\n",
      "[ 1.0856447e+00  1.6440900e+05 -3.6791431e+02 -2.7953438e+03\n",
      " -1.7552887e+04 -1.2910000e+03 -5.2287500e+02 -3.2093750e+02\n",
      "  1.5109375e+01 -5.8300000e+02 -8.4500000e+01 -2.8850000e+02\n",
      " -9.2917520e+07]\n",
      "[-2.6852421e+01  4.0272650e+06 -3.9896338e+03 -6.8477750e+04\n",
      " -2.0790072e+05 -3.1623000e+04 -1.2827000e+04 -7.8755000e+03\n",
      "  3.5775000e+02 -1.4175000e+04 -2.0910000e+03 -7.0710000e+03\n",
      " -2.2764562e+09]\n",
      "[-7.1106842e+02  9.8635776e+07 -9.2686562e+04 -1.6773430e+06\n",
      " -4.8724555e+06 -7.7414300e+05 -3.1411100e+05 -1.9284700e+05\n",
      "  8.7430000e+03 -3.4611100e+05 -5.1007000e+04 -1.7369500e+05\n",
      " -5.5751762e+10]\n",
      "[-1.7468283e+04  2.4155259e+09 -2.2651140e+06 -4.1078016e+07\n",
      " -1.1901499e+08 -1.8980864e+07 -7.6963830e+06 -4.7247350e+06\n",
      "  2.1452900e+05 -8.5196790e+06 -1.2554230e+06 -4.2393590e+06\n",
      " -1.3654099e+12]\n",
      "[-4.2790038e+05  5.9169047e+10 -5.5466960e+07 -1.0060022e+09\n",
      " -2.9164820e+09 -4.6438810e+08 -1.8841600e+08 -1.1567923e+08\n",
      "  5.2469770e+06 -2.0814234e+08 -3.0670848e+07 -1.0400563e+08\n",
      " -3.3443528e+13]\n",
      "[-1.0478667e+07  1.4489810e+12 -1.3589443e+09 -2.4640094e+10\n",
      " -7.1406330e+10 -1.1362370e+10 -4.6116372e+09 -2.8327281e+09\n",
      "  1.2858163e+08 -5.1170509e+09 -7.5182899e+08 -2.5438454e+09\n",
      " -8.1899268e+14]\n"
     ]
    }
   ],
   "source": [
    "u = jnp.zeros_like(prior_params)\n",
    "for idx in jnp.arange(1000):\n",
    "    u = vjp_z(u)[0] + z_star_bar\n",
    "    if idx % 100 == 0:\n",
    "        print(u)"
   ]
  },
  {
   "cell_type": "markdown",
   "id": "placed-charter",
   "metadata": {},
   "source": [
    "Ah so the forward pass overflows... So we know the cause of the Nan. Now to figure out if we do it manually if that also happens"
   ]
  },
  {
   "cell_type": "code",
   "execution_count": 28,
   "id": "amazing-separation",
   "metadata": {},
   "outputs": [
    {
     "data": {
      "text/plain": [
       "(13,)"
      ]
     },
     "execution_count": 28,
     "metadata": {},
     "output_type": "execute_result"
    }
   ],
   "source": [
    "prior_params.shape"
   ]
  },
  {
   "cell_type": "code",
   "execution_count": 29,
   "id": "rolled-penetration",
   "metadata": {},
   "outputs": [],
   "source": [
    "df1 = jax.jacobian(lambda z: update(z, theta, dt, gram, XT_y, hyper_prior))(prior_params)"
   ]
  },
  {
   "cell_type": "code",
   "execution_count": 30,
   "id": "enabling-harvest",
   "metadata": {},
   "outputs": [],
   "source": [
    "part_1 = jnp.linalg.inv(jnp.eye(n_features + 1) - df1)"
   ]
  },
  {
   "cell_type": "code",
   "execution_count": 31,
   "id": "wireless-rwanda",
   "metadata": {},
   "outputs": [
    {
     "data": {
      "text/plain": [
       "DeviceArray([ 2.2745795e+00,  5.1115566e-01, -2.1373224e+02,\n",
       "              5.0480503e-01, -9.4496387e+03,  5.4992807e-01,\n",
       "              5.1060414e-01,  5.8732212e-01,  5.1091862e-01,\n",
       "              6.1729109e-01,  5.8454955e-01,  5.3762561e-01,\n",
       "              7.0027075e+03], dtype=float32)"
      ]
     },
     "execution_count": 31,
     "metadata": {},
     "output_type": "execute_result"
    }
   ],
   "source": [
    "jnp.dot(z_star_bar, part_1)"
   ]
  },
  {
   "cell_type": "code",
   "execution_count": 32,
   "id": "dynamic-citation",
   "metadata": {},
   "outputs": [
    {
     "data": {
      "text/plain": [
       "DeviceArray([ 8.22147238e-04, -2.94780170e-06,  1.43973269e-02,\n",
       "             -1.66612044e-05,  2.08315805e-01,  1.21285186e-04,\n",
       "             -6.80140220e-05,  1.66402868e-04,  6.46101107e-05,\n",
       "              1.71050357e-04,  1.58215611e-04, -9.78070748e-05],            dtype=float32)"
      ]
     },
     "execution_count": 32,
     "metadata": {},
     "output_type": "execute_result"
    }
   ],
   "source": [
    "vjp_a(jnp.dot(z_star_bar, part_1))[0][0]"
   ]
  },
  {
   "cell_type": "markdown",
   "id": "interested-correlation",
   "metadata": {},
   "source": [
    "Okay so it sort of works now? Let's try to run it with more iterations:"
   ]
  },
  {
   "cell_type": "code",
   "execution_count": 33,
   "id": "private-algorithm",
   "metadata": {},
   "outputs": [],
   "source": [
    "prior_params, iterations = fixed_point_solver_implicit(\n",
    "        update,\n",
    "        (theta, dt, gram, XT_y, hyper_prior),\n",
    "        prior_init,\n",
    "        lambda z_prev, z: True,\n",
    "        max_iter=2000)"
   ]
  },
  {
   "cell_type": "code",
   "execution_count": 35,
   "id": "informational-communist",
   "metadata": {},
   "outputs": [],
   "source": [
    "implicit_grad = jax.grad(lambda x: fixed_point_solver_implicit(\n",
    "    update,\n",
    "    (x, dt, gram, XT_y, hyper_prior),\n",
    "    prior_init,\n",
    "    lambda z_prev, z: True,\n",
    "    max_iter=2000)[0][0])(theta)"
   ]
  },
  {
   "cell_type": "code",
   "execution_count": 38,
   "id": "endangered-surrey",
   "metadata": {},
   "outputs": [
    {
     "data": {
      "text/plain": [
       "DeviceArray([ 5.9302652e-04, -2.1347544e-06,  1.0384984e-02,\n",
       "             -1.2017539e-05,  1.5026113e-01,  8.7480963e-05,\n",
       "             -4.9051800e-05,  1.2005517e-04,  4.6546993e-05,\n",
       "              1.2213958e-04,  1.1453994e-04, -7.0109163e-05],            dtype=float32)"
      ]
     },
     "execution_count": 38,
     "metadata": {},
     "output_type": "execute_result"
    }
   ],
   "source": [
    "implicit_grad[0]"
   ]
  },
  {
   "cell_type": "markdown",
   "id": "after-inspiration",
   "metadata": {},
   "source": [
    "So it works? Fuck me. Let's plot the derivative as a function of iterations"
   ]
  },
  {
   "cell_type": "code",
   "execution_count": 69,
   "id": "established-republican",
   "metadata": {},
   "outputs": [],
   "source": [
    "da0 = [jax.value_and_grad(lambda x: fixed_point_solver_implicit(\n",
    "    update,\n",
    "    (x, dt, gram, XT_y, hyper_prior),\n",
    "    prior_init,\n",
    "    lambda z_prev, z: True,\n",
    "    max_iter=its)[0].sum())(theta) for its in jnp.arange(100, 2001, 100)]"
   ]
  },
  {
   "cell_type": "code",
   "execution_count": 81,
   "id": "inner-rates",
   "metadata": {},
   "outputs": [
    {
     "data": {
      "text/plain": [
       "DeviceArray(nan, dtype=float32)"
      ]
     },
     "execution_count": 81,
     "metadata": {},
     "output_type": "execute_result"
    }
   ],
   "source": [
    "da0[0][1].sum()"
   ]
  },
  {
   "cell_type": "code",
   "execution_count": 91,
   "id": "constitutional-bible",
   "metadata": {},
   "outputs": [
    {
     "data": {
      "text/plain": [
       "[<matplotlib.lines.Line2D at 0x7f341c578910>]"
      ]
     },
     "execution_count": 91,
     "metadata": {},
     "output_type": "execute_result"
    },
    {
     "data": {
      "image/png": "[encoded data removed]",
      "text/plain": [
       "<Figure size 432x288 with 1 Axes>"
      ]
     },
     "metadata": {
      "needs_background": "light"
     },
     "output_type": "display_data"
    }
   ],
   "source": [
    "plt.plot([x[0] for x in da0])\n",
    "#plt.semilogy([x[1].sum() for x in da0])\n"
   ]
  },
  {
   "cell_type": "code",
   "execution_count": 111,
   "id": "changing-quebec",
   "metadata": {},
   "outputs": [
    {
     "data": {
      "text/plain": [
       "DeviceArray([ 5.4155453e-04, -1.9167999e-06,  9.4835712e-03,\n",
       "             -1.0984602e-05,  1.3721892e-01,  7.9632839e-05,\n",
       "             -4.4852604e-05,  1.0960905e-04,  4.2508214e-05,\n",
       "              1.1320165e-04,  1.0525882e-04, -6.4459644e-05],            dtype=float32)"
      ]
     },
     "execution_count": 111,
     "metadata": {},
     "output_type": "execute_result"
    }
   ],
   "source": [
    "jax.grad(lambda x: fixed_point_solver_implicit(\n",
    "    update,\n",
    "    (x, dt, gram, XT_y, hyper_prior),\n",
    "    prior_init,\n",
    "    lambda z_prev, z: True,\n",
    "    max_iter=1000)[0][0])(theta)[1]"
   ]
  },
  {
   "cell_type": "code",
   "execution_count": null,
   "id": "olympic-daughter",
   "metadata": {},
   "outputs": [],
   "source": [
    "jax.value_and_grad()"
   ]
  },
  {
   "cell_type": "code",
   "execution_count": 57,
   "id": "minute-definition",
   "metadata": {},
   "outputs": [
    {
     "data": {
      "text/plain": [
       "DeviceArray([ 500,  600,  700,  800,  900, 1000, 1100, 1200, 1300, 1400,\n",
       "             1500, 1600, 1700, 1800, 1900, 2000], dtype=int32)"
      ]
     },
     "execution_count": 57,
     "metadata": {},
     "output_type": "execute_result"
    }
   ],
   "source": [
    "jnp.arange(500, 2001, 100)"
   ]
  },
  {
   "cell_type": "code",
   "execution_count": 61,
   "id": "respiratory-evaluation",
   "metadata": {},
   "outputs": [
    {
     "data": {
      "text/plain": [
       "[DeviceArray(nan, dtype=float32),\n",
       " DeviceArray(nan, dtype=float32),\n",
       " DeviceArray(nan, dtype=float32),\n",
       " DeviceArray(-4.7063775e+14, dtype=float32),\n",
       " DeviceArray(0.00058655, dtype=float32),\n",
       " DeviceArray(0.00059303, dtype=float32),\n",
       " DeviceArray(0.00059304, dtype=float32),\n",
       " DeviceArray(0.00059305, dtype=float32),\n",
       " DeviceArray(0.00059306, dtype=float32),\n",
       " DeviceArray(0.00059305, dtype=float32),\n",
       " DeviceArray(0.00059305, dtype=float32),\n",
       " DeviceArray(0.00059304, dtype=float32),\n",
       " DeviceArray(0.00059304, dtype=float32),\n",
       " DeviceArray(0.00059304, dtype=float32),\n",
       " DeviceArray(0.00059303, dtype=float32),\n",
       " DeviceArray(0.00059303, dtype=float32),\n",
       " DeviceArray(0.00059304, dtype=float32),\n",
       " DeviceArray(0.00059304, dtype=float32),\n",
       " DeviceArray(0.00059305, dtype=float32),\n",
       " DeviceArray(0.00059303, dtype=float32)]"
      ]
     },
     "execution_count": 61,
     "metadata": {},
     "output_type": "execute_result"
    }
   ],
   "source": [
    "da0"
   ]
  },
  {
   "cell_type": "code",
   "execution_count": 53,
   "id": "opening-creator",
   "metadata": {},
   "outputs": [
    {
     "data": {
      "text/plain": [
       "DeviceArray([[ 2.11049104e-04, -7.59726561e-07,  3.69585771e-03, ...,\n",
       "               4.34676149e-05,  4.07630178e-05, -2.49507812e-05],\n",
       "             [ 1.92724285e-04, -6.93761535e-07,  3.37495655e-03, ...,\n",
       "               3.96934411e-05,  3.72236755e-05, -2.27843720e-05],\n",
       "             [ 1.73356908e-04, -6.24043594e-07,  3.03579820e-03, ...,\n",
       "               3.57045428e-05,  3.34829674e-05, -2.04947100e-05],\n",
       "             ...,\n",
       "             [ 5.36452513e-04, -1.93110145e-06,  9.39426944e-03, ...,\n",
       "               1.10487614e-04,  1.03612962e-04, -6.34208336e-05],\n",
       "             [ 5.24197589e-04, -1.88698641e-06,  9.17966291e-03, ...,\n",
       "               1.07963584e-04,  1.01245983e-04, -6.19720158e-05],\n",
       "             [ 5.12131257e-04, -1.84355065e-06,  8.96835979e-03, ...,\n",
       "               1.05478415e-04,  9.89154432e-05, -6.05455098e-05]],            dtype=float32)"
      ]
     },
     "execution_count": 53,
     "metadata": {},
     "output_type": "execute_result"
    }
   ],
   "source": [
    "jax.value_and_grad()"
   ]
  },
  {
   "cell_type": "markdown",
   "id": "operating-charleston",
   "metadata": {},
   "source": [
    "Let's try again with the SBL function:"
   ]
  },
  {
   "cell_type": "code",
   "execution_count": 42,
   "id": "stuck-incentive",
   "metadata": {},
   "outputs": [
    {
     "name": "stdout",
     "output_type": "stream",
     "text": [
      "CPU times: user 451 ms, sys: 0 ns, total: 451 ms\n",
      "Wall time: 449 ms\n"
     ]
    },
    {
     "data": {
      "text/plain": [
       "DeviceArray([[ 3.8704185e+01,  5.0534033e+03,  4.3851519e+03, ...,\n",
       "               1.1056242e+06,  2.4217150e+05,  8.9219609e+03],\n",
       "             [ 4.0451740e+01,  5.0363076e+03,  4.3802617e+03, ...,\n",
       "               1.1020118e+06,  2.3915953e+05,  7.0822578e+03],\n",
       "             [ 4.2372829e+01,  5.0155098e+03,  4.3732275e+03, ...,\n",
       "               1.0976028e+06,  2.3573431e+05,  5.0412812e+03],\n",
       "             ...,\n",
       "             [ 1.0419348e+02,  1.5590066e+03,  1.8411733e+03, ...,\n",
       "               3.4674603e+05, -3.3336469e+04, -8.6442672e+04],\n",
       "             [ 1.0573392e+02,  1.5614191e+03,  1.8513120e+03, ...,\n",
       "               3.4737412e+05, -3.4993594e+04, -8.7905984e+04],\n",
       "             [ 1.0723337e+02,  1.5639131e+03,  1.8613002e+03, ...,\n",
       "               3.4801706e+05, -3.6598469e+04, -8.9328906e+04]],            dtype=float32)"
      ]
     },
     "execution_count": 42,
     "metadata": {},
     "output_type": "execute_result"
    }
   ],
   "source": [
    "%%time\n",
    "jax.grad(lambda x: SBL(fixed_point_solver_implicit, x, dt, max_iter=1000)[2][0])(theta)"
   ]
  },
  {
   "cell_type": "code",
   "execution_count": 43,
   "id": "optimum-fields",
   "metadata": {},
   "outputs": [
    {
     "data": {
      "text/plain": [
       "DeviceArray([1.2780477e+04, 1.3957587e+03, 5.8624229e+01, 7.8023638e+03,\n",
       "             1.4603419e+00, 1.0492312e+02, 1.9199420e+02, 4.3870547e+02,\n",
       "             1.3861768e+02, 1.2480178e+01, 2.1501799e+01, 4.6251446e+01],            dtype=float32)"
      ]
     },
     "execution_count": 43,
     "metadata": {},
     "output_type": "execute_result"
    }
   ],
   "source": [
    "prior_params[:-1]"
   ]
  },
  {
   "cell_type": "code",
   "execution_count": null,
   "id": "dense-provider",
   "metadata": {},
   "outputs": [],
   "source": []
  }
 ],
 "metadata": {
  "kernelspec": {
   "display_name": "Python 3",
   "language": "python",
   "name": "python3"
  },
  "language_info": {
   "codemirror_mode": {
    "name": "ipython",
    "version": 3
   },
   "file_extension": ".py",
   "mimetype": "text/x-python",
   "name": "python",
   "nbconvert_exporter": "python",
   "pygments_lexer": "ipython3",
   "version": "3.8.3"
  }
 },
 "nbformat": 4,
 "nbformat_minor": 5
}
