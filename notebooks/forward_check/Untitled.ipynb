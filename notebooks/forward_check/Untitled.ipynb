{
 "cells": [
  {
   "cell_type": "code",
   "execution_count": 1,
   "id": "worse-light",
   "metadata": {},
   "outputs": [],
   "source": [
    "# %% Imports\n",
    "from jax import numpy as jnp, random\n",
    "from modax.data.kdv import doublesoliton\n",
    "from modax.models import Deepmod\n",
    "from modax.training.utils import create_update\n",
    "from flax import optim\n",
    "import jax\n",
    "from modax.training import train_max_iter\n",
    "from modax.training.losses.SBL import loss_fn_SBL\n",
    "\n",
    "%load_ext autoreload\n",
    "%autoreload 2"
   ]
  },
  {
   "cell_type": "code",
   "execution_count": 168,
   "id": "seeing-huntington",
   "metadata": {},
   "outputs": [],
   "source": [
    "key = random.PRNGKey(42)\n",
    "max_iterations = 672\n",
    "\n",
    "# Running noise levels\n",
    "x = jnp.linspace(-10, 10, 100)\n",
    "t = jnp.linspace(0.1, 1.0, 10)\n",
    "t_grid, x_grid = jnp.meshgrid(t, x, idexing=\"ij\")\n",
    "u = doublesoliton(x_grid, t_grid, c=[5.0, 2.0], x0=[0.0, -5.0])\n",
    "\n",
    "X = jnp.concatenate([t_grid.reshape(-1, 1), x_grid.reshape(-1, 1)], axis=1)\n",
    "y = u.reshape(-1, 1)\n",
    "y_noisy = y + 0.01 * jnp.std(y) * random.normal(key, y.shape)"
   ]
  },
  {
   "cell_type": "code",
   "execution_count": 20,
   "id": "seventh-illness",
   "metadata": {},
   "outputs": [],
   "source": [
    "model = Deepmod([30, 30, 30, 1], (5, 4))\n",
    "optimizer_def = optim.Adam(learning_rate=2e-3, beta1=0.99, beta2=0.99)\n",
    "update_fn = create_update(loss_fn_SBL, (model, X, y_noisy, True))\n",
    "\n",
    "variables = model.init(key, X)\n",
    "state, params = variables.pop(\"params\")\n",
    "state = (state, {\"prior_init\": None})  # adding prior to state\n",
    "optimizer = optimizer_def.create(params)"
   ]
  },
  {
   "cell_type": "code",
   "execution_count": 3,
   "id": "distributed-rates",
   "metadata": {},
   "outputs": [],
   "source": [
    "key = random.PRNGKey(42)\n",
    "max_iterations = 20000\n",
    "\n",
    "# Running noise levels\n",
    "x = jnp.linspace(-10, 10, 100)\n",
    "t = jnp.linspace(0.1, 1.0, 10)\n",
    "t_grid, x_grid = jnp.meshgrid(t, x, idexing=\"ij\")\n",
    "u = doublesoliton(x_grid, t_grid, c=[5.0, 2.0], x0=[0.0, -5.0])\n",
    "\n",
    "X = jnp.concatenate([t_grid.reshape(-1, 1), x_grid.reshape(-1, 1)], axis=1)\n",
    "y = u.reshape(-1, 1)\n",
    "y_noisy = y + 0.30 * jnp.std(y) * random.normal(key, y.shape)"
   ]
  },
  {
   "cell_type": "code",
   "execution_count": 6,
   "id": "derived-council",
   "metadata": {},
   "outputs": [],
   "source": [
    "model = Deepmod([30, 30, 30, 1], (3, 2))\n",
    "optimizer_def = optim.Adam(learning_rate=2e-3, beta1=0.99, beta2=0.99)\n",
    "update_fn = create_update(loss_fn_SBL, (model, X, y_noisy, True))\n",
    "\n",
    "variables = model.init(key, X)\n",
    "state, params = variables.pop(\"params\")\n",
    "state = (state, {\"prior_init\": None})  # adding prior to state\n",
    "optimizer = optimizer_def.create(params)"
   ]
  },
  {
   "cell_type": "code",
   "execution_count": 7,
   "id": "private-greene",
   "metadata": {},
   "outputs": [
    {
     "name": "stdout",
     "output_type": "stream",
     "text": [
      "Loss step 0: 1421.06201171875\n",
      "Loss step 500: -1819.4847412109375\n",
      "Loss step 1000: -2456.889404296875\n",
      "Loss step 1500: -2754.833740234375\n",
      "Loss step 2000: -2779.510498046875\n",
      "Loss step 2500: -2782.551513671875\n",
      "Loss step 3000: -2783.498779296875\n",
      "Loss step 3500: -2784.201904296875\n",
      "Loss step 4000: -2784.945068359375\n",
      "Loss step 4500: -2784.926513671875\n",
      "Loss step 5000: -2786.097412109375\n",
      "Loss step 5500: -2786.4609375\n",
      "Loss step 6000: -2787.45654296875\n",
      "Loss step 6500: -2788.13818359375\n",
      "Loss step 7000: -2789.01904296875\n",
      "Loss step 7500: -2789.646240234375\n",
      "Loss step 8000: -2790.39599609375\n",
      "Loss step 8500: -2790.65771484375\n",
      "Loss step 9000: -2791.02685546875\n",
      "Loss step 9500: -2790.949951171875\n",
      "Loss step 10000: -2791.286865234375\n",
      "Loss step 10500: -2792.032470703125\n",
      "Loss step 11000: -2791.7353515625\n",
      "Loss step 11500: -2791.941162109375\n",
      "Loss step 12000: -2792.588134765625\n",
      "Loss step 12500: -2792.359375\n",
      "Loss step 13000: -2792.79833984375\n",
      "Loss step 13500: -2792.842041015625\n",
      "Loss step 14000: -2793.255615234375\n",
      "Loss step 14500: -2793.541259765625\n",
      "Loss step 15000: -2793.61767578125\n",
      "Loss step 15500: -2793.934814453125\n",
      "Loss step 16000: -2793.966552734375\n",
      "Loss step 16500: -2793.8603515625\n",
      "Loss step 17000: -2794.436279296875\n",
      "Loss step 17500: -2794.43359375\n",
      "Loss step 18000: -2794.652099609375\n",
      "Loss step 18500: -2794.505126953125\n",
      "Loss step 19000: -2794.905029296875\n",
      "Loss step 19500: -2794.835205078125\n"
     ]
    }
   ],
   "source": [
    "new_optimizer, new_state = train_max_iter(\n",
    "            update_fn,\n",
    "            optimizer,\n",
    "            state,\n",
    "            max_iterations)\n"
   ]
  },
  {
   "cell_type": "code",
   "execution_count": 160,
   "id": "mechanical-singapore",
   "metadata": {},
   "outputs": [],
   "source": [
    "max_iterations = 6920"
   ]
  },
  {
   "cell_type": "code",
   "execution_count": 161,
   "id": "convenient-actress",
   "metadata": {},
   "outputs": [
    {
     "name": "stdout",
     "output_type": "stream",
     "text": [
      "Loss step 0: -5733.99951171875\n",
      "Loss step 500: -5805.4658203125\n",
      "Loss step 1000: -5858.4013671875\n",
      "Loss step 1500: -5963.66552734375\n",
      "Loss step 2000: -5777.2314453125\n",
      "Loss step 2500: -5435.1142578125\n",
      "Loss step 3000: -5722.0380859375\n",
      "Loss step 3500: -5765.63671875\n",
      "Loss step 4000: -5847.66796875\n",
      "Loss step 4500: -5744.1875\n",
      "Loss step 5000: -5847.427734375\n",
      "Loss step 5500: -5831.9853515625\n",
      "Loss step 6000: -5525.16845703125\n",
      "Loss step 6500: -5595.25390625\n",
      "6920\n"
     ]
    }
   ],
   "source": [
    "new_optimizer, new_state = train_max_iter(\n",
    "            update_fn,\n",
    "            new_optimizer,\n",
    "            new_state,\n",
    "            max_iterations)\n"
   ]
  },
  {
   "cell_type": "code",
   "execution_count": 162,
   "id": "remarkable-reference",
   "metadata": {},
   "outputs": [],
   "source": [
    "model_state, loss_state = new_state\n",
    "variables = {\"params\": new_optimizer.target, **model_state}"
   ]
  },
  {
   "cell_type": "code",
   "execution_count": 163,
   "id": "accepting-russia",
   "metadata": {},
   "outputs": [
    {
     "ename": "RuntimeError",
     "evalue": "cuSolver execution failed",
     "output_type": "error",
     "traceback": [
      "\u001b[0;31m---------------------------------------------------------------------------\u001b[0m",
      "\u001b[0;31mRuntimeError\u001b[0m                              Traceback (most recent call last)",
      "\u001b[0;32m<ipython-input-163-c2e1549a8ee5>\u001b[0m in \u001b[0;36m<module>\u001b[0;34m\u001b[0m\n\u001b[0;32m----> 1\u001b[0;31m \u001b[0mpred\u001b[0m\u001b[0;34m,\u001b[0m \u001b[0mdt\u001b[0m\u001b[0;34m,\u001b[0m \u001b[0mtheta\u001b[0m\u001b[0;34m,\u001b[0m \u001b[0mcoeffs\u001b[0m \u001b[0;34m=\u001b[0m \u001b[0mmodel\u001b[0m\u001b[0;34m.\u001b[0m\u001b[0mapply\u001b[0m\u001b[0;34m(\u001b[0m\u001b[0mvariables\u001b[0m\u001b[0;34m,\u001b[0m \u001b[0mX\u001b[0m\u001b[0;34m)\u001b[0m\u001b[0;34m\u001b[0m\u001b[0;34m\u001b[0m\u001b[0m\n\u001b[0m",
      "\u001b[0;32m~/anaconda3/envs/updated/lib/python3.8/site-packages/flax/linen/module.py\u001b[0m in \u001b[0;36mapply\u001b[0;34m(self, variables, rngs, method, mutable, *args, **kwargs)\u001b[0m\n\u001b[1;32m    684\u001b[0m       \u001b[0mmethod\u001b[0m \u001b[0;34m=\u001b[0m \u001b[0m_get_unbound_fn\u001b[0m\u001b[0;34m(\u001b[0m\u001b[0mmethod\u001b[0m\u001b[0;34m)\u001b[0m\u001b[0;34m\u001b[0m\u001b[0;34m\u001b[0m\u001b[0m\n\u001b[1;32m    685\u001b[0m     \u001b[0mfn\u001b[0m \u001b[0;34m=\u001b[0m \u001b[0;32mlambda\u001b[0m \u001b[0mscope\u001b[0m\u001b[0;34m:\u001b[0m \u001b[0mmethod\u001b[0m\u001b[0;34m(\u001b[0m\u001b[0mself\u001b[0m\u001b[0;34m.\u001b[0m\u001b[0mclone\u001b[0m\u001b[0;34m(\u001b[0m\u001b[0mparent\u001b[0m\u001b[0;34m=\u001b[0m\u001b[0mscope\u001b[0m\u001b[0;34m)\u001b[0m\u001b[0;34m,\u001b[0m \u001b[0;34m*\u001b[0m\u001b[0margs\u001b[0m\u001b[0;34m,\u001b[0m \u001b[0;34m**\u001b[0m\u001b[0mkwargs\u001b[0m\u001b[0;34m)\u001b[0m\u001b[0;34m\u001b[0m\u001b[0;34m\u001b[0m\u001b[0m\n\u001b[0;32m--> 686\u001b[0;31m     \u001b[0;32mreturn\u001b[0m \u001b[0mapply\u001b[0m\u001b[0;34m(\u001b[0m\u001b[0mfn\u001b[0m\u001b[0;34m,\u001b[0m \u001b[0mmutable\u001b[0m\u001b[0;34m=\u001b[0m\u001b[0mmutable\u001b[0m\u001b[0;34m)\u001b[0m\u001b[0;34m(\u001b[0m\u001b[0mvariables\u001b[0m\u001b[0;34m,\u001b[0m \u001b[0mrngs\u001b[0m\u001b[0;34m=\u001b[0m\u001b[0mrngs\u001b[0m\u001b[0;34m)\u001b[0m\u001b[0;34m\u001b[0m\u001b[0;34m\u001b[0m\u001b[0m\n\u001b[0m\u001b[1;32m    687\u001b[0m \u001b[0;34m\u001b[0m\u001b[0m\n\u001b[1;32m    688\u001b[0m   def init_with_output(self, rngs: Union[PRNGKey, RNGSequences], *args,\n",
      "\u001b[0;32m~/anaconda3/envs/updated/lib/python3.8/site-packages/flax/core/scope.py\u001b[0m in \u001b[0;36mwrapper\u001b[0;34m(variables, rngs, *args, **kwargs)\u001b[0m\n\u001b[1;32m    589\u001b[0m     \u001b[0mnew_variables\u001b[0m \u001b[0;34m=\u001b[0m \u001b[0m_unfreeze_variables\u001b[0m\u001b[0;34m(\u001b[0m\u001b[0mvariables\u001b[0m\u001b[0;34m,\u001b[0m \u001b[0mmutable\u001b[0m\u001b[0;34m)\u001b[0m\u001b[0;34m\u001b[0m\u001b[0;34m\u001b[0m\u001b[0m\n\u001b[1;32m    590\u001b[0m     \u001b[0;32mwith\u001b[0m \u001b[0mScope\u001b[0m\u001b[0;34m(\u001b[0m\u001b[0mnew_variables\u001b[0m\u001b[0;34m,\u001b[0m \u001b[0mrngs\u001b[0m\u001b[0;34m=\u001b[0m\u001b[0mrngs\u001b[0m\u001b[0;34m,\u001b[0m \u001b[0mmutable\u001b[0m\u001b[0;34m=\u001b[0m\u001b[0mmutable\u001b[0m\u001b[0;34m)\u001b[0m\u001b[0;34m.\u001b[0m\u001b[0mtemporary\u001b[0m\u001b[0;34m(\u001b[0m\u001b[0;34m)\u001b[0m \u001b[0;32mas\u001b[0m \u001b[0mroot\u001b[0m\u001b[0;34m:\u001b[0m\u001b[0;34m\u001b[0m\u001b[0;34m\u001b[0m\u001b[0m\n\u001b[0;32m--> 591\u001b[0;31m       \u001b[0my\u001b[0m \u001b[0;34m=\u001b[0m \u001b[0mfn\u001b[0m\u001b[0;34m(\u001b[0m\u001b[0mroot\u001b[0m\u001b[0;34m,\u001b[0m \u001b[0;34m*\u001b[0m\u001b[0margs\u001b[0m\u001b[0;34m,\u001b[0m \u001b[0;34m**\u001b[0m\u001b[0mkwargs\u001b[0m\u001b[0;34m)\u001b[0m\u001b[0;34m\u001b[0m\u001b[0;34m\u001b[0m\u001b[0m\n\u001b[0m\u001b[1;32m    592\u001b[0m     \u001b[0;32mif\u001b[0m \u001b[0mmutable\u001b[0m\u001b[0;34m:\u001b[0m\u001b[0;34m\u001b[0m\u001b[0;34m\u001b[0m\u001b[0m\n\u001b[1;32m    593\u001b[0m       mutated_variables = {k: v\n",
      "\u001b[0;32m~/anaconda3/envs/updated/lib/python3.8/site-packages/flax/linen/module.py\u001b[0m in \u001b[0;36m<lambda>\u001b[0;34m(scope)\u001b[0m\n\u001b[1;32m    683\u001b[0m     \u001b[0;32melse\u001b[0m\u001b[0;34m:\u001b[0m\u001b[0;34m\u001b[0m\u001b[0;34m\u001b[0m\u001b[0m\n\u001b[1;32m    684\u001b[0m       \u001b[0mmethod\u001b[0m \u001b[0;34m=\u001b[0m \u001b[0m_get_unbound_fn\u001b[0m\u001b[0;34m(\u001b[0m\u001b[0mmethod\u001b[0m\u001b[0;34m)\u001b[0m\u001b[0;34m\u001b[0m\u001b[0;34m\u001b[0m\u001b[0m\n\u001b[0;32m--> 685\u001b[0;31m     \u001b[0mfn\u001b[0m \u001b[0;34m=\u001b[0m \u001b[0;32mlambda\u001b[0m \u001b[0mscope\u001b[0m\u001b[0;34m:\u001b[0m \u001b[0mmethod\u001b[0m\u001b[0;34m(\u001b[0m\u001b[0mself\u001b[0m\u001b[0;34m.\u001b[0m\u001b[0mclone\u001b[0m\u001b[0;34m(\u001b[0m\u001b[0mparent\u001b[0m\u001b[0;34m=\u001b[0m\u001b[0mscope\u001b[0m\u001b[0;34m)\u001b[0m\u001b[0;34m,\u001b[0m \u001b[0;34m*\u001b[0m\u001b[0margs\u001b[0m\u001b[0;34m,\u001b[0m \u001b[0;34m**\u001b[0m\u001b[0mkwargs\u001b[0m\u001b[0;34m)\u001b[0m\u001b[0;34m\u001b[0m\u001b[0;34m\u001b[0m\u001b[0m\n\u001b[0m\u001b[1;32m    686\u001b[0m     \u001b[0;32mreturn\u001b[0m \u001b[0mapply\u001b[0m\u001b[0;34m(\u001b[0m\u001b[0mfn\u001b[0m\u001b[0;34m,\u001b[0m \u001b[0mmutable\u001b[0m\u001b[0;34m=\u001b[0m\u001b[0mmutable\u001b[0m\u001b[0;34m)\u001b[0m\u001b[0;34m(\u001b[0m\u001b[0mvariables\u001b[0m\u001b[0;34m,\u001b[0m \u001b[0mrngs\u001b[0m\u001b[0;34m=\u001b[0m\u001b[0mrngs\u001b[0m\u001b[0;34m)\u001b[0m\u001b[0;34m\u001b[0m\u001b[0;34m\u001b[0m\u001b[0m\n\u001b[1;32m    687\u001b[0m \u001b[0;34m\u001b[0m\u001b[0m\n",
      "\u001b[0;32m~/anaconda3/envs/updated/lib/python3.8/site-packages/flax/linen/module.py\u001b[0m in \u001b[0;36mwrapped_module_method\u001b[0;34m(self, *args, **kwargs)\u001b[0m\n\u001b[1;32m    219\u001b[0m     \u001b[0m_context\u001b[0m\u001b[0;34m.\u001b[0m\u001b[0mmodule_stack\u001b[0m\u001b[0;34m.\u001b[0m\u001b[0mappend\u001b[0m\u001b[0;34m(\u001b[0m\u001b[0mself\u001b[0m\u001b[0;34m)\u001b[0m\u001b[0;34m\u001b[0m\u001b[0;34m\u001b[0m\u001b[0m\n\u001b[1;32m    220\u001b[0m     \u001b[0;32mtry\u001b[0m\u001b[0;34m:\u001b[0m\u001b[0;34m\u001b[0m\u001b[0;34m\u001b[0m\u001b[0m\n\u001b[0;32m--> 221\u001b[0;31m       \u001b[0;32mreturn\u001b[0m \u001b[0mfun\u001b[0m\u001b[0;34m(\u001b[0m\u001b[0mself\u001b[0m\u001b[0;34m,\u001b[0m \u001b[0;34m*\u001b[0m\u001b[0margs\u001b[0m\u001b[0;34m,\u001b[0m \u001b[0;34m**\u001b[0m\u001b[0mkwargs\u001b[0m\u001b[0;34m)\u001b[0m\u001b[0;34m\u001b[0m\u001b[0;34m\u001b[0m\u001b[0m\n\u001b[0m\u001b[1;32m    222\u001b[0m     \u001b[0;32mfinally\u001b[0m\u001b[0;34m:\u001b[0m\u001b[0;34m\u001b[0m\u001b[0;34m\u001b[0m\u001b[0m\n\u001b[1;32m    223\u001b[0m       \u001b[0m_context\u001b[0m\u001b[0;34m.\u001b[0m\u001b[0mmodule_stack\u001b[0m\u001b[0;34m.\u001b[0m\u001b[0mpop\u001b[0m\u001b[0;34m(\u001b[0m\u001b[0;34m)\u001b[0m\u001b[0;34m\u001b[0m\u001b[0;34m\u001b[0m\u001b[0m\n",
      "\u001b[0;32m~/Documents/modax/src/modax/models/models.py\u001b[0m in \u001b[0;36m__call__\u001b[0;34m(self, inputs)\u001b[0m\n\u001b[1;32m     23\u001b[0m     \u001b[0;32mdef\u001b[0m \u001b[0m__call__\u001b[0m\u001b[0;34m(\u001b[0m\u001b[0mself\u001b[0m\u001b[0;34m,\u001b[0m \u001b[0minputs\u001b[0m\u001b[0;34m)\u001b[0m\u001b[0;34m:\u001b[0m\u001b[0;34m\u001b[0m\u001b[0;34m\u001b[0m\u001b[0m\n\u001b[1;32m     24\u001b[0m         \u001b[0mprediction\u001b[0m\u001b[0;34m,\u001b[0m \u001b[0mfeatures\u001b[0m \u001b[0;34m=\u001b[0m \u001b[0mself\u001b[0m\u001b[0;34m.\u001b[0m\u001b[0mlibrary\u001b[0m\u001b[0;34m(\u001b[0m\u001b[0mself\u001b[0m\u001b[0;34m.\u001b[0m\u001b[0mnetwork\u001b[0m\u001b[0;34m,\u001b[0m \u001b[0minputs\u001b[0m\u001b[0;34m)\u001b[0m\u001b[0;34m\u001b[0m\u001b[0;34m\u001b[0m\u001b[0m\n\u001b[0;32m---> 25\u001b[0;31m         \u001b[0mcoeffs\u001b[0m \u001b[0;34m=\u001b[0m \u001b[0mself\u001b[0m\u001b[0;34m.\u001b[0m\u001b[0mconstraint\u001b[0m\u001b[0;34m(\u001b[0m\u001b[0mfeatures\u001b[0m\u001b[0;34m)\u001b[0m\u001b[0;34m\u001b[0m\u001b[0;34m\u001b[0m\u001b[0m\n\u001b[0m\u001b[1;32m     26\u001b[0m         \u001b[0;32mreturn\u001b[0m \u001b[0mprediction\u001b[0m\u001b[0;34m,\u001b[0m \u001b[0;34m*\u001b[0m\u001b[0mfeatures\u001b[0m\u001b[0;34m,\u001b[0m \u001b[0mcoeffs\u001b[0m\u001b[0;34m\u001b[0m\u001b[0;34m\u001b[0m\u001b[0m\n\u001b[1;32m     27\u001b[0m \u001b[0;34m\u001b[0m\u001b[0m\n",
      "\u001b[0;32m~/anaconda3/envs/updated/lib/python3.8/site-packages/flax/linen/module.py\u001b[0m in \u001b[0;36mwrapped_module_method\u001b[0;34m(self, *args, **kwargs)\u001b[0m\n\u001b[1;32m    219\u001b[0m     \u001b[0m_context\u001b[0m\u001b[0;34m.\u001b[0m\u001b[0mmodule_stack\u001b[0m\u001b[0;34m.\u001b[0m\u001b[0mappend\u001b[0m\u001b[0;34m(\u001b[0m\u001b[0mself\u001b[0m\u001b[0;34m)\u001b[0m\u001b[0;34m\u001b[0m\u001b[0;34m\u001b[0m\u001b[0m\n\u001b[1;32m    220\u001b[0m     \u001b[0;32mtry\u001b[0m\u001b[0;34m:\u001b[0m\u001b[0;34m\u001b[0m\u001b[0;34m\u001b[0m\u001b[0m\n\u001b[0;32m--> 221\u001b[0;31m       \u001b[0;32mreturn\u001b[0m \u001b[0mfun\u001b[0m\u001b[0;34m(\u001b[0m\u001b[0mself\u001b[0m\u001b[0;34m,\u001b[0m \u001b[0;34m*\u001b[0m\u001b[0margs\u001b[0m\u001b[0;34m,\u001b[0m \u001b[0;34m**\u001b[0m\u001b[0mkwargs\u001b[0m\u001b[0;34m)\u001b[0m\u001b[0;34m\u001b[0m\u001b[0;34m\u001b[0m\u001b[0m\n\u001b[0m\u001b[1;32m    222\u001b[0m     \u001b[0;32mfinally\u001b[0m\u001b[0;34m:\u001b[0m\u001b[0;34m\u001b[0m\u001b[0;34m\u001b[0m\u001b[0m\n\u001b[1;32m    223\u001b[0m       \u001b[0m_context\u001b[0m\u001b[0;34m.\u001b[0m\u001b[0mmodule_stack\u001b[0m\u001b[0;34m.\u001b[0m\u001b[0mpop\u001b[0m\u001b[0;34m(\u001b[0m\u001b[0;34m)\u001b[0m\u001b[0;34m\u001b[0m\u001b[0;34m\u001b[0m\u001b[0m\n",
      "\u001b[0;32m~/Documents/modax/src/modax/layers/regression.py\u001b[0m in \u001b[0;36m__call__\u001b[0;34m(self, inputs)\u001b[0m\n\u001b[1;32m     17\u001b[0m \u001b[0;34m\u001b[0m\u001b[0m\n\u001b[1;32m     18\u001b[0m         \u001b[0mX_masked\u001b[0m \u001b[0;34m=\u001b[0m \u001b[0mX\u001b[0m \u001b[0;34m*\u001b[0m \u001b[0;34m(\u001b[0m\u001b[0;34m~\u001b[0m\u001b[0mmask\u001b[0m\u001b[0;34m.\u001b[0m\u001b[0mvalue\u001b[0m \u001b[0;34m*\u001b[0m \u001b[0;36m1e-6\u001b[0m \u001b[0;34m+\u001b[0m \u001b[0mmask\u001b[0m\u001b[0;34m.\u001b[0m\u001b[0mvalue\u001b[0m\u001b[0;34m)\u001b[0m\u001b[0;34m\u001b[0m\u001b[0;34m\u001b[0m\u001b[0m\n\u001b[0;32m---> 19\u001b[0;31m         \u001b[0mcoeffs\u001b[0m \u001b[0;34m=\u001b[0m \u001b[0mjnp\u001b[0m\u001b[0;34m.\u001b[0m\u001b[0mlinalg\u001b[0m\u001b[0;34m.\u001b[0m\u001b[0mlstsq\u001b[0m\u001b[0;34m(\u001b[0m\u001b[0mX_masked\u001b[0m\u001b[0;34m,\u001b[0m \u001b[0my\u001b[0m\u001b[0;34m)\u001b[0m\u001b[0;34m[\u001b[0m\u001b[0;36m0\u001b[0m\u001b[0;34m]\u001b[0m\u001b[0;34m\u001b[0m\u001b[0;34m\u001b[0m\u001b[0m\n\u001b[0m\u001b[1;32m     20\u001b[0m \u001b[0;34m\u001b[0m\u001b[0m\n\u001b[1;32m     21\u001b[0m         return (\n",
      "\u001b[0;32m~/anaconda3/envs/updated/lib/python3.8/site-packages/jax/_src/numpy/linalg.py\u001b[0m in \u001b[0;36mlstsq\u001b[0;34m(a, b, rcond, numpy_resid)\u001b[0m\n\u001b[1;32m    485\u001b[0m   \u001b[0;32melif\u001b[0m \u001b[0mrcond\u001b[0m \u001b[0;34m<\u001b[0m \u001b[0;36m0\u001b[0m\u001b[0;34m:\u001b[0m\u001b[0;34m\u001b[0m\u001b[0;34m\u001b[0m\u001b[0m\n\u001b[1;32m    486\u001b[0m     \u001b[0mrcond\u001b[0m \u001b[0;34m=\u001b[0m \u001b[0mjnp\u001b[0m\u001b[0;34m.\u001b[0m\u001b[0mfinfo\u001b[0m\u001b[0;34m(\u001b[0m\u001b[0mdtype\u001b[0m\u001b[0;34m)\u001b[0m\u001b[0;34m.\u001b[0m\u001b[0meps\u001b[0m\u001b[0;34m\u001b[0m\u001b[0;34m\u001b[0m\u001b[0m\n\u001b[0;32m--> 487\u001b[0;31m   \u001b[0mu\u001b[0m\u001b[0;34m,\u001b[0m \u001b[0ms\u001b[0m\u001b[0;34m,\u001b[0m \u001b[0mvt\u001b[0m \u001b[0;34m=\u001b[0m \u001b[0msvd\u001b[0m\u001b[0;34m(\u001b[0m\u001b[0ma\u001b[0m\u001b[0;34m,\u001b[0m \u001b[0mfull_matrices\u001b[0m\u001b[0;34m=\u001b[0m\u001b[0;32mFalse\u001b[0m\u001b[0;34m)\u001b[0m\u001b[0;34m\u001b[0m\u001b[0;34m\u001b[0m\u001b[0m\n\u001b[0m\u001b[1;32m    488\u001b[0m   \u001b[0mmask\u001b[0m \u001b[0;34m=\u001b[0m \u001b[0ms\u001b[0m \u001b[0;34m>=\u001b[0m \u001b[0mrcond\u001b[0m \u001b[0;34m*\u001b[0m \u001b[0ms\u001b[0m\u001b[0;34m[\u001b[0m\u001b[0;36m0\u001b[0m\u001b[0;34m]\u001b[0m\u001b[0;34m\u001b[0m\u001b[0;34m\u001b[0m\u001b[0m\n\u001b[1;32m    489\u001b[0m   \u001b[0mrank\u001b[0m \u001b[0;34m=\u001b[0m \u001b[0mmask\u001b[0m\u001b[0;34m.\u001b[0m\u001b[0msum\u001b[0m\u001b[0;34m(\u001b[0m\u001b[0;34m)\u001b[0m\u001b[0;34m\u001b[0m\u001b[0;34m\u001b[0m\u001b[0m\n",
      "\u001b[0;32m~/anaconda3/envs/updated/lib/python3.8/site-packages/jax/_src/numpy/linalg.py\u001b[0m in \u001b[0;36msvd\u001b[0;34m(a, full_matrices, compute_uv)\u001b[0m\n\u001b[1;32m     56\u001b[0m \u001b[0;32mdef\u001b[0m \u001b[0msvd\u001b[0m\u001b[0;34m(\u001b[0m\u001b[0ma\u001b[0m\u001b[0;34m,\u001b[0m \u001b[0mfull_matrices\u001b[0m\u001b[0;34m=\u001b[0m\u001b[0;32mTrue\u001b[0m\u001b[0;34m,\u001b[0m \u001b[0mcompute_uv\u001b[0m\u001b[0;34m=\u001b[0m\u001b[0;32mTrue\u001b[0m\u001b[0;34m)\u001b[0m\u001b[0;34m:\u001b[0m\u001b[0;34m\u001b[0m\u001b[0;34m\u001b[0m\u001b[0m\n\u001b[1;32m     57\u001b[0m   \u001b[0ma\u001b[0m \u001b[0;34m=\u001b[0m \u001b[0m_promote_arg_dtypes\u001b[0m\u001b[0;34m(\u001b[0m\u001b[0mjnp\u001b[0m\u001b[0;34m.\u001b[0m\u001b[0masarray\u001b[0m\u001b[0;34m(\u001b[0m\u001b[0ma\u001b[0m\u001b[0;34m)\u001b[0m\u001b[0;34m)\u001b[0m\u001b[0;34m\u001b[0m\u001b[0;34m\u001b[0m\u001b[0m\n\u001b[0;32m---> 58\u001b[0;31m   \u001b[0;32mreturn\u001b[0m \u001b[0mlax_linalg\u001b[0m\u001b[0;34m.\u001b[0m\u001b[0msvd\u001b[0m\u001b[0;34m(\u001b[0m\u001b[0ma\u001b[0m\u001b[0;34m,\u001b[0m \u001b[0mfull_matrices\u001b[0m\u001b[0;34m,\u001b[0m \u001b[0mcompute_uv\u001b[0m\u001b[0;34m)\u001b[0m\u001b[0;34m\u001b[0m\u001b[0;34m\u001b[0m\u001b[0m\n\u001b[0m\u001b[1;32m     59\u001b[0m \u001b[0;34m\u001b[0m\u001b[0m\n\u001b[1;32m     60\u001b[0m \u001b[0;34m\u001b[0m\u001b[0m\n",
      "\u001b[0;32m~/anaconda3/envs/updated/lib/python3.8/site-packages/jax/_src/lax/linalg.py\u001b[0m in \u001b[0;36msvd\u001b[0;34m(x, full_matrices, compute_uv)\u001b[0m\n\u001b[1;32m    182\u001b[0m   \u001b[0mthe\u001b[0m \u001b[0mright\u001b[0m \u001b[0msingular\u001b[0m \u001b[0mvectors\u001b[0m\u001b[0;34m.\u001b[0m\u001b[0;34m\u001b[0m\u001b[0;34m\u001b[0m\u001b[0m\n\u001b[1;32m    183\u001b[0m   \"\"\"\n\u001b[0;32m--> 184\u001b[0;31m   \u001b[0mresult\u001b[0m \u001b[0;34m=\u001b[0m \u001b[0msvd_p\u001b[0m\u001b[0;34m.\u001b[0m\u001b[0mbind\u001b[0m\u001b[0;34m(\u001b[0m\u001b[0mx\u001b[0m\u001b[0;34m,\u001b[0m \u001b[0mfull_matrices\u001b[0m\u001b[0;34m=\u001b[0m\u001b[0mfull_matrices\u001b[0m\u001b[0;34m,\u001b[0m \u001b[0mcompute_uv\u001b[0m\u001b[0;34m=\u001b[0m\u001b[0mcompute_uv\u001b[0m\u001b[0;34m)\u001b[0m\u001b[0;34m\u001b[0m\u001b[0;34m\u001b[0m\u001b[0m\n\u001b[0m\u001b[1;32m    185\u001b[0m   \u001b[0;32mif\u001b[0m \u001b[0mcompute_uv\u001b[0m\u001b[0;34m:\u001b[0m\u001b[0;34m\u001b[0m\u001b[0;34m\u001b[0m\u001b[0m\n\u001b[1;32m    186\u001b[0m     \u001b[0ms\u001b[0m\u001b[0;34m,\u001b[0m \u001b[0mu\u001b[0m\u001b[0;34m,\u001b[0m \u001b[0mv\u001b[0m \u001b[0;34m=\u001b[0m \u001b[0mresult\u001b[0m\u001b[0;34m\u001b[0m\u001b[0;34m\u001b[0m\u001b[0m\n",
      "\u001b[0;32m~/anaconda3/envs/updated/lib/python3.8/site-packages/jax/core.py\u001b[0m in \u001b[0;36mbind\u001b[0;34m(self, *args, **params)\u001b[0m\n\u001b[1;32m    282\u001b[0m     \u001b[0mtop_trace\u001b[0m \u001b[0;34m=\u001b[0m \u001b[0mfind_top_trace\u001b[0m\u001b[0;34m(\u001b[0m\u001b[0margs\u001b[0m\u001b[0;34m)\u001b[0m\u001b[0;34m\u001b[0m\u001b[0;34m\u001b[0m\u001b[0m\n\u001b[1;32m    283\u001b[0m     \u001b[0mtracers\u001b[0m \u001b[0;34m=\u001b[0m \u001b[0mmap\u001b[0m\u001b[0;34m(\u001b[0m\u001b[0mtop_trace\u001b[0m\u001b[0;34m.\u001b[0m\u001b[0mfull_raise\u001b[0m\u001b[0;34m,\u001b[0m \u001b[0margs\u001b[0m\u001b[0;34m)\u001b[0m\u001b[0;34m\u001b[0m\u001b[0;34m\u001b[0m\u001b[0m\n\u001b[0;32m--> 284\u001b[0;31m     \u001b[0mout\u001b[0m \u001b[0;34m=\u001b[0m \u001b[0mtop_trace\u001b[0m\u001b[0;34m.\u001b[0m\u001b[0mprocess_primitive\u001b[0m\u001b[0;34m(\u001b[0m\u001b[0mself\u001b[0m\u001b[0;34m,\u001b[0m \u001b[0mtracers\u001b[0m\u001b[0;34m,\u001b[0m \u001b[0mparams\u001b[0m\u001b[0;34m)\u001b[0m\u001b[0;34m\u001b[0m\u001b[0;34m\u001b[0m\u001b[0m\n\u001b[0m\u001b[1;32m    285\u001b[0m     \u001b[0;32mreturn\u001b[0m \u001b[0mmap\u001b[0m\u001b[0;34m(\u001b[0m\u001b[0mfull_lower\u001b[0m\u001b[0;34m,\u001b[0m \u001b[0mout\u001b[0m\u001b[0;34m)\u001b[0m \u001b[0;32mif\u001b[0m \u001b[0mself\u001b[0m\u001b[0;34m.\u001b[0m\u001b[0mmultiple_results\u001b[0m \u001b[0;32melse\u001b[0m \u001b[0mfull_lower\u001b[0m\u001b[0;34m(\u001b[0m\u001b[0mout\u001b[0m\u001b[0;34m)\u001b[0m\u001b[0;34m\u001b[0m\u001b[0;34m\u001b[0m\u001b[0m\n\u001b[1;32m    286\u001b[0m \u001b[0;34m\u001b[0m\u001b[0m\n",
      "\u001b[0;32m~/anaconda3/envs/updated/lib/python3.8/site-packages/jax/core.py\u001b[0m in \u001b[0;36mprocess_primitive\u001b[0;34m(self, primitive, tracers, params)\u001b[0m\n\u001b[1;32m    620\u001b[0m \u001b[0;34m\u001b[0m\u001b[0m\n\u001b[1;32m    621\u001b[0m   \u001b[0;32mdef\u001b[0m \u001b[0mprocess_primitive\u001b[0m\u001b[0;34m(\u001b[0m\u001b[0mself\u001b[0m\u001b[0;34m,\u001b[0m \u001b[0mprimitive\u001b[0m\u001b[0;34m,\u001b[0m \u001b[0mtracers\u001b[0m\u001b[0;34m,\u001b[0m \u001b[0mparams\u001b[0m\u001b[0;34m)\u001b[0m\u001b[0;34m:\u001b[0m\u001b[0;34m\u001b[0m\u001b[0;34m\u001b[0m\u001b[0m\n\u001b[0;32m--> 622\u001b[0;31m     \u001b[0;32mreturn\u001b[0m \u001b[0mprimitive\u001b[0m\u001b[0;34m.\u001b[0m\u001b[0mimpl\u001b[0m\u001b[0;34m(\u001b[0m\u001b[0;34m*\u001b[0m\u001b[0mtracers\u001b[0m\u001b[0;34m,\u001b[0m \u001b[0;34m**\u001b[0m\u001b[0mparams\u001b[0m\u001b[0;34m)\u001b[0m\u001b[0;34m\u001b[0m\u001b[0;34m\u001b[0m\u001b[0m\n\u001b[0m\u001b[1;32m    623\u001b[0m \u001b[0;34m\u001b[0m\u001b[0m\n\u001b[1;32m    624\u001b[0m   \u001b[0;32mdef\u001b[0m \u001b[0mprocess_call\u001b[0m\u001b[0;34m(\u001b[0m\u001b[0mself\u001b[0m\u001b[0;34m,\u001b[0m \u001b[0mprimitive\u001b[0m\u001b[0;34m,\u001b[0m \u001b[0mf\u001b[0m\u001b[0;34m,\u001b[0m \u001b[0mtracers\u001b[0m\u001b[0;34m,\u001b[0m \u001b[0mparams\u001b[0m\u001b[0;34m)\u001b[0m\u001b[0;34m:\u001b[0m\u001b[0;34m\u001b[0m\u001b[0;34m\u001b[0m\u001b[0m\n",
      "\u001b[0;32m~/anaconda3/envs/updated/lib/python3.8/site-packages/jax/_src/lax/linalg.py\u001b[0m in \u001b[0;36msvd_impl\u001b[0;34m(operand, full_matrices, compute_uv)\u001b[0m\n\u001b[1;32m   1134\u001b[0m \u001b[0;34m\u001b[0m\u001b[0m\n\u001b[1;32m   1135\u001b[0m \u001b[0;32mdef\u001b[0m \u001b[0msvd_impl\u001b[0m\u001b[0;34m(\u001b[0m\u001b[0moperand\u001b[0m\u001b[0;34m,\u001b[0m \u001b[0mfull_matrices\u001b[0m\u001b[0;34m,\u001b[0m \u001b[0mcompute_uv\u001b[0m\u001b[0;34m)\u001b[0m\u001b[0;34m:\u001b[0m\u001b[0;34m\u001b[0m\u001b[0;34m\u001b[0m\u001b[0m\n\u001b[0;32m-> 1136\u001b[0;31m   return xla.apply_primitive(svd_p, operand, full_matrices=full_matrices,\n\u001b[0m\u001b[1;32m   1137\u001b[0m                              compute_uv=compute_uv)\n\u001b[1;32m   1138\u001b[0m \u001b[0;34m\u001b[0m\u001b[0m\n",
      "\u001b[0;32m~/anaconda3/envs/updated/lib/python3.8/site-packages/jax/interpreters/xla.py\u001b[0m in \u001b[0;36mapply_primitive\u001b[0;34m(prim, *args, **params)\u001b[0m\n\u001b[1;32m    240\u001b[0m   \u001b[0;34m\"\"\"Impl rule that compiles and runs a single primitive 'prim' using XLA.\"\"\"\u001b[0m\u001b[0;34m\u001b[0m\u001b[0;34m\u001b[0m\u001b[0m\n\u001b[1;32m    241\u001b[0m   \u001b[0mcompiled_fun\u001b[0m \u001b[0;34m=\u001b[0m \u001b[0mxla_primitive_callable\u001b[0m\u001b[0;34m(\u001b[0m\u001b[0mprim\u001b[0m\u001b[0;34m,\u001b[0m \u001b[0;34m*\u001b[0m\u001b[0munsafe_map\u001b[0m\u001b[0;34m(\u001b[0m\u001b[0marg_spec\u001b[0m\u001b[0;34m,\u001b[0m \u001b[0margs\u001b[0m\u001b[0;34m)\u001b[0m\u001b[0;34m,\u001b[0m \u001b[0;34m**\u001b[0m\u001b[0mparams\u001b[0m\u001b[0;34m)\u001b[0m\u001b[0;34m\u001b[0m\u001b[0;34m\u001b[0m\u001b[0m\n\u001b[0;32m--> 242\u001b[0;31m   \u001b[0;32mreturn\u001b[0m \u001b[0mcompiled_fun\u001b[0m\u001b[0;34m(\u001b[0m\u001b[0;34m*\u001b[0m\u001b[0margs\u001b[0m\u001b[0;34m)\u001b[0m\u001b[0;34m\u001b[0m\u001b[0;34m\u001b[0m\u001b[0m\n\u001b[0m\u001b[1;32m    243\u001b[0m \u001b[0;34m\u001b[0m\u001b[0m\n\u001b[1;32m    244\u001b[0m \u001b[0;34m\u001b[0m\u001b[0m\n",
      "\u001b[0;32m~/anaconda3/envs/updated/lib/python3.8/site-packages/jax/interpreters/xla.py\u001b[0m in \u001b[0;36m_execute_compiled_primitive\u001b[0;34m(prim, compiled, result_handler, *args)\u001b[0m\n\u001b[1;32m    358\u001b[0m   \u001b[0mdevice\u001b[0m\u001b[0;34m,\u001b[0m \u001b[0;34m=\u001b[0m \u001b[0mcompiled\u001b[0m\u001b[0;34m.\u001b[0m\u001b[0mlocal_devices\u001b[0m\u001b[0;34m(\u001b[0m\u001b[0;34m)\u001b[0m\u001b[0;34m\u001b[0m\u001b[0;34m\u001b[0m\u001b[0m\n\u001b[1;32m    359\u001b[0m   \u001b[0minput_bufs\u001b[0m \u001b[0;34m=\u001b[0m \u001b[0mlist\u001b[0m\u001b[0;34m(\u001b[0m\u001b[0mit\u001b[0m\u001b[0;34m.\u001b[0m\u001b[0mchain\u001b[0m\u001b[0;34m.\u001b[0m\u001b[0mfrom_iterable\u001b[0m\u001b[0;34m(\u001b[0m\u001b[0mdevice_put\u001b[0m\u001b[0;34m(\u001b[0m\u001b[0mx\u001b[0m\u001b[0;34m,\u001b[0m \u001b[0mdevice\u001b[0m\u001b[0;34m)\u001b[0m \u001b[0;32mfor\u001b[0m \u001b[0mx\u001b[0m \u001b[0;32min\u001b[0m \u001b[0margs\u001b[0m \u001b[0;32mif\u001b[0m \u001b[0mx\u001b[0m \u001b[0;32mis\u001b[0m \u001b[0;32mnot\u001b[0m \u001b[0mtoken\u001b[0m\u001b[0;34m)\u001b[0m\u001b[0;34m)\u001b[0m\u001b[0;34m\u001b[0m\u001b[0;34m\u001b[0m\u001b[0m\n\u001b[0;32m--> 360\u001b[0;31m   \u001b[0mout_bufs\u001b[0m \u001b[0;34m=\u001b[0m \u001b[0mcompiled\u001b[0m\u001b[0;34m.\u001b[0m\u001b[0mexecute\u001b[0m\u001b[0;34m(\u001b[0m\u001b[0minput_bufs\u001b[0m\u001b[0;34m)\u001b[0m\u001b[0;34m\u001b[0m\u001b[0;34m\u001b[0m\u001b[0m\n\u001b[0m\u001b[1;32m    361\u001b[0m   \u001b[0mcheck_special\u001b[0m\u001b[0;34m(\u001b[0m\u001b[0mprim\u001b[0m\u001b[0;34m,\u001b[0m \u001b[0mout_bufs\u001b[0m\u001b[0;34m)\u001b[0m\u001b[0;34m\u001b[0m\u001b[0;34m\u001b[0m\u001b[0m\n\u001b[1;32m    362\u001b[0m   \u001b[0;32mreturn\u001b[0m \u001b[0mresult_handler\u001b[0m\u001b[0;34m(\u001b[0m\u001b[0;34m*\u001b[0m\u001b[0mout_bufs\u001b[0m\u001b[0;34m)\u001b[0m\u001b[0;34m\u001b[0m\u001b[0;34m\u001b[0m\u001b[0m\n",
      "\u001b[0;31mRuntimeError\u001b[0m: cuSolver execution failed"
     ]
    }
   ],
   "source": [
    "pred, dt, theta, coeffs = model.apply(variables, X)"
   ]
  },
  {
   "cell_type": "code",
   "execution_count": 92,
   "id": "later-photographer",
   "metadata": {},
   "outputs": [],
   "source": [
    "tau = 1 / jnp.mean((pred - y)**2)\n",
    "beta_prior = (X.shape[0] / 2, X.shape[0] / tau) "
   ]
  },
  {
   "cell_type": "code",
   "execution_count": 93,
   "id": "connected-grant",
   "metadata": {},
   "outputs": [],
   "source": [
    "from modax.linear_model.SBL import SBL"
   ]
  },
  {
   "cell_type": "code",
   "execution_count": 118,
   "id": "classical-cedar",
   "metadata": {},
   "outputs": [],
   "source": [
    "evidence, coeffs, prior, metrics = SBL(theta, dt, tol=1e-3, hyper_prior=((1e-6, 1e-6), beta_prior), max_iter=2000)\n",
    "prior, noise = prior[:-1], prior[-1]"
   ]
  },
  {
   "cell_type": "code",
   "execution_count": 119,
   "id": "qualified-anxiety",
   "metadata": {},
   "outputs": [
    {
     "data": {
      "text/plain": [
       "(30,)"
      ]
     },
     "execution_count": 119,
     "metadata": {},
     "output_type": "execute_result"
    }
   ],
   "source": [
    "prior.shape"
   ]
  },
  {
   "cell_type": "code",
   "execution_count": 120,
   "id": "excited-apollo",
   "metadata": {},
   "outputs": [
    {
     "data": {
      "text/plain": [
       "DeviceArray(35.04488, dtype=float32)"
      ]
     },
     "execution_count": 120,
     "metadata": {},
     "output_type": "execute_result"
    }
   ],
   "source": [
    "noise"
   ]
  },
  {
   "cell_type": "code",
   "execution_count": 121,
   "id": "afraid-torture",
   "metadata": {},
   "outputs": [
    {
     "data": {
      "text/plain": [
       "(DeviceArray(2001, dtype=int32),\n",
       " DeviceArray(0.33096713, dtype=float32),\n",
       " DeviceArray([ 4.9552847e-02, -3.2397120e+00,  2.9729975e-03,\n",
       "              -5.3110254e-01, -1.2173046e-02, -8.9378515e-03,\n",
       "              -1.3019951e-01,  2.5155051e+00,  7.9584103e-03,\n",
       "              -8.3584118e-01, -8.2758162e-04,  3.6111546e-03,\n",
       "               1.3356283e-03,  3.0777549e-02,  2.4774979e-04,\n",
       "               9.5186532e-01, -7.4547366e-04, -1.1923624e-04,\n",
       "               2.6828152e-04, -7.8906360e+00, -5.3846417e-04,\n",
       "              -8.2665271e-01, -3.8805007e-04, -2.2338545e-03,\n",
       "               1.9299846e-04,  3.0750492e+00, -6.7338059e-03,\n",
       "               2.5646013e-01,  1.6463421e-04,  1.0001244e-03],            dtype=float32))"
      ]
     },
     "execution_count": 121,
     "metadata": {},
     "output_type": "execute_result"
    }
   ],
   "source": [
    "metrics"
   ]
  },
  {
   "cell_type": "code",
   "execution_count": 122,
   "id": "general-responsibility",
   "metadata": {},
   "outputs": [
    {
     "data": {
      "text/plain": [
       "DeviceArray(774.44385, dtype=float32)"
      ]
     },
     "execution_count": 122,
     "metadata": {},
     "output_type": "execute_result"
    }
   ],
   "source": [
    "evidence"
   ]
  },
  {
   "cell_type": "code",
   "execution_count": 123,
   "id": "collectible-wound",
   "metadata": {},
   "outputs": [],
   "source": [
    "from sklearn.linear_model import ARDRegression"
   ]
  },
  {
   "cell_type": "code",
   "execution_count": 124,
   "id": "studied-pavilion",
   "metadata": {},
   "outputs": [
    {
     "data": {
      "text/plain": [
       "(500.0, DeviceArray(15.850436, dtype=float32))"
      ]
     },
     "execution_count": 124,
     "metadata": {},
     "output_type": "execute_result"
    }
   ],
   "source": [
    "beta_prior"
   ]
  },
  {
   "cell_type": "code",
   "execution_count": 132,
   "id": "enhanced-precipitation",
   "metadata": {},
   "outputs": [
    {
     "name": "stdout",
     "output_type": "stream",
     "text": [
      "Converged after 14 iterations\n"
     ]
    },
    {
     "data": {
      "text/plain": [
       "ARDRegression(compute_score=True, fit_intercept=False, n_iter=10000,\n",
       "              verbose=True)"
      ]
     },
     "execution_count": 132,
     "metadata": {},
     "output_type": "execute_result"
    }
   ],
   "source": [
    "#reg = ARDRegression(fit_intercept=False, n_iter=5000, tol=1e-3, verbose=True, compute_score=True, alpha_1=beta_prior[0], alpha_2=beta_prior[1], threshold_lambda=1e4)\n",
    "#reg.fit(theta, dt.squeeze())\n",
    "\n",
    "reg = ARDRegression(fit_intercept=False, n_iter=10000, tol=1e-3, verbose=True, compute_score=True)\n",
    "reg.fit(theta, dt.squeeze())"
   ]
  },
  {
   "cell_type": "code",
   "execution_count": 133,
   "id": "christian-compression",
   "metadata": {},
   "outputs": [
    {
     "data": {
      "text/plain": [
       "2364.2839902757696"
      ]
     },
     "execution_count": 133,
     "metadata": {},
     "output_type": "execute_result"
    }
   ],
   "source": [
    "reg.scores_[-1]"
   ]
  },
  {
   "cell_type": "code",
   "execution_count": 134,
   "id": "fiscal-afternoon",
   "metadata": {},
   "outputs": [
    {
     "data": {
      "text/plain": [
       "10000"
      ]
     },
     "execution_count": 134,
     "metadata": {},
     "output_type": "execute_result"
    }
   ],
   "source": [
    "reg.n_iter"
   ]
  },
  {
   "cell_type": "code",
   "execution_count": 135,
   "id": "varying-silver",
   "metadata": {},
   "outputs": [
    {
     "data": {
      "text/plain": [
       "310.9164734804584"
      ]
     },
     "execution_count": 135,
     "metadata": {},
     "output_type": "execute_result"
    }
   ],
   "source": [
    "reg.alpha_"
   ]
  },
  {
   "cell_type": "code",
   "execution_count": 136,
   "id": "defensive-johnson",
   "metadata": {},
   "outputs": [
    {
     "data": {
      "text/plain": [
       "array([[ 0.05877547],\n",
       "       [-3.31372212],\n",
       "       [ 0.        ],\n",
       "       [-0.51134804],\n",
       "       [ 0.        ],\n",
       "       [ 0.        ],\n",
       "       [-0.35908504],\n",
       "       [ 4.09710355],\n",
       "       [-0.19189519],\n",
       "       [-1.1667189 ],\n",
       "       [ 0.        ],\n",
       "       [ 0.        ],\n",
       "       [ 0.41027288],\n",
       "       [-6.79879527],\n",
       "       [ 0.32251991],\n",
       "       [ 1.90366085],\n",
       "       [ 0.        ],\n",
       "       [ 0.        ],\n",
       "       [-0.06397146],\n",
       "       [ 0.4204566 ],\n",
       "       [-0.09195078],\n",
       "       [-1.09869162],\n",
       "       [ 0.        ],\n",
       "       [ 0.        ],\n",
       "       [ 0.        ],\n",
       "       [ 0.66802318],\n",
       "       [ 0.        ],\n",
       "       [ 0.22817827],\n",
       "       [ 0.        ],\n",
       "       [ 0.        ]])"
      ]
     },
     "execution_count": 136,
     "metadata": {},
     "output_type": "execute_result"
    }
   ],
   "source": [
    "reg.coef_[:, None]"
   ]
  },
  {
   "cell_type": "code",
   "execution_count": 138,
   "id": "equipped-nashville",
   "metadata": {},
   "outputs": [
    {
     "data": {
      "text/plain": [
       "DeviceArray([[3.98927795e+02, 2.88755066e+02],\n",
       "             [9.52427238e-02, 9.10642445e-02],\n",
       "             [2.33041094e+04, 2.80085312e+05],\n",
       "             [3.53271675e+00, 3.82210374e+00],\n",
       "             [6.28030029e+03, 1.88773066e+04],\n",
       "             [1.15827148e+04, 1.11728891e+05],\n",
       "             [5.75298615e+01, 7.71865511e+00],\n",
       "             [1.56551600e-01, 5.94956987e-02],\n",
       "             [5.23519336e+03, 2.69252777e+01],\n",
       "             [1.28710139e+00, 7.32866466e-01],\n",
       "             [7.30539375e+04, 4.06037500e+04],\n",
       "             [3.75362812e+04, 8.98617812e+04],\n",
       "             [9.10812793e+03, 5.82656193e+00],\n",
       "             [1.15768995e+01, 2.15826016e-02],\n",
       "             [3.05374414e+04, 9.56430817e+00],\n",
       "             [7.79449999e-01, 2.75549799e-01],\n",
       "             [1.24610547e+05, 4.92433516e+04],\n",
       "             [1.29742672e+05, 4.72120281e+05],\n",
       "             [1.92278672e+04, 2.07681198e+02],\n",
       "             [1.60088576e-02, 3.77857089e+00],\n",
       "             [3.06472617e+04, 1.17738655e+02],\n",
       "             [1.33869219e+00, 8.27343762e-01],\n",
       "             [1.99492016e+05, 6.31432969e+04],\n",
       "             [1.06382836e+05, 8.30217031e+04],\n",
       "             [5.07339141e+04, 7.13013125e+04],\n",
       "             [1.05382375e-01, 2.21126223e+00],\n",
       "             [1.77091406e+04, 2.87184434e+04],\n",
       "             [1.48736410e+01, 1.91810932e+01],\n",
       "             [4.27187125e+05, 3.27135656e+05],\n",
       "             [3.17964281e+05, 1.67739641e+05]], dtype=float32)"
      ]
     },
     "execution_count": 138,
     "metadata": {},
     "output_type": "execute_result"
    }
   ],
   "source": [
    "jnp.stack([prior, reg.lambda_], axis=1)"
   ]
  },
  {
   "cell_type": "code",
   "execution_count": 139,
   "id": "voluntary-school",
   "metadata": {},
   "outputs": [
    {
     "data": {
      "text/plain": [
       "DeviceArray([[ 4.8696157e-02,  5.8775466e-02],\n",
       "             [-3.2245805e+00, -3.3137221e+00],\n",
       "             [ 2.1546360e-03,  0.0000000e+00],\n",
       "             [-5.4744256e-01, -5.1134807e-01],\n",
       "             [-1.2097111e-02,  0.0000000e+00],\n",
       "             [-9.4791455e-03,  0.0000000e+00],\n",
       "             [-1.2721595e-01, -3.5908505e-01],\n",
       "             [ 2.4134932e+00,  4.0971036e+00],\n",
       "             [ 7.0957816e-03, -1.9189519e-01],\n",
       "             [-7.1535170e-01, -1.1667188e+00],\n",
       "             [-1.0213110e-03,  0.0000000e+00],\n",
       "             [ 3.8789716e-03,  0.0000000e+00],\n",
       "             [ 1.1479468e-03,  4.1027287e-01],\n",
       "             [ 2.4756903e-02, -6.7987952e+00],\n",
       "             [ 4.1476483e-04,  3.2251993e-01],\n",
       "             [ 7.4088562e-01,  1.9036609e+00],\n",
       "             [-8.0181990e-04,  0.0000000e+00],\n",
       "             [-3.3212517e-04,  0.0000000e+00],\n",
       "             [ 1.2976903e-04, -6.3971460e-02],\n",
       "             [-7.7441735e+00,  4.2045659e-01],\n",
       "             [-7.9772383e-04, -9.1950782e-02],\n",
       "             [-7.1307904e-01, -1.0986916e+00],\n",
       "             [-3.0689593e-04,  0.0000000e+00],\n",
       "             [-1.9259083e-03,  0.0000000e+00],\n",
       "             [-6.9714959e-05,  0.0000000e+00],\n",
       "             [ 3.0064807e+00,  6.6802317e-01],\n",
       "             [-6.5443283e-03,  0.0000000e+00],\n",
       "             [ 2.3394981e-01,  2.2817826e-01],\n",
       "             [ 1.3701469e-04,  0.0000000e+00],\n",
       "             [ 9.0655551e-04,  0.0000000e+00]], dtype=float32)"
      ]
     },
     "execution_count": 139,
     "metadata": {},
     "output_type": "execute_result"
    }
   ],
   "source": [
    "jnp.concatenate([coeffs, reg.coef_[:, None]], axis=1)"
   ]
  },
  {
   "cell_type": "code",
   "execution_count": 109,
   "id": "molecular-plasma",
   "metadata": {},
   "outputs": [],
   "source": [
    "@jax.jit\n",
    "def update_posterior(gram, XT_y, prior):\n",
    "    alpha, beta = prior\n",
    "    L = jnp.linalg.cholesky(jnp.diag(alpha) + beta * gram)\n",
    "    R = jax.scipy.linalg.solve_triangular(L, jnp.eye(alpha.shape[0]), check_finite=False, lower=True)\n",
    "    sigma = jnp.dot(R.T, R)\n",
    "    mean = beta * jnp.dot(sigma, XT_y)\n",
    "\n",
    "    return mean, sigma"
   ]
  },
  {
   "cell_type": "code",
   "execution_count": 108,
   "id": "communist-microwave",
   "metadata": {},
   "outputs": [],
   "source": [
    "coeffs, _ = update_posterior(gram, XT_y, (prior, noise))"
   ]
  },
  {
   "cell_type": "code",
   "execution_count": 114,
   "id": "desperate-conjunction",
   "metadata": {},
   "outputs": [
    {
     "data": {
      "text/plain": [
       "DeviceArray([[-5.7919014e-02],\n",
       "             [-3.0032797e+00],\n",
       "             [-2.2747514e-01],\n",
       "             [-8.2916158e-01],\n",
       "             [-4.8000738e-02],\n",
       "             [ 1.7009124e-03],\n",
       "             [-2.5027883e-01],\n",
       "             [-4.2495742e+00],\n",
       "             [-5.1446104e-01],\n",
       "             [ 1.1387956e+00],\n",
       "             [-9.3527526e-02],\n",
       "             [ 7.0195116e-02],\n",
       "             [ 3.1325640e-04],\n",
       "             [-4.7878356e+00],\n",
       "             [ 2.8211581e-02],\n",
       "             [-2.1874134e-03],\n",
       "             [ 1.5482834e-01],\n",
       "             [-1.3086452e-01],\n",
       "             [-5.6049746e-01],\n",
       "             [ 1.3943349e+01],\n",
       "             [ 1.6021583e-03],\n",
       "             [ 1.3293099e-04],\n",
       "             [-5.8732081e-02],\n",
       "             [ 7.3281229e-02],\n",
       "             [-1.0674131e-03],\n",
       "             [-6.7824774e+00],\n",
       "             [ 6.9751003e-04],\n",
       "             [-2.5307190e-01],\n",
       "             [-9.2636282e-04],\n",
       "             [-1.2664698e-02]], dtype=float32)"
      ]
     },
     "execution_count": 114,
     "metadata": {},
     "output_type": "execute_result"
    }
   ],
   "source": [
    "coeffs"
   ]
  },
  {
   "cell_type": "code",
   "execution_count": 125,
   "id": "simple-salad",
   "metadata": {},
   "outputs": [],
   "source": [
    "def update_posterior(gram, XT_y, prior):\n",
    "    alpha, beta = prior\n",
    "    L = jnp.linalg.cholesky(jnp.diag(alpha) + beta * gram)\n",
    "    print(L)\n",
    "    R = jax.scipy.linalg.solve_triangular(L, jnp.eye(alpha.shape[0]), check_finite=False, lower=True)\n",
    "    sigma = jnp.dot(R.T, R)\n",
    "    mean = beta * jnp.dot(sigma, XT_y)\n",
    "\n",
    "    return mean, sigma"
   ]
  },
  {
   "cell_type": "code",
   "execution_count": 126,
   "id": "thick-diploma",
   "metadata": {},
   "outputs": [
    {
     "name": "stdout",
     "output_type": "stream",
     "text": [
      "[[ 2.25791779e+02  0.00000000e+00  0.00000000e+00  0.00000000e+00\n",
      "   0.00000000e+00  0.00000000e+00  0.00000000e+00  0.00000000e+00\n",
      "   0.00000000e+00  0.00000000e+00  0.00000000e+00  0.00000000e+00\n",
      "   0.00000000e+00  0.00000000e+00  0.00000000e+00  0.00000000e+00\n",
      "   0.00000000e+00  0.00000000e+00  0.00000000e+00  0.00000000e+00\n",
      "   0.00000000e+00  0.00000000e+00  0.00000000e+00  0.00000000e+00\n",
      "   0.00000000e+00  0.00000000e+00  0.00000000e+00  0.00000000e+00\n",
      "   0.00000000e+00  0.00000000e+00]\n",
      " [ 6.57620525e+00  8.84318237e+01  0.00000000e+00  0.00000000e+00\n",
      "   0.00000000e+00  0.00000000e+00  0.00000000e+00  0.00000000e+00\n",
      "   0.00000000e+00  0.00000000e+00  0.00000000e+00  0.00000000e+00\n",
      "   0.00000000e+00  0.00000000e+00  0.00000000e+00  0.00000000e+00\n",
      "   0.00000000e+00  0.00000000e+00  0.00000000e+00  0.00000000e+00\n",
      "   0.00000000e+00  0.00000000e+00  0.00000000e+00  0.00000000e+00\n",
      "   0.00000000e+00  0.00000000e+00  0.00000000e+00  0.00000000e+00\n",
      "   0.00000000e+00  0.00000000e+00]\n",
      " [-6.78934097e-01 -1.15725085e-01  1.40843155e+02  0.00000000e+00\n",
      "   0.00000000e+00  0.00000000e+00  0.00000000e+00  0.00000000e+00\n",
      "   0.00000000e+00  0.00000000e+00  0.00000000e+00  0.00000000e+00\n",
      "   0.00000000e+00  0.00000000e+00  0.00000000e+00  0.00000000e+00\n",
      "   0.00000000e+00  0.00000000e+00  0.00000000e+00  0.00000000e+00\n",
      "   0.00000000e+00  0.00000000e+00  0.00000000e+00  0.00000000e+00\n",
      "   0.00000000e+00  0.00000000e+00  0.00000000e+00  0.00000000e+00\n",
      "   0.00000000e+00  0.00000000e+00]\n",
      " [-1.14680409e-01 -2.24140167e+02 -1.86252445e-01  2.29954117e+02\n",
      "   0.00000000e+00  0.00000000e+00  0.00000000e+00  0.00000000e+00\n",
      "   0.00000000e+00  0.00000000e+00  0.00000000e+00  0.00000000e+00\n",
      "   0.00000000e+00  0.00000000e+00  0.00000000e+00  0.00000000e+00\n",
      "   0.00000000e+00  0.00000000e+00  0.00000000e+00  0.00000000e+00\n",
      "   0.00000000e+00  0.00000000e+00  0.00000000e+00  0.00000000e+00\n",
      "   0.00000000e+00  0.00000000e+00  0.00000000e+00  0.00000000e+00\n",
      "   0.00000000e+00  0.00000000e+00]\n",
      " [ 2.26266030e-03  7.02743512e-03 -7.32135986e+02 -5.90599597e-01\n",
      "   5.89849426e+02  0.00000000e+00  0.00000000e+00  0.00000000e+00\n",
      "   0.00000000e+00  0.00000000e+00  0.00000000e+00  0.00000000e+00\n",
      "   0.00000000e+00  0.00000000e+00  0.00000000e+00  0.00000000e+00\n",
      "   0.00000000e+00  0.00000000e+00  0.00000000e+00  0.00000000e+00\n",
      "   0.00000000e+00  0.00000000e+00  0.00000000e+00  0.00000000e+00\n",
      "   0.00000000e+00  0.00000000e+00  0.00000000e+00  0.00000000e+00\n",
      "   0.00000000e+00  0.00000000e+00]\n",
      " [ 4.41057086e-02  1.16605945e+03  9.42580760e-01 -2.70556128e+03\n",
      "  -1.19428957e+00  1.62421106e+03  0.00000000e+00  0.00000000e+00\n",
      "   0.00000000e+00  0.00000000e+00  0.00000000e+00  0.00000000e+00\n",
      "   0.00000000e+00  0.00000000e+00  0.00000000e+00  0.00000000e+00\n",
      "   0.00000000e+00  0.00000000e+00  0.00000000e+00  0.00000000e+00\n",
      "   0.00000000e+00  0.00000000e+00  0.00000000e+00  0.00000000e+00\n",
      "   0.00000000e+00  0.00000000e+00  0.00000000e+00  0.00000000e+00\n",
      "   0.00000000e+00  0.00000000e+00]\n",
      " [ 1.39302311e+01 -3.88072133e+00 -5.46077805e+01 -3.67984962e+00\n",
      "  -3.41832314e+01 -3.33956409e+00  6.54177704e+01  0.00000000e+00\n",
      "   0.00000000e+00  0.00000000e+00  0.00000000e+00  0.00000000e+00\n",
      "   0.00000000e+00  0.00000000e+00  0.00000000e+00  0.00000000e+00\n",
      "   0.00000000e+00  0.00000000e+00  0.00000000e+00  0.00000000e+00\n",
      "   0.00000000e+00  0.00000000e+00  0.00000000e+00  0.00000000e+00\n",
      "   0.00000000e+00  0.00000000e+00  0.00000000e+00  0.00000000e+00\n",
      "   0.00000000e+00  0.00000000e+00]\n",
      " [-1.11417329e+00  6.28674316e+01 -1.67126060e+00 -3.64703865e+01\n",
      "  -4.65945482e+00 -3.22771168e+00 -5.95734179e-01  1.46192389e+01\n",
      "   0.00000000e+00  0.00000000e+00  0.00000000e+00  0.00000000e+00\n",
      "   0.00000000e+00  0.00000000e+00  0.00000000e+00  0.00000000e+00\n",
      "   0.00000000e+00  0.00000000e+00  0.00000000e+00  0.00000000e+00\n",
      "   0.00000000e+00  0.00000000e+00  0.00000000e+00  0.00000000e+00\n",
      "   0.00000000e+00  0.00000000e+00  0.00000000e+00  0.00000000e+00\n",
      "   0.00000000e+00  0.00000000e+00]\n",
      " [-3.41028328e+01 -1.99444786e-01  1.59450714e+02  1.22543287e+00\n",
      "  -2.49820881e+01 -9.48421192e+00 -4.38281822e+01  1.30737230e-01\n",
      "   4.25970650e+01  0.00000000e+00  0.00000000e+00  0.00000000e+00\n",
      "   0.00000000e+00  0.00000000e+00  0.00000000e+00  0.00000000e+00\n",
      "   0.00000000e+00  0.00000000e+00  0.00000000e+00  0.00000000e+00\n",
      "   0.00000000e+00  0.00000000e+00  0.00000000e+00  0.00000000e+00\n",
      "   0.00000000e+00  0.00000000e+00  0.00000000e+00  0.00000000e+00\n",
      "   0.00000000e+00  0.00000000e+00]\n",
      " [ 1.42619148e-01 -2.54186005e+02  1.92689884e+00  2.47312210e+02\n",
      "   1.32501469e+01 -7.10552750e+01  1.09816074e+01 -4.52029915e+01\n",
      "   3.39844537e+00  4.84422989e+01  0.00000000e+00  0.00000000e+00\n",
      "   0.00000000e+00  0.00000000e+00  0.00000000e+00  0.00000000e+00\n",
      "   0.00000000e+00  0.00000000e+00  0.00000000e+00  0.00000000e+00\n",
      "   0.00000000e+00  0.00000000e+00  0.00000000e+00  0.00000000e+00\n",
      "   0.00000000e+00  0.00000000e+00  0.00000000e+00  0.00000000e+00\n",
      "   0.00000000e+00  0.00000000e+00]\n",
      " [ 8.77779388e+01 -2.35215607e+01 -9.33089050e+02  3.57089901e+00\n",
      "   5.82133850e+02  6.53546143e+01  1.95930161e+02 -6.59833479e+00\n",
      "  -1.56334061e+02  6.80226669e+01  2.14773254e+02  0.00000000e+00\n",
      "   0.00000000e+00  0.00000000e+00  0.00000000e+00  0.00000000e+00\n",
      "   0.00000000e+00  0.00000000e+00  0.00000000e+00  0.00000000e+00\n",
      "   0.00000000e+00  0.00000000e+00  0.00000000e+00  0.00000000e+00\n",
      "   0.00000000e+00  0.00000000e+00  0.00000000e+00  0.00000000e+00\n",
      "   0.00000000e+00  0.00000000e+00]\n",
      " [-1.45433024e-02  1.88553821e+03 -1.31746506e+02 -2.86290503e+03\n",
      "  -5.19970741e+01  1.80457947e+03 -4.82398720e+01  3.79309845e+02\n",
      "  -5.33669853e+01 -6.96445068e+02  1.58175522e+02  6.22409180e+02\n",
      "   0.00000000e+00  0.00000000e+00  0.00000000e+00  0.00000000e+00\n",
      "   0.00000000e+00  0.00000000e+00  0.00000000e+00  0.00000000e+00\n",
      "   0.00000000e+00  0.00000000e+00  0.00000000e+00  0.00000000e+00\n",
      "   0.00000000e+00  0.00000000e+00  0.00000000e+00  0.00000000e+00\n",
      "   0.00000000e+00  0.00000000e+00]\n",
      " [ 3.83014679e+01 -1.75070405e+00 -7.91074600e+01  3.17998081e-01\n",
      "  -2.19761715e+01  3.66675472e+00  3.57007484e+01 -5.04191780e+00\n",
      "  -3.74102058e+01  3.81726891e-01 -4.93389940e+00 -2.30417752e+00\n",
      "   7.55936432e+01  0.00000000e+00  0.00000000e+00  0.00000000e+00\n",
      "   0.00000000e+00  0.00000000e+00  0.00000000e+00  0.00000000e+00\n",
      "   0.00000000e+00  0.00000000e+00  0.00000000e+00  0.00000000e+00\n",
      "   0.00000000e+00  0.00000000e+00  0.00000000e+00  0.00000000e+00\n",
      "   0.00000000e+00  0.00000000e+00]\n",
      " [ 4.29867476e-01  6.25313492e+01 -7.32397139e-01 -4.99536209e+01\n",
      "  -6.52717590e+00  9.28881550e+00 -3.29845524e+00  1.27564707e+01\n",
      "  -1.68715024e+00 -9.81654930e+00 -1.38038230e+00 -1.19877791e+00\n",
      "   3.48813646e-02  7.89509487e+00  0.00000000e+00  0.00000000e+00\n",
      "   0.00000000e+00  0.00000000e+00  0.00000000e+00  0.00000000e+00\n",
      "   0.00000000e+00  0.00000000e+00  0.00000000e+00  0.00000000e+00\n",
      "   0.00000000e+00  0.00000000e+00  0.00000000e+00  0.00000000e+00\n",
      "   0.00000000e+00  0.00000000e+00]\n",
      " [-4.94594917e+01  2.42643905e+00  2.20114380e+02  5.37397003e+00\n",
      "  -3.56353035e+01 -1.80727806e+01 -7.80251541e+01  2.02166438e+00\n",
      "   6.49815903e+01 -6.89755011e+00 -1.68025970e+01 -3.95604348e+00\n",
      "  -7.61627078e-01 -4.69012737e+00  2.44901733e+01  0.00000000e+00\n",
      "   0.00000000e+00  0.00000000e+00  0.00000000e+00  0.00000000e+00\n",
      "   0.00000000e+00  0.00000000e+00  0.00000000e+00  0.00000000e+00\n",
      "   0.00000000e+00  0.00000000e+00  0.00000000e+00  0.00000000e+00\n",
      "   0.00000000e+00  0.00000000e+00]\n",
      " [ 2.10755920e+00 -2.88545441e+02  4.43485069e+00  3.08103973e+02\n",
      "   2.84662056e+01 -1.21896713e+02  1.72595615e+01 -6.53044968e+01\n",
      "   3.04020023e+00  9.07145615e+01 -1.09689343e+00 -2.25969601e+01\n",
      "   4.85059381e-01 -3.13377800e+01 -4.02354336e+00  5.45513153e+01\n",
      "   0.00000000e+00  0.00000000e+00  0.00000000e+00  0.00000000e+00\n",
      "   0.00000000e+00  0.00000000e+00  0.00000000e+00  0.00000000e+00\n",
      "   0.00000000e+00  0.00000000e+00  0.00000000e+00  0.00000000e+00\n",
      "   0.00000000e+00  0.00000000e+00]\n",
      " [ 1.99097916e+02 -5.19406090e+01 -1.29255298e+03  6.52298403e+00\n",
      "   6.59955933e+02  1.34971786e+02  3.97197784e+02 -1.63753510e+01\n",
      "  -3.09439575e+02  1.29081665e+02  3.63590240e+02  1.78355122e+01\n",
      "   4.61254930e+00  6.15144873e+00 -8.62775879e+01  1.27660227e+01\n",
      "   1.24411545e+02  0.00000000e+00  0.00000000e+00  0.00000000e+00\n",
      "   0.00000000e+00  0.00000000e+00  0.00000000e+00  0.00000000e+00\n",
      "   0.00000000e+00  0.00000000e+00  0.00000000e+00  0.00000000e+00\n",
      "   0.00000000e+00  0.00000000e+00]\n",
      " [ 1.33183184e+01  2.52255786e+03 -2.87663513e+02 -3.49076807e+03\n",
      "  -1.24908875e+02  2.27096558e+03 -8.84300079e+01  6.43607849e+02\n",
      "  -1.00046921e+02 -1.09139758e+03  1.83753204e+02  1.00428802e+03\n",
      "  -4.08849430e+00  3.05348450e+02  4.25619888e+00 -2.24530441e+02\n",
      "   4.66515732e+01  4.34739441e+02  0.00000000e+00  0.00000000e+00\n",
      "   0.00000000e+00  0.00000000e+00  0.00000000e+00  0.00000000e+00\n",
      "   0.00000000e+00  0.00000000e+00  0.00000000e+00  0.00000000e+00\n",
      "   0.00000000e+00  0.00000000e+00]\n",
      " [ 3.51363106e+01 -3.02610636e+00 -1.17438248e+02 -1.56487417e+00\n",
      "  -1.60610962e+01  5.68640852e+00  5.66895523e+01 -2.09379172e+00\n",
      "  -4.04936905e+01  2.00963187e+00 -4.55091953e+00  5.64574778e-01\n",
      "   9.70147133e-01  5.58742940e-01 -9.11172962e+00  6.03285134e-01\n",
      "   1.53313267e+00 -1.42857182e+00  1.04986992e+01  0.00000000e+00\n",
      "   0.00000000e+00  0.00000000e+00  0.00000000e+00  0.00000000e+00\n",
      "   0.00000000e+00  0.00000000e+00  0.00000000e+00  0.00000000e+00\n",
      "   0.00000000e+00  0.00000000e+00]\n",
      " [-1.61832541e-01  6.72123184e+01 -3.41714472e-01 -6.53426666e+01\n",
      "  -9.90227985e+00  2.08731346e+01 -3.80262327e+00  1.93766117e+01\n",
      "  -1.84342062e+00 -2.01367188e+01 -2.18691611e+00  1.99395514e+00\n",
      "  -2.36777008e-01  1.48507137e+01  4.70483899e-01 -3.21828055e+00\n",
      "  -1.43048406e+00  2.96919322e+00  7.59982944e-01  4.97390938e+00\n",
      "   0.00000000e+00  0.00000000e+00  0.00000000e+00  0.00000000e+00\n",
      "   0.00000000e+00  0.00000000e+00  0.00000000e+00  0.00000000e+00\n",
      "   0.00000000e+00  0.00000000e+00]\n",
      " [-7.33590927e+01  4.82437086e+00  3.12337494e+02  8.74492931e+00\n",
      "  -5.51837654e+01 -3.21051025e+01 -1.16976776e+02  1.57996297e+00\n",
      "   1.04746239e+02 -1.67753220e+01 -3.78244171e+01 -1.05447111e+01\n",
      "  -4.22525287e-01 -1.00139427e+01  3.66033592e+01 -2.66491246e+00\n",
      "  -2.07607479e+01  7.11259767e-02 -1.23856087e+01 -2.71439719e+00\n",
      "   7.58959579e+01  0.00000000e+00  0.00000000e+00  0.00000000e+00\n",
      "   0.00000000e+00  0.00000000e+00  0.00000000e+00  0.00000000e+00\n",
      "   0.00000000e+00  0.00000000e+00]\n",
      " [ 1.48927629e+00 -3.40380951e+02  5.97442722e+00  3.90704010e+02\n",
      "   4.47882843e+01 -1.83059998e+02  2.38917217e+01 -1.00359184e+02\n",
      "   6.09578085e+00  1.56496048e+02 -1.57890975e+00 -4.82311287e+01\n",
      "   7.19686449e-01 -7.08766785e+01 -7.16820574e+00  4.28625450e+01\n",
      "   7.82852077e+00 -5.20075073e+01 -3.60825372e+00 -3.16524868e+01\n",
      "  -1.59366941e+00  5.68938522e+01  0.00000000e+00  0.00000000e+00\n",
      "   0.00000000e+00  0.00000000e+00  0.00000000e+00  0.00000000e+00\n",
      "   0.00000000e+00  0.00000000e+00]\n",
      " [ 3.38843689e+02 -8.79764252e+01 -1.85318958e+03  7.76570988e+00\n",
      "   8.03911560e+02  2.21074188e+02  6.47375977e+02 -2.69934597e+01\n",
      "  -5.44048157e+02  2.18376724e+02  5.70425354e+02  6.33779373e+01\n",
      "   2.52889943e+00  1.74436779e+01 -2.15506531e+02  3.31354561e+01\n",
      "   2.78724548e+02  1.74501693e+00 -7.01599121e-01 -1.61461383e-01\n",
      "  -1.93571072e+01  1.06322308e+01  9.28431168e+01  0.00000000e+00\n",
      "   0.00000000e+00  0.00000000e+00  0.00000000e+00  0.00000000e+00\n",
      "   0.00000000e+00  0.00000000e+00]\n",
      " [ 4.36296387e+01  3.26566968e+03 -4.92855225e+02 -4.43337549e+03\n",
      "  -2.21574524e+02  2.92947534e+03 -1.03134888e+02  1.03798743e+03\n",
      "  -2.02233719e+02 -1.76143396e+03  2.79619659e+02  1.46477197e+03\n",
      "  -9.20949459e+00  7.16070435e+02 -2.06661053e+01 -4.84408752e+02\n",
      "   7.64786453e+01  9.30851929e+02  1.17996874e+01  9.74581375e+01\n",
      "  -1.22809591e+01 -1.72446384e+01  2.42879963e+01  2.38066055e+02\n",
      "   0.00000000e+00  0.00000000e+00  0.00000000e+00  0.00000000e+00\n",
      "   0.00000000e+00  0.00000000e+00]\n",
      " [ 4.94195786e+01 -3.49357200e+00 -1.68659286e+02 -2.55630302e+00\n",
      "  -5.28988886e+00  1.20147991e+01  7.02710419e+01 -3.54026461e+00\n",
      "  -6.37610359e+01  5.86138582e+00  6.76229775e-01  3.32287693e+00\n",
      "   1.36882544e+00  4.45631981e+00 -1.99932079e+01  2.06878662e+00\n",
      "   4.31470156e+00 -2.58041549e+00  1.45473461e+01 -5.33121586e-01\n",
      "  -2.86573386e+00  4.00581300e-01  5.82426310e+00  6.17771447e-01\n",
      "   6.57362137e+01  0.00000000e+00  0.00000000e+00  0.00000000e+00\n",
      "   0.00000000e+00  0.00000000e+00]\n",
      " [ 7.10856318e-02  7.77223129e+01  4.74429317e-02 -8.40957718e+01\n",
      "  -1.41554041e+01  3.47289467e+01 -5.83144999e+00  2.69280987e+01\n",
      "  -2.90385342e+00 -3.51566086e+01 -2.86942291e+00  6.49626255e+00\n",
      "  -2.84239024e-01  2.67360954e+01  7.90644825e-01 -8.61994267e+00\n",
      "  -3.26756811e+00  9.14981556e+00  1.82822824e+00  1.11927748e+01\n",
      "  -1.86245684e-02 -9.43592548e-01 -7.87617981e-01  1.89099741e+00\n",
      "   1.80886894e-01  3.29060268e+00  0.00000000e+00  0.00000000e+00\n",
      "   0.00000000e+00  0.00000000e+00]\n",
      " [-1.05352173e+02  7.80778790e+00  4.50965393e+02  1.34250402e+01\n",
      "  -8.57448959e+01 -5.27456589e+01 -1.72620590e+02  5.95076144e-01\n",
      "   1.62798920e+02 -3.26401863e+01 -7.01989059e+01 -2.31868858e+01\n",
      "   8.95711660e-01 -2.01262932e+01  7.65173035e+01 -6.39120197e+00\n",
      "  -4.62790604e+01 -7.01981783e-01 -2.08831062e+01 -6.57661915e+00\n",
      "   1.50545702e+01 -6.06810999e+00 -4.10090523e+01 -4.76319981e+00\n",
      "  -3.72917295e+00 -5.05556488e+00  1.24568642e+02  0.00000000e+00\n",
      "   0.00000000e+00  0.00000000e+00]\n",
      " [ 9.78613555e-01 -4.15747589e+02  8.64610291e+00  5.04340332e+02\n",
      "   6.67863235e+01 -2.60579163e+02  3.25109520e+01 -1.48275986e+02\n",
      "   1.04679356e+01  2.50899017e+02 -3.96870184e+00 -7.95636063e+01\n",
      "   1.16380382e+00 -1.33402817e+02 -1.07688227e+01  8.45092697e+01\n",
      "   1.49754524e+01 -1.05645851e+02 -8.73248005e+00 -6.81528397e+01\n",
      "  -2.38411117e+00  1.70580120e+01  1.12610455e+01 -2.32718182e+01\n",
      "  -5.39812982e-01 -2.89741440e+01 -2.12816668e+00  2.50558071e+01\n",
      "   0.00000000e+00  0.00000000e+00]\n",
      " [ 5.33070312e+02 -1.33884598e+02 -2.70092139e+03  1.00547543e+01\n",
      "   1.04342798e+03  3.48118683e+02  9.97054565e+02 -3.88546486e+01\n",
      "  -8.97553955e+02  3.55844513e+02  8.55777405e+02  1.44147888e+02\n",
      "  -5.23095179e+00  4.16170998e+01 -4.55000305e+02  6.82351837e+01\n",
      "   5.23337402e+02  7.62134933e+00  1.33957219e+00  2.29286909e+00\n",
      "  -6.51974335e+01  3.58720589e+01  2.72923126e+02  5.21846104e+00\n",
      "   3.76955914e+00 -8.22535610e+00 -1.13235264e+01  1.22068796e+01\n",
      "   1.87661133e+02  0.00000000e+00]\n",
      " [ 9.83499603e+01  4.22848242e+03 -7.93855042e+02 -5.76193652e+03\n",
      "  -3.49774139e+02  3.86977881e+03 -1.05120277e+02  1.57594800e+03\n",
      "  -3.70887329e+02 -2.71045605e+03  4.17320618e+02  2.02937915e+03\n",
      "  -2.04612541e+01  1.38139343e+03 -8.67035675e+01 -9.03776978e+02\n",
      "   1.23581749e+02  1.68468469e+03  3.48036499e+01  3.29292480e+02\n",
      "  -3.90493736e+01 -4.75486221e+01  6.97756424e+01  6.19720886e+02\n",
      "   2.39003301e+00  5.54128647e+01 -5.57097721e+00  7.28091097e+00\n",
      "   7.03524494e+00  1.47342270e+02]]\n"
     ]
    }
   ],
   "source": [
    "coeffs, _ = update_posterior(gram, XT_y, (prior, noise))"
   ]
  },
  {
   "cell_type": "code",
   "execution_count": 127,
   "id": "after-crazy",
   "metadata": {},
   "outputs": [
    {
     "data": {
      "text/plain": [
       "DeviceArray([[-5.7919014e-02],\n",
       "             [-3.0032797e+00],\n",
       "             [-2.2748420e-01],\n",
       "             [-8.2918572e-01],\n",
       "             [-4.8003003e-02],\n",
       "             [ 1.6994019e-03],\n",
       "             [-2.5027883e-01],\n",
       "             [-4.2495742e+00],\n",
       "             [-5.1450938e-01],\n",
       "             [ 1.1388923e+00],\n",
       "             [-9.3521483e-02],\n",
       "             [ 7.0201159e-02],\n",
       "             [ 3.1212348e-04],\n",
       "             [-4.7882223e+00],\n",
       "             [ 2.8223665e-02],\n",
       "             [-2.1843922e-03],\n",
       "             [ 1.5482230e-01],\n",
       "             [-1.3080409e-01],\n",
       "             [-5.6048536e-01],\n",
       "             [ 1.3940255e+01],\n",
       "             [ 1.6021583e-03],\n",
       "             [ 1.2386752e-04],\n",
       "             [-5.8736615e-02],\n",
       "             [ 7.3305398e-02],\n",
       "             [-1.0674131e-03],\n",
       "             [-6.7824774e+00],\n",
       "             [ 6.9751003e-04],\n",
       "             [-2.5307190e-01],\n",
       "             [-9.2636282e-04],\n",
       "             [-1.2664698e-02]], dtype=float32)"
      ]
     },
     "execution_count": 127,
     "metadata": {},
     "output_type": "execute_result"
    }
   ],
   "source": [
    "coeffs"
   ]
  },
  {
   "cell_type": "code",
   "execution_count": null,
   "id": "popular-lotus",
   "metadata": {},
   "outputs": [],
   "source": []
  }
 ],
 "metadata": {
  "kernelspec": {
   "display_name": "Python 3",
   "language": "python",
   "name": "python3"
  },
  "language_info": {
   "codemirror_mode": {
    "name": "ipython",
    "version": 3
   },
   "file_extension": ".py",
   "mimetype": "text/x-python",
   "name": "python",
   "nbconvert_exporter": "python",
   "pygments_lexer": "ipython3",
   "version": "3.8.3"
  }
 },
 "nbformat": 4,
 "nbformat_minor": 5
}
