{
 "cells": [
  {
   "cell_type": "markdown",
   "metadata": {},
   "source": [
    "in this notebook we implement ridge regression, first as a function, then as a flax layer."
   ]
  },
  {
   "cell_type": "code",
   "execution_count": 1,
   "metadata": {},
   "outputs": [],
   "source": [
    "# %% Imports\n",
    "import jax\n",
    "from jax import random, numpy as jnp\n",
    "from functools import partial\n",
    "from jax import lax\n",
    "import matplotlib.pyplot as plt\n",
    "import seaborn as sns\n",
    "sns.set()\n",
    "\n",
    "from flax import linen as nn\n",
    "%load_ext autoreload\n",
    "%autoreload 2"
   ]
  },
  {
   "cell_type": "code",
   "execution_count": 15,
   "metadata": {},
   "outputs": [],
   "source": [
    "data = jnp.load('test_data.npy', allow_pickle=True).item()\n",
    "y, X = data['y'], data['X']\n",
    "\n",
    "X_normed = X / jnp.linalg.norm(X, axis=0, keepdims=True)"
   ]
  },
  {
   "cell_type": "code",
   "execution_count": 2,
   "metadata": {},
   "outputs": [],
   "source": [
    "def ridge(X, y, l):\n",
    "    \"\"\"Ridge regression using augmente data. X can have dimensions.\"\"\"\n",
    "    l_normed = jnp.diag(jnp.sqrt(l) * jnp.linalg.norm(X, axis=0))\n",
    "    l_normed = jax.ops.index_update(l_normed, jax.ops.index[0, 0], 0.0) # shouldnt apply l2 to offset\n",
    "    X_augmented = jnp.concatenate([X, l_normed], axis=0)\n",
    "    y_augmented = jnp.concatenate([y, jnp.zeros((X.shape[1], 1))], axis=0)\n",
    "    \n",
    "    coeffs = jnp.linalg.lstsq(X_augmented, y_augmented)[0]\n",
    "    return coeffs"
   ]
  },
  {
   "cell_type": "markdown",
   "metadata": {},
   "source": [
    "First we check if we did the normalization correctly:"
   ]
  },
  {
   "cell_type": "code",
   "execution_count": 72,
   "metadata": {},
   "outputs": [
    {
     "data": {
      "text/plain": [
       "DeviceArray([[ 0.00110248],\n",
       "             [-0.05612651],\n",
       "             [ 0.09737656],\n",
       "             [ 0.0015001 ],\n",
       "             [-0.0152597 ],\n",
       "             [-0.6944833 ],\n",
       "             [ 0.01022425],\n",
       "             [-0.00192492],\n",
       "             [ 0.02313143],\n",
       "             [-0.3198123 ],\n",
       "             [-0.00795702],\n",
       "             [-0.00107516]], dtype=float32)"
      ]
     },
     "execution_count": 72,
     "metadata": {},
     "output_type": "execute_result"
    }
   ],
   "source": [
    "ridge(X, y, l=1e-3)"
   ]
  },
  {
   "cell_type": "code",
   "execution_count": 73,
   "metadata": {},
   "outputs": [
    {
     "data": {
      "text/plain": [
       "DeviceArray([[ 0.00110242],\n",
       "             [-0.05612676],\n",
       "             [ 0.09737664],\n",
       "             [ 0.0015001 ],\n",
       "             [-0.01525926],\n",
       "             [-0.69448274],\n",
       "             [ 0.0102241 ],\n",
       "             [-0.00192489],\n",
       "             [ 0.02313079],\n",
       "             [-0.31981215],\n",
       "             [-0.00795697],\n",
       "             [-0.00107523]], dtype=float32)"
      ]
     },
     "execution_count": 73,
     "metadata": {},
     "output_type": "execute_result"
    }
   ],
   "source": [
    "ridge(X_normed, y, l=1e-3) / jnp.linalg.norm(X, axis=0)[:, None]"
   ]
  },
  {
   "cell_type": "markdown",
   "metadata": {},
   "source": [
    "Great. Now we compare it to sklearn:"
   ]
  },
  {
   "cell_type": "code",
   "execution_count": 74,
   "metadata": {},
   "outputs": [],
   "source": [
    "from sklearn.linear_model import Ridge"
   ]
  },
  {
   "cell_type": "code",
   "execution_count": 88,
   "metadata": {},
   "outputs": [],
   "source": [
    "reg = Ridge(fit_intercept=False, alpha=1e-7)"
   ]
  },
  {
   "cell_type": "code",
   "execution_count": 89,
   "metadata": {},
   "outputs": [
    {
     "data": {
      "text/plain": [
       "DeviceArray([[ 8.7421207e-04],\n",
       "             [-4.1655444e-02],\n",
       "             [ 9.8937944e-02],\n",
       "             [ 1.6173805e-03],\n",
       "             [-1.4723522e-02],\n",
       "             [-7.6221049e-01],\n",
       "             [ 9.2654191e-03],\n",
       "             [-2.8847728e-03],\n",
       "             [ 2.4254709e-02],\n",
       "             [-2.6267287e-01],\n",
       "             [-8.8438150e-03],\n",
       "             [-2.2157413e-04]], dtype=float32)"
      ]
     },
     "execution_count": 89,
     "metadata": {},
     "output_type": "execute_result"
    }
   ],
   "source": [
    "reg.fit(X_normed, y.squeeze()).coef_[:, None] / jnp.linalg.norm(X, axis=0)[:, None]"
   ]
  },
  {
   "cell_type": "markdown",
   "metadata": {},
   "source": [
    "Which is within numerical precision :-). Now let's check if we add in zero columns:"
   ]
  },
  {
   "cell_type": "code",
   "execution_count": 112,
   "metadata": {},
   "outputs": [],
   "source": [
    "mask = jnp.zeros((X.shape[1]), dtype=bool)\n",
    "mask = jax.ops.index_update(mask, jnp.array([2, 5]), True)"
   ]
  },
  {
   "cell_type": "code",
   "execution_count": 113,
   "metadata": {},
   "outputs": [
    {
     "data": {
      "text/plain": [
       "DeviceArray([[ 0.0000000e+00],\n",
       "             [-2.9165541e-08],\n",
       "             [ 9.5455818e-02],\n",
       "             [-5.6868320e-21],\n",
       "             [ 0.0000000e+00],\n",
       "             [-9.9294829e-01],\n",
       "             [ 0.0000000e+00],\n",
       "             [ 0.0000000e+00],\n",
       "             [ 0.0000000e+00],\n",
       "             [ 0.0000000e+00],\n",
       "             [ 0.0000000e+00],\n",
       "             [ 0.0000000e+00]], dtype=float32)"
      ]
     },
     "execution_count": 113,
     "metadata": {},
     "output_type": "execute_result"
    }
   ],
   "source": [
    "ridge(X * mask, y, l=1e-7)"
   ]
  },
  {
   "cell_type": "code",
   "execution_count": 114,
   "metadata": {},
   "outputs": [
    {
     "data": {
      "text/plain": [
       "DeviceArray([[ 0.        ],\n",
       "             [ 0.        ],\n",
       "             [ 0.09545576],\n",
       "             [ 0.        ],\n",
       "             [ 0.        ],\n",
       "             [-0.9929491 ],\n",
       "             [ 0.        ],\n",
       "             [ 0.        ],\n",
       "             [ 0.        ],\n",
       "             [ 0.        ],\n",
       "             [ 0.        ],\n",
       "             [ 0.        ]], dtype=float32)"
      ]
     },
     "execution_count": 114,
     "metadata": {},
     "output_type": "execute_result"
    }
   ],
   "source": [
    "reg.fit(X_normed * mask, y.squeeze()).coef_[:, None] / jnp.linalg.norm(X, axis=0)[:, None]"
   ]
  },
  {
   "cell_type": "markdown",
   "metadata": {},
   "source": [
    "Seems close enough for me... Now to put it in a flax layer:"
   ]
  },
  {
   "cell_type": "code",
   "execution_count": 3,
   "metadata": {},
   "outputs": [],
   "source": [
    "class Ridge(nn.Module):\n",
    "    l: float=1e-7\n",
    "  \n",
    "    @nn.compact\n",
    "    def __call__(self, inputs):\n",
    "        y, X = inputs\n",
    "        mask = self.variable(\n",
    "            \"mask\",\n",
    "            \"active terms\",\n",
    "            lambda n_terms: jnp.ones((n_terms, ), dtype=bool), X.shape[1])\n",
    "        \n",
    "        coeffs =  ridge(X * mask.value, y, l=self.l) \n",
    "\n",
    "        return coeffs * mask.value[:, None] # extra multiplication to compensate numerical errors"
   ]
  },
  {
   "cell_type": "code",
   "execution_count": 182,
   "metadata": {},
   "outputs": [],
   "source": [
    "model = Ridge(l=1e-7)"
   ]
  },
  {
   "cell_type": "code",
   "execution_count": 183,
   "metadata": {},
   "outputs": [],
   "source": [
    "key = random.PRNGKey(42)"
   ]
  },
  {
   "cell_type": "code",
   "execution_count": 184,
   "metadata": {},
   "outputs": [],
   "source": [
    "params = model.init(key, (y, X))"
   ]
  },
  {
   "cell_type": "code",
   "execution_count": 185,
   "metadata": {},
   "outputs": [
    {
     "data": {
      "text/plain": [
       "(DeviceArray([[ 8.7459665e-04],\n",
       "              [-4.1662801e-02],\n",
       "              [ 9.8933339e-02],\n",
       "              [ 1.6169511e-03],\n",
       "              [-1.4724741e-02],\n",
       "              [-7.6219010e-01],\n",
       "              [ 9.2849545e-03],\n",
       "              [-2.8839791e-03],\n",
       "              [ 2.4262663e-02],\n",
       "              [-2.6268721e-01],\n",
       "              [-8.8574085e-03],\n",
       "              [-2.2184884e-04]], dtype=float32),\n",
       " FrozenDict({\n",
       "     mask: {\n",
       "         active terms: DeviceArray([ True,  True,  True,  True,  True,  True,  True,  True,\n",
       "                       True,  True,  True,  True], dtype=bool),\n",
       "     },\n",
       " }))"
      ]
     },
     "execution_count": 185,
     "metadata": {},
     "output_type": "execute_result"
    }
   ],
   "source": [
    "model.apply(params, (y, X), mutable=[\"mask\"])"
   ]
  },
  {
   "cell_type": "markdown",
   "metadata": {},
   "source": [
    "now lets try and make a new dict and do a smaller update:"
   ]
  },
  {
   "cell_type": "code",
   "execution_count": 5,
   "metadata": {},
   "outputs": [],
   "source": [
    "from flax.core import freeze"
   ]
  },
  {
   "cell_type": "code",
   "execution_count": 4,
   "metadata": {},
   "outputs": [
    {
     "ename": "NameError",
     "evalue": "name 'X' is not defined",
     "output_type": "error",
     "traceback": [
      "\u001b[0;31m---------------------------------------------------------------------------\u001b[0m",
      "\u001b[0;31mNameError\u001b[0m                                 Traceback (most recent call last)",
      "\u001b[0;32m<ipython-input-4-e21d385beba7>\u001b[0m in \u001b[0;36m<module>\u001b[0;34m\u001b[0m\n\u001b[1;32m      1\u001b[0m \u001b[0;32mfrom\u001b[0m \u001b[0mflax\u001b[0m\u001b[0;34m.\u001b[0m\u001b[0mcore\u001b[0m \u001b[0;32mimport\u001b[0m \u001b[0mfreeze\u001b[0m\u001b[0;34m\u001b[0m\u001b[0;34m\u001b[0m\u001b[0m\n\u001b[0;32m----> 2\u001b[0;31m \u001b[0mmask\u001b[0m \u001b[0;34m=\u001b[0m \u001b[0mjnp\u001b[0m\u001b[0;34m.\u001b[0m\u001b[0mzeros\u001b[0m\u001b[0;34m(\u001b[0m\u001b[0;34m(\u001b[0m\u001b[0mX\u001b[0m\u001b[0;34m.\u001b[0m\u001b[0mshape\u001b[0m\u001b[0;34m[\u001b[0m\u001b[0;36m1\u001b[0m\u001b[0;34m]\u001b[0m\u001b[0;34m)\u001b[0m\u001b[0;34m,\u001b[0m \u001b[0mdtype\u001b[0m\u001b[0;34m=\u001b[0m\u001b[0mbool\u001b[0m\u001b[0;34m)\u001b[0m\u001b[0;34m\u001b[0m\u001b[0;34m\u001b[0m\u001b[0m\n\u001b[0m\u001b[1;32m      3\u001b[0m \u001b[0mmask\u001b[0m \u001b[0;34m=\u001b[0m \u001b[0mjax\u001b[0m\u001b[0;34m.\u001b[0m\u001b[0mops\u001b[0m\u001b[0;34m.\u001b[0m\u001b[0mindex_update\u001b[0m\u001b[0;34m(\u001b[0m\u001b[0mmask\u001b[0m\u001b[0;34m,\u001b[0m \u001b[0mjnp\u001b[0m\u001b[0;34m.\u001b[0m\u001b[0marray\u001b[0m\u001b[0;34m(\u001b[0m\u001b[0;34m[\u001b[0m\u001b[0;36m2\u001b[0m\u001b[0;34m,\u001b[0m \u001b[0;36m5\u001b[0m\u001b[0;34m]\u001b[0m\u001b[0;34m)\u001b[0m\u001b[0;34m,\u001b[0m \u001b[0;32mTrue\u001b[0m\u001b[0;34m)\u001b[0m\u001b[0;34m\u001b[0m\u001b[0;34m\u001b[0m\u001b[0m\n\u001b[1;32m      4\u001b[0m \u001b[0;34m\u001b[0m\u001b[0m\n\u001b[1;32m      5\u001b[0m \u001b[0mparams\u001b[0m \u001b[0;34m=\u001b[0m \u001b[0mfreeze\u001b[0m\u001b[0;34m(\u001b[0m\u001b[0;34m{\u001b[0m\u001b[0;34m'mask'\u001b[0m\u001b[0;34m:\u001b[0m \u001b[0;34m{\u001b[0m\u001b[0;34m'active terms'\u001b[0m\u001b[0;34m:\u001b[0m \u001b[0mmask\u001b[0m\u001b[0;34m}\u001b[0m\u001b[0;34m}\u001b[0m\u001b[0;34m)\u001b[0m\u001b[0;34m\u001b[0m\u001b[0;34m\u001b[0m\u001b[0m\n",
      "\u001b[0;31mNameError\u001b[0m: name 'X' is not defined"
     ]
    }
   ],
   "source": [
    "\n",
    "mask = jnp.zeros((X.shape[1]), dtype=bool)\n",
    "mask = jax.ops.index_update(mask, jnp.array([2, 5]), True)\n",
    "\n",
    "params = freeze({'mask': {'active terms': mask}})"
   ]
  },
  {
   "cell_type": "code",
   "execution_count": 187,
   "metadata": {},
   "outputs": [
    {
     "data": {
      "text/plain": [
       "(DeviceArray([[ 0.        ],\n",
       "              [-0.        ],\n",
       "              [ 0.09545582],\n",
       "              [-0.        ],\n",
       "              [ 0.        ],\n",
       "              [-0.9929483 ],\n",
       "              [ 0.        ],\n",
       "              [ 0.        ],\n",
       "              [ 0.        ],\n",
       "              [ 0.        ],\n",
       "              [ 0.        ],\n",
       "              [ 0.        ]], dtype=float32),\n",
       " FrozenDict({\n",
       "     mask: {\n",
       "         active terms: DeviceArray([False, False,  True, False, False,  True, False, False,\n",
       "                      False, False, False, False], dtype=bool),\n",
       "     },\n",
       " }))"
      ]
     },
     "execution_count": 187,
     "metadata": {},
     "output_type": "execute_result"
    }
   ],
   "source": [
    "model.apply(params, (y, X), mutable=[\"mask\"])"
   ]
  },
  {
   "cell_type": "markdown",
   "metadata": {},
   "source": [
    "Comparison with least squares:"
   ]
  },
  {
   "cell_type": "code",
   "execution_count": 190,
   "metadata": {},
   "outputs": [
    {
     "data": {
      "text/plain": [
       "DeviceArray([[ 0.09545584],\n",
       "             [-0.99294853]], dtype=float32)"
      ]
     },
     "execution_count": 190,
     "metadata": {},
     "output_type": "execute_result"
    }
   ],
   "source": [
    "jnp.linalg.lstsq(X[:, [2,5]], y)[0]"
   ]
  },
  {
   "cell_type": "code",
   "execution_count": 6,
   "metadata": {},
   "outputs": [],
   "source": [
    "from verifying_bayesian_regression.code import create_update\n",
    "from modax.data.burgers import burgers\n",
    "from modax.feature_generators import library_backward\n",
    "from modax.networks import MLP\n",
    "from flax import optim\n",
    "from modax.losses import neg_LL, loss_fn_pinn, mse\n",
    "from modax.logging import Logger\n",
    "from typing import Sequence"
   ]
  },
  {
   "cell_type": "code",
   "execution_count": 7,
   "metadata": {},
   "outputs": [],
   "source": [
    "def loss_fn_pinn(params, state, model, x, y):\n",
    "    variables = {'params': params, **state}\n",
    "    (prediction, dt, theta, coeffs), updated_state = model.apply(variables, x, mutable=list(state.keys()))\n",
    "\n",
    "    MSE = mse(prediction, y)\n",
    "    Reg = mse(dt.squeeze(), (theta @ coeffs).squeeze())\n",
    "    loss = MSE + Reg\n",
    "    metrics = {\"loss\": loss, \"mse\": MSE, \"reg\": Reg, \"coeff\": coeffs}\n",
    "\n",
    "    return loss, (updated_state, metrics)"
   ]
  },
  {
   "cell_type": "code",
   "execution_count": 8,
   "metadata": {},
   "outputs": [],
   "source": [
    "class Deepmod(nn.Module):\n",
    "    features: Sequence[int]\n",
    "\n",
    "    @nn.compact\n",
    "    def __call__(self, inputs):\n",
    "        prediction, dt, theta = library_backward(MLP(self.features), inputs)\n",
    "        coeffs = Ridge(l=1e-7)((dt, theta))\n",
    "        return prediction, dt, theta, coeffs"
   ]
  },
  {
   "cell_type": "code",
   "execution_count": 9,
   "metadata": {},
   "outputs": [],
   "source": [
    "key = random.PRNGKey(42)"
   ]
  },
  {
   "cell_type": "code",
   "execution_count": 10,
   "metadata": {},
   "outputs": [],
   "source": [
    "# Making dataset\n",
    "x = jnp.linspace(-3, 4, 50)\n",
    "t = jnp.linspace(0.5, 5.0, 20)\n",
    "\n",
    "t_grid, x_grid = jnp.meshgrid(t, x, indexing=\"ij\")\n",
    "u = burgers(x_grid, t_grid, 0.1, 1.0)\n",
    "\n",
    "X_train = jnp.concatenate([t_grid.reshape(-1, 1), x_grid.reshape(-1, 1)], axis=1)\n",
    "y_train = u.reshape(-1, 1)\n",
    "y_train += 0.01 * jnp.std(y_train) * jax.random.normal(key, y_train.shape)"
   ]
  },
  {
   "cell_type": "code",
   "execution_count": 11,
   "metadata": {},
   "outputs": [],
   "source": [
    "model = Deepmod([50, 50, 1])\n",
    "key_network, _ = random.split(key)\n",
    "variables = model.init(key_network, X_train)"
   ]
  },
  {
   "cell_type": "code",
   "execution_count": 12,
   "metadata": {},
   "outputs": [],
   "source": [
    "optimizer = optim.Adam(learning_rate=2e-3, beta1=0.99, beta2=0.99)\n",
    "state, params = variables.pop('params')\n",
    "optimizer = optimizer.create(params)"
   ]
  },
  {
   "cell_type": "code",
   "execution_count": 13,
   "metadata": {},
   "outputs": [],
   "source": [
    "# Compiling train step\n",
    "update = create_update(loss_fn_pinn, model=model, x=X_train, y=y_train)\n",
    "_ = update(optimizer, state)  # triggering compilation"
   ]
  },
  {
   "cell_type": "code",
   "execution_count": 14,
   "metadata": {},
   "outputs": [
    {
     "name": "stdout",
     "output_type": "stream",
     "text": [
      "Loss step 0: 0.23318196833133698\n"
     ]
    }
   ],
   "source": [
    "# Running to convergence\n",
    "max_epochs = 1000\n",
    "logger = Logger()\n",
    "for epoch in jnp.arange(max_epochs):\n",
    "    (optimizer, state), metrics = update(optimizer, state)\n",
    "    if epoch % 1000 == 0:\n",
    "        print(f\"Loss step {epoch}: {metrics['loss']}\")\n",
    "    if epoch % 25 == 0:\n",
    "        logger.write(metrics, epoch)\n",
    "logger.close()"
   ]
  },
  {
   "cell_type": "markdown",
   "metadata": {},
   "source": [
    "So that works as well. now to update the mask every xx epochs:"
   ]
  },
  {
   "cell_type": "code",
   "execution_count": 15,
   "metadata": {},
   "outputs": [],
   "source": [
    "from sklearn.linear_model import LassoCV"
   ]
  },
  {
   "cell_type": "code",
   "execution_count": 16,
   "metadata": {},
   "outputs": [],
   "source": [
    "import numpy as np"
   ]
  },
  {
   "cell_type": "code",
   "execution_count": 17,
   "metadata": {},
   "outputs": [],
   "source": [
    "def update_mask(X, y, reg, threshold=0.1):\n",
    "    X_normed = X / jnp.linalg.norm(X, axis=0, keepdims=True)\n",
    "    y_normed = y / jnp.linalg.norm(y, axis=0, keepdims=True)\n",
    "    coeffs = reg.fit(np.array(X_normed), np.array(y_normed).squeeze()).coef_\n",
    "    mask = coeffs > threshold \n",
    "    return jnp.array(mask)"
   ]
  },
  {
   "cell_type": "code",
   "execution_count": 18,
   "metadata": {},
   "outputs": [],
   "source": [
    "model = Deepmod([50, 50, 1])\n",
    "key_network, _ = random.split(key)\n",
    "variables = model.init(key_network, X_train)"
   ]
  },
  {
   "cell_type": "code",
   "execution_count": 19,
   "metadata": {},
   "outputs": [],
   "source": [
    "optimizer = optim.Adam(learning_rate=2e-3, beta1=0.99, beta2=0.99)\n",
    "state, params = variables.pop('params')\n",
    "optimizer = optimizer.create(params)"
   ]
  },
  {
   "cell_type": "code",
   "execution_count": 20,
   "metadata": {},
   "outputs": [
    {
     "name": "stdout",
     "output_type": "stream",
     "text": [
      "FrozenDict({\n",
      "    mask: {\n",
      "        Ridge_0: {\n",
      "            active terms: DeviceArray([ True,  True,  True,  True,  True,  True,  True,  True,\n",
      "                          True,  True,  True,  True], dtype=bool),\n",
      "        },\n",
      "    },\n",
      "})\n"
     ]
    }
   ],
   "source": [
    "print(state)"
   ]
  },
  {
   "cell_type": "code",
   "execution_count": 21,
   "metadata": {},
   "outputs": [],
   "source": [
    "# Compiling train step\n",
    "update = create_update(loss_fn_pinn, model=model, x=X_train, y=y_train)\n",
    "_ = update(optimizer, state)  # triggering compilation"
   ]
  },
  {
   "cell_type": "code",
   "execution_count": 22,
   "metadata": {},
   "outputs": [
    {
     "data": {
      "text/plain": [
       "FrozenDict({\n",
       "    mask: {\n",
       "        Ridge_0: {\n",
       "            active terms: DeviceArray([ True,  True,  True,  True,  True,  True,  True,  True,\n",
       "                          True,  True,  True,  True], dtype=bool),\n",
       "        },\n",
       "    },\n",
       "})"
      ]
     },
     "execution_count": 22,
     "metadata": {},
     "output_type": "execute_result"
    }
   ],
   "source": [
    "state"
   ]
  },
  {
   "cell_type": "code",
   "execution_count": 23,
   "metadata": {},
   "outputs": [
    {
     "name": "stdout",
     "output_type": "stream",
     "text": [
      "Loss step 0: 0.23318196833133698\n"
     ]
    }
   ],
   "source": [
    "# Running to convergence\n",
    "max_epochs = 1000\n",
    "reg = LassoCV(fit_intercept=False)\n",
    "logger = Logger()\n",
    "for epoch in jnp.arange(max_epochs):\n",
    "    (optimizer, state), metrics = update(optimizer, state)\n",
    "    if epoch % 1000 == 0:\n",
    "        print(f\"Loss step {epoch}: {metrics['loss']}\")\n",
    "    if ((epoch % 5000 == 0) and (epoch != 0)):\n",
    "        dt, theta= model.apply({\"params\": params, **state}, X_train, mutable=list(state.keys()))[0][1:3]\n",
    "        mask = update_mask(theta, dt, reg)\n",
    "        state = freeze({'mask': {'Ridge_0': {'active terms': mask}}})\n",
    "    if epoch % 25 == 0:\n",
    "        logger.write(metrics, epoch)\n",
    "logger.close()"
   ]
  },
  {
   "cell_type": "code",
   "execution_count": 29,
   "metadata": {},
   "outputs": [],
   "source": [
    "dt, theta, coeffs = model.apply({\"params\": params, **state}, X_train, mutable=list(state.keys()))[0][1:]"
   ]
  },
  {
   "cell_type": "code",
   "execution_count": 30,
   "metadata": {},
   "outputs": [
    {
     "data": {
      "text/plain": [
       "(1000, 1)"
      ]
     },
     "execution_count": 30,
     "metadata": {},
     "output_type": "execute_result"
    }
   ],
   "source": [
    "dt.shape"
   ]
  },
  {
   "cell_type": "code",
   "execution_count": 31,
   "metadata": {},
   "outputs": [
    {
     "data": {
      "text/plain": [
       "(1000, 12)"
      ]
     },
     "execution_count": 31,
     "metadata": {},
     "output_type": "execute_result"
    }
   ],
   "source": [
    "theta.shape"
   ]
  },
  {
   "cell_type": "code",
   "execution_count": 32,
   "metadata": {},
   "outputs": [
    {
     "data": {
      "text/plain": [
       "DeviceArray([[ 0.05443856],\n",
       "             [-0.482194  ],\n",
       "             [ 0.79097605],\n",
       "             [ 0.04588859],\n",
       "             [ 0.7138658 ],\n",
       "             [ 0.7887436 ],\n",
       "             [-2.1838267 ],\n",
       "             [-0.30629992],\n",
       "             [-0.59208643],\n",
       "             [-0.42597318],\n",
       "             [ 1.0998764 ],\n",
       "             [ 0.21274425]], dtype=float32)"
      ]
     },
     "execution_count": 32,
     "metadata": {},
     "output_type": "execute_result"
    }
   ],
   "source": [
    "coeffs"
   ]
  },
  {
   "cell_type": "code",
   "execution_count": 28,
   "metadata": {},
   "outputs": [
    {
     "data": {
      "text/plain": [
       "DeviceArray([[  1.721303 ],\n",
       "             [ -4.3714476],\n",
       "             [  8.153681 ],\n",
       "             [  1.1237171],\n",
       "             [ 18.71585  ],\n",
       "             [  5.806181 ],\n",
       "             [-19.842834 ],\n",
       "             [ -5.4475436],\n",
       "             [-17.152758 ],\n",
       "             [ -3.0097315],\n",
       "             [ 10.575122 ],\n",
       "             [  3.2467732]], dtype=float32)"
      ]
     },
     "execution_count": 28,
     "metadata": {},
     "output_type": "execute_result"
    }
   ],
   "source": [
    "jnp.linalg.lstsq(theta / jnp.linalg.norm(theta, axis=0), dt)[0]"
   ]
  },
  {
   "cell_type": "code",
   "execution_count": null,
   "metadata": {},
   "outputs": [],
   "source": []
  }
 ],
 "metadata": {
  "kernelspec": {
   "display_name": "Python 3",
   "language": "python",
   "name": "python3"
  },
  "language_info": {
   "codemirror_mode": {
    "name": "ipython",
    "version": 3
   },
   "file_extension": ".py",
   "mimetype": "text/x-python",
   "name": "python",
   "nbconvert_exporter": "python",
   "pygments_lexer": "ipython3",
   "version": "3.8.5"
  }
 },
 "nbformat": 4,
 "nbformat_minor": 4
}
