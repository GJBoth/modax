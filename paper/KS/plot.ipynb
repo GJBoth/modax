{
 "cells": [
  {
   "cell_type": "code",
   "execution_count": null,
   "id": "disciplinary-tunisia",
   "metadata": {},
   "outputs": [],
   "source": [
    "from deepymod.analysis import load_tensorboard\n",
    "import matplotlib.pyplot as plt\n",
    "\n",
    "from natsort import natsorted\n",
    "import numpy as np\n",
    "import seaborn as sns\n",
    "\n",
    "from matplotlib.gridspec import GridSpec"
   ]
  },
  {
   "cell_type": "code",
   "execution_count": null,
   "id": "heavy-defense",
   "metadata": {},
   "outputs": [],
   "source": [
    "%config InlineBackend.figure_format = 'svg'\n",
    "sns.set(context='paper', style='white')\n",
    "col_width = 5.5 # neurips style column width in inches\n",
    "plt.rcParams.update({'font.size': 8})\n",
    "\n"
   ]
  },
  {
   "cell_type": "code",
   "execution_count": null,
   "id": "angry-story",
   "metadata": {},
   "outputs": [],
   "source": [
    "df = load_tensorboard('runs/May11_11-51-29_workstationgj/')"
   ]
  },
  {
   "cell_type": "code",
   "execution_count": null,
   "id": "comprehensive-string",
   "metadata": {},
   "outputs": [],
   "source": [
    "df.keys()"
   ]
  },
  {
   "cell_type": "code",
   "execution_count": null,
   "id": "transparent-montgomery",
   "metadata": {},
   "outputs": [],
   "source": [
    "prior_keys = natsorted([key for key in df.keys() if key.find('alpha')==0])\n",
    "coeff_keys = natsorted([key for key in df.keys() if key.find('coeff')==0])\n",
    "bayes_coeff_keys = natsorted([key for key in df.keys() if key.find('bayes')==0])\n"
   ]
  },
  {
   "cell_type": "code",
   "execution_count": null,
   "id": "final-organization",
   "metadata": {},
   "outputs": [],
   "source": [
    "plt.plot(df[prior_keys].ewm(alpha=0.01).mean())\n",
    "plt.plot(df[prior_keys[2]].ewm(alpha=0.01).mean(), lw=3)\n",
    "plt.plot(df[prior_keys[4]].ewm(alpha=0.01).mean(), lw=3)\n",
    "plt.plot(df[prior_keys[7]].ewm(alpha=0.01).mean(), lw=3)\n",
    "\n",
    "plt.yscale('log')"
   ]
  },
  {
   "cell_type": "code",
   "execution_count": null,
   "id": "widespread-reunion",
   "metadata": {},
   "outputs": [],
   "source": [
    "plt.plot(df[coeff_keys].ewm(alpha=0.1).mean())\n",
    "plt.plot(df[coeff_keys[2]].ewm(alpha=0.1).mean(), lw=3)\n",
    "plt.plot(df[coeff_keys[4]].ewm(alpha=0.1).mean(), lw=3)\n",
    "plt.plot(df[coeff_keys[7]].ewm(alpha=0.1).mean(), lw=3)\n"
   ]
  },
  {
   "cell_type": "code",
   "execution_count": null,
   "id": "indie-reverse",
   "metadata": {},
   "outputs": [],
   "source": [
    "plt.plot(df[bayes_coeff_keys].ewm(alpha=0.1).mean())\n",
    "plt.plot(df[bayes_coeff_keys[2]].ewm(alpha=0.1).mean(), lw=3)\n",
    "plt.plot(df[bayes_coeff_keys[4]].ewm(alpha=0.1).mean(), lw=3)\n",
    "plt.plot(df[bayes_coeff_keys[7]].ewm(alpha=0.1).mean(), lw=3)\n",
    "\n"
   ]
  },
  {
   "cell_type": "code",
   "execution_count": null,
   "id": "parallel-chosen",
   "metadata": {},
   "outputs": [],
   "source": [
    "u = np.load('KS_u.npy')\n",
    "x = np.load('KS_x.npy')\n",
    "t = np.load('KS_t.npy')"
   ]
  },
  {
   "cell_type": "code",
   "execution_count": null,
   "id": "worse-rochester",
   "metadata": {},
   "outputs": [],
   "source": [
    "u.shape"
   ]
  },
  {
   "cell_type": "code",
   "execution_count": null,
   "id": "pretty-october",
   "metadata": {},
   "outputs": [],
   "source": [
    "x_grid, t_grid = np.meshgrid(x, t, indexing='ij')"
   ]
  },
  {
   "cell_type": "code",
   "execution_count": null,
   "id": "imperial-brazilian",
   "metadata": {},
   "outputs": [],
   "source": [
    "noise = 0.20\n",
    "u_noisy = u + noise * np.std(u) * np.random.randn(*u.shape)\n",
    "mask = np.logical_and(t > 45, t < 55)\n"
   ]
  },
  {
   "cell_type": "code",
   "execution_count": null,
   "id": "clear-demand",
   "metadata": {},
   "outputs": [],
   "source": [
    "y = np.array(u_noisy[::4, mask].reshape(-1, 1))\n",
    "X = np.array(np.concatenate([t_grid[::4, mask].reshape(-1, 1), x_grid[::4, mask].reshape(-1, 1)], axis=1))\n",
    "\n",
    "print(y.shape)"
   ]
  },
  {
   "cell_type": "code",
   "execution_count": null,
   "id": "external-georgia",
   "metadata": {},
   "outputs": [],
   "source": [
    "y_noisy = y.reshape(int(u.shape[0] / 4), -1)"
   ]
  },
  {
   "cell_type": "code",
   "execution_count": null,
   "id": "promotional-interpretation",
   "metadata": {},
   "outputs": [],
   "source": [
    "plt.plot(u[::4, mask][:, 20])\n",
    "plt.plot(y_noisy[:, 20])"
   ]
  },
  {
   "cell_type": "code",
   "execution_count": null,
   "id": "considerable-advisory",
   "metadata": {},
   "outputs": [],
   "source": [
    "np.std(u) * 0.2"
   ]
  },
  {
   "cell_type": "code",
   "execution_count": null,
   "id": "illegal-arrangement",
   "metadata": {},
   "outputs": [],
   "source": [
    "u_true = u[::4, mask]\n",
    "x_plot = x_grid[::4, mask]\n",
    "t_plot = t_grid[::4, mask]"
   ]
  },
  {
   "cell_type": "code",
   "execution_count": null,
   "id": "crude-eating",
   "metadata": {},
   "outputs": [],
   "source": [
    "plt.rcParams.update({'font.size': 8})"
   ]
  },
  {
   "cell_type": "code",
   "execution_count": null,
   "id": "isolated-freight",
   "metadata": {},
   "outputs": [],
   "source": [
    "fig = plt.figure(constrained_layout=True, figsize=(0.9 * col_width, 0.3 * col_width))\n",
    "gs = GridSpec(2, 3, figure=fig)\n",
    "\n",
    "ax = fig.add_subplot(gs[0, 0])\n",
    "ax.contourf(x_plot, t_plot, u_true, 20)\n",
    "ax.set_xticks([])\n",
    "ax.set_yticks([])\n",
    "ax.set_ylabel('t')\n",
    "ax.axhline(t_plot[0, 15], linestyle='--', color='k')\n",
    "#ax.set_xlabel('x')\n",
    "ax.set_title('Kuramoto-Shivashinksy')\n",
    "\n",
    "ax = fig.add_subplot(gs[1, 0])\n",
    "ax.plot(x_plot[:, 15], y_noisy[:, 15])\n",
    "ax.plot(x_plot[:, 15], u_true[:, 15], 'k--')\n",
    "ax.set_ylabel('u')\n",
    "ax.set_xlabel('x')\n",
    "ax.set_yticks([])\n",
    "ax.set_xticks([])\n",
    "\n",
    "ax = fig.add_subplot(gs[:, 1])\n",
    "ax.plot(df[prior_keys].ewm(alpha=0.01).mean())\n",
    "ax.plot(df[prior_keys[2]].ewm(alpha=0.01).mean(), lw=2)\n",
    "ax.plot(df[prior_keys[4]].ewm(alpha=0.01).mean(), lw=2)\n",
    "ax.plot(df[prior_keys[7]].ewm(alpha=0.01).mean(), lw=2)\n",
    "ax.set_yscale('log')\n",
    "ax.set_title('Prior')\n",
    "#ax.set_xticks([])\n",
    "ax.set_xlabel('Epoch', fontdict={'weight': 'bold'})\n",
    "ax.text(-50000, 3e5, 'c)', fontdict={'weight':'bold'})\n",
    "\n",
    "ax = fig.add_subplot(gs[0, 2])\n",
    "ax.plot(df[coeff_keys].ewm(alpha=0.1).mean())\n",
    "ax.plot(df[coeff_keys[2]].ewm(alpha=0.1).mean(), lw=2)\n",
    "ax.plot(df[coeff_keys[4]].ewm(alpha=0.1).mean(), lw=2)\n",
    "ax.plot(df[coeff_keys[7]].ewm(alpha=0.1).mean(), lw=2)\n",
    "ax.set_xticks([])\n",
    "ax.set_title('MLE')\n",
    "ax.text(-50000, 0.8, 'd)', fontdict={'weight':'bold'})\n",
    "\n",
    "ax = fig.add_subplot(gs[1, 2])\n",
    "ax.plot(df[bayes_coeff_keys].ewm(alpha=0.1).mean())\n",
    "ax.plot(df[bayes_coeff_keys[2]].ewm(alpha=0.1).mean(), lw=2)\n",
    "ax.plot(df[bayes_coeff_keys[4]].ewm(alpha=0.1).mean(), lw=2)\n",
    "ax.plot(df[bayes_coeff_keys[7]].ewm(alpha=0.1).mean(), lw=2)\n",
    "ax.set_title('posterior')\n",
    "#ax.set_xticks([])\n",
    "ax.set_xlabel('Epoch', fontdict={'weight': 'bold'})\n",
    "ax.text(-50000, 0.8, 'e)', fontdict={'weight':'bold'})\n",
    "\n",
    "plt.savefig('KS.pdf', pad_inches=0, bbox_inches='tight')\n"
   ]
  }
 ],
 "metadata": {
  "kernelspec": {
   "display_name": "Python 3",
   "language": "python",
   "name": "python3"
  },
  "language_info": {
   "codemirror_mode": {
    "name": "ipython",
    "version": 3
   },
   "file_extension": ".py",
   "mimetype": "text/x-python",
   "name": "python",
   "nbconvert_exporter": "python",
   "pygments_lexer": "ipython3",
   "version": "3.8.3"
  }
 },
 "nbformat": 4,
 "nbformat_minor": 5
}
