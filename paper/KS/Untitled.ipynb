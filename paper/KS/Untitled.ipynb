{
 "cells": [
  {
   "cell_type": "code",
   "execution_count": 232,
   "id": "removed-corner",
   "metadata": {},
   "outputs": [],
   "source": [
    "import jax.numpy as jnp\n",
    "from functools import partial\n",
    "from jax.lax import scan\n",
    "import jax\n",
    "from jax import random\n",
    "import numpy as np"
   ]
  },
  {
   "cell_type": "code",
   "execution_count": 92,
   "id": "arctic-october",
   "metadata": {},
   "outputs": [],
   "source": [
    "key = random.PRNGKey(42)\n",
    "f = lambda x: jnp.exp(-jnp.sum(x**2, axis=1))[:, None]\n",
    "n_samples = 10\n",
    "x = random.normal(key, (n_samples, 2))"
   ]
  },
  {
   "cell_type": "markdown",
   "id": "joint-intervention",
   "metadata": {},
   "source": [
    "Let's get a baseline going:"
   ]
  },
  {
   "cell_type": "code",
   "execution_count": null,
   "id": "medium-marks",
   "metadata": {},
   "outputs": [],
   "source": []
  },
  {
   "cell_type": "code",
   "execution_count": 93,
   "id": "interior-agency",
   "metadata": {},
   "outputs": [],
   "source": [
    "_, vjp = jax.vjp(f, x)"
   ]
  },
  {
   "cell_type": "code",
   "execution_count": 38,
   "id": "mineral-heaven",
   "metadata": {},
   "outputs": [
    {
     "data": {
      "text/plain": [
       "(DeviceArray([[ 0.8283536 , -0.22070852],\n",
       "              [ 0.15463774,  0.8198199 ],\n",
       "              [ 0.00879653, -0.05468073],\n",
       "              [-0.06637478,  0.01172323],\n",
       "              [ 0.73979336, -0.17955527],\n",
       "              [ 0.48355308, -0.39451557],\n",
       "              [-0.21793498,  0.55520076],\n",
       "              [-0.09029141,  0.20403846],\n",
       "              [ 0.05831185, -0.8185504 ],\n",
       "              [ 0.65053004, -0.40385708]], dtype=float32),)"
      ]
     },
     "execution_count": 38,
     "metadata": {},
     "output_type": "execute_result"
    }
   ],
   "source": [
    "vjp(jnp.ones((n_samples, 1)))"
   ]
  },
  {
   "cell_type": "code",
   "execution_count": 45,
   "id": "divided-deadline",
   "metadata": {},
   "outputs": [],
   "source": [
    "v = jnp.zeros((n_samples, 2))\n",
    "v = (jax.ops.index_update(v, jax.ops.index[:, 1], 1), )"
   ]
  },
  {
   "cell_type": "code",
   "execution_count": 46,
   "id": "liable-substitute",
   "metadata": {},
   "outputs": [],
   "source": [
    "vjp2 = jax.vjp(vjp, jnp.ones((n_samples, 1)))[1]"
   ]
  },
  {
   "cell_type": "code",
   "execution_count": 47,
   "id": "addressed-holiday",
   "metadata": {},
   "outputs": [
    {
     "data": {
      "text/plain": [
       "(DeviceArray([[-0.22070852],\n",
       "              [ 0.8198199 ],\n",
       "              [-0.05468073],\n",
       "              [ 0.01172323],\n",
       "              [-0.17955527],\n",
       "              [-0.39451557],\n",
       "              [ 0.55520076],\n",
       "              [ 0.20403846],\n",
       "              [-0.8185504 ],\n",
       "              [-0.40385708]], dtype=float32),)"
      ]
     },
     "execution_count": 47,
     "metadata": {},
     "output_type": "execute_result"
    }
   ],
   "source": [
    "vjp2(v)"
   ]
  },
  {
   "cell_type": "code",
   "execution_count": 49,
   "id": "opening-episode",
   "metadata": {},
   "outputs": [
    {
     "data": {
      "text/plain": [
       "((DeviceArray([[ 0.8283536 , -0.22070852],\n",
       "               [ 0.15463774,  0.8198199 ],\n",
       "               [ 0.00879653, -0.05468073],\n",
       "               [-0.06637478,  0.01172323],\n",
       "               [ 0.73979336, -0.17955527],\n",
       "               [ 0.48355308, -0.39451557],\n",
       "               [-0.21793498,  0.55520076],\n",
       "               [-0.09029141,  0.20403846],\n",
       "               [ 0.05831185, -0.8185504 ],\n",
       "               [ 0.65053004, -0.40385708]], dtype=float32),),)"
      ]
     },
     "execution_count": 49,
     "metadata": {},
     "output_type": "execute_result"
    }
   ],
   "source": [
    "jax.vjp(vjp2, v)[1](v)"
   ]
  },
  {
   "cell_type": "markdown",
   "id": "practical-collectible",
   "metadata": {},
   "source": [
    "Alright let's try and get that prettier."
   ]
  },
  {
   "cell_type": "code",
   "execution_count": 71,
   "id": "superb-hammer",
   "metadata": {},
   "outputs": [],
   "source": [
    "v_first = jnp.ones((n_samples, 1))\n",
    "v_higher = jax.ops.index_update(jnp.zeros((n_samples, 2)), jax.ops.index[:, 1], 1)#, ) # tuple because of jvp structure"
   ]
  },
  {
   "cell_type": "code",
   "execution_count": 86,
   "id": "dried-psychiatry",
   "metadata": {},
   "outputs": [
    {
     "name": "stdout",
     "output_type": "stream",
     "text": [
      "CPU times: user 11 ms, sys: 6.95 ms, total: 18 ms\n",
      "Wall time: 14.2 ms\n"
     ]
    }
   ],
   "source": [
    "%%time\n",
    "f_vals, vjp = jax.vjp(f, x)\n",
    "\n",
    "df_vals, vjp = jax.vjp(lambda v: vjp(v)[0], v_first)\n",
    "\n",
    "d2f_vals, vjp = jax.vjp(lambda v: vjp(v)[0], v_higher)\n",
    "\n",
    "d3f_vals, vjp = jax.vjp(lambda v: vjp(v)[0], v_higher)\n",
    "\n",
    "d4f_vals, vjp = jax.vjp(lambda v: vjp(v)[0], v_higher)\n"
   ]
  },
  {
   "cell_type": "code",
   "execution_count": 91,
   "id": "comfortable-hybrid",
   "metadata": {},
   "outputs": [
    {
     "data": {
      "text/plain": [
       "DeviceArray([[-0.22070852],\n",
       "             [ 0.8198199 ],\n",
       "             [-0.05468073],\n",
       "             [ 0.01172323],\n",
       "             [-0.17955527],\n",
       "             [-0.39451557],\n",
       "             [ 0.55520076],\n",
       "             [ 0.20403846],\n",
       "             [-0.8185504 ],\n",
       "             [-0.40385708]], dtype=float32)"
      ]
     },
     "execution_count": 91,
     "metadata": {},
     "output_type": "execute_result"
    }
   ],
   "source": [
    "d2f_vals"
   ]
  },
  {
   "cell_type": "code",
   "execution_count": 57,
   "id": "attractive-activity",
   "metadata": {},
   "outputs": [
    {
     "data": {
      "text/plain": [
       "(DeviceArray([[ 0.8283536 , -0.22070852],\n",
       "              [ 0.15463774,  0.8198199 ],\n",
       "              [ 0.00879653, -0.05468073],\n",
       "              [-0.06637478,  0.01172323],\n",
       "              [ 0.73979336, -0.17955527],\n",
       "              [ 0.48355308, -0.39451557],\n",
       "              [-0.21793498,  0.55520076],\n",
       "              [-0.09029141,  0.20403846],\n",
       "              [ 0.05831185, -0.8185504 ],\n",
       "              [ 0.65053004, -0.40385708]], dtype=float32),)"
      ]
     },
     "execution_count": 57,
     "metadata": {},
     "output_type": "execute_result"
    }
   ],
   "source": [
    "df_vals"
   ]
  },
  {
   "cell_type": "code",
   "execution_count": 58,
   "id": "animal-induction",
   "metadata": {},
   "outputs": [
    {
     "data": {
      "text/plain": [
       "(DeviceArray([[-0.22070852],\n",
       "              [ 0.8198199 ],\n",
       "              [-0.05468073],\n",
       "              [ 0.01172323],\n",
       "              [-0.17955527],\n",
       "              [-0.39451557],\n",
       "              [ 0.55520076],\n",
       "              [ 0.20403846],\n",
       "              [-0.8185504 ],\n",
       "              [-0.40385708]], dtype=float32),)"
      ]
     },
     "execution_count": 58,
     "metadata": {},
     "output_type": "execute_result"
    }
   ],
   "source": [
    "d2f_vals"
   ]
  },
  {
   "cell_type": "code",
   "execution_count": 59,
   "id": "divine-monster",
   "metadata": {},
   "outputs": [
    {
     "data": {
      "text/plain": [
       "((DeviceArray([[ 0.8283536 , -0.22070852],\n",
       "               [ 0.15463774,  0.8198199 ],\n",
       "               [ 0.00879653, -0.05468073],\n",
       "               [-0.06637478,  0.01172323],\n",
       "               [ 0.73979336, -0.17955527],\n",
       "               [ 0.48355308, -0.39451557],\n",
       "               [-0.21793498,  0.55520076],\n",
       "               [-0.09029141,  0.20403846],\n",
       "               [ 0.05831185, -0.8185504 ],\n",
       "               [ 0.65053004, -0.40385708]], dtype=float32),),)"
      ]
     },
     "execution_count": 59,
     "metadata": {},
     "output_type": "execute_result"
    }
   ],
   "source": [
    "d3f_vals"
   ]
  },
  {
   "cell_type": "markdown",
   "id": "earned-thirty",
   "metadata": {},
   "source": [
    "Wont work cause im taking the derivative w.r.t the tangent and not the input x"
   ]
  },
  {
   "cell_type": "code",
   "execution_count": 94,
   "id": "chronic-cutting",
   "metadata": {},
   "outputs": [],
   "source": [
    "f_vals, vjp = jax.vjp(f, x)"
   ]
  },
  {
   "cell_type": "code",
   "execution_count": null,
   "id": "beginning-fitting",
   "metadata": {},
   "outputs": [],
   "source": []
  },
  {
   "cell_type": "code",
   "execution_count": 181,
   "id": "sweet-repository",
   "metadata": {},
   "outputs": [],
   "source": [
    "def vjp(f, v):\n",
    "    def _vjp(x):\n",
    "        return jax.vjp(f, x)[1](v)[0]\n",
    "    return _vjp"
   ]
  },
  {
   "cell_type": "code",
   "execution_count": 182,
   "id": "reflected-amsterdam",
   "metadata": {},
   "outputs": [],
   "source": [
    "first_vjp = vjp(f, v_first)"
   ]
  },
  {
   "cell_type": "code",
   "execution_count": 183,
   "id": "certified-baker",
   "metadata": {},
   "outputs": [
    {
     "data": {
      "text/plain": [
       "DeviceArray([[ 0.8283536 , -0.22070852],\n",
       "             [ 0.15463774,  0.8198199 ],\n",
       "             [ 0.00879653, -0.05468073],\n",
       "             [-0.06637478,  0.01172323],\n",
       "             [ 0.73979336, -0.17955527],\n",
       "             [ 0.48355308, -0.39451557],\n",
       "             [-0.21793498,  0.55520076],\n",
       "             [-0.09029141,  0.20403846],\n",
       "             [ 0.05831185, -0.8185504 ],\n",
       "             [ 0.65053004, -0.40385708]], dtype=float32)"
      ]
     },
     "execution_count": 183,
     "metadata": {},
     "output_type": "execute_result"
    }
   ],
   "source": [
    "first_vjp(x)"
   ]
  },
  {
   "cell_type": "code",
   "execution_count": 184,
   "id": "appreciated-mitchell",
   "metadata": {},
   "outputs": [
    {
     "data": {
      "text/plain": [
       "DeviceArray([[ 0.8283536 , -0.22070852],\n",
       "             [ 0.15463774,  0.8198199 ],\n",
       "             [ 0.00879653, -0.05468073],\n",
       "             [-0.06637478,  0.01172323],\n",
       "             [ 0.73979336, -0.17955527],\n",
       "             [ 0.48355308, -0.39451557],\n",
       "             [-0.21793498,  0.55520076],\n",
       "             [-0.09029141,  0.20403846],\n",
       "             [ 0.05831185, -0.8185504 ],\n",
       "             [ 0.65053004, -0.40385708]], dtype=float32)"
      ]
     },
     "execution_count": 184,
     "metadata": {},
     "output_type": "execute_result"
    }
   ],
   "source": [
    "- 2 * x * f(x)"
   ]
  },
  {
   "cell_type": "code",
   "execution_count": 185,
   "id": "planned-frontier",
   "metadata": {},
   "outputs": [],
   "source": [
    "second_vjp = vjp(first_vjp, v_higher)\n",
    "third_vjp = vjp(second_vjp, v_higher)"
   ]
  },
  {
   "cell_type": "code",
   "execution_count": 187,
   "id": "egyptian-rates",
   "metadata": {},
   "outputs": [
    {
     "data": {
      "text/plain": [
       "DeviceArray([[-0.02359307, -1.1009936 ],\n",
       "             [-0.9600828 ,  0.32658648],\n",
       "             [-0.02084618,  0.19771393],\n",
       "             [ 0.2312356 , -0.02505486],\n",
       "             [-0.90232   , -1.5499763 ],\n",
       "             [-1.49998   , -1.5885731 ],\n",
       "             [-0.32423532,  0.69759923],\n",
       "             [-0.01630688,  0.47565442],\n",
       "             [-0.9462608 ,  0.45216346],\n",
       "             [-1.0477774 , -1.3764659 ]], dtype=float32)"
      ]
     },
     "execution_count": 187,
     "metadata": {},
     "output_type": "execute_result"
    }
   ],
   "source": []
  },
  {
   "cell_type": "code",
   "execution_count": 172,
   "id": "chicken-enforcement",
   "metadata": {},
   "outputs": [
    {
     "data": {
      "text/plain": [
       "DeviceArray([[-0.3090017 , -1.1009936 ],\n",
       "             [ 0.2516502 ,  0.32658648],\n",
       "             [-0.03609403,  0.19771393],\n",
       "             [-0.04672404, -0.02505486],\n",
       "             [-0.16703224, -1.5499763 ],\n",
       "             [-0.21617593, -1.5885731 ],\n",
       "             [-0.474165  ,  0.6975991 ],\n",
       "             [-0.27071664,  0.47565442],\n",
       "             [-0.10012902,  0.45216346],\n",
       "             [-0.33201522, -1.3764659 ]], dtype=float32)"
      ]
     },
     "execution_count": 172,
     "metadata": {},
     "output_type": "execute_result"
    }
   ],
   "source": [
    "second_vjp(x)"
   ]
  },
  {
   "cell_type": "code",
   "execution_count": 167,
   "id": "numerous-breach",
   "metadata": {},
   "outputs": [
    {
     "data": {
      "text/plain": [
       "DeviceArray([[-1.5414399 ,  1.293539  ],\n",
       "             [ 0.10024831, -2.747808  ],\n",
       "             [ 0.13050836, -0.592539  ],\n",
       "             [ 0.09985851, -0.0645301 ],\n",
       "             [-1.4418739 ,  1.0681783 ],\n",
       "             [-0.87046313,  2.2882454 ],\n",
       "             [-0.5957793 , -0.703024  ],\n",
       "             [-0.6310946 ,  0.6099791 ],\n",
       "             [ 0.0553108 ,  2.4977784 ],\n",
       "             [-1.1316073 ,  2.317944  ]], dtype=float32)"
      ]
     },
     "execution_count": 167,
     "metadata": {},
     "output_type": "execute_result"
    }
   ],
   "source": [
    "third_vjp(x)"
   ]
  },
  {
   "cell_type": "code",
   "execution_count": 206,
   "id": "adaptive-anthropology",
   "metadata": {},
   "outputs": [],
   "source": [
    "def vjp(f, v):\n",
    "    def _vjp(x):\n",
    "        return jax.vjp(f, x)[1](v)[0]\n",
    "    return _vjp"
   ]
  },
  {
   "cell_type": "code",
   "execution_count": 221,
   "id": "unsigned-clearance",
   "metadata": {},
   "outputs": [],
   "source": [
    "v_first = \n",
    "v_higher = \n",
    "\n",
    "\n",
    "order_vjp = vjp(f, v_first)\n",
    "df = [order_vjp(x)]\n",
    "deriv_order=3\n",
    "for _ in jnp.arange(deriv_order - 1):\n",
    "    order_vjp = vjp(order_vjp, v_higher)\n",
    "    df.append(order_vjp(x))"
   ]
  },
  {
   "cell_type": "code",
   "execution_count": 275,
   "id": "sound-daniel",
   "metadata": {},
   "outputs": [],
   "source": [
    "@partial(jax.jit, static_argnums=(0, 2))\n",
    "def nth_grad(f, x, order, prop_idx):\n",
    "    \"\"\" Calculates gradient up to n-th order of f w.r.t input_idx column of x.\n",
    "    prop_column is the propagated column, meaning for higher order stuff the deriv is \n",
    "    [dx^n, dx^(n-1)dym dx^(n-1)dz, ...], Returns tensor with shapes [n_samples, n_inputs, order]\"\"\"\n",
    "    def vjp(f, v):\n",
    "        def _vjp(x):\n",
    "            return jax.vjp(f, x)[1](v)[0]\n",
    "        return _vjp\n",
    "\n",
    "    # First order\n",
    "    # Separate cause only one output\n",
    "    order_vjp = vjp(f, jnp.ones((x.shape[0], 1)))\n",
    "    df = [order_vjp(x)]\n",
    "    \n",
    "    # Higher order\n",
    "    v = jax.ops.index_update(jnp.zeros_like(x), jax.ops.index[:, prop_idx], 1)\n",
    "    for _ in np.arange(order - 1):\n",
    "        order_vjp = vjp(order_vjp, v)\n",
    "        df.append(order_vjp(x))\n",
    "    return jnp.stack(df, axis=-1)"
   ]
  },
  {
   "cell_type": "code",
   "execution_count": 265,
   "id": "assigned-extraction",
   "metadata": {},
   "outputs": [],
   "source": [
    "df = nth_grad(f, x, 5, 1)"
   ]
  },
  {
   "cell_type": "code",
   "execution_count": 267,
   "id": "certified-judges",
   "metadata": {},
   "outputs": [
    {
     "data": {
      "text/plain": [
       "(10, 2, 5)"
      ]
     },
     "execution_count": 267,
     "metadata": {},
     "output_type": "execute_result"
    }
   ],
   "source": [
    "df.shape"
   ]
  },
  {
   "cell_type": "code",
   "execution_count": 272,
   "id": "devoted-glory",
   "metadata": {},
   "outputs": [
    {
     "data": {
      "text/plain": [
       "DeviceArray([[-0.22070852],\n",
       "             [ 0.8198199 ],\n",
       "             [-0.05468073],\n",
       "             [ 0.01172323],\n",
       "             [-0.17955527],\n",
       "             [-0.39451557],\n",
       "             [ 0.55520076],\n",
       "             [ 0.20403846],\n",
       "             [-0.8185504 ],\n",
       "             [-0.40385708]], dtype=float32)"
      ]
     },
     "execution_count": 272,
     "metadata": {},
     "output_type": "execute_result"
    }
   ],
   "source": [
    "df[:, 1, [0]]"
   ]
  },
  {
   "cell_type": "code",
   "execution_count": 271,
   "id": "seeing-orleans",
   "metadata": {},
   "outputs": [
    {
     "data": {
      "text/plain": [
       "DeviceArray([[ 0.8283536 , -0.22070852],\n",
       "             [ 0.15463774,  0.8198199 ],\n",
       "             [ 0.00879653, -0.05468073],\n",
       "             [-0.06637478,  0.01172323],\n",
       "             [ 0.73979336, -0.17955527],\n",
       "             [ 0.48355308, -0.39451557],\n",
       "             [-0.21793498,  0.55520076],\n",
       "             [-0.09029141,  0.20403846],\n",
       "             [ 0.05831185, -0.8185504 ],\n",
       "             [ 0.65053004, -0.40385708]], dtype=float32)"
      ]
     },
     "execution_count": 271,
     "metadata": {},
     "output_type": "execute_result"
    }
   ],
   "source": [
    "- 2 * x * f(x)"
   ]
  },
  {
   "cell_type": "code",
   "execution_count": 273,
   "id": "progressive-acting",
   "metadata": {},
   "outputs": [
    {
     "data": {
      "text/plain": [
       "DeviceArray([[-1.1009936 ],\n",
       "             [ 0.32658648],\n",
       "             [ 0.19771393],\n",
       "             [-0.02505486],\n",
       "             [-1.5499763 ],\n",
       "             [-1.5885731 ],\n",
       "             [ 0.6975991 ],\n",
       "             [ 0.47565442],\n",
       "             [ 0.45216346],\n",
       "             [-1.3764659 ]], dtype=float32)"
      ]
     },
     "execution_count": 273,
     "metadata": {},
     "output_type": "execute_result"
    }
   ],
   "source": [
    "df[:, 1, [1]]"
   ]
  },
  {
   "cell_type": "code",
   "execution_count": 195,
   "id": "utility-owner",
   "metadata": {},
   "outputs": [
    {
     "data": {
      "text/plain": [
       "DeviceArray([[-1.5414399 ,  1.293539  ],\n",
       "             [ 0.10024831, -2.747808  ],\n",
       "             [ 0.13050836, -0.592539  ],\n",
       "             [ 0.09985851, -0.0645301 ],\n",
       "             [-1.4418739 ,  1.0681783 ],\n",
       "             [-0.87046313,  2.2882454 ],\n",
       "             [-0.5957793 , -0.703024  ],\n",
       "             [-0.6310946 ,  0.6099791 ],\n",
       "             [ 0.0553108 ,  2.4977784 ],\n",
       "             [-1.1316073 ,  2.317944  ]], dtype=float32)"
      ]
     },
     "execution_count": 195,
     "metadata": {},
     "output_type": "execute_result"
    }
   ],
   "source": [
    "df[2](x)"
   ]
  },
  {
   "cell_type": "code",
   "execution_count": 274,
   "id": "black-ground",
   "metadata": {},
   "outputs": [
    {
     "data": {
      "text/plain": [
       "DeviceArray([[-0.02359307, -1.1009936 ],\n",
       "             [-0.9600828 ,  0.32658648],\n",
       "             [-0.02084618,  0.19771393],\n",
       "             [ 0.2312356 , -0.02505486],\n",
       "             [-0.90232   , -1.5499763 ],\n",
       "             [-1.49998   , -1.5885731 ],\n",
       "             [-0.32423532,  0.69759923],\n",
       "             [-0.01630688,  0.47565442],\n",
       "             [-0.9462608 ,  0.45216346],\n",
       "             [-1.0477774 , -1.3764659 ]], dtype=float32)"
      ]
     },
     "execution_count": 274,
     "metadata": {},
     "output_type": "execute_result"
    }
   ],
   "source": [
    "-2 * f(x) + 4 * x**2 * f(x)"
   ]
  },
  {
   "cell_type": "code",
   "execution_count": 196,
   "id": "hourly-cleaning",
   "metadata": {},
   "outputs": [],
   "source": [
    "df = [lambda x: jax.vjp(f, x)]"
   ]
  },
  {
   "cell_type": "code",
   "execution_count": 201,
   "id": "addressed-envelope",
   "metadata": {},
   "outputs": [
    {
     "data": {
      "text/plain": [
       "(DeviceArray([[ 0.8283536 , -0.22070852],\n",
       "              [ 0.15463774,  0.8198199 ],\n",
       "              [ 0.00879653, -0.05468073],\n",
       "              [-0.06637478,  0.01172323],\n",
       "              [ 0.73979336, -0.17955527],\n",
       "              [ 0.48355308, -0.39451557],\n",
       "              [-0.21793498,  0.55520076],\n",
       "              [-0.09029141,  0.20403846],\n",
       "              [ 0.05831185, -0.8185504 ],\n",
       "              [ 0.65053004, -0.40385708]], dtype=float32),)"
      ]
     },
     "execution_count": 201,
     "metadata": {},
     "output_type": "execute_result"
    }
   ],
   "source": [
    "df[0](x)[1](v_first)"
   ]
  },
  {
   "cell_type": "code",
   "execution_count": null,
   "id": "armed-organizer",
   "metadata": {},
   "outputs": [],
   "source": []
  },
  {
   "cell_type": "code",
   "execution_count": 214,
   "id": "normal-anthropology",
   "metadata": {},
   "outputs": [],
   "source": [
    "d2f = lambda x: jax.vjp(lambda y: df[-1](y)[1][0], x)"
   ]
  },
  {
   "cell_type": "code",
   "execution_count": 216,
   "id": "involved-table",
   "metadata": {},
   "outputs": [
    {
     "data": {
      "text/plain": [
       "DeviceArray(-0.84346145, dtype=float32)"
      ]
     },
     "execution_count": 216,
     "metadata": {},
     "output_type": "execute_result"
    }
   ],
   "source": [
    "d2f(x)"
   ]
  },
  {
   "cell_type": "code",
   "execution_count": 277,
   "id": "allied-chicken",
   "metadata": {},
   "outputs": [],
   "source": [
    "for _ in np.arange(0):\n",
    "    print('aap')"
   ]
  },
  {
   "cell_type": "code",
   "execution_count": null,
   "id": "vulnerable-french",
   "metadata": {},
   "outputs": [],
   "source": [
    "\n",
    "for order in jnp.arange(3):\n",
    "    df.append(vjp(df[order], v_higher))"
   ]
  },
  {
   "cell_type": "code",
   "execution_count": 286,
   "id": "desperate-macintosh",
   "metadata": {},
   "outputs": [],
   "source": [
    "@partial(jax.jit, static_argnums=(0, 2))\n",
    "def nth_deriv_backward(f: Callable, x: jnp.ndarray, order: int, prop_idx: int):\n",
    "    \"\"\" Calculates gradient up to n-th order of f w.r.t input_idx column of x.\n",
    "    prop_column is the propagated column, meaning for higher order stuff the deriv is \n",
    "    [dx^n, dx^(n-1)dym dx^(n-1)dz, ...], Returns tensor with shapes [n_samples, n_inputs, order]\"\"\"\n",
    "\n",
    "    assert order > 0, \"Order needs to be positive integer of 1 or higher.\"\n",
    "\n",
    "    def vjp(f, v):\n",
    "        def _vjp(x):\n",
    "            return jax.vjp(f, x)[1](v)[0]\n",
    "\n",
    "        return _vjp\n",
    "\n",
    "    # First order\n",
    "    # Separate cause only one output\n",
    "    order_vjp = vjp(f, jnp.ones((x.shape[0], 1)))\n",
    "    df = [order_vjp(x)]\n",
    "\n",
    "    # Higher order\n",
    "    v = jax.ops.index_update(jnp.zeros_like(x), jax.ops.index[:, prop_idx], 1)\n",
    "    for _ in np.arange(order - 1):\n",
    "        order_vjp = vjp(order_vjp, v)\n",
    "        df.append(order_vjp(x))\n",
    "    return jnp.stack(df, axis=-1)"
   ]
  },
  {
   "cell_type": "code",
   "execution_count": 284,
   "id": "approximate-crowd",
   "metadata": {},
   "outputs": [],
   "source": [
    "from typing import Callable"
   ]
  },
  {
   "cell_type": "code",
   "execution_count": 292,
   "id": "european-insertion",
   "metadata": {},
   "outputs": [],
   "source": [
    "# triggering jit\n",
    "nth_deriv_backward(f, x, 5, 1);"
   ]
  },
  {
   "cell_type": "code",
   "execution_count": 293,
   "id": "apart-verification",
   "metadata": {},
   "outputs": [
    {
     "name": "stdout",
     "output_type": "stream",
     "text": [
      "58.7 µs ± 475 ns per loop (mean ± std. dev. of 7 runs, 10000 loops each)\n"
     ]
    }
   ],
   "source": [
    "%%timeit\n",
    "nth_deriv_backward(f, x, 5, 1)"
   ]
  },
  {
   "cell_type": "code",
   "execution_count": 294,
   "id": "right-language",
   "metadata": {},
   "outputs": [],
   "source": [
    "from jax.experimental.jet import jet"
   ]
  },
  {
   "cell_type": "code",
   "execution_count": 299,
   "id": "drawn-synthesis",
   "metadata": {},
   "outputs": [
    {
     "ename": "AssertionError",
     "evalue": "",
     "output_type": "error",
     "traceback": [
      "\u001b[0;31m---------------------------------------------------------------------------\u001b[0m",
      "\u001b[0;31mAssertionError\u001b[0m                            Traceback (most recent call last)",
      "\u001b[0;32m<ipython-input-299-419fcae321c4>\u001b[0m in \u001b[0;36m<module>\u001b[0;34m\u001b[0m\n\u001b[0;32m----> 1\u001b[0;31m \u001b[0mjet\u001b[0m\u001b[0;34m(\u001b[0m\u001b[0mf\u001b[0m\u001b[0;34m,\u001b[0m \u001b[0mx\u001b[0m\u001b[0;34m,\u001b[0m \u001b[0;34m(\u001b[0m\u001b[0mv_higher\u001b[0m\u001b[0;34m,\u001b[0m \u001b[0;34m)\u001b[0m\u001b[0;34m)\u001b[0m\u001b[0;34m\u001b[0m\u001b[0;34m\u001b[0m\u001b[0m\n\u001b[0m",
      "\u001b[0;32m~/anaconda3/envs/updated/lib/python3.8/site-packages/jax/experimental/jet.py\u001b[0m in \u001b[0;36mjet\u001b[0;34m(fun, primals, series)\u001b[0m\n\u001b[1;32m     56\u001b[0m \u001b[0;34m\u001b[0m\u001b[0m\n\u001b[1;32m     57\u001b[0m   \u001b[0mf\u001b[0m\u001b[0;34m,\u001b[0m \u001b[0mout_tree\u001b[0m \u001b[0;34m=\u001b[0m \u001b[0mflatten_fun_output\u001b[0m\u001b[0;34m(\u001b[0m\u001b[0mlu\u001b[0m\u001b[0;34m.\u001b[0m\u001b[0mwrap_init\u001b[0m\u001b[0;34m(\u001b[0m\u001b[0mfun\u001b[0m\u001b[0;34m)\u001b[0m\u001b[0;34m)\u001b[0m\u001b[0;34m\u001b[0m\u001b[0;34m\u001b[0m\u001b[0m\n\u001b[0;32m---> 58\u001b[0;31m   \u001b[0mout_primals\u001b[0m\u001b[0;34m,\u001b[0m \u001b[0mout_terms\u001b[0m \u001b[0;34m=\u001b[0m \u001b[0mjet_fun\u001b[0m\u001b[0;34m(\u001b[0m\u001b[0mjet_subtrace\u001b[0m\u001b[0;34m(\u001b[0m\u001b[0mf\u001b[0m\u001b[0;34m)\u001b[0m\u001b[0;34m,\u001b[0m \u001b[0morder\u001b[0m\u001b[0;34m)\u001b[0m\u001b[0;34m.\u001b[0m\u001b[0mcall_wrapped\u001b[0m\u001b[0;34m(\u001b[0m\u001b[0mprimals\u001b[0m\u001b[0;34m,\u001b[0m \u001b[0mseries\u001b[0m\u001b[0;34m)\u001b[0m\u001b[0;34m\u001b[0m\u001b[0;34m\u001b[0m\u001b[0m\n\u001b[0m\u001b[1;32m     59\u001b[0m   \u001b[0;32mreturn\u001b[0m \u001b[0mtree_unflatten\u001b[0m\u001b[0;34m(\u001b[0m\u001b[0mout_tree\u001b[0m\u001b[0;34m(\u001b[0m\u001b[0;34m)\u001b[0m\u001b[0;34m,\u001b[0m \u001b[0mout_primals\u001b[0m\u001b[0;34m)\u001b[0m\u001b[0;34m,\u001b[0m \u001b[0mtree_unflatten\u001b[0m\u001b[0;34m(\u001b[0m\u001b[0mout_tree\u001b[0m\u001b[0;34m(\u001b[0m\u001b[0;34m)\u001b[0m\u001b[0;34m,\u001b[0m \u001b[0mout_terms\u001b[0m\u001b[0;34m)\u001b[0m\u001b[0;34m\u001b[0m\u001b[0;34m\u001b[0m\u001b[0m\n\u001b[1;32m     60\u001b[0m \u001b[0;34m\u001b[0m\u001b[0m\n",
      "\u001b[0;32m~/anaconda3/envs/updated/lib/python3.8/site-packages/jax/linear_util.py\u001b[0m in \u001b[0;36mcall_wrapped\u001b[0;34m(self, *args, **kwargs)\u001b[0m\n\u001b[1;32m    158\u001b[0m     \u001b[0mstack\u001b[0m \u001b[0;34m=\u001b[0m \u001b[0;34m[\u001b[0m\u001b[0;34m]\u001b[0m\u001b[0;34m\u001b[0m\u001b[0;34m\u001b[0m\u001b[0m\n\u001b[1;32m    159\u001b[0m     \u001b[0;32mfor\u001b[0m \u001b[0;34m(\u001b[0m\u001b[0mgen\u001b[0m\u001b[0;34m,\u001b[0m \u001b[0mgen_static_args\u001b[0m\u001b[0;34m)\u001b[0m\u001b[0;34m,\u001b[0m \u001b[0mout_store\u001b[0m \u001b[0;32min\u001b[0m \u001b[0mzip\u001b[0m\u001b[0;34m(\u001b[0m\u001b[0mself\u001b[0m\u001b[0;34m.\u001b[0m\u001b[0mtransforms\u001b[0m\u001b[0;34m,\u001b[0m \u001b[0mself\u001b[0m\u001b[0;34m.\u001b[0m\u001b[0mstores\u001b[0m\u001b[0;34m)\u001b[0m\u001b[0;34m:\u001b[0m\u001b[0;34m\u001b[0m\u001b[0;34m\u001b[0m\u001b[0m\n\u001b[0;32m--> 160\u001b[0;31m       \u001b[0mgen\u001b[0m \u001b[0;34m=\u001b[0m \u001b[0mgen\u001b[0m\u001b[0;34m(\u001b[0m\u001b[0;34m*\u001b[0m\u001b[0;34m(\u001b[0m\u001b[0mgen_static_args\u001b[0m \u001b[0;34m+\u001b[0m \u001b[0mtuple\u001b[0m\u001b[0;34m(\u001b[0m\u001b[0margs\u001b[0m\u001b[0;34m)\u001b[0m\u001b[0;34m)\u001b[0m\u001b[0;34m,\u001b[0m \u001b[0;34m**\u001b[0m\u001b[0mkwargs\u001b[0m\u001b[0;34m)\u001b[0m\u001b[0;34m\u001b[0m\u001b[0;34m\u001b[0m\u001b[0m\n\u001b[0m\u001b[1;32m    161\u001b[0m       \u001b[0margs\u001b[0m\u001b[0;34m,\u001b[0m \u001b[0mkwargs\u001b[0m \u001b[0;34m=\u001b[0m \u001b[0mnext\u001b[0m\u001b[0;34m(\u001b[0m\u001b[0mgen\u001b[0m\u001b[0;34m)\u001b[0m\u001b[0;34m\u001b[0m\u001b[0;34m\u001b[0m\u001b[0m\n\u001b[1;32m    162\u001b[0m       \u001b[0mstack\u001b[0m\u001b[0;34m.\u001b[0m\u001b[0mappend\u001b[0m\u001b[0;34m(\u001b[0m\u001b[0;34m(\u001b[0m\u001b[0mgen\u001b[0m\u001b[0;34m,\u001b[0m \u001b[0mout_store\u001b[0m\u001b[0;34m)\u001b[0m\u001b[0;34m)\u001b[0m\u001b[0;34m\u001b[0m\u001b[0;34m\u001b[0m\u001b[0m\n",
      "\u001b[0;32m~/anaconda3/envs/updated/lib/python3.8/site-packages/jax/experimental/jet.py\u001b[0m in \u001b[0;36m__init__\u001b[0;34m(self, trace, primal, terms)\u001b[0m\n\u001b[1;32m     90\u001b[0m \u001b[0;34m\u001b[0m\u001b[0m\n\u001b[1;32m     91\u001b[0m   \u001b[0;32mdef\u001b[0m \u001b[0m__init__\u001b[0m\u001b[0;34m(\u001b[0m\u001b[0mself\u001b[0m\u001b[0;34m,\u001b[0m \u001b[0mtrace\u001b[0m\u001b[0;34m,\u001b[0m \u001b[0mprimal\u001b[0m\u001b[0;34m,\u001b[0m \u001b[0mterms\u001b[0m\u001b[0;34m)\u001b[0m\u001b[0;34m:\u001b[0m\u001b[0;34m\u001b[0m\u001b[0;34m\u001b[0m\u001b[0m\n\u001b[0;32m---> 92\u001b[0;31m     \u001b[0;32massert\u001b[0m \u001b[0mtype\u001b[0m\u001b[0;34m(\u001b[0m\u001b[0mterms\u001b[0m\u001b[0;34m)\u001b[0m \u001b[0;32min\u001b[0m \u001b[0;34m(\u001b[0m\u001b[0mZeroSeries\u001b[0m\u001b[0;34m,\u001b[0m \u001b[0mlist\u001b[0m\u001b[0;34m,\u001b[0m \u001b[0mtuple\u001b[0m\u001b[0;34m)\u001b[0m\u001b[0;34m\u001b[0m\u001b[0;34m\u001b[0m\u001b[0m\n\u001b[0m\u001b[1;32m     93\u001b[0m     \u001b[0mself\u001b[0m\u001b[0;34m.\u001b[0m\u001b[0m_trace\u001b[0m \u001b[0;34m=\u001b[0m \u001b[0mtrace\u001b[0m\u001b[0;34m\u001b[0m\u001b[0;34m\u001b[0m\u001b[0m\n\u001b[1;32m     94\u001b[0m     \u001b[0mself\u001b[0m\u001b[0;34m.\u001b[0m\u001b[0mprimal\u001b[0m \u001b[0;34m=\u001b[0m \u001b[0mprimal\u001b[0m\u001b[0;34m\u001b[0m\u001b[0;34m\u001b[0m\u001b[0m\n",
      "\u001b[0;31mAssertionError\u001b[0m: "
     ]
    }
   ],
   "source": [
    "jet(f, x, (v_higher, ))"
   ]
  },
  {
   "cell_type": "code",
   "execution_count": 300,
   "id": "certified-weekend",
   "metadata": {},
   "outputs": [
    {
     "data": {
      "text/plain": [
       "DeviceArray([[0., 1.],\n",
       "             [0., 1.],\n",
       "             [0., 1.],\n",
       "             [0., 1.],\n",
       "             [0., 1.],\n",
       "             [0., 1.],\n",
       "             [0., 1.],\n",
       "             [0., 1.],\n",
       "             [0., 1.],\n",
       "             [0., 1.]], dtype=float32)"
      ]
     },
     "execution_count": 300,
     "metadata": {},
     "output_type": "execute_result"
    }
   ],
   "source": [
    "v_higher"
   ]
  },
  {
   "cell_type": "markdown",
   "id": "primary-welding",
   "metadata": {},
   "source": [
    "# Testing"
   ]
  },
  {
   "cell_type": "code",
   "execution_count": 19,
   "id": "checked-cooperative",
   "metadata": {},
   "outputs": [
    {
     "name": "stdout",
     "output_type": "stream",
     "text": [
      "The autoreload extension is already loaded. To reload it, use:\n",
      "  %reload_ext autoreload\n"
     ]
    }
   ],
   "source": [
    "from jax import random, numpy as jnp\n",
    "from modax.data.burgers import burgers\n",
    "from modax.data.kdv import doublesoliton\n",
    "from modax.models.networks import MLP\n",
    "from modax.layers.feature_generators import library_backward, library_backward_new\n",
    "from modax.layers.feature_generators.utils import nth_deriv_backward\n",
    "\n",
    "import jax\n",
    "\n",
    "%load_ext autoreload\n",
    "%autoreload 2"
   ]
  },
  {
   "cell_type": "code",
   "execution_count": 20,
   "id": "instant-boating",
   "metadata": {},
   "outputs": [],
   "source": [
    "key = random.PRNGKey(42)\n",
    "\n",
    "x = jnp.linspace(-3, 4, 50)\n",
    "t = jnp.linspace(0.5, 5.0, 20)\n",
    "t_grid, x_grid = jnp.meshgrid(t, x, indexing=\"ij\")\n",
    "u = burgers(x_grid, t_grid, 0.1, 1.0)\n",
    "\n",
    "X = jnp.concatenate([t_grid.reshape(-1, 1), x_grid.reshape(-1, 1)], axis=1)\n",
    "y = u.reshape(-1, 1)\n",
    "y += 0.10 * jnp.std(y) * random.normal(key, y.shape)\n"
   ]
  },
  {
   "cell_type": "code",
   "execution_count": 21,
   "id": "linear-flash",
   "metadata": {},
   "outputs": [],
   "source": [
    "model = MLP([30, 30, 30, 1])\n",
    "params = model.init(key, X)"
   ]
  },
  {
   "cell_type": "code",
   "execution_count": 23,
   "id": "prime-shade",
   "metadata": {},
   "outputs": [],
   "source": [
    "f = lambda x: model.apply(params, x)\n",
    "lib_old = jax.jit(library_backward, static_argnums=(0, ))"
   ]
  },
  {
   "cell_type": "code",
   "execution_count": 28,
   "id": "correct-basin",
   "metadata": {},
   "outputs": [],
   "source": [
    "prediction, dt_baseline, theta_baseline = lib_old(f, X)"
   ]
  },
  {
   "cell_type": "code",
   "execution_count": 30,
   "id": "normal-track",
   "metadata": {},
   "outputs": [],
   "source": [
    "derivs = nth_deriv_backward(f, X, 3, 1)"
   ]
  },
  {
   "cell_type": "code",
   "execution_count": 46,
   "id": "trying-antenna",
   "metadata": {},
   "outputs": [],
   "source": [
    "dt = derivs[:, 0, [0]]"
   ]
  },
  {
   "cell_type": "code",
   "execution_count": 48,
   "id": "elder-shareware",
   "metadata": {},
   "outputs": [
    {
     "data": {
      "text/plain": [
       "DeviceArray(7.4505806e-08, dtype=float32)"
      ]
     },
     "execution_count": 48,
     "metadata": {},
     "output_type": "execute_result"
    }
   ],
   "source": [
    "jnp.max(jnp.abs(dt - dt_baseline))"
   ]
  },
  {
   "cell_type": "code",
   "execution_count": 51,
   "id": "united-potter",
   "metadata": {},
   "outputs": [
    {
     "data": {
      "text/plain": [
       "DeviceArray([[ 0.03263867,  0.01787903, -0.01021587],\n",
       "             [ 0.03505784,  0.01575143, -0.02016297],\n",
       "             [ 0.03705848,  0.01192245, -0.03423945],\n",
       "             ...,\n",
       "             [-0.0612675 ,  0.15675765, -0.2661123 ],\n",
       "             [-0.04176133,  0.11529644, -0.30945703],\n",
       "             [-0.02852081,  0.06973058, -0.3238501 ]], dtype=float32)"
      ]
     },
     "execution_count": 51,
     "metadata": {},
     "output_type": "execute_result"
    }
   ],
   "source": [
    "derivs[:, 1, :]"
   ]
  },
  {
   "cell_type": "code",
   "execution_count": 52,
   "id": "driving-syndrome",
   "metadata": {},
   "outputs": [
    {
     "data": {
      "text/plain": [
       "DeviceArray([[ 0.03263867,  0.01787903, -0.01021587],\n",
       "             [ 0.03505784,  0.01575143, -0.02016297],\n",
       "             [ 0.03705848,  0.01192245, -0.03423945],\n",
       "             ...,\n",
       "             [-0.06126748,  0.15675765, -0.2661123 ],\n",
       "             [-0.04176133,  0.11529644, -0.30945703],\n",
       "             [-0.02852081,  0.06973058, -0.3238501 ]], dtype=float32)"
      ]
     },
     "execution_count": 52,
     "metadata": {},
     "output_type": "execute_result"
    }
   ],
   "source": [
    "theta_baseline[:, 1:4]"
   ]
  },
  {
   "cell_type": "code",
   "execution_count": 56,
   "id": "going-amino",
   "metadata": {},
   "outputs": [],
   "source": [
    "lib_new = jax.jit(library_backward_new(3, 2), static_argnums=(0, ))\n",
    "#triggering jit\n",
    "new = lib_new(f, X)[1][1]"
   ]
  },
  {
   "cell_type": "code",
   "execution_count": 57,
   "id": "sealed-kruger",
   "metadata": {},
   "outputs": [
    {
     "data": {
      "text/plain": [
       "DeviceArray([[ 0.03263867,  0.01787903, -0.01021587],\n",
       "             [ 0.03505784,  0.01575143, -0.02016297],\n",
       "             [ 0.03705848,  0.01192245, -0.03423945],\n",
       "             ...,\n",
       "             [-0.0612675 ,  0.15675765, -0.2661123 ],\n",
       "             [-0.04176133,  0.11529644, -0.30945703],\n",
       "             [-0.02852081,  0.06973058, -0.3238501 ]], dtype=float32)"
      ]
     },
     "execution_count": 57,
     "metadata": {},
     "output_type": "execute_result"
    }
   ],
   "source": [
    "new[:, 1:4]"
   ]
  },
  {
   "cell_type": "code",
   "execution_count": 59,
   "id": "smooth-underground",
   "metadata": {},
   "outputs": [
    {
     "data": {
      "text/plain": [
       "DeviceArray(2.3841858e-07, dtype=float32)"
      ]
     },
     "execution_count": 59,
     "metadata": {},
     "output_type": "execute_result"
    }
   ],
   "source": [
    "jnp.max(jnp.abs(theta_baseline - new))"
   ]
  },
  {
   "cell_type": "markdown",
   "id": "typical-rescue",
   "metadata": {},
   "source": [
    "\n",
    "\n",
    "# Comparing speeds"
   ]
  },
  {
   "cell_type": "code",
   "execution_count": 1,
   "id": "inner-history",
   "metadata": {},
   "outputs": [],
   "source": [
    "from jax import random, numpy as jnp\n",
    "from modax.data.burgers import burgers\n",
    "from modax.data.kdv import doublesoliton\n",
    "from modax.models.networks import MLP\n",
    "from modax.layers.feature_generators import library_backward, library_backward_new\n",
    "from modax.layers.feature_generators.utils import nth_deriv_backward\n",
    "\n",
    "import jax\n",
    "\n",
    "%load_ext autoreload\n",
    "%autoreload 2"
   ]
  },
  {
   "cell_type": "code",
   "execution_count": 2,
   "id": "wooden-spoke",
   "metadata": {},
   "outputs": [],
   "source": [
    "key = random.PRNGKey(42)\n",
    "\n",
    "x = jnp.linspace(-3, 4, 50)\n",
    "t = jnp.linspace(0.5, 5.0, 20)\n",
    "t_grid, x_grid = jnp.meshgrid(t, x, indexing=\"ij\")\n",
    "u = burgers(x_grid, t_grid, 0.1, 1.0)\n",
    "\n",
    "X = jnp.concatenate([t_grid.reshape(-1, 1), x_grid.reshape(-1, 1)], axis=1)\n",
    "y = u.reshape(-1, 1)\n",
    "y += 0.10 * jnp.std(y) * random.normal(key, y.shape)\n"
   ]
  },
  {
   "cell_type": "code",
   "execution_count": 3,
   "id": "lesbian-auditor",
   "metadata": {},
   "outputs": [],
   "source": [
    "model = MLP([30, 30, 30, 1])\n",
    "params = model.init(key, X)"
   ]
  },
  {
   "cell_type": "code",
   "execution_count": 4,
   "id": "psychological-bullet",
   "metadata": {},
   "outputs": [],
   "source": [
    "f = lambda x: model.apply(params, x)"
   ]
  },
  {
   "cell_type": "code",
   "execution_count": 5,
   "id": "terminal-equation",
   "metadata": {},
   "outputs": [],
   "source": [
    "lib_old = jax.jit(library_backward, static_argnums=(0, ))"
   ]
  },
  {
   "cell_type": "code",
   "execution_count": 6,
   "id": "legislative-senegal",
   "metadata": {},
   "outputs": [],
   "source": [
    "# triggering jit\n",
    "lib_old(f, X);"
   ]
  },
  {
   "cell_type": "code",
   "execution_count": 7,
   "id": "japanese-adaptation",
   "metadata": {},
   "outputs": [
    {
     "name": "stdout",
     "output_type": "stream",
     "text": [
      "200 µs ± 100 ns per loop (mean ± std. dev. of 7 runs, 1000 loops each)\n"
     ]
    }
   ],
   "source": [
    "%%timeit \n",
    "lib_old(f, X)"
   ]
  },
  {
   "cell_type": "code",
   "execution_count": 8,
   "id": "magnetic-prague",
   "metadata": {},
   "outputs": [],
   "source": [
    "baseline = lib_old(f, X)"
   ]
  },
  {
   "cell_type": "code",
   "execution_count": 9,
   "id": "brief-central",
   "metadata": {},
   "outputs": [],
   "source": [
    "lib_new = jax.jit(library_backward_new(3, 2), static_argnums=(0, ))"
   ]
  },
  {
   "cell_type": "code",
   "execution_count": 10,
   "id": "generous-proportion",
   "metadata": {},
   "outputs": [],
   "source": [
    "#triggering jit\n",
    "new = lib_new(f, X)"
   ]
  },
  {
   "cell_type": "code",
   "execution_count": 12,
   "id": "boring-sweden",
   "metadata": {},
   "outputs": [
    {
     "name": "stdout",
     "output_type": "stream",
     "text": [
      "149 µs ± 118 ns per loop (mean ± std. dev. of 7 runs, 10000 loops each)\n"
     ]
    }
   ],
   "source": [
    "%%timeit \n",
    "lib_new(f, X)"
   ]
  },
  {
   "cell_type": "code",
   "execution_count": 13,
   "id": "promotional-professor",
   "metadata": {},
   "outputs": [
    {
     "data": {
      "text/plain": [
       "DeviceArray([[ 0.0000000e+00, -3.7252903e-09,  0.0000000e+00, ...,\n",
       "              -1.8626451e-09,  0.0000000e+00,  0.0000000e+00],\n",
       "             [ 0.0000000e+00, -3.7252903e-09,  0.0000000e+00, ...,\n",
       "              -1.8626451e-09,  0.0000000e+00,  0.0000000e+00],\n",
       "             [ 0.0000000e+00,  0.0000000e+00,  0.0000000e+00, ...,\n",
       "               0.0000000e+00,  0.0000000e+00,  0.0000000e+00],\n",
       "             ...,\n",
       "             [ 0.0000000e+00,  7.4505806e-09,  0.0000000e+00, ...,\n",
       "               3.7252903e-09,  0.0000000e+00,  0.0000000e+00],\n",
       "             [ 0.0000000e+00,  7.4505806e-09,  0.0000000e+00, ...,\n",
       "               3.7252903e-09,  0.0000000e+00,  0.0000000e+00],\n",
       "             [ 0.0000000e+00, -3.7252903e-09,  0.0000000e+00, ...,\n",
       "              -1.8626451e-09,  0.0000000e+00,  0.0000000e+00]],            dtype=float32)"
      ]
     },
     "execution_count": 13,
     "metadata": {},
     "output_type": "execute_result"
    }
   ],
   "source": [
    "baseline[1][1] - new[1][1]"
   ]
  },
  {
   "cell_type": "code",
   "execution_count": 14,
   "id": "documented-success",
   "metadata": {},
   "outputs": [],
   "source": [
    "lib_new = jax.jit(library_backward_new(5, 5), static_argnums=(0, ))"
   ]
  },
  {
   "cell_type": "code",
   "execution_count": 15,
   "id": "compound-person",
   "metadata": {},
   "outputs": [],
   "source": [
    "#triggering jit\n",
    "new = lib_new(f, X)"
   ]
  },
  {
   "cell_type": "code",
   "execution_count": 16,
   "id": "suited-tract",
   "metadata": {},
   "outputs": [
    {
     "name": "stdout",
     "output_type": "stream",
     "text": [
      "291 µs ± 284 ns per loop (mean ± std. dev. of 7 runs, 1000 loops each)\n"
     ]
    }
   ],
   "source": [
    "%%timeit \n",
    "lib_new(f, X)"
   ]
  },
  {
   "cell_type": "code",
   "execution_count": 19,
   "id": "quarterly-peeing",
   "metadata": {},
   "outputs": [
    {
     "data": {
      "text/plain": [
       "(1000, 36)"
      ]
     },
     "execution_count": 19,
     "metadata": {},
     "output_type": "execute_result"
    }
   ],
   "source": [
    "lib_new(f, X)[1][1].shape"
   ]
  },
  {
   "cell_type": "markdown",
   "id": "collect-contemporary",
   "metadata": {},
   "source": [
    "# Tetsing deepmod"
   ]
  },
  {
   "cell_type": "code",
   "execution_count": null,
   "id": "checked-raising",
   "metadata": {},
   "outputs": [],
   "source": []
  }
 ],
 "metadata": {
  "kernelspec": {
   "display_name": "Python 3",
   "language": "python",
   "name": "python3"
  },
  "language_info": {
   "codemirror_mode": {
    "name": "ipython",
    "version": 3
   },
   "file_extension": ".py",
   "mimetype": "text/x-python",
   "name": "python",
   "nbconvert_exporter": "python",
   "pygments_lexer": "ipython3",
   "version": "3.8.3"
  }
 },
 "nbformat": 4,
 "nbformat_minor": 5
}
