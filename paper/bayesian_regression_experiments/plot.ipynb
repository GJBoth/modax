{
 "cells": [
  {
   "cell_type": "code",
   "execution_count": 12,
   "id": "academic-waterproof",
   "metadata": {},
   "outputs": [],
   "source": [
    "# imports\n",
    "import matplotlib.pyplot as plt\n",
    "import seaborn as sns\n",
    "\n",
    "import numpy as np\n",
    "from deepymod.analysis import load_tensorboard\n",
    "from natsort import natsorted"
   ]
  },
  {
   "cell_type": "code",
   "execution_count": 2,
   "id": "communist-preservation",
   "metadata": {},
   "outputs": [],
   "source": [
    "# settings\n",
    "sns.set(context='paper', style='white')\n",
    "col_width = 5.5 # neurips style column width in inches"
   ]
  },
  {
   "cell_type": "markdown",
   "id": "amended-attraction",
   "metadata": {},
   "source": [
    "# Single run plot"
   ]
  },
  {
   "cell_type": "code",
   "execution_count": 43,
   "id": "nasty-seeking",
   "metadata": {},
   "outputs": [],
   "source": [
    "df_pinn_burgers = load_tensorboard(\"runs/burgers_pinn_run_0/\")\n",
    "df_bayes_burgers = load_tensorboard(\"runs/burgers_bayes_run_0/\")\n",
    "\n",
    "df_pinn_kdv = load_tensorboard(\"runs/kdv_pinn_run_0/\")\n",
    "df_bayes_kdv = load_tensorboard(\"runs/kdv_bayes_run_0/\")"
   ]
  },
  {
   "cell_type": "code",
   "execution_count": 44,
   "id": "incorporate-building",
   "metadata": {},
   "outputs": [],
   "source": [
    "coeff_keys_pinn = natsorted(filter(lambda key: key.find('coeff') == 0, df_pinn_burgers.keys()))\n",
    "coeff_keys_bayes = natsorted(filter(lambda key: key.find('coeffs') == 0, df_bayes_burgers.keys()))"
   ]
  },
  {
   "cell_type": "code",
   "execution_count": 61,
   "id": "impossible-essence",
   "metadata": {},
   "outputs": [],
   "source": [
    "# Calculatin coefficient error\n",
    "true_coeffs_burgers = np.zeros((12, ))\n",
    "true_coeffs_burgers[2] = 0.1\n",
    "true_coeffs_burgers[5] = -1\n",
    "\n",
    "df_pinn_burgers[\"coeff_MAE\"] = np.mean(np.abs(df_pinn_burgers[coeff_keys_pinn].to_numpy() - true_coeffs_burgers), axis=1) / np.linalg.norm(true_coeffs_burgers)\n",
    "df_bayes_burgers[\"coeff_MAE\"] = np.mean(np.abs(df_bayes_burgers[coeff_keys_bayes].to_numpy() - true_coeffs_burgers), axis=1) / np.linalg.norm(true_coeffs_burgers)"
   ]
  },
  {
   "cell_type": "code",
   "execution_count": 62,
   "id": "double-vermont",
   "metadata": {},
   "outputs": [],
   "source": [
    "# Calculating coefficient error\n",
    "true_coeffs_kdv = np.zeros((12, ))\n",
    "true_coeffs_kdv[3] = -1\n",
    "true_coeffs_kdv[5] = -6\n",
    "\n",
    "df_pinn_kdv[\"coeff_MAE\"] = np.mean(np.abs(df_pinn_kdv[coeff_keys_pinn].to_numpy() - true_coeffs_kdv), axis=1) / np.linalg.norm(true_coeffs_kdv)\n",
    "df_bayes_kdv[\"coeff_MAE\"] = np.mean(np.abs(df_bayes_kdv[coeff_keys_bayes].to_numpy() - true_coeffs_kdv), axis=1) / np.linalg.norm(true_coeffs_kdv)"
   ]
  },
  {
   "cell_type": "code",
   "execution_count": 77,
   "id": "heated-alfred",
   "metadata": {},
   "outputs": [
    {
     "data": {
      "image/png": "[encoded data removed]",
      "text/plain": [
       "<Figure size 356.4x237.6 with 4 Axes>"
      ]
     },
     "metadata": {},
     "output_type": "display_data"
    }
   ],
   "source": [
    "fig, axes = plt.subplots(ncols=2, nrows=2, figsize=(0.9 * col_width, 0.6 * col_width), constrained_layout=True)\n",
    "\n",
    "ax = axes[0, 0]\n",
    "ax.plot(df_bayes_burgers.index, df_bayes_burgers.mse + df_bayes_burgers.reg, label=\"Bayes\")\n",
    "ax.plot(df_pinn_burgers.index, df_pinn_burgers.mse + df_pinn_burgers.reg, label=\"PINN\")\n",
    "ax.set_yscale('log')\n",
    "ax.set_xlabel('Epoch')\n",
    "ax.set_ylabel(\"Loss\")\n",
    "ax.ticklabel_format(axis='x', style='sci', scilimits=[0, 0])\n",
    "ax.legend()\n",
    "ax.set_title('Burgers')\n",
    "\n",
    "ax = axes[1, 0]\n",
    "ax.plot(df_bayes_burgers.index, df_bayes_burgers.coeff_MAE, label=\"Bayes\")\n",
    "ax.plot(df_pinn_burgers.index, df_pinn_burgers.coeff_MAE, label=\"PINN\")\n",
    "ax.set_yscale('log')\n",
    "ax.set_ylabel(\"Coefficient error\")\n",
    "ax.set_xlabel('Epoch')\n",
    "ax.ticklabel_format(axis='x', style='sci', scilimits=[0, 0])\n",
    "ax.legend()\n",
    "\n",
    "\n",
    "ax = axes[0, 1]\n",
    "ax.plot(df_bayes_kdv.index, df_bayes_kdv.mse + df_bayes_kdv.reg, label=\"Bayes\")\n",
    "ax.plot(df_pinn_kdv.index, df_pinn_kdv.mse + df_pinn_kdv.reg, label=\"PINN\")\n",
    "ax.set_yscale('log')\n",
    "ax.set_ylabel(\"Loss\")\n",
    "\n",
    "ax.set_xlabel('Epoch')\n",
    "ax.ticklabel_format(axis='x', style='sci', scilimits=[0, 0])\n",
    "ax.legend()\n",
    "ax.set_title('Korteweg - de Vries')\n",
    "\n",
    "\n",
    "ax = axes[1, 1]\n",
    "ax.plot(df_bayes_kdv.index, df_bayes_kdv.coeff_MAE, label=\"Bayes\")\n",
    "ax.plot(df_pinn_kdv.index, df_pinn_kdv.coeff_MAE, label=\"PINN\")\n",
    "ax.set_ylabel(\"Coefficient error\")\n",
    "ax.set_xlabel('Epoch')\n",
    "ax.ticklabel_format(axis='x', style='sci', scilimits=[0, 0])\n",
    "ax.set_yscale('log')\n",
    "ax.legend()\n",
    "\n",
    "plt.savefig('bayesian_regression_experiments.pdf', bbox_inches='tight')"
   ]
  },
  {
   "cell_type": "code",
   "execution_count": 68,
   "id": "professional-serum",
   "metadata": {},
   "outputs": [
    {
     "data": {
      "text/html": [
       "<div>\n",
       "<style scoped>\n",
       "    .dataframe tbody tr th:only-of-type {\n",
       "        vertical-align: middle;\n",
       "    }\n",
       "\n",
       "    .dataframe tbody tr th {\n",
       "        vertical-align: top;\n",
       "    }\n",
       "\n",
       "    .dataframe thead th {\n",
       "        text-align: right;\n",
       "    }\n",
       "</style>\n",
       "<table border=\"1\" class=\"dataframe\">\n",
       "  <thead>\n",
       "    <tr style=\"text-align: right;\">\n",
       "      <th></th>\n",
       "      <th>coeffs_0</th>\n",
       "      <th>coeffs_1</th>\n",
       "      <th>coeffs_2</th>\n",
       "      <th>coeffs_3</th>\n",
       "      <th>coeffs_4</th>\n",
       "      <th>coeffs_5</th>\n",
       "      <th>coeffs_6</th>\n",
       "      <th>coeffs_7</th>\n",
       "      <th>coeffs_8</th>\n",
       "      <th>coeffs_9</th>\n",
       "      <th>coeffs_10</th>\n",
       "      <th>coeffs_11</th>\n",
       "    </tr>\n",
       "  </thead>\n",
       "  <tbody>\n",
       "    <tr>\n",
       "      <th>4999</th>\n",
       "      <td>-0.004212</td>\n",
       "      <td>-0.30879</td>\n",
       "      <td>0.144012</td>\n",
       "      <td>-0.964538</td>\n",
       "      <td>-0.085996</td>\n",
       "      <td>-4.746207</td>\n",
       "      <td>-0.295611</td>\n",
       "      <td>0.121537</td>\n",
       "      <td>0.090848</td>\n",
       "      <td>-1.046368</td>\n",
       "      <td>0.11185</td>\n",
       "      <td>-0.145451</td>\n",
       "    </tr>\n",
       "  </tbody>\n",
       "</table>\n",
       "</div>"
      ],
      "text/plain": [
       "      coeffs_0  coeffs_1  coeffs_2  coeffs_3  coeffs_4  coeffs_5  coeffs_6  \\\n",
       "4999 -0.004212  -0.30879  0.144012 -0.964538 -0.085996 -4.746207 -0.295611   \n",
       "\n",
       "      coeffs_7  coeffs_8  coeffs_9  coeffs_10  coeffs_11  \n",
       "4999  0.121537  0.090848 -1.046368    0.11185  -0.145451  "
      ]
     },
     "execution_count": 68,
     "metadata": {},
     "output_type": "execute_result"
    }
   ],
   "source": [
    "df_bayes_kdv[coeff_keys_bayes].tail(1)"
   ]
  },
  {
   "cell_type": "code",
   "execution_count": null,
   "id": "cleared-telescope",
   "metadata": {},
   "outputs": [],
   "source": []
  }
 ],
 "metadata": {
  "kernelspec": {
   "display_name": "Python 3",
   "language": "python",
   "name": "python3"
  },
  "language_info": {
   "codemirror_mode": {
    "name": "ipython",
    "version": 3
   },
   "file_extension": ".py",
   "mimetype": "text/x-python",
   "name": "python",
   "nbconvert_exporter": "python",
   "pygments_lexer": "ipython3",
   "version": "3.8.3"
  }
 },
 "nbformat": 4,
 "nbformat_minor": 5
}
