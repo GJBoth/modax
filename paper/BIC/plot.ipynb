{
 "cells": [
  {
   "cell_type": "code",
   "execution_count": null,
   "id": "choice-school",
   "metadata": {},
   "outputs": [],
   "source": [
    "# imports\n",
    "import matplotlib.pyplot as plt\n",
    "import seaborn as sns\n",
    "\n",
    "import numpy as np\n",
    "from deepymod.analysis import load_tensorboard\n",
    "from natsort import natsorted\n",
    "import os\n",
    "import pandas as pd\n",
    "\n",
    "from matplotlib.gridspec import GridSpec\n"
   ]
  },
  {
   "cell_type": "code",
   "execution_count": null,
   "id": "demographic-ranking",
   "metadata": {},
   "outputs": [],
   "source": [
    "# settings\n",
    "sns.set(context='paper', style='white')\n",
    "col_width = 5.5 # neurips style column width in inches\n",
    "font_size = 10"
   ]
  },
  {
   "cell_type": "code",
   "execution_count": null,
   "id": "answering-assignment",
   "metadata": {},
   "outputs": [],
   "source": [
    "df = load_tensorboard(\"runs/sbl_run_0/\")"
   ]
  },
  {
   "cell_type": "code",
   "execution_count": null,
   "id": "silent-eagle",
   "metadata": {},
   "outputs": [],
   "source": [
    "fig = plt.figure(constrained_layout=True, figsize=(0.9 * col_width, 0.2 * col_width))\n",
    "gs = GridSpec(1, 3, figure=fig)\n",
    "\n",
    "#Left\n",
    "ax = fig.add_subplot(gs[0, 0])\n",
    "ax.plot(df.index, df[prior_keys].ewm(alpha=0.1).mean())\n",
    "ax.axhline(1e4, color='k', linestyle='--')\n",
    "ax.set_xscale('log')\n",
    "ax.set_yscale('log')\n",
    "ax.set_title('Prior')\n",
    "ax.text(1e-0, 1e6, 'a', fontdict={'weight':'bold', 'size': font_size})\n",
    "\n",
    "\n",
    "# Middle\n",
    "ax = fig.add_subplot(gs[0, 1])\n",
    "ax.axvline(df.BIC.idxmin(), linestyle='--', color='k')\n",
    "ax.plot(df.index, (df.BIC - df.BIC.min()).ewm(alpha=0.1).mean())\n",
    "ax.set_xscale('log')\n",
    "#plt.ylim([0, 1000])\n",
    "ax.set_title(r\"$\\Delta$ BIC\")\n",
    "#plt.xlim([0, 50000])\n",
    "ax.set_yticks([])\n",
    "ax.text(1e-0, 6.5e3, 'b', fontdict={'weight':'bold', 'size': font_size})\n",
    "\n",
    "\n",
    "# Right\n",
    "ax = fig.add_subplot(gs[0, 2])\n",
    "ax.plot(df.index, masked_coeff_error.ewm(alpha=0.1).mean())\n",
    "ax.axvline(df.BIC.idxmin(), linestyle='--', color='k')\n",
    "ax.set_xscale('log')\n",
    "ax.set_yscale('log')\n",
    "ax.set_title('Coefficient error')\n",
    "#ax.set_xlabel('Epoch', fontdict={'weight':'bold'})\n",
    "ax.text(1e-0, 5, 'c', fontdict={'weight':'bold', 'size': font_size})\n",
    "\n",
    "plt.savefig('BIC.pdf', bbox_inches='tight')"
   ]
  },
  {
   "cell_type": "code",
   "execution_count": null,
   "id": "binding-style",
   "metadata": {},
   "outputs": [],
   "source": [
    "\n",
    "ax.set_ylim([-1.2, 0.3])\n",
    "ax.set_xticks([0, 5000, 10000])\n",
    "ax.set_title(\"Coefficients SBL\")\n",
    "ax.text(-3000.0, 0.25, 'd', fontdict={'weight':'bold', 'size': 12})"
   ]
  },
  {
   "cell_type": "code",
   "execution_count": null,
   "id": "wooden-country",
   "metadata": {},
   "outputs": [],
   "source": [
    "plt.axvline(df.BIC.idxmin(), linestyle='--', color='k')\n",
    "plt.semilogx(df.index, (df.BIC - df.BIC.min()).ewm(alpha=0.1).mean())\n",
    "#plt.ylim([0, 1000])\n",
    "plt.ylabel(r\"$\\Delta$ BIC\")\n",
    "#plt.xlim([0, 50000])"
   ]
  },
  {
   "cell_type": "code",
   "execution_count": null,
   "id": "quality-insert",
   "metadata": {},
   "outputs": [],
   "source": [
    "prior_keys = natsorted(key for key in df.keys() if key.find('alpha') == 0)\n",
    "coeff_keys = natsorted(key for key in df.keys() if key.find('coeffs') == 0)\n",
    "masked_coeff_keys = natsorted(key for key in df.keys() if key.find('masked_coeffs') == 0)"
   ]
  },
  {
   "cell_type": "code",
   "execution_count": null,
   "id": "afraid-object",
   "metadata": {},
   "outputs": [],
   "source": [
    "true_coeffs = np.zeros((1, 12))\n",
    "true_coeffs[0, 2] = 0.1\n",
    "true_coeffs[0, 5] = -1"
   ]
  },
  {
   "cell_type": "code",
   "execution_count": null,
   "id": "compressed-agreement",
   "metadata": {},
   "outputs": [],
   "source": [
    "coeff_error = np.mean(np.abs(df[coeff_keys] - true_coeffs), axis=1)\n",
    "masked_coeff_error = np.mean(np.abs(df[masked_coeff_keys] - true_coeffs), axis=1)"
   ]
  },
  {
   "cell_type": "code",
   "execution_count": null,
   "id": "incredible-induction",
   "metadata": {},
   "outputs": [],
   "source": [
    "plt.semilogy(df.index, coeff_error.ewm(alpha=0.1).mean())\n",
    "plt.semilogy(df.index, masked_coeff_error.ewm(alpha=0.1).mean())\n",
    "plt.axvline(df.BIC.idxmin(), linestyle='--', color='k')"
   ]
  },
  {
   "cell_type": "code",
   "execution_count": null,
   "id": "needed-medline",
   "metadata": {},
   "outputs": [],
   "source": [
    "plt.loglog(df.index, df[prior_keys].ewm(alpha=0.1).mean())"
   ]
  },
  {
   "cell_type": "code",
   "execution_count": null,
   "id": "raising-grove",
   "metadata": {},
   "outputs": [],
   "source": [
    "df[coeff_keys].loc[coeff_error.idxmin()]"
   ]
  },
  {
   "cell_type": "code",
   "execution_count": null,
   "id": "veterinary-wilson",
   "metadata": {},
   "outputs": [],
   "source": [
    "df[coeff_keys].loc[df.BIC.idxmin()]"
   ]
  },
  {
   "cell_type": "code",
   "execution_count": null,
   "id": "external-container",
   "metadata": {},
   "outputs": [],
   "source": [
    "df[masked_coeffs_keys].loc[df.BIC.idxmin()]"
   ]
  },
  {
   "cell_type": "code",
   "execution_count": null,
   "id": "communist-designation",
   "metadata": {},
   "outputs": [],
   "source": [
    "plt.axvline(df.BIC.idxmin(), linestyle='--', color='k')\n",
    "plt.semilogy(df.index, df.masked_reg.ewm(alpha=0.1).mean())\n",
    "plt.ylim([1e-4, 3e-4])"
   ]
  },
  {
   "cell_type": "code",
   "execution_count": null,
   "id": "representative-flight",
   "metadata": {},
   "outputs": [],
   "source": [
    "n_samples = 1000\n",
    "log_ll = n_samples * (np.log(df.masked_reg) + np.log(df.mse))"
   ]
  },
  {
   "cell_type": "code",
   "execution_count": null,
   "id": "specialized-president",
   "metadata": {},
   "outputs": [],
   "source": [
    "plt.plot(df.index, log_ll)"
   ]
  },
  {
   "cell_type": "code",
   "execution_count": null,
   "id": "diagnostic-simpson",
   "metadata": {},
   "outputs": [],
   "source": [
    "plt.axvline(df.BIC.idxmin(), linestyle='--', color='k')\n",
    "plt.plot(df.index, df.BIC.ewm(alpha=0.1).mean())\n",
    "plt.plot(df.index, log_ll.ewm(alpha=0.1).mean())\n",
    "plt.ylim([-13500, -12000])"
   ]
  },
  {
   "cell_type": "code",
   "execution_count": null,
   "id": "authorized-brown",
   "metadata": {},
   "outputs": [],
   "source": [
    "n_samples / np.log(n_samples)"
   ]
  },
  {
   "cell_type": "code",
   "execution_count": null,
   "id": "inner-match",
   "metadata": {},
   "outputs": [],
   "source": [
    "noise_levels = np.arange(0.0, 1.01, 0.10)\n",
    "noise_levels[0] = 0.01  # setting first level to 0.01"
   ]
  },
  {
   "cell_type": "code",
   "execution_count": null,
   "id": "religious-deficit",
   "metadata": {},
   "outputs": [],
   "source": [
    "noise_levels"
   ]
  },
  {
   "cell_type": "markdown",
   "id": "trained-moral",
   "metadata": {},
   "source": [
    "# Plot 2.0"
   ]
  },
  {
   "cell_type": "code",
   "execution_count": null,
   "id": "brief-princeton",
   "metadata": {},
   "outputs": [],
   "source": [
    "# imports\n",
    "import matplotlib.pyplot as plt\n",
    "import seaborn as sns\n",
    "\n",
    "import numpy as np\n",
    "from deepymod.analysis import load_tensorboard\n",
    "from natsort import natsorted\n",
    "import os\n",
    "import pandas as pd\n",
    "\n",
    "from matplotlib.gridspec import GridSpec\n"
   ]
  },
  {
   "cell_type": "code",
   "execution_count": null,
   "id": "saving-repair",
   "metadata": {},
   "outputs": [],
   "source": [
    "#loading noise dataframes\n",
    "folder = '../sbl_experiments/runs/'\n",
    "df_noise = []\n",
    "for file in natsorted(filter(lambda x: x.find('noise') != -1, os.listdir(folder))):\n",
    "    path = os.path.join(folder, file)\n",
    "    df_noise.append(load_tensorboard(path))\n",
    "    \n",
    "#loading sparsity dataframes\n",
    "df_nx = []\n",
    "for file in natsorted(filter(lambda x: x.find('nx') != -1, os.listdir(folder))):\n",
    "    path = os.path.join(folder, file)\n",
    "    df_nx.append(load_tensorboard(path))"
   ]
  },
  {
   "cell_type": "code",
   "execution_count": null,
   "id": "nuclear-reality",
   "metadata": {},
   "outputs": [],
   "source": [
    "coeff_keys = natsorted([key for key in df_noise[0].keys() if key.find('coeff') == 0])\n",
    "masked_coeff_keys = natsorted([key for key in df_noise[0].keys() if key.find('masked_coeff') == 0])\n",
    "prior_keys = natsorted([key for key in df_noise[0].keys() if key.find('alpha') == 0])\n",
    "\n",
    "\n",
    "true_coeffs = np.zeros((1, len(coeff_keys)))\n",
    "true_coeffs[:, 2] = 0.1\n",
    "true_coeffs[:, 6] = -1"
   ]
  },
  {
   "cell_type": "code",
   "execution_count": null,
   "id": "plastic-athletics",
   "metadata": {},
   "outputs": [],
   "source": [
    "min_BIC_noise = [df.BIC.idxmin() for df in df_noise]\n",
    "min_BIC_noise_error = [np.mean(np.abs(df_noise[idx].loc[min_BIC_noise[idx]][masked_coeff_keys].to_numpy() - true_coeffs)) for idx in np.arange(len(min_BIC_noise))]"
   ]
  },
  {
   "cell_type": "code",
   "execution_count": null,
   "id": "superior-recorder",
   "metadata": {},
   "outputs": [],
   "source": [
    "true_min_noise = [np.mean(np.abs(df[masked_coeff_keys]-true_coeffs), axis=1).idxmin() for df in df_noise]\n",
    "true_min_noise_error = [np.mean(np.abs(df[masked_coeff_keys]-true_coeffs), axis=1).min() for df in df_noise]"
   ]
  },
  {
   "cell_type": "code",
   "execution_count": null,
   "id": "raising-consciousness",
   "metadata": {},
   "outputs": [],
   "source": [
    "plt.plot(min_BIC_noise)\n",
    "plt.plot(true_min_noise)"
   ]
  },
  {
   "cell_type": "code",
   "execution_count": null,
   "id": "golden-spectrum",
   "metadata": {},
   "outputs": [],
   "source": [
    "plt.plot(true_min_noise_error)\n",
    "plt.plot(min_BIC_noise_error)\n",
    "\n",
    "plt.yscale('log')"
   ]
  },
  {
   "cell_type": "code",
   "execution_count": null,
   "id": "final-regard",
   "metadata": {},
   "outputs": [],
   "source": [
    "min_BIC_nx = [df.BIC.idxmin() for df in df_nx]\n",
    "min_BIC_nx_error = [np.mean(np.abs(df_nx[idx].loc[min_BIC_nx[idx]][masked_coeff_keys].to_numpy() - true_coeffs)) for idx in np.arange(len(min_BIC_nx))]"
   ]
  },
  {
   "cell_type": "code",
   "execution_count": null,
   "id": "worthy-turkey",
   "metadata": {},
   "outputs": [],
   "source": [
    "true_min_nx = [np.mean(np.abs(df[masked_coeff_keys]-true_coeffs), axis=1).idxmin() for df in df_nx]\n",
    "true_min_nx_error = [np.mean(np.abs(df[masked_coeff_keys]-true_coeffs), axis=1).min() for df in df_nx]"
   ]
  },
  {
   "cell_type": "code",
   "execution_count": null,
   "id": "august-forum",
   "metadata": {},
   "outputs": [],
   "source": [
    "plt.plot(min_BIC_nx)\n",
    "plt.plot(true_min_nx)"
   ]
  },
  {
   "cell_type": "code",
   "execution_count": null,
   "id": "public-cherry",
   "metadata": {},
   "outputs": [],
   "source": [
    "plt.plot(true_min_nx_error)\n",
    "plt.plot(min_BIC_nx_error)\n",
    "\n",
    "plt.yscale('log')"
   ]
  },
  {
   "cell_type": "code",
   "execution_count": null,
   "id": "piano-retailer",
   "metadata": {},
   "outputs": [],
   "source": [
    "idx = 2\n",
    "plt.semilogy(np.mean(np.abs(df_nx[idx][masked_coeff_keys] - true_coeffs), axis=1))\n",
    "plt.axvline(df_nx[idx].BIC.idxmin())"
   ]
  },
  {
   "cell_type": "code",
   "execution_count": null,
   "id": "guilty-performance",
   "metadata": {},
   "outputs": [],
   "source": [
    "plt.plot(df_nx[idx].BIC)"
   ]
  },
  {
   "cell_type": "code",
   "execution_count": null,
   "id": "enclosed-shopping",
   "metadata": {},
   "outputs": [],
   "source": [
    "df_nx[idx].loc[df_nx[idx].BIC.idxmin()][masked_coeff_keys]"
   ]
  },
  {
   "cell_type": "code",
   "execution_count": null,
   "id": "brutal-coverage",
   "metadata": {},
   "outputs": [],
   "source": [
    "df_nx[idx].loc[true_min_nx[idx]][masked_coeff_keys]"
   ]
  },
  {
   "cell_type": "code",
   "execution_count": null,
   "id": "alert-proportion",
   "metadata": {},
   "outputs": [],
   "source": [
    "plt.semilogy(df_nx[idx][prior_keys])\n",
    "plt.axvline(df_nx[idx].BIC.idxmin())"
   ]
  },
  {
   "cell_type": "code",
   "execution_count": null,
   "id": "dangerous-algeria",
   "metadata": {},
   "outputs": [],
   "source": [
    "idx=2\n",
    "plt.semilogy(df_noise[idx][prior_keys])\n",
    "plt.axvline(df_noise[idx].BIC.idxmin())\n",
    "plt.axhline(1e4)"
   ]
  },
  {
   "cell_type": "code",
   "execution_count": null,
   "id": "burning-wales",
   "metadata": {},
   "outputs": [],
   "source": [
    "plt.semilogy(np.mean(np.abs(df_noise[idx][masked_coeff_keys] - true_coeffs), axis=1))\n",
    "plt.axvline(df_noise[idx].BIC.idxmin())"
   ]
  },
  {
   "cell_type": "code",
   "execution_count": null,
   "id": "common-testing",
   "metadata": {},
   "outputs": [],
   "source": [
    "plt.plot(df_noise[idx].BIC)"
   ]
  },
  {
   "cell_type": "code",
   "execution_count": null,
   "id": "manual-mainstream",
   "metadata": {},
   "outputs": [],
   "source": [
    "np.mean(np.abs(df_nx[idx].loc[min_BIC_nx[idx]][coeff_keys].to_numpy() - true_coeffs))"
   ]
  }
 ],
 "metadata": {
  "kernelspec": {
   "display_name": "Python 3",
   "language": "python",
   "name": "python3"
  },
  "language_info": {
   "codemirror_mode": {
    "name": "ipython",
    "version": 3
   },
   "file_extension": ".py",
   "mimetype": "text/x-python",
   "name": "python",
   "nbconvert_exporter": "python",
   "pygments_lexer": "ipython3",
   "version": "3.8.3"
  }
 },
 "nbformat": 4,
 "nbformat_minor": 5
}
