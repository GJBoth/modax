{
 "cells": [
  {
   "cell_type": "code",
   "execution_count": null,
   "id": "micro-president",
   "metadata": {},
   "outputs": [],
   "source": [
    "# imports\n",
    "import matplotlib.pyplot as plt\n",
    "import seaborn as sns\n",
    "from matplotlib.gridspec import GridSpec\n",
    "\n",
    "import numpy as np\n",
    "from deepymod.analysis import load_tensorboard\n",
    "from natsort import natsorted\n",
    "import os\n",
    "import pandas as pd\n",
    "\n",
    "import jax\n",
    "from jax import random\n",
    "from modax.data.kdv import doublesoliton\n"
   ]
  },
  {
   "cell_type": "code",
   "execution_count": null,
   "id": "threaded-haiti",
   "metadata": {},
   "outputs": [],
   "source": [
    "# settings\n",
    "%config InlineBackend.figure_format = 'svg'\n",
    "sns.set(context='paper', style='white')\n",
    "col_width = 5.5 # neurips style column width in inches\n",
    "plt.rcParams.update({'font.size': 8})\n",
    "\n",
    "jax.config.update('jax_platform_name', 'cpu') # to fix weird memory bug"
   ]
  },
  {
   "cell_type": "markdown",
   "id": "novel-bullet",
   "metadata": {},
   "source": [
    "# Plot 2.0"
   ]
  },
  {
   "cell_type": "code",
   "execution_count": null,
   "id": "dominant-surname",
   "metadata": {},
   "outputs": [],
   "source": [
    "files = natsorted([file for file in os.listdir('runs') if file.find('SBL')==0])\n",
    "dfs_sbl = [load_tensorboard(f'runs/{file}') for file in files]\n",
    "\n",
    "files = natsorted([file for file in os.listdir('runs') if file.find('pinn')==0])\n",
    "dfs_pinn = [load_tensorboard(f'runs/{file}') for file in files]"
   ]
  },
  {
   "cell_type": "code",
   "execution_count": null,
   "id": "indie-sarah",
   "metadata": {},
   "outputs": [],
   "source": [
    "def mean_std(prop, df_list, log):\n",
    "    \"\"\"Returns mean and std and (mean - std, mean + std) of prop for all dataframes in df_list.\"\"\"\n",
    "    data = np.stack([prop(df) for df in df_list], axis=-1)\n",
    "    if log:\n",
    "        data = np.log10(data)\n",
    "    mean = np.mean(data, axis=-1)  \n",
    "    std = np.std(data, axis=-1)  \n",
    "    return mean, std, (mean-std, mean + std)"
   ]
  },
  {
   "cell_type": "code",
   "execution_count": null,
   "id": "massive-gasoline",
   "metadata": {},
   "outputs": [],
   "source": [
    "prior_keys = natsorted(key for key in dfs_sbl[0].keys() if key.find('alpha') == 0)\n",
    "coeff_keys = natsorted(key for key in dfs_sbl[0].keys() if key.find('coeffs') == 0)\n",
    "masked_coeff_keys = natsorted(key for key in dfs_sbl[0].keys() if key.find('masked_coeffs') == 0)\n",
    "bayes_coeff_keys = natsorted(key for key in dfs_sbl[0].keys() if key.find('bayes') == 0)"
   ]
  },
  {
   "cell_type": "code",
   "execution_count": null,
   "id": "north-fossil",
   "metadata": {},
   "outputs": [],
   "source": [
    "# Dataset\n",
    "key = random.PRNGKey(0)\n",
    "noise = 0.20\n",
    "\n",
    "# Making data\n",
    "x = np.linspace(-6, 7, 50)\n",
    "t = np.linspace(0.1, 3.0, 40)\n",
    "t_grid, x_grid = np.meshgrid(t, x, indexing=\"ij\")\n",
    "u = doublesoliton(x_grid, t_grid, c=[5.0, 2.0], x0=[-5.0, -0.0])\n",
    "u_noisy = u + noise * np.std(u) * random.normal(key, u.shape)"
   ]
  },
  {
   "cell_type": "code",
   "execution_count": null,
   "id": "popular-cleaning",
   "metadata": {},
   "outputs": [],
   "source": [
    "sbl_prior = mean_std(lambda df: df[prior_keys], dfs_sbl, log=True)\n",
    "sbl_posterior = mean_std(lambda df: df[bayes_coeff_keys], dfs_sbl, log=False)\n",
    "pinn_coeffs = mean_std(lambda df: df[coeff_keys], dfs_pinn, log=False)\n",
    "\n",
    "x_vals = dfs_pinn[0].index"
   ]
  },
  {
   "cell_type": "code",
   "execution_count": null,
   "id": "super-adjustment",
   "metadata": {},
   "outputs": [],
   "source": [
    "fig = plt.figure(constrained_layout=True, figsize=(0.9 * col_width, 0.3 * col_width))\n",
    "gs = GridSpec(2, 3, figure=fig)\n",
    "run_idx=4\n",
    "\n",
    "frame = 20\n",
    "ax = fig.add_subplot(gs[0, 0])\n",
    "ax.contourf(u)\n",
    "ax.set_xticks([])\n",
    "ax.set_yticks([])\n",
    "ax.set_title('Korteweg-de Vries')\n",
    "ax.axhline(frame, linestyle='--', color='r')\n",
    "ax.text(-11.0, 50.0, 'a)', fontdict={'weight':'bold'})\n",
    "\n",
    "ax = fig.add_subplot(gs[1, 0])\n",
    "ax.plot(x, u_noisy[frame, :])\n",
    "ax.plot(x, u[frame, :], 'k--')\n",
    "ax.set_yticks([])\n",
    "ax.text(-10.0, 2.0, 'b)', fontdict={'weight':'bold'})\n",
    "\n",
    "ax = fig.add_subplot(gs[:, 1])\n",
    "plt.plot(x_vals, sbl_prior[0])\n",
    "plt.plot(x_vals, sbl_prior[0][:, 3], lw=2)\n",
    "plt.plot(x_vals, sbl_prior[0][:, 6], lw=2)\n",
    "for idx in np.arange(sbl_prior[0].shape[-1]):\n",
    "    plt.fill_between(x_vals, sbl_prior[2][0][:, idx], sbl_prior[2][1][:, idx], alpha=0.4)\n",
    "#ax.set_yscale('log')\n",
    "ax.axhline(4, color='k', linestyle='--')\n",
    "ax.set_title('log prior precision')\n",
    "ax.set_xlim([0, 1e4])\n",
    "ax.set_ylim([-2, 5.2])\n",
    "ax.set_xlabel('Epoch', fontdict={'weight': 'bold'})\n",
    "ax.text(-3300.0, 5.85, 'c)', fontdict={'weight':'bold'})\n",
    "\n",
    "ax = fig.add_subplot(gs[0, 2])\n",
    "plt.plot(x_vals, sbl_posterior[0])\n",
    "plt.plot(x_vals, sbl_posterior[0][:, 3], lw=2)\n",
    "plt.plot(x_vals, sbl_posterior[0][:, 6], lw=2)\n",
    "for idx in np.arange(sbl_posterior[0].shape[-1]):\n",
    "    plt.fill_between(x_vals, sbl_posterior[2][0][:, idx], sbl_posterior[2][1][:, idx], alpha=0.4)\n",
    "ax.set_ylim([-7, 2.0])\n",
    "ax.set_xticks([])\n",
    "ax.set_title('posterior')\n",
    "ax.set_xlim([0, 1e4])\n",
    "ax.text(-3000.0, 4.0, 'd)', fontdict={'weight':'bold'})\n",
    "\n",
    "ax = fig.add_subplot(gs[1, 2])\n",
    "plt.plot(x_vals, pinn_coeffs[0])\n",
    "plt.plot(x_vals, pinn_coeffs[0][:, 3], lw=2)\n",
    "plt.plot(x_vals, pinn_coeffs[0][:, 6], lw=2)\n",
    "for idx in np.arange(pinn_coeffs[0].shape[-1]):\n",
    "    plt.fill_between(x_vals, pinn_coeffs[2][0][:, idx], pinn_coeffs[2][1][:, idx], alpha=0.4)\n",
    "ax.set_ylim([-7, 2])\n",
    "#ax.set_xticks([])\n",
    "ax.set_title('baseline')\n",
    "ax.set_xlim([0, 1e4])\n",
    "ax.set_xlabel('Epoch', fontdict={'weight': 'bold'})\n",
    "ax.text(-3000.0, 4, 'e)', fontdict={'weight':'bold'})\n",
    "#ax.set_xticks([1e4])\n",
    "#ax.set_xticklabels(['10'])\n",
    "#ax.ticklabel_format(axis='x', style='sci', scilimits=[0, 0])\n",
    "\n",
    "\n",
    "plt.savefig('kdv.pdf', bbox_inches='tight', pad_inches=0)"
   ]
  },
  {
   "cell_type": "markdown",
   "id": "mysterious-georgia",
   "metadata": {},
   "source": [
    "# Multiple runs"
   ]
  },
  {
   "cell_type": "code",
   "execution_count": null,
   "id": "entitled-heather",
   "metadata": {},
   "outputs": [],
   "source": [
    "files = natsorted([file for file in os.listdir('runs') if file.find('SBL')==0])\n",
    "dfs_sbl = [load_tensorboard(f'runs/{file}') for file in files]"
   ]
  },
  {
   "cell_type": "code",
   "execution_count": null,
   "id": "occasional-corner",
   "metadata": {},
   "outputs": [],
   "source": [
    "files = natsorted([file for file in os.listdir('runs') if file.find('pinn')==0])\n",
    "dfs_pinn = [load_tensorboard(f'runs/{file}') for file in files]"
   ]
  },
  {
   "cell_type": "code",
   "execution_count": null,
   "id": "contemporary-mineral",
   "metadata": {},
   "outputs": [],
   "source": [
    "def mean_std(prop, df_list, log):\n",
    "    \"\"\"Returns mean and std and (mean - std, mean + std) of prop for all dataframes in df_list.\"\"\"\n",
    "    data = np.stack([prop(df) for df in df_list], axis=-1)\n",
    "    if log:\n",
    "        data = np.log10(data)\n",
    "    mean = np.mean(data, axis=-1)  \n",
    "    std = np.std(data, axis=-1)  \n",
    "    return mean, std, (mean-std, mean + std)"
   ]
  },
  {
   "cell_type": "code",
   "execution_count": null,
   "id": "developed-maintenance",
   "metadata": {},
   "outputs": [],
   "source": [
    "sbl_loss = mean_std(lambda df: df.mse + df.reg, dfs_sbl, log=True)\n",
    "pinn_loss = mean_std(lambda df: df.mse + df.reg, dfs_pinn, log=True)\n",
    "x_vals = dfs_pinn[0].index"
   ]
  },
  {
   "cell_type": "code",
   "execution_count": null,
   "id": "contrary-portland",
   "metadata": {},
   "outputs": [],
   "source": [
    "plt.plot(x_vals, sbl_loss[0])\n",
    "plt.fill_between(x_vals, sbl_loss[2][0], sbl_loss[2][1], alpha=0.4)\n",
    "\n",
    "plt.plot(x_vals, pinn_loss[0])\n",
    "plt.fill_between(x_vals, pinn_loss[2][0], pinn_loss[2][1], alpha=0.4)"
   ]
  },
  {
   "cell_type": "code",
   "execution_count": null,
   "id": "bright-singing",
   "metadata": {},
   "outputs": [],
   "source": [
    "prior_keys = natsorted(key for key in dfs_sbl[0].keys() if key.find('alpha') == 0)\n",
    "coeff_keys = natsorted(key for key in dfs_sbl[0].keys() if key.find('coeffs') == 0)\n",
    "masked_coeff_keys = natsorted(key for key in dfs_sbl[0].keys() if key.find('masked_coeffs') == 0)\n",
    "bayes_coeff_keys = natsorted(key for key in dfs_sbl[0].keys() if key.find('bayes') == 0)"
   ]
  },
  {
   "cell_type": "code",
   "execution_count": null,
   "id": "blank-product",
   "metadata": {},
   "outputs": [],
   "source": [
    "sbl_prior = mean_std(lambda df: df[prior_keys], dfs_sbl, log=True)"
   ]
  },
  {
   "cell_type": "code",
   "execution_count": null,
   "id": "adolescent-share",
   "metadata": {},
   "outputs": [],
   "source": [
    "plt.plot(x_vals, sbl_prior[0])\n",
    "for idx in np.arange(sbl_prior[0].shape[-1]):\n",
    "    plt.fill_between(x_vals, sbl_prior[2][0][:, idx], sbl_prior[2][1][:, idx], alpha=0.4)"
   ]
  },
  {
   "cell_type": "code",
   "execution_count": null,
   "id": "funded-russian",
   "metadata": {},
   "outputs": [],
   "source": [
    "sbl_coeffs = mean_std(lambda df: df[bayes_coeff_keys], dfs_sbl, log=False)\n",
    "pinn_coeffs = mean_std(lambda df: df[coeff_keys], dfs_pinn, log=False)"
   ]
  },
  {
   "cell_type": "code",
   "execution_count": null,
   "id": "cheap-florida",
   "metadata": {},
   "outputs": [],
   "source": [
    "plt.plot(x_vals, sbl_coeffs[0])\n",
    "plt.plot(x_vals, sbl_coeffs[0][:, 2], linewidth=2)\n",
    "plt.plot(x_vals, sbl_coeffs[0][:, 5], linewidth=2)\n",
    "for idx in np.arange(sbl_coeffs[0].shape[-1]):\n",
    "    plt.fill_between(x_vals, sbl_coeffs[2][0][:, idx], sbl_coeffs[2][1][:, idx], alpha=0.4)\n",
    "    \n",
    "#plt.ylim([-1.5, 1.5])"
   ]
  },
  {
   "cell_type": "code",
   "execution_count": null,
   "id": "operating-vienna",
   "metadata": {},
   "outputs": [],
   "source": [
    "plt.plot(x_vals, pinn_coeffs[0])\n",
    "plt.plot(x_vals, pinn_coeffs[0][:, 2], linewidth=2)\n",
    "plt.plot(x_vals, pinn_coeffs[0][:, 5], linewidth=2)\n",
    "for idx in np.arange(pinn_coeffs[0].shape[-1]):\n",
    "    plt.fill_between(x_vals, pinn_coeffs[2][0][:, idx], pinn_coeffs[2][1][:, idx], alpha=0.4)\n",
    "    \n",
    "#plt.ylim([-1.2, 1])"
   ]
  },
  {
   "cell_type": "code",
   "execution_count": null,
   "id": "willing-arbor",
   "metadata": {},
   "outputs": [],
   "source": [
    "fig = plt.figure(constrained_layout=True, figsize=(0.5 * col_width, 0.7 * col_width))\n",
    "gs = GridSpec(3, 2, figure=fig)\n",
    "\n",
    "#Upper left\n",
    "ax = fig.add_subplot(gs[0, 0])\n",
    "ax.plot(x_vals, pinn_loss[0], label='PINN')\n",
    "ax.fill_between(x_vals, pinn_loss[2][0], pinn_loss[2][1], alpha=0.4)\n",
    "\n",
    "ax.plot(x_vals, sbl_loss[0], label='SBL')\n",
    "ax.fill_between(x_vals, sbl_loss[2][0], sbl_loss[2][1], alpha=0.4)\n",
    "\n",
    "#ax.set_ylim([-3.4, -2])\n",
    "ax.set_title('Loss')\n",
    "ax.legend()\n",
    "ax.text(-7000.0, -0.5, 'a', fontdict={'weight':'bold', 'size': 12})\n",
    "   \n",
    "    \n",
    "\n",
    "#Lower left\n",
    "ax = fig.add_subplot(gs[0, 1])\n",
    "ax.plot(x_vals, sbl_prior[0])\n",
    "for idx in np.arange(sbl_prior[0].shape[-1]):\n",
    "    plt.fill_between(x_vals, sbl_prior[2][0][:, idx], sbl_prior[2][1][:, idx], alpha=0.4)\n",
    "ax.plot(x_vals, sbl_prior[0][:, 2], linewidth=2)\n",
    "ax.plot(x_vals, sbl_prior[0][:, 2], linewidth=2)\n",
    "ax.set_ylim([-0.5, 5.5])\n",
    "ax.set_title(\"Prior\")\n",
    "ax.plot(x_vals, sbl_prior[0])\n",
    "ax.text(-5100.0, 5.3, 'b', fontdict={'weight':'bold', 'size': 12})\n",
    "   \n",
    "    \n",
    "# middle\n",
    "ax = fig.add_subplot(gs[1, :])\n",
    "ax.plot(x_vals, pinn_coeffs[0])\n",
    "ax.plot(x_vals, pinn_coeffs[0][:, 2], linewidth=2)\n",
    "ax.plot(x_vals, pinn_coeffs[0][:, 5], linewidth=2)\n",
    "for idx in np.arange(pinn_coeffs[0].shape[-1]):\n",
    "    ax.fill_between(x_vals, pinn_coeffs[2][0][:, idx], pinn_coeffs[2][1][:, idx], alpha=0.4)\n",
    "ax.set_xticks([])\n",
    "ax.set_ylim([-1.2, 0.3])\n",
    "ax.set_title(\"Coefficients PINN\")\n",
    "ax.text(-3000.0, 0.25, 'c', fontdict={'weight':'bold', 'size': 12})\n",
    "    \n",
    "# right\n",
    "ax = fig.add_subplot(gs[2, :])\n",
    "ax.plot(x_vals, sbl_coeffs[0])\n",
    "ax.plot(x_vals, sbl_coeffs[0][:, 2], linewidth=2)\n",
    "ax.plot(x_vals, sbl_coeffs[0][:, 5], linewidth=2)\n",
    "for idx in np.arange(sbl_coeffs[0].shape[-1]):\n",
    "    ax.fill_between(x_vals, sbl_coeffs[2][0][:, idx], sbl_coeffs[2][1][:, idx], alpha=0.4)\n",
    "ax.set_xlabel('Epoch', fontdict={'weight':'bold'})\n",
    "ax.set_ylim([-1.2, 0.3])\n",
    "ax.set_xticks([0, 5000, 10000])\n",
    "ax.set_title(\"Coefficients SBL\")\n",
    "ax.text(-3000.0, 0.25, 'd', fontdict={'weight':'bold', 'size': 12})\n",
    "plt.savefig('SBL.pdf', bbox_inches='tight')"
   ]
  },
  {
   "cell_type": "code",
   "execution_count": null,
   "id": "federal-python",
   "metadata": {},
   "outputs": [],
   "source": [
    "run_idx=4\n",
    "plt.semilogy(dfs_sbl[run_idx][prior_keys].ewm(alpha=0.1).mean())\n",
    "plt.semilogy(dfs_sbl[run_idx][prior_keys[3]].ewm(alpha=0.1).mean(), lw=3)\n",
    "plt.semilogy(dfs_sbl[run_idx][prior_keys[6]].ewm(alpha=0.1).mean(), lw=3)"
   ]
  },
  {
   "cell_type": "code",
   "execution_count": null,
   "id": "missing-testament",
   "metadata": {},
   "outputs": [],
   "source": [
    "run_idx=1\n",
    "plt.plot(dfs_sbl[run_idx][masked_coeff_keys].ewm(alpha=0.1).mean())\n",
    "plt.plot(dfs_sbl[run_idx][masked_coeff_keys[3]].ewm(alpha=0.1).mean(), lw=3)\n",
    "plt.plot(dfs_sbl[run_idx][masked_coeff_keys[6]].ewm(alpha=0.1).mean(), lw=3)\n",
    "plt.ylim([-10, 0.5])"
   ]
  },
  {
   "cell_type": "code",
   "execution_count": null,
   "id": "controlling-external",
   "metadata": {},
   "outputs": [],
   "source": [
    "run_idx=1\n",
    "plt.plot(dfs_sbl[run_idx][bayes_coeff_keys].ewm(alpha=0.1).mean())\n",
    "plt.plot(dfs_sbl[run_idx][bayes_coeff_keys[3]].ewm(alpha=0.1).mean(), lw=3)\n",
    "plt.plot(dfs_sbl[run_idx][bayes_coeff_keys[6]].ewm(alpha=0.1).mean(), lw=3)\n",
    "plt.ylim([-7, 0.5])"
   ]
  },
  {
   "cell_type": "code",
   "execution_count": null,
   "id": "acoustic-fireplace",
   "metadata": {},
   "outputs": [],
   "source": [
    "run_idx=1\n",
    "plt.plot(dfs_pinn[run_idx][coeff_keys].ewm(alpha=0.1).mean())\n",
    "plt.plot(dfs_pinn[run_idx][coeff_keys[3]].ewm(alpha=0.1).mean(), lw=3)\n",
    "plt.plot(dfs_pinn[run_idx][coeff_keys[6]].ewm(alpha=0.1).mean(), lw=3)\n",
    "plt.ylim([-7, 0.5])"
   ]
  },
  {
   "cell_type": "code",
   "execution_count": null,
   "id": "fabulous-century",
   "metadata": {},
   "outputs": [],
   "source": [
    "from jax import random\n",
    "from modax.data.kdv import doublesoliton\n",
    "import matplotlib.pyplot as plt\n",
    "import seaborn as sns\n",
    "import numpy as np"
   ]
  },
  {
   "cell_type": "code",
   "execution_count": null,
   "id": "searching-supplier",
   "metadata": {},
   "outputs": [],
   "source": [
    "key = random.PRNGKey(0)\n",
    "noise = 0.20\n",
    "\n",
    "# Making data\n",
    "x = np.linspace(-10, 10, 100)\n",
    "t = np.linspace(0.1, 1.0, 20)\n",
    "t_grid, x_grid = np.meshgrid(t, x, indexing=\"ij\")\n",
    "u = doublesoliton(x_grid, t_grid, c=[5.0, 2.0], x0=[0.0, -5.0])\n",
    "u_noisy = u + noise * np.std(u) * random.normal(key, u.shape)"
   ]
  },
  {
   "cell_type": "code",
   "execution_count": null,
   "id": "powerful-novel",
   "metadata": {},
   "outputs": [],
   "source": [
    "fig = plt.figure(constrained_layout=True, figsize=(0.9 * col_width, 0.3 * col_width))\n",
    "gs = GridSpec(2, 3, figure=fig)\n",
    "run_idx=4\n",
    "\n",
    "frame = 10\n",
    "ax = fig.add_subplot(gs[0, 0])\n",
    "ax.contourf(u)\n",
    "ax.set_xticks([])\n",
    "ax.set_yticks([])\n",
    "ax.set_title('Korteweg - de Vries')\n",
    "ax.axhline(frame, linestyle='--', color='r')\n",
    "\n",
    "ax = fig.add_subplot(gs[1, 0])\n",
    "ax.plot(x, u_noisy[frame, :])\n",
    "ax.plot(x, u[frame, :], 'k--')\n",
    "ax.set_yticks([])\n",
    "\n",
    "ax = fig.add_subplot(gs[:, 1])\n",
    "ax.plot(dfs_sbl[run_idx][prior_keys].ewm(alpha=0.1).mean())\n",
    "ax.plot(dfs_sbl[run_idx][prior_keys[3]].ewm(alpha=0.1).mean(), lw=2)\n",
    "ax.plot(dfs_sbl[run_idx][prior_keys[6]].ewm(alpha=0.1).mean(), lw=2)\n",
    "ax.set_yscale('log')\n",
    "ax.axhline(1e4, color='k', linestyle='--')\n",
    "ax.set_title('Prior')\n",
    "\n",
    "ax = fig.add_subplot(gs[0, 2])\n",
    "ax.plot(dfs_sbl[run_idx][masked_coeff_keys].ewm(alpha=0.1).mean())\n",
    "ax.plot(dfs_sbl[run_idx][masked_coeff_keys[3]].ewm(alpha=0.1).mean(), lw=3)\n",
    "ax.plot(dfs_sbl[run_idx][masked_coeff_keys[6]].ewm(alpha=0.1).mean(), lw=3)\n",
    "ax.set_ylim([-6.5, 1.5])\n",
    "ax.set_xticks([])\n",
    "ax.set_title('SBL')\n",
    "\n",
    "ax = fig.add_subplot(gs[1, 2])\n",
    "ax.plot(dfs_pinn[run_idx][coeff_keys].ewm(alpha=0.1).mean())\n",
    "ax.plot(dfs_pinn[run_idx][coeff_keys[3]].ewm(alpha=0.1).mean(), lw=3)\n",
    "ax.plot(dfs_pinn[run_idx][coeff_keys[6]].ewm(alpha=0.1).mean(), lw=3)\n",
    "ax.set_ylim([-6.5, 3])\n",
    "ax.set_title('OLS')\n",
    "\n",
    "plt.savefig('kdv.pdf', bbox_inches='tight', pad_inches=0)"
   ]
  },
  {
   "cell_type": "code",
   "execution_count": null,
   "id": "tender-structure",
   "metadata": {},
   "outputs": [],
   "source": [
    "\n",
    "\n",
    "key = random.PRNGKey(0)\n",
    "noise = 0.20\n",
    "\n",
    "# Making data\n",
    "x = np.linspace(-6, 7, 50)\n",
    "t = np.linspace(0.1, 3.0, 40)\n",
    "t_grid, x_grid = np.meshgrid(t, x, indexing=\"ij\")\n",
    "u = doublesoliton(x_grid, t_grid, c=[5.0, 2.0], x0=[-5.0, -0.0])"
   ]
  },
  {
   "cell_type": "code",
   "execution_count": null,
   "id": "arctic-plenty",
   "metadata": {},
   "outputs": [],
   "source": [
    "plt.contourf(u)"
   ]
  },
  {
   "cell_type": "code",
   "execution_count": null,
   "id": "endangered-dietary",
   "metadata": {},
   "outputs": [],
   "source": [
    "u.shape"
   ]
  },
  {
   "cell_type": "code",
   "execution_count": null,
   "id": "collaborative-pencil",
   "metadata": {},
   "outputs": [],
   "source": [
    "frame = -10\n",
    "plt.plot(x, u[frame, :])\n",
    "#plt.plot(x, u_noisy[frame, :])"
   ]
  },
  {
   "cell_type": "code",
   "execution_count": null,
   "id": "racial-termination",
   "metadata": {},
   "outputs": [],
   "source": [
    "frame = -1\n",
    "plt.plot(x, u[frame, :])\n",
    "plt.plot(x, u_noisy[frame, :])"
   ]
  }
 ],
 "metadata": {
  "kernelspec": {
   "display_name": "Python [conda env:root] *",
   "language": "python",
   "name": "conda-root-py"
  },
  "language_info": {
   "codemirror_mode": {
    "name": "ipython",
    "version": 3
   },
   "file_extension": ".py",
   "mimetype": "text/x-python",
   "name": "python",
   "nbconvert_exporter": "python",
   "pygments_lexer": "ipython3",
   "version": "3.8.3"
  }
 },
 "nbformat": 4,
 "nbformat_minor": 5
}
