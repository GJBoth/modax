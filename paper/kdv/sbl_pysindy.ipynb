{
 "cells": [
  {
   "cell_type": "code",
   "execution_count": 2,
   "id": "dressed-assault",
   "metadata": {},
   "outputs": [],
   "source": [
    "from jax import numpy as jnp, random\n",
    "from modax.data.kdv import doublesoliton\n",
    "import jax\n",
    "import matplotlib.pyplot as plt\n",
    "from scipy.interpolate import UnivariateSpline\n",
    "from sklearn.linear_model import ARDRegression\n",
    "\n",
    "import numpy as np"
   ]
  },
  {
   "cell_type": "markdown",
   "id": "impressed-moldova",
   "metadata": {},
   "source": [
    "# TrainSTridge"
   ]
  },
  {
   "cell_type": "code",
   "execution_count": 25,
   "id": "amino-marketing",
   "metadata": {},
   "outputs": [],
   "source": [
    "def TrainSTRidge(R, Ut, lam, d_tol, maxit = 25, STR_iters = 10, l0_penalty = None, normalize = 2, split = 0.8):\n",
    "    \"\"\"\n",
    "    This function trains a predictor using STRidge.\n",
    "\n",
    "    It runs over different values of tolerance and trains predictors on a training set, then evaluates them \n",
    "    using a loss function on a holdout set.\n",
    "\n",
    "    Please note published article has typo.  Loss function used here for model selection evaluates fidelity using 2-norm,\n",
    "    not squared 2-norm.\n",
    "    \"\"\"\n",
    "\n",
    "    # Split data into 80% training and 20% test, then search for the best tolderance.\n",
    "    np.random.seed(0) # for consistancy\n",
    "    n,_ = R.shape\n",
    "    train = np.random.choice(n, int(n*split), replace = False)\n",
    "    test = [i for i in np.arange(n) if i not in train]\n",
    "    TrainR = R[train,:]\n",
    "    TestR = R[test,:]\n",
    "    TrainY = Ut[train,:]\n",
    "    TestY = Ut[test,:]\n",
    "    D = TrainR.shape[1]       \n",
    "\n",
    "    # Set up the initial tolerance and l0 penalty\n",
    "    d_tol = float(d_tol)\n",
    "    tol = d_tol\n",
    "    if l0_penalty == None: l0_penalty = 0.001*np.linalg.cond(R)\n",
    "\n",
    "    # Get the standard least squares estimator\n",
    "    w = np.zeros((D,1))\n",
    "    w_best = np.linalg.lstsq(TrainR, TrainY, rcond=None)[0]\n",
    "    err_best = np.linalg.norm(TestY - TestR.dot(w_best), 2) + l0_penalty*np.count_nonzero(w_best)\n",
    "    tol_best = 0\n",
    "\n",
    "    # Now increase tolerance until test performance decreases\n",
    "    for iter in range(maxit):\n",
    "\n",
    "        # Get a set of coefficients and error\n",
    "        w = STRidge(R,Ut,lam,STR_iters,tol,normalize = normalize)\n",
    "        err = np.linalg.norm(TestY - TestR.dot(w), 2) + l0_penalty*np.count_nonzero(w)\n",
    "\n",
    "        # Has the accuracy improved?\n",
    "        if err <= err_best:\n",
    "            err_best = err\n",
    "            w_best = w\n",
    "            tol_best = tol\n",
    "            tol = tol + d_tol\n",
    "\n",
    "        else:\n",
    "            tol = max([0,tol - 2*d_tol])\n",
    "            d_tol  = 2*d_tol / (maxit - iter)\n",
    "            tol = tol + d_tol\n",
    "\n",
    "    return w_best\n",
    "\n",
    "\n",
    "def STRidge(X0, y, lam, maxit, tol, normalize = 2, print_results = False):\n",
    "    \"\"\"\n",
    "    Sequential Threshold Ridge Regression algorithm for finding (hopefully) sparse \n",
    "    approximation to X^{-1}y.  The idea is that this may do better with correlated observables.\n",
    "\n",
    "    This assumes y is only one column\n",
    "    \"\"\"\n",
    "\n",
    "    n,d = X0.shape\n",
    "    X = np.zeros((n,d), dtype=np.complex64)\n",
    "    # First normalize data\n",
    "    if normalize != 0:\n",
    "        Mreg = np.zeros((d,1))\n",
    "        for i in range(0,d):\n",
    "            Mreg[i] = 1.0/(np.linalg.norm(X0[:,i],normalize))\n",
    "            X[:,i] = Mreg[i]*X0[:,i]\n",
    "    else: X = X0\n",
    "    \n",
    "    # Get the standard ridge esitmate\n",
    "    if lam != 0: w = np.linalg.lstsq(X.T.dot(X) + lam*np.eye(d),X.T.dot(y), rcond=None)[0]\n",
    "    else: w = np.linalg.lstsq(X,y)[0]\n",
    "    num_relevant = d\n",
    "    biginds = np.where( abs(w) > tol)[0]\n",
    "    \n",
    "    # Threshold and continue\n",
    "    for j in range(maxit):\n",
    "\n",
    "        # Figure out which items to cut out\n",
    "        smallinds = np.where( abs(w) < tol)[0]\n",
    "        new_biginds = [i for i in range(d) if i not in smallinds]\n",
    "            \n",
    "        # If nothing changes then stop\n",
    "        if num_relevant == len(new_biginds): break\n",
    "        else: num_relevant = len(new_biginds)\n",
    "            \n",
    "        # Also make sure we didn't just lose all the coefficients\n",
    "        if len(new_biginds) == 0:\n",
    "            if j == 0: \n",
    "                #if print_results: print \"Tolerance too high - all coefficients set below tolerance\"\n",
    "                return w\n",
    "            else: break\n",
    "        biginds = new_biginds\n",
    "        \n",
    "        # Otherwise get a new guess\n",
    "        w[smallinds] = 0\n",
    "        if lam != 0: w[biginds] = np.linalg.lstsq(X[:, biginds].T.dot(X[:, biginds]) + lam*np.eye(len(biginds)),X[:, biginds].T.dot(y), rcond=None)[0]\n",
    "        else: w[biginds] = np.linalg.lstsq(X[:, biginds],y)[0]\n",
    "\n",
    "    # Now that we have the sparsity pattern, use standard least squares to get w\n",
    "    if biginds != []: w[biginds] = np.linalg.lstsq(X[:, biginds],y, rcond=None)[0]\n",
    "    \n",
    "    if normalize != 0: return np.multiply(Mreg,w)\n",
    "    else: return w"
   ]
  },
  {
   "cell_type": "markdown",
   "id": "representative-invasion",
   "metadata": {},
   "source": [
    "# Without noise"
   ]
  },
  {
   "cell_type": "code",
   "execution_count": 26,
   "id": "thorough-portable",
   "metadata": {},
   "outputs": [],
   "source": [
    "# Making data\n",
    "\n",
    "key = random.PRNGKey(0)\n",
    "noise = 0.0\n",
    "\n",
    "# Making data\n",
    "x = jnp.linspace(-6, 7, 50)\n",
    "t = jnp.linspace(0.1, 3.0, 40)\n",
    "t_grid, x_grid = jnp.meshgrid(t, x, indexing=\"ij\")\n",
    "y = doublesoliton(x_grid, t_grid, c=[5.0, 2.0], x0=[-5.0, 0.0])\n",
    "\n",
    "\n",
    "\n",
    "\n",
    "X = jnp.concatenate([t_grid.reshape(-1, 1), x_grid.reshape(-1, 1)], axis=1)\n",
    "y_noisy = y + noise * jnp.std(y) * random.normal(key, y.shape)"
   ]
  },
  {
   "cell_type": "code",
   "execution_count": 27,
   "id": "norwegian-amazon",
   "metadata": {},
   "outputs": [
    {
     "data": {
      "text/plain": [
       "<matplotlib.contour.QuadContourSet at 0x7f1d180e4ac0>"
      ]
     },
     "execution_count": 27,
     "metadata": {},
     "output_type": "execute_result"
    },
    {
     "data": {
      "image/png": "[encoded data removed]",
      "text/plain": [
       "<Figure size 432x288 with 1 Axes>"
      ]
     },
     "metadata": {
      "needs_background": "light"
     },
     "output_type": "display_data"
    }
   ],
   "source": [
    "plt.contourf(y_noisy)"
   ]
  },
  {
   "cell_type": "code",
   "execution_count": 28,
   "id": "behavioral-bowling",
   "metadata": {},
   "outputs": [],
   "source": [
    "U, S, V = jnp.linalg.svd(y_noisy, full_matrices=False)"
   ]
  },
  {
   "cell_type": "code",
   "execution_count": 29,
   "id": "political-stamp",
   "metadata": {},
   "outputs": [
    {
     "data": {
      "text/plain": [
       "<matplotlib.lines.Line2D at 0x7f1d180b7040>"
      ]
     },
     "execution_count": 29,
     "metadata": {},
     "output_type": "execute_result"
    },
    {
     "data": {
      "image/png": "[encoded data removed]",
      "text/plain": [
       "<Figure size 432x288 with 1 Axes>"
      ]
     },
     "metadata": {
      "needs_background": "light"
     },
     "output_type": "display_data"
    }
   ],
   "source": [
    "plt.semilogy(S)\n",
    "plt.axvline(12, color='r', linestyle='--')"
   ]
  },
  {
   "cell_type": "code",
   "execution_count": 30,
   "id": "labeled-sheffield",
   "metadata": {},
   "outputs": [],
   "source": [
    "# Denoising with SVD\n",
    "S_dom = jnp.diag(jax.ops.index_update(S, jax.ops.index[100:], 0))\n",
    "y_denoised = (U @ S_dom @ V)"
   ]
  },
  {
   "cell_type": "code",
   "execution_count": 31,
   "id": "dominican-remove",
   "metadata": {},
   "outputs": [
    {
     "data": {
      "text/plain": [
       "<matplotlib.legend.Legend at 0x7f1d1841a730>"
      ]
     },
     "execution_count": 31,
     "metadata": {},
     "output_type": "execute_result"
    },
    {
     "data": {
      "image/png": "[encoded data removed]",
      "text/plain": [
       "<Figure size 432x288 with 1 Axes>"
      ]
     },
     "metadata": {
      "needs_background": "light"
     },
     "output_type": "display_data"
    }
   ],
   "source": [
    "frame = 10\n",
    "plt.plot(y[frame], 'k', label='Truth')\n",
    "plt.plot(y_noisy[frame], label='Noisy')\n",
    "plt.plot(y_denoised[frame], label='Denoised')\n",
    "\n",
    "plt.legend()"
   ]
  },
  {
   "cell_type": "code",
   "execution_count": 32,
   "id": "broadband-placement",
   "metadata": {},
   "outputs": [],
   "source": [
    "# Calculating splines \n",
    "splines = jnp.stack([jnp.stack([UnivariateSpline(x, yi, k=5, s=0).derivatives(xi) for xi in x]) for yi in y_denoised])\n",
    "u = splines[..., 0]\n",
    "\n",
    "# TIme deriv is gradient of spline\n",
    "dt = jnp.gradient(u, t[1]-t[0], axis=0).reshape(-1, 1)\n",
    "\n",
    "# Derivs\n",
    "derivs = splines[..., 1:-1].reshape(-1, 4)\n",
    "derivs = jnp.concatenate([jnp.ones((derivs.shape[0], 1)), derivs], axis=1)\n",
    "\n",
    "# polynomial\n",
    "poly = jnp.concatenate([jnp.ones((derivs.shape[0], 1)), u.reshape(-1, 1), (u**2).reshape(-1, 1), (u**3).reshape(-1, 1)], axis=1)\n",
    "\n",
    "# defining theta\n",
    "theta = (jnp.expand_dims(poly, axis=-1) @ jnp.expand_dims(derivs, axis=-2)).reshape(derivs.shape[0], -1)"
   ]
  },
  {
   "cell_type": "code",
   "execution_count": 33,
   "id": "lesser-sleeve",
   "metadata": {},
   "outputs": [
    {
     "data": {
      "text/plain": [
       "<matplotlib.contour.QuadContourSet at 0x7f1d183fc2b0>"
      ]
     },
     "execution_count": 33,
     "metadata": {},
     "output_type": "execute_result"
    },
    {
     "data": {
      "image/png": "[encoded data removed]",
      "text/plain": [
       "<Figure size 432x288 with 1 Axes>"
      ]
     },
     "metadata": {
      "needs_background": "light"
     },
     "output_type": "display_data"
    }
   ],
   "source": [
    "plt.contourf(u)"
   ]
  },
  {
   "cell_type": "code",
   "execution_count": 34,
   "id": "manufactured-sydney",
   "metadata": {},
   "outputs": [
    {
     "data": {
      "text/plain": [
       "[<matplotlib.lines.Line2D at 0x7f1d184d0880>]"
      ]
     },
     "execution_count": 34,
     "metadata": {},
     "output_type": "execute_result"
    },
    {
     "data": {
      "image/png": "[encoded data removed]",
      "text/plain": [
       "<Figure size 432x288 with 1 Axes>"
      ]
     },
     "metadata": {
      "needs_background": "light"
     },
     "output_type": "display_data"
    }
   ],
   "source": [
    "plt.plot((derivs[:, 1].reshape(x_grid.shape)[:, 10]))\n",
    "plt.plot(u[:, 10])"
   ]
  },
  {
   "cell_type": "code",
   "execution_count": 42,
   "id": "significant-research",
   "metadata": {},
   "outputs": [],
   "source": [
    "# SBL results \n",
    "SBL = ARDRegression(fit_intercept=False)\n",
    "SBL.fit(theta, dt.squeeze())\n",
    "\n",
    "eq_SBL = SBL.coef_"
   ]
  },
  {
   "cell_type": "code",
   "execution_count": 43,
   "id": "eight-sensitivity",
   "metadata": {},
   "outputs": [
    {
     "data": {
      "text/plain": [
       "8.11516872693926"
      ]
     },
     "execution_count": 43,
     "metadata": {},
     "output_type": "execute_result"
    }
   ],
   "source": [
    "SBL.alpha_"
   ]
  },
  {
   "cell_type": "code",
   "execution_count": 44,
   "id": "hazardous-madness",
   "metadata": {},
   "outputs": [
    {
     "data": {
      "text/plain": [
       "<matplotlib.lines.Line2D at 0x7f1cc81cce20>"
      ]
     },
     "execution_count": 44,
     "metadata": {},
     "output_type": "execute_result"
    },
    {
     "data": {
      "image/png": "[encoded data removed]",
      "text/plain": [
       "<Figure size 432x288 with 1 Axes>"
      ]
     },
     "metadata": {
      "needs_background": "light"
     },
     "output_type": "display_data"
    }
   ],
   "source": [
    "plt.semilogy(SBL.lambda_, 'o')\n",
    "plt.axvline(3)\n",
    "plt.axvline(6)"
   ]
  },
  {
   "cell_type": "code",
   "execution_count": 38,
   "id": "wound-designer",
   "metadata": {},
   "outputs": [
    {
     "data": {
      "text/plain": [
       "<matplotlib.lines.Line2D at 0x7f1cf85a3d60>"
      ]
     },
     "execution_count": 38,
     "metadata": {},
     "output_type": "execute_result"
    },
    {
     "data": {
      "image/png": "[encoded data removed]",
      "text/plain": [
       "<Figure size 432x288 with 1 Axes>"
      ]
     },
     "metadata": {
      "needs_background": "light"
     },
     "output_type": "display_data"
    }
   ],
   "source": [
    "plt.plot(SBL.coef_, 'o')\n",
    "plt.axvline(3)\n",
    "plt.axvline(6)"
   ]
  },
  {
   "cell_type": "code",
   "execution_count": 55,
   "id": "solar-tobacco",
   "metadata": {},
   "outputs": [
    {
     "name": "stderr",
     "output_type": "stream",
     "text": [
      "<ipython-input-25-ed62bb3486df>:105: DeprecationWarning: elementwise comparison failed; this will raise an error in the future.\n",
      "  if biginds != []: w[biginds] = np.linalg.lstsq(X[:, biginds],y, rcond=None)[0]\n"
     ]
    }
   ],
   "source": [
    "eq_pdefind = TrainSTRidge(theta, dt, lam=1e-2, d_tol=0.1)"
   ]
  },
  {
   "cell_type": "code",
   "execution_count": 56,
   "id": "mighty-bankruptcy",
   "metadata": {},
   "outputs": [
    {
     "name": "stdout",
     "output_type": "stream",
     "text": [
      "[[ 0.        +0.j]\n",
      " [-0.43795721+0.j]\n",
      " [ 0.        +0.j]\n",
      " [-0.92428653+0.j]\n",
      " [-0.07090872+0.j]\n",
      " [ 0.32759549+0.j]\n",
      " [-5.44397275+0.j]\n",
      " [ 0.        +0.j]\n",
      " [ 0.        +0.j]\n",
      " [ 0.03276455+0.j]\n",
      " [-0.85593153+0.j]\n",
      " [-0.30014859+0.j]\n",
      " [-0.33339756+0.j]\n",
      " [ 0.19287315+0.j]\n",
      " [ 0.00832038+0.j]\n",
      " [ 0.43581889+0.j]\n",
      " [ 0.73019644+0.j]\n",
      " [ 0.20783909+0.j]\n",
      " [-0.02337909+0.j]\n",
      " [ 0.        +0.j]]\n"
     ]
    }
   ],
   "source": [
    "print(eq_pdefind)"
   ]
  },
  {
   "cell_type": "code",
   "execution_count": 57,
   "id": "increased-adaptation",
   "metadata": {},
   "outputs": [
    {
     "name": "stdout",
     "output_type": "stream",
     "text": [
      "[[ 0.00000000e+00]\n",
      " [-7.30909103e-04]\n",
      " [ 3.90504321e-01]\n",
      " [-1.10789957e+00]\n",
      " [-9.36211239e-02]\n",
      " [ 0.00000000e+00]\n",
      " [-6.90066090e+00]\n",
      " [-1.05859583e+00]\n",
      " [ 3.83080313e-01]\n",
      " [ 6.11764422e-02]\n",
      " [-3.75844645e-01]\n",
      " [ 1.19645717e+00]\n",
      " [ 4.79905267e-01]\n",
      " [ 0.00000000e+00]\n",
      " [ 0.00000000e+00]\n",
      " [ 2.79420148e-01]\n",
      " [ 2.91155526e-01]\n",
      " [ 2.02565034e-02]\n",
      " [ 0.00000000e+00]\n",
      " [ 0.00000000e+00]]\n"
     ]
    }
   ],
   "source": [
    "print(eq_SBL[:, None])"
   ]
  },
  {
   "cell_type": "markdown",
   "id": "tamil-cherry",
   "metadata": {},
   "source": [
    "# With noise"
   ]
  },
  {
   "cell_type": "code",
   "execution_count": 58,
   "id": "studied-heath",
   "metadata": {},
   "outputs": [],
   "source": [
    "# Making data\n",
    "\n",
    "key = random.PRNGKey(0)\n",
    "noise = 0.2\n",
    "\n",
    "# Making data\n",
    "x = jnp.linspace(-6, 7, 50)\n",
    "t = jnp.linspace(0.1, 3.0, 40)\n",
    "t_grid, x_grid = jnp.meshgrid(t, x, indexing=\"ij\")\n",
    "y = doublesoliton(x_grid, t_grid, c=[5.0, 2.0], x0=[-5.0, 0.0])\n",
    "\n",
    "\n",
    "\n",
    "\n",
    "X = jnp.concatenate([t_grid.reshape(-1, 1), x_grid.reshape(-1, 1)], axis=1)\n",
    "y_noisy = y + noise * jnp.std(y) * random.normal(key, y.shape)"
   ]
  },
  {
   "cell_type": "code",
   "execution_count": 59,
   "id": "primary-validity",
   "metadata": {},
   "outputs": [
    {
     "data": {
      "text/plain": [
       "<matplotlib.contour.QuadContourSet at 0x7f1cc8130e50>"
      ]
     },
     "execution_count": 59,
     "metadata": {},
     "output_type": "execute_result"
    },
    {
     "data": {
      "image/png": "[encoded data removed]",
      "text/plain": [
       "<Figure size 432x288 with 1 Axes>"
      ]
     },
     "metadata": {
      "needs_background": "light"
     },
     "output_type": "display_data"
    }
   ],
   "source": [
    "plt.contourf(y_noisy)"
   ]
  },
  {
   "cell_type": "code",
   "execution_count": 60,
   "id": "vocal-measurement",
   "metadata": {},
   "outputs": [],
   "source": [
    "U, S, V = jnp.linalg.svd(y_noisy, full_matrices=False)"
   ]
  },
  {
   "cell_type": "code",
   "execution_count": 61,
   "id": "former-fifteen",
   "metadata": {},
   "outputs": [
    {
     "data": {
      "text/plain": [
       "<matplotlib.lines.Line2D at 0x7f1cb04c94c0>"
      ]
     },
     "execution_count": 61,
     "metadata": {},
     "output_type": "execute_result"
    },
    {
     "data": {
      "image/png": "[encoded data removed]",
      "text/plain": [
       "<Figure size 432x288 with 1 Axes>"
      ]
     },
     "metadata": {
      "needs_background": "light"
     },
     "output_type": "display_data"
    }
   ],
   "source": [
    "plt.semilogy(S)\n",
    "plt.axvline(12, color='r', linestyle='--')"
   ]
  },
  {
   "cell_type": "code",
   "execution_count": 66,
   "id": "fitted-organization",
   "metadata": {},
   "outputs": [],
   "source": [
    "# Denoising with SVD\n",
    "S_dom = jnp.diag(jax.ops.index_update(S, jax.ops.index[12:], 0))\n",
    "y_denoised = (U @ S_dom @ V)"
   ]
  },
  {
   "cell_type": "code",
   "execution_count": 67,
   "id": "smooth-bennett",
   "metadata": {},
   "outputs": [
    {
     "data": {
      "text/plain": [
       "<matplotlib.legend.Legend at 0x7f1cb047eb50>"
      ]
     },
     "execution_count": 67,
     "metadata": {},
     "output_type": "execute_result"
    },
    {
     "data": {
      "image/png": "[encoded data removed]",
      "text/plain": [
       "<Figure size 432x288 with 1 Axes>"
      ]
     },
     "metadata": {
      "needs_background": "light"
     },
     "output_type": "display_data"
    }
   ],
   "source": [
    "frame = 10\n",
    "plt.plot(y[frame], 'k', label='Truth')\n",
    "plt.plot(y_noisy[frame], label='Noisy')\n",
    "plt.plot(y_denoised[frame], label='Denoised')\n",
    "\n",
    "plt.legend()"
   ]
  },
  {
   "cell_type": "code",
   "execution_count": 68,
   "id": "higher-being",
   "metadata": {},
   "outputs": [],
   "source": [
    "# Calculating splines \n",
    "splines = jnp.stack([jnp.stack([UnivariateSpline(x, yi, k=5, s=0).derivatives(xi) for xi in x]) for yi in y_denoised])\n",
    "u = splines[..., 0]\n",
    "\n",
    "# TIme deriv is gradient of spline\n",
    "dt = jnp.gradient(u, t[1]-t[0], axis=0).reshape(-1, 1)\n",
    "\n",
    "# Derivs\n",
    "derivs = splines[..., 1:-1].reshape(-1, 4)\n",
    "derivs = jnp.concatenate([jnp.ones((derivs.shape[0], 1)), derivs], axis=1)\n",
    "\n",
    "# polynomial\n",
    "poly = jnp.concatenate([jnp.ones((derivs.shape[0], 1)), u.reshape(-1, 1), (u**2).reshape(-1, 1), (u**3).reshape(-1, 1)], axis=1)\n",
    "\n",
    "# defining theta\n",
    "theta = (jnp.expand_dims(poly, axis=-1) @ jnp.expand_dims(derivs, axis=-2)).reshape(derivs.shape[0], -1)"
   ]
  },
  {
   "cell_type": "code",
   "execution_count": 69,
   "id": "loved-prime",
   "metadata": {},
   "outputs": [
    {
     "data": {
      "text/plain": [
       "<matplotlib.contour.QuadContourSet at 0x7f1cb03ee910>"
      ]
     },
     "execution_count": 69,
     "metadata": {},
     "output_type": "execute_result"
    },
    {
     "data": {
      "image/png": "[encoded data removed]",
      "text/plain": [
       "<Figure size 432x288 with 1 Axes>"
      ]
     },
     "metadata": {
      "needs_background": "light"
     },
     "output_type": "display_data"
    }
   ],
   "source": [
    "plt.contourf(u)"
   ]
  },
  {
   "cell_type": "code",
   "execution_count": 70,
   "id": "illegal-designation",
   "metadata": {},
   "outputs": [
    {
     "data": {
      "text/plain": [
       "[<matplotlib.lines.Line2D at 0x7f1cc85c3f40>]"
      ]
     },
     "execution_count": 70,
     "metadata": {},
     "output_type": "execute_result"
    },
    {
     "data": {
      "image/png": "[encoded data removed]",
      "text/plain": [
       "<Figure size 432x288 with 1 Axes>"
      ]
     },
     "metadata": {
      "needs_background": "light"
     },
     "output_type": "display_data"
    }
   ],
   "source": [
    "plt.plot((derivs[:, 1].reshape(x_grid.shape)[:, 10]))\n",
    "plt.plot(u[:, 10])"
   ]
  },
  {
   "cell_type": "code",
   "execution_count": 71,
   "id": "missing-ethnic",
   "metadata": {},
   "outputs": [],
   "source": [
    "# SBL results \n",
    "SBL = ARDRegression(fit_intercept=False)\n",
    "SBL.fit(theta, dt.squeeze())\n",
    "\n",
    "eq_SBL = SBL.coef_"
   ]
  },
  {
   "cell_type": "code",
   "execution_count": 72,
   "id": "communist-hungary",
   "metadata": {},
   "outputs": [
    {
     "data": {
      "text/plain": [
       "0.37791953152830454"
      ]
     },
     "execution_count": 72,
     "metadata": {},
     "output_type": "execute_result"
    }
   ],
   "source": [
    "SBL.alpha_"
   ]
  },
  {
   "cell_type": "code",
   "execution_count": 73,
   "id": "answering-tragedy",
   "metadata": {},
   "outputs": [
    {
     "data": {
      "text/plain": [
       "<matplotlib.lines.Line2D at 0x7f1cc8390c70>"
      ]
     },
     "execution_count": 73,
     "metadata": {},
     "output_type": "execute_result"
    },
    {
     "data": {
      "image/png": "[encoded data removed]",
      "text/plain": [
       "<Figure size 432x288 with 1 Axes>"
      ]
     },
     "metadata": {
      "needs_background": "light"
     },
     "output_type": "display_data"
    }
   ],
   "source": [
    "plt.semilogy(SBL.lambda_, 'o')\n",
    "plt.axvline(3)\n",
    "plt.axvline(6)"
   ]
  },
  {
   "cell_type": "code",
   "execution_count": 74,
   "id": "lonely-pearl",
   "metadata": {},
   "outputs": [
    {
     "data": {
      "text/plain": [
       "<matplotlib.lines.Line2D at 0x7f1cc875dca0>"
      ]
     },
     "execution_count": 74,
     "metadata": {},
     "output_type": "execute_result"
    },
    {
     "data": {
      "image/png": "[encoded data removed]",
      "text/plain": [
       "<Figure size 432x288 with 1 Axes>"
      ]
     },
     "metadata": {
      "needs_background": "light"
     },
     "output_type": "display_data"
    }
   ],
   "source": [
    "plt.plot(SBL.coef_, 'o')\n",
    "plt.axvline(3)\n",
    "plt.axvline(6)"
   ]
  },
  {
   "cell_type": "code",
   "execution_count": 75,
   "id": "tutorial-shield",
   "metadata": {},
   "outputs": [
    {
     "name": "stderr",
     "output_type": "stream",
     "text": [
      "<ipython-input-25-ed62bb3486df>:105: DeprecationWarning: elementwise comparison failed; this will raise an error in the future.\n",
      "  if biginds != []: w[biginds] = np.linalg.lstsq(X[:, biginds],y, rcond=None)[0]\n"
     ]
    }
   ],
   "source": [
    "eq_pdefind = TrainSTRidge(theta, dt, lam=1e-2, d_tol=0.1)"
   ]
  },
  {
   "cell_type": "code",
   "execution_count": 76,
   "id": "charitable-gross",
   "metadata": {},
   "outputs": [
    {
     "name": "stdout",
     "output_type": "stream",
     "text": [
      "[[ 0.00000000e+00+0.j]\n",
      " [-1.14058966e-01+0.j]\n",
      " [ 0.00000000e+00+0.j]\n",
      " [ 3.14173632e-04+0.j]\n",
      " [-9.77019036e-05+0.j]\n",
      " [ 0.00000000e+00+0.j]\n",
      " [-4.18198064e+00+0.j]\n",
      " [-1.19968387e-01+0.j]\n",
      " [ 1.78643763e-02+0.j]\n",
      " [-2.64459302e-04+0.j]\n",
      " [-6.33060800e-01+0.j]\n",
      " [ 1.33106324e+00+0.j]\n",
      " [ 0.00000000e+00+0.j]\n",
      " [ 1.16272151e-02+0.j]\n",
      " [-6.07829859e-04+0.j]\n",
      " [ 4.52674371e-01+0.j]\n",
      " [-1.35495675e-01+0.j]\n",
      " [ 7.45407971e-02+0.j]\n",
      " [-1.39608634e-02+0.j]\n",
      " [ 7.09068541e-04+0.j]]\n"
     ]
    }
   ],
   "source": [
    "print(eq_pdefind)"
   ]
  },
  {
   "cell_type": "code",
   "execution_count": 77,
   "id": "advance-jacksonville",
   "metadata": {},
   "outputs": [
    {
     "name": "stdout",
     "output_type": "stream",
     "text": [
      "[[ 0.        ]\n",
      " [-0.13161558]\n",
      " [ 0.        ]\n",
      " [ 0.        ]\n",
      " [ 0.        ]\n",
      " [ 0.        ]\n",
      " [-4.06079316]\n",
      " [ 0.        ]\n",
      " [ 0.        ]\n",
      " [ 0.        ]\n",
      " [-0.24443271]\n",
      " [ 1.02550367]\n",
      " [-0.07492344]\n",
      " [ 0.02627805]\n",
      " [ 0.        ]\n",
      " [ 0.16879333]\n",
      " [ 0.04799013]\n",
      " [ 0.04791462]\n",
      " [-0.01284616]\n",
      " [ 0.        ]]\n"
     ]
    }
   ],
   "source": [
    "print(eq_SBL[:, None])"
   ]
  },
  {
   "cell_type": "code",
   "execution_count": null,
   "id": "fifth-zambia",
   "metadata": {},
   "outputs": [],
   "source": []
  }
 ],
 "metadata": {
  "kernelspec": {
   "display_name": "Python 3",
   "language": "python",
   "name": "python3"
  },
  "language_info": {
   "codemirror_mode": {
    "name": "ipython",
    "version": 3
   },
   "file_extension": ".py",
   "mimetype": "text/x-python",
   "name": "python",
   "nbconvert_exporter": "python",
   "pygments_lexer": "ipython3",
   "version": "3.8.3"
  }
 },
 "nbformat": 4,
 "nbformat_minor": 5
}
