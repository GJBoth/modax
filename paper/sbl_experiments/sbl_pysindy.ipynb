{
 "cells": [
  {
   "cell_type": "code",
   "execution_count": 1,
   "id": "nominated-measure",
   "metadata": {},
   "outputs": [],
   "source": [
    "from jax import numpy as jnp, random\n",
    "from modax.data.burgers import burgers\n",
    "import jax\n",
    "import matplotlib.pyplot as plt\n",
    "from scipy.interpolate import UnivariateSpline\n",
    "from sklearn.linear_model import ARDRegression\n",
    "\n",
    "import numpy as np"
   ]
  },
  {
   "cell_type": "markdown",
   "id": "broke-accused",
   "metadata": {},
   "source": [
    "# Train stridge"
   ]
  },
  {
   "cell_type": "code",
   "execution_count": 25,
   "id": "fatal-pontiac",
   "metadata": {},
   "outputs": [],
   "source": [
    "def TrainSTRidge(R, Ut, lam, d_tol, maxit = 25, STR_iters = 10, l0_penalty = None, normalize = 2, split = 0.8):\n",
    "    \"\"\"\n",
    "    This function trains a predictor using STRidge.\n",
    "\n",
    "    It runs over different values of tolerance and trains predictors on a training set, then evaluates them \n",
    "    using a loss function on a holdout set.\n",
    "\n",
    "    Please note published article has typo.  Loss function used here for model selection evaluates fidelity using 2-norm,\n",
    "    not squared 2-norm.\n",
    "    \"\"\"\n",
    "\n",
    "    # Split data into 80% training and 20% test, then search for the best tolderance.\n",
    "    np.random.seed(0) # for consistancy\n",
    "    n,_ = R.shape\n",
    "    train = np.random.choice(n, int(n*split), replace = False)\n",
    "    test = [i for i in np.arange(n) if i not in train]\n",
    "    TrainR = R[train,:]\n",
    "    TestR = R[test,:]\n",
    "    TrainY = Ut[train,:]\n",
    "    TestY = Ut[test,:]\n",
    "    D = TrainR.shape[1]       \n",
    "\n",
    "    # Set up the initial tolerance and l0 penalty\n",
    "    d_tol = float(d_tol)\n",
    "    tol = d_tol\n",
    "    if l0_penalty == None: l0_penalty = 0.001*np.linalg.cond(R)\n",
    "\n",
    "    # Get the standard least squares estimator\n",
    "    w = np.zeros((D,1))\n",
    "    w_best = np.linalg.lstsq(TrainR, TrainY, rcond=None)[0]\n",
    "    err_best = np.linalg.norm(TestY - TestR.dot(w_best), 2) + l0_penalty*np.count_nonzero(w_best)\n",
    "    tol_best = 0\n",
    "\n",
    "    # Now increase tolerance until test performance decreases\n",
    "    for iter in range(maxit):\n",
    "\n",
    "        # Get a set of coefficients and error\n",
    "        w = STRidge(R,Ut,lam,STR_iters,tol,normalize = normalize)\n",
    "        err = np.linalg.norm(TestY - TestR.dot(w), 2) + l0_penalty*np.count_nonzero(w)\n",
    "\n",
    "        # Has the accuracy improved?\n",
    "        if err <= err_best:\n",
    "            err_best = err\n",
    "            w_best = w\n",
    "            tol_best = tol\n",
    "            tol = tol + d_tol\n",
    "\n",
    "        else:\n",
    "            tol = max([0,tol - 2*d_tol])\n",
    "            d_tol  = 2*d_tol / (maxit - iter)\n",
    "            tol = tol + d_tol\n",
    "\n",
    "    return w_best\n",
    "\n",
    "\n",
    "def STRidge(X0, y, lam, maxit, tol, normalize = 2, print_results = False):\n",
    "    \"\"\"\n",
    "    Sequential Threshold Ridge Regression algorithm for finding (hopefully) sparse \n",
    "    approximation to X^{-1}y.  The idea is that this may do better with correlated observables.\n",
    "\n",
    "    This assumes y is only one column\n",
    "    \"\"\"\n",
    "\n",
    "    n,d = X0.shape\n",
    "    X = np.zeros((n,d), dtype=np.complex64)\n",
    "    # First normalize data\n",
    "    if normalize != 0:\n",
    "        Mreg = np.zeros((d,1))\n",
    "        for i in range(0,d):\n",
    "            Mreg[i] = 1.0/(np.linalg.norm(X0[:,i],normalize))\n",
    "            X[:,i] = Mreg[i]*X0[:,i]\n",
    "    else: X = X0\n",
    "    \n",
    "    # Get the standard ridge esitmate\n",
    "    if lam != 0: w = np.linalg.lstsq(X.T.dot(X) + lam*np.eye(d),X.T.dot(y), rcond=None)[0]\n",
    "    else: w = np.linalg.lstsq(X,y)[0]\n",
    "    num_relevant = d\n",
    "    biginds = np.where( abs(w) > tol)[0]\n",
    "    \n",
    "    # Threshold and continue\n",
    "    for j in range(maxit):\n",
    "\n",
    "        # Figure out which items to cut out\n",
    "        smallinds = np.where( abs(w) < tol)[0]\n",
    "        new_biginds = [i for i in range(d) if i not in smallinds]\n",
    "            \n",
    "        # If nothing changes then stop\n",
    "        if num_relevant == len(new_biginds): break\n",
    "        else: num_relevant = len(new_biginds)\n",
    "            \n",
    "        # Also make sure we didn't just lose all the coefficients\n",
    "        if len(new_biginds) == 0:\n",
    "            if j == 0: \n",
    "                #if print_results: print \"Tolerance too high - all coefficients set below tolerance\"\n",
    "                return w\n",
    "            else: break\n",
    "        biginds = new_biginds\n",
    "        \n",
    "        # Otherwise get a new guess\n",
    "        w[smallinds] = 0\n",
    "        if lam != 0: w[biginds] = np.linalg.lstsq(X[:, biginds].T.dot(X[:, biginds]) + lam*np.eye(len(biginds)),X[:, biginds].T.dot(y), rcond=None)[0]\n",
    "        else: w[biginds] = np.linalg.lstsq(X[:, biginds],y)[0]\n",
    "\n",
    "    # Now that we have the sparsity pattern, use standard least squares to get w\n",
    "    if len(biginds) != 0: \n",
    "        w[biginds] = np.linalg.lstsq(X[:, biginds],y, rcond=None)[0]\n",
    "    \n",
    "    if normalize != 0: \n",
    "        return np.multiply(Mreg,w)\n",
    "    else: return w"
   ]
  },
  {
   "cell_type": "markdown",
   "id": "hundred-helena",
   "metadata": {},
   "source": [
    "# Without noise"
   ]
  },
  {
   "cell_type": "code",
   "execution_count": 6,
   "id": "unsigned-financing",
   "metadata": {},
   "outputs": [],
   "source": [
    "# Making data\n",
    "\n",
    "key = random.PRNGKey(0)\n",
    "noise = 0.0\n",
    "\n",
    "# Making data\n",
    "x = jnp.linspace(-3, 4, 50)\n",
    "t = jnp.linspace(0.5, 5.0, 20)\n",
    "t_grid, x_grid = jnp.meshgrid(t, x, indexing=\"ij\")\n",
    "y = burgers(x_grid, t_grid, 0.1, 1.0)\n",
    "\n",
    "X = jnp.concatenate([t_grid.reshape(-1, 1), x_grid.reshape(-1, 1)], axis=1)\n",
    "\n",
    "\n",
    "X = jnp.concatenate([t_grid.reshape(-1, 1), x_grid.reshape(-1, 1)], axis=1)\n",
    "y_noisy = y + noise * jnp.std(y) * random.normal(key, y.shape)"
   ]
  },
  {
   "cell_type": "code",
   "execution_count": 7,
   "id": "vital-discovery",
   "metadata": {},
   "outputs": [
    {
     "data": {
      "text/plain": [
       "<matplotlib.contour.QuadContourSet at 0x7f04cc6c7d60>"
      ]
     },
     "execution_count": 7,
     "metadata": {},
     "output_type": "execute_result"
    },
    {
     "data": {
      "image/png": "[encoded data removed]",
      "text/plain": [
       "<Figure size 432x288 with 1 Axes>"
      ]
     },
     "metadata": {
      "needs_background": "light"
     },
     "output_type": "display_data"
    }
   ],
   "source": [
    "plt.contourf(y_noisy)"
   ]
  },
  {
   "cell_type": "code",
   "execution_count": 8,
   "id": "underlying-majority",
   "metadata": {},
   "outputs": [],
   "source": [
    "U, S, V = jnp.linalg.svd(y_noisy, full_matrices=False)"
   ]
  },
  {
   "cell_type": "code",
   "execution_count": 9,
   "id": "given-graduation",
   "metadata": {},
   "outputs": [
    {
     "data": {
      "text/plain": [
       "<matplotlib.lines.Line2D at 0x7f04cc5db9a0>"
      ]
     },
     "execution_count": 9,
     "metadata": {},
     "output_type": "execute_result"
    },
    {
     "data": {
      "image/png": "[encoded data removed]",
      "text/plain": [
       "<Figure size 432x288 with 1 Axes>"
      ]
     },
     "metadata": {
      "needs_background": "light"
     },
     "output_type": "display_data"
    }
   ],
   "source": [
    "plt.semilogy(S)\n",
    "plt.axvline(12, color='r', linestyle='--')"
   ]
  },
  {
   "cell_type": "code",
   "execution_count": 10,
   "id": "premier-lindsay",
   "metadata": {},
   "outputs": [],
   "source": [
    "# Denoising with SVD\n",
    "S_dom = jnp.diag(jax.ops.index_update(S, jax.ops.index[100:], 0))\n",
    "y_denoised = (U @ S_dom @ V)"
   ]
  },
  {
   "cell_type": "code",
   "execution_count": 11,
   "id": "ordered-companion",
   "metadata": {},
   "outputs": [
    {
     "data": {
      "text/plain": [
       "<matplotlib.legend.Legend at 0x7f04cc54fbb0>"
      ]
     },
     "execution_count": 11,
     "metadata": {},
     "output_type": "execute_result"
    },
    {
     "data": {
      "image/png": "[encoded data removed]",
      "text/plain": [
       "<Figure size 432x288 with 1 Axes>"
      ]
     },
     "metadata": {
      "needs_background": "light"
     },
     "output_type": "display_data"
    }
   ],
   "source": [
    "frame = 10\n",
    "plt.plot(y[frame], 'k', label='Truth')\n",
    "plt.plot(y_noisy[frame], label='Noisy')\n",
    "plt.plot(y_denoised[frame], label='Denoised')\n",
    "\n",
    "plt.legend()"
   ]
  },
  {
   "cell_type": "code",
   "execution_count": 30,
   "id": "third-provider",
   "metadata": {},
   "outputs": [],
   "source": [
    "# Calculating splines \n",
    "splines = jnp.stack([jnp.stack([UnivariateSpline(x, yi, k=5, s=0.0).derivatives(xi) for xi in x]) for yi in y_denoised])\n",
    "u = splines[..., 0]\n",
    "\n",
    "# TIme deriv is gradient of spline\n",
    "dt = jnp.gradient(u, t[1]-t[0], axis=0).reshape(-1, 1)\n",
    "\n",
    "# Derivs\n",
    "derivs = splines[..., 1:-1].reshape(-1, 4)\n",
    "derivs = jnp.concatenate([jnp.ones((derivs.shape[0], 1)), derivs], axis=1)\n",
    "\n",
    "# polynomial\n",
    "poly = jnp.concatenate([jnp.ones((derivs.shape[0], 1)), u.reshape(-1, 1), (u**2).reshape(-1, 1), (u**3).reshape(-1, 1)], axis=1)\n",
    "\n",
    "# defining theta\n",
    "theta = (jnp.expand_dims(poly, axis=-1) @ jnp.expand_dims(derivs, axis=-2)).reshape(derivs.shape[0], -1)"
   ]
  },
  {
   "cell_type": "code",
   "execution_count": 31,
   "id": "loaded-chorus",
   "metadata": {},
   "outputs": [
    {
     "data": {
      "text/plain": [
       "<matplotlib.contour.QuadContourSet at 0x7f04b40e9be0>"
      ]
     },
     "execution_count": 31,
     "metadata": {},
     "output_type": "execute_result"
    },
    {
     "data": {
      "image/png": "[encoded data removed]",
      "text/plain": [
       "<Figure size 432x288 with 1 Axes>"
      ]
     },
     "metadata": {
      "needs_background": "light"
     },
     "output_type": "display_data"
    }
   ],
   "source": [
    "plt.contourf(u)"
   ]
  },
  {
   "cell_type": "code",
   "execution_count": 32,
   "id": "scheduled-statistics",
   "metadata": {},
   "outputs": [
    {
     "data": {
      "text/plain": [
       "[<matplotlib.lines.Line2D at 0x7f04ac77c1c0>]"
      ]
     },
     "execution_count": 32,
     "metadata": {},
     "output_type": "execute_result"
    },
    {
     "data": {
      "image/png": "[encoded data removed]",
      "text/plain": [
       "<Figure size 432x288 with 1 Axes>"
      ]
     },
     "metadata": {
      "needs_background": "light"
     },
     "output_type": "display_data"
    }
   ],
   "source": [
    "plt.plot((derivs[:, 1].reshape(x_grid.shape)[:, 10]))\n",
    "plt.plot(u[:, 10])"
   ]
  },
  {
   "cell_type": "code",
   "execution_count": 33,
   "id": "average-given",
   "metadata": {},
   "outputs": [],
   "source": [
    "# SBL results \n",
    "SBL = ARDRegression(fit_intercept=False)\n",
    "SBL.fit(theta, dt.squeeze())\n",
    "\n",
    "eq_SBL = SBL.coef_"
   ]
  },
  {
   "cell_type": "code",
   "execution_count": 34,
   "id": "cooked-freedom",
   "metadata": {},
   "outputs": [
    {
     "data": {
      "text/plain": [
       "2287.0901522450254"
      ]
     },
     "execution_count": 34,
     "metadata": {},
     "output_type": "execute_result"
    }
   ],
   "source": [
    "SBL.alpha_"
   ]
  },
  {
   "cell_type": "code",
   "execution_count": 35,
   "id": "similar-citation",
   "metadata": {},
   "outputs": [
    {
     "data": {
      "text/plain": [
       "<matplotlib.lines.Line2D at 0x7f04b40616d0>"
      ]
     },
     "execution_count": 35,
     "metadata": {},
     "output_type": "execute_result"
    },
    {
     "data": {
      "image/png": "[encoded data removed]",
      "text/plain": [
       "<Figure size 432x288 with 1 Axes>"
      ]
     },
     "metadata": {
      "needs_background": "light"
     },
     "output_type": "display_data"
    }
   ],
   "source": [
    "plt.semilogy(SBL.lambda_, 'o')\n",
    "plt.axvline(2)\n",
    "plt.axvline(6)"
   ]
  },
  {
   "cell_type": "code",
   "execution_count": 36,
   "id": "stainless-client",
   "metadata": {},
   "outputs": [
    {
     "data": {
      "text/plain": [
       "<matplotlib.lines.Line2D at 0x7f04cc335f70>"
      ]
     },
     "execution_count": 36,
     "metadata": {},
     "output_type": "execute_result"
    },
    {
     "data": {
      "image/png": "[encoded data removed]",
      "text/plain": [
       "<Figure size 432x288 with 1 Axes>"
      ]
     },
     "metadata": {
      "needs_background": "light"
     },
     "output_type": "display_data"
    }
   ],
   "source": [
    "plt.plot(SBL.coef_, 'o')\n",
    "plt.axvline(2)\n",
    "plt.axvline(6)"
   ]
  },
  {
   "cell_type": "code",
   "execution_count": 37,
   "id": "labeled-champion",
   "metadata": {},
   "outputs": [],
   "source": [
    "eq_sindy = TrainSTRidge(theta, dt, lam=1e-2, d_tol=0.1)"
   ]
  },
  {
   "cell_type": "code",
   "execution_count": 38,
   "id": "spiritual-moses",
   "metadata": {},
   "outputs": [
    {
     "name": "stdout",
     "output_type": "stream",
     "text": [
      "[[ 0.        +0.j]\n",
      " [ 0.        +0.j]\n",
      " [ 0.09298549+0.j]\n",
      " [ 0.        +0.j]\n",
      " [ 0.        +0.j]\n",
      " [ 0.        +0.j]\n",
      " [-0.79731885+0.j]\n",
      " [ 0.        +0.j]\n",
      " [ 0.        +0.j]\n",
      " [ 0.        +0.j]\n",
      " [ 0.        +0.j]\n",
      " [ 0.        +0.j]\n",
      " [ 0.        +0.j]\n",
      " [ 0.        +0.j]\n",
      " [ 0.        +0.j]\n",
      " [ 0.        +0.j]\n",
      " [ 0.        +0.j]\n",
      " [ 0.        +0.j]\n",
      " [ 0.        +0.j]\n",
      " [ 0.        +0.j]]\n"
     ]
    }
   ],
   "source": [
    "print(eq_sindy)"
   ]
  },
  {
   "cell_type": "code",
   "execution_count": 39,
   "id": "undefined-blues",
   "metadata": {},
   "outputs": [
    {
     "name": "stdout",
     "output_type": "stream",
     "text": [
      "[[ 0.        ]\n",
      " [ 0.        ]\n",
      " [ 0.13441745]\n",
      " [ 0.        ]\n",
      " [ 0.        ]\n",
      " [-0.29101172]\n",
      " [-1.20457465]\n",
      " [ 0.        ]\n",
      " [ 0.02014377]\n",
      " [ 0.        ]\n",
      " [ 2.09009509]\n",
      " [ 1.21840791]\n",
      " [-1.04968821]\n",
      " [ 0.        ]\n",
      " [ 0.        ]\n",
      " [-3.97924304]\n",
      " [ 0.51029997]\n",
      " [ 0.70012295]\n",
      " [-0.02035143]\n",
      " [ 0.        ]]\n"
     ]
    }
   ],
   "source": [
    "print(eq_SBL[:, None])"
   ]
  },
  {
   "cell_type": "markdown",
   "id": "innovative-moore",
   "metadata": {},
   "source": [
    "# With noise - 10%"
   ]
  },
  {
   "cell_type": "code",
   "execution_count": 40,
   "id": "fantastic-miami",
   "metadata": {},
   "outputs": [],
   "source": [
    "# Making data\n",
    "\n",
    "key = random.PRNGKey(0)\n",
    "noise = 0.10\n",
    "\n",
    "# Making data\n",
    "x = jnp.linspace(-3, 4, 50)\n",
    "t = jnp.linspace(0.5, 5.0, 20)\n",
    "t_grid, x_grid = jnp.meshgrid(t, x, indexing=\"ij\")\n",
    "y = burgers(x_grid, t_grid, 0.1, 1.0)\n",
    "\n",
    "X = jnp.concatenate([t_grid.reshape(-1, 1), x_grid.reshape(-1, 1)], axis=1)\n",
    "\n",
    "\n",
    "X = jnp.concatenate([t_grid.reshape(-1, 1), x_grid.reshape(-1, 1)], axis=1)\n",
    "y_noisy = y + noise * jnp.std(y) * random.normal(key, y.shape)"
   ]
  },
  {
   "cell_type": "code",
   "execution_count": 41,
   "id": "adequate-convention",
   "metadata": {},
   "outputs": [
    {
     "data": {
      "text/plain": [
       "<matplotlib.contour.QuadContourSet at 0x7f04ac4028e0>"
      ]
     },
     "execution_count": 41,
     "metadata": {},
     "output_type": "execute_result"
    },
    {
     "data": {
      "image/png": "[encoded data removed]",
      "text/plain": [
       "<Figure size 432x288 with 1 Axes>"
      ]
     },
     "metadata": {
      "needs_background": "light"
     },
     "output_type": "display_data"
    }
   ],
   "source": [
    "plt.contourf(y_noisy)"
   ]
  },
  {
   "cell_type": "code",
   "execution_count": 42,
   "id": "metallic-tooth",
   "metadata": {},
   "outputs": [],
   "source": [
    "U, S, V = jnp.linalg.svd(y_noisy, full_matrices=False)"
   ]
  },
  {
   "cell_type": "code",
   "execution_count": 43,
   "id": "chicken-cartoon",
   "metadata": {},
   "outputs": [
    {
     "data": {
      "text/plain": [
       "<matplotlib.lines.Line2D at 0x7f04ac3db340>"
      ]
     },
     "execution_count": 43,
     "metadata": {},
     "output_type": "execute_result"
    },
    {
     "data": {
      "image/png": "[encoded data removed]",
      "text/plain": [
       "<Figure size 432x288 with 1 Axes>"
      ]
     },
     "metadata": {
      "needs_background": "light"
     },
     "output_type": "display_data"
    }
   ],
   "source": [
    "plt.semilogy(S)\n",
    "plt.axvline(12, color='r', linestyle='--')"
   ]
  },
  {
   "cell_type": "code",
   "execution_count": 44,
   "id": "overall-needle",
   "metadata": {},
   "outputs": [],
   "source": [
    "# Denoising with SVD\n",
    "S_dom = jnp.diag(jax.ops.index_update(S, jax.ops.index[5:], 0))\n",
    "y_denoised = (U @ S_dom @ V)"
   ]
  },
  {
   "cell_type": "code",
   "execution_count": 45,
   "id": "liked-timothy",
   "metadata": {},
   "outputs": [
    {
     "data": {
      "text/plain": [
       "<matplotlib.legend.Legend at 0x7f04ac11b8e0>"
      ]
     },
     "execution_count": 45,
     "metadata": {},
     "output_type": "execute_result"
    },
    {
     "data": {
      "image/png": "[encoded data removed]",
      "text/plain": [
       "<Figure size 432x288 with 1 Axes>"
      ]
     },
     "metadata": {
      "needs_background": "light"
     },
     "output_type": "display_data"
    }
   ],
   "source": [
    "frame = 10\n",
    "plt.plot(y[frame], 'k', label='Truth')\n",
    "plt.plot(y_noisy[frame], label='Noisy')\n",
    "plt.plot(y_denoised[frame], label='Denoised')\n",
    "\n",
    "plt.legend()"
   ]
  },
  {
   "cell_type": "code",
   "execution_count": 46,
   "id": "dynamic-cooking",
   "metadata": {},
   "outputs": [],
   "source": [
    "# Calculating splines \n",
    "splines = jnp.stack([jnp.stack([UnivariateSpline(x, yi, k=5, s=0.0).derivatives(xi) for xi in x]) for yi in y_denoised])\n",
    "u = splines[..., 0]\n",
    "\n",
    "# TIme deriv is gradient of spline\n",
    "dt = jnp.gradient(u, t[1]-t[0], axis=0).reshape(-1, 1)\n",
    "\n",
    "# Derivs\n",
    "derivs = splines[..., 1:-1].reshape(-1, 4)\n",
    "derivs = jnp.concatenate([jnp.ones((derivs.shape[0], 1)), derivs], axis=1)\n",
    "\n",
    "# polynomial\n",
    "poly = jnp.concatenate([jnp.ones((derivs.shape[0], 1)), u.reshape(-1, 1), (u**2).reshape(-1, 1), (u**3).reshape(-1, 1)], axis=1)\n",
    "\n",
    "# defining theta\n",
    "theta = (jnp.expand_dims(poly, axis=-1) @ jnp.expand_dims(derivs, axis=-2)).reshape(derivs.shape[0], -1)"
   ]
  },
  {
   "cell_type": "code",
   "execution_count": 47,
   "id": "conceptual-necessity",
   "metadata": {},
   "outputs": [
    {
     "data": {
      "text/plain": [
       "<matplotlib.contour.QuadContourSet at 0x7f04b42dca30>"
      ]
     },
     "execution_count": 47,
     "metadata": {},
     "output_type": "execute_result"
    },
    {
     "data": {
      "image/png": "[encoded data removed]",
      "text/plain": [
       "<Figure size 432x288 with 1 Axes>"
      ]
     },
     "metadata": {
      "needs_background": "light"
     },
     "output_type": "display_data"
    }
   ],
   "source": [
    "plt.contourf(u)"
   ]
  },
  {
   "cell_type": "code",
   "execution_count": 48,
   "id": "direct-remedy",
   "metadata": {},
   "outputs": [
    {
     "data": {
      "text/plain": [
       "[<matplotlib.lines.Line2D at 0x7f04ac2d3eb0>]"
      ]
     },
     "execution_count": 48,
     "metadata": {},
     "output_type": "execute_result"
    },
    {
     "data": {
      "image/png": "[encoded data removed]",
      "text/plain": [
       "<Figure size 432x288 with 1 Axes>"
      ]
     },
     "metadata": {
      "needs_background": "light"
     },
     "output_type": "display_data"
    }
   ],
   "source": [
    "plt.plot((derivs[:, 1].reshape(x_grid.shape)[:, 10]))\n",
    "plt.plot(u[:, 10])"
   ]
  },
  {
   "cell_type": "code",
   "execution_count": 49,
   "id": "civic-invite",
   "metadata": {},
   "outputs": [],
   "source": [
    "# SBL results \n",
    "SBL = ARDRegression(fit_intercept=False)\n",
    "SBL.fit(theta, dt.squeeze())\n",
    "\n",
    "eq_SBL = SBL.coef_"
   ]
  },
  {
   "cell_type": "code",
   "execution_count": 50,
   "id": "coordinated-notice",
   "metadata": {},
   "outputs": [
    {
     "data": {
      "text/plain": [
       "179.39380566088175"
      ]
     },
     "execution_count": 50,
     "metadata": {},
     "output_type": "execute_result"
    }
   ],
   "source": [
    "SBL.alpha_"
   ]
  },
  {
   "cell_type": "code",
   "execution_count": 51,
   "id": "reflected-faculty",
   "metadata": {},
   "outputs": [
    {
     "data": {
      "text/plain": [
       "<matplotlib.lines.Line2D at 0x7f044c7dfdf0>"
      ]
     },
     "execution_count": 51,
     "metadata": {},
     "output_type": "execute_result"
    },
    {
     "data": {
      "image/png": "[encoded data removed]",
      "text/plain": [
       "<Figure size 432x288 with 1 Axes>"
      ]
     },
     "metadata": {
      "needs_background": "light"
     },
     "output_type": "display_data"
    }
   ],
   "source": [
    "plt.semilogy(SBL.lambda_, 'o')\n",
    "plt.axvline(2)\n",
    "plt.axvline(6)"
   ]
  },
  {
   "cell_type": "code",
   "execution_count": 52,
   "id": "affecting-rider",
   "metadata": {},
   "outputs": [
    {
     "data": {
      "text/plain": [
       "<matplotlib.lines.Line2D at 0x7f044c634730>"
      ]
     },
     "execution_count": 52,
     "metadata": {},
     "output_type": "execute_result"
    },
    {
     "data": {
      "image/png": "[encoded data removed]",
      "text/plain": [
       "<Figure size 432x288 with 1 Axes>"
      ]
     },
     "metadata": {
      "needs_background": "light"
     },
     "output_type": "display_data"
    }
   ],
   "source": [
    "plt.plot(SBL.coef_, 'o')\n",
    "plt.axvline(2)\n",
    "plt.axvline(6)"
   ]
  },
  {
   "cell_type": "code",
   "execution_count": 58,
   "id": "cheap-artist",
   "metadata": {},
   "outputs": [],
   "source": [
    "eq_sindy = TrainSTRidge(theta, dt, lam=1e-2, d_tol=0.1)"
   ]
  },
  {
   "cell_type": "code",
   "execution_count": 59,
   "id": "identified-kitty",
   "metadata": {},
   "outputs": [
    {
     "name": "stdout",
     "output_type": "stream",
     "text": [
      "[[ 0.        +0.j]\n",
      " [ 0.        +0.j]\n",
      " [ 0.        +0.j]\n",
      " [ 0.        +0.j]\n",
      " [ 0.        +0.j]\n",
      " [ 0.        +0.j]\n",
      " [-0.58878261+0.j]\n",
      " [ 0.        +0.j]\n",
      " [ 0.        +0.j]\n",
      " [ 0.        +0.j]\n",
      " [ 0.        +0.j]\n",
      " [ 0.        +0.j]\n",
      " [ 0.        +0.j]\n",
      " [ 0.        +0.j]\n",
      " [ 0.        +0.j]\n",
      " [ 0.        +0.j]\n",
      " [ 0.        +0.j]\n",
      " [ 0.        +0.j]\n",
      " [ 0.        +0.j]\n",
      " [ 0.        +0.j]]\n"
     ]
    }
   ],
   "source": [
    "print(eq_sindy)"
   ]
  },
  {
   "cell_type": "code",
   "execution_count": 60,
   "id": "blind-helmet",
   "metadata": {},
   "outputs": [
    {
     "name": "stdout",
     "output_type": "stream",
     "text": [
      "[[ 0.01347561]\n",
      " [-0.02313688]\n",
      " [ 0.        ]\n",
      " [ 0.        ]\n",
      " [ 0.        ]\n",
      " [ 0.25427856]\n",
      " [-1.61061425]\n",
      " [ 0.10721146]\n",
      " [ 0.        ]\n",
      " [ 0.        ]\n",
      " [-0.96189343]\n",
      " [ 1.80465581]\n",
      " [-0.28176744]\n",
      " [-0.01561469]\n",
      " [ 0.        ]\n",
      " [ 0.20786218]\n",
      " [-0.61916682]\n",
      " [ 0.19127908]\n",
      " [ 0.01375076]\n",
      " [ 0.        ]]\n"
     ]
    }
   ],
   "source": [
    "print(eq_SBL[:, None])"
   ]
  },
  {
   "cell_type": "markdown",
   "id": "alleged-mexican",
   "metadata": {},
   "source": [
    "# With noise - 20%"
   ]
  },
  {
   "cell_type": "code",
   "execution_count": 61,
   "id": "urban-charles",
   "metadata": {},
   "outputs": [],
   "source": [
    "# Making data\n",
    "\n",
    "key = random.PRNGKey(0)\n",
    "noise = 0.20\n",
    "\n",
    "# Making data\n",
    "x = jnp.linspace(-3, 4, 50)\n",
    "t = jnp.linspace(0.5, 5.0, 20)\n",
    "t_grid, x_grid = jnp.meshgrid(t, x, indexing=\"ij\")\n",
    "y = burgers(x_grid, t_grid, 0.1, 1.0)\n",
    "\n",
    "X = jnp.concatenate([t_grid.reshape(-1, 1), x_grid.reshape(-1, 1)], axis=1)\n",
    "\n",
    "\n",
    "X = jnp.concatenate([t_grid.reshape(-1, 1), x_grid.reshape(-1, 1)], axis=1)\n",
    "y_noisy = y + noise * jnp.std(y) * random.normal(key, y.shape)"
   ]
  },
  {
   "cell_type": "code",
   "execution_count": 62,
   "id": "periodic-treasury",
   "metadata": {},
   "outputs": [
    {
     "data": {
      "text/plain": [
       "<matplotlib.contour.QuadContourSet at 0x7f044c5f25b0>"
      ]
     },
     "execution_count": 62,
     "metadata": {},
     "output_type": "execute_result"
    },
    {
     "data": {
      "image/png": "[encoded data removed]",
      "text/plain": [
       "<Figure size 432x288 with 1 Axes>"
      ]
     },
     "metadata": {
      "needs_background": "light"
     },
     "output_type": "display_data"
    }
   ],
   "source": [
    "plt.contourf(y_noisy)"
   ]
  },
  {
   "cell_type": "code",
   "execution_count": 63,
   "id": "becoming-amazon",
   "metadata": {},
   "outputs": [],
   "source": [
    "U, S, V = jnp.linalg.svd(y_noisy, full_matrices=False)"
   ]
  },
  {
   "cell_type": "code",
   "execution_count": 67,
   "id": "concerned-walnut",
   "metadata": {},
   "outputs": [
    {
     "data": {
      "text/plain": [
       "<matplotlib.lines.Line2D at 0x7f044c4f5280>"
      ]
     },
     "execution_count": 67,
     "metadata": {},
     "output_type": "execute_result"
    },
    {
     "data": {
      "image/png": "[encoded data removed]",
      "text/plain": [
       "<Figure size 432x288 with 1 Axes>"
      ]
     },
     "metadata": {
      "needs_background": "light"
     },
     "output_type": "display_data"
    }
   ],
   "source": [
    "plt.semilogy(S)\n",
    "plt.axvline(5, color='r', linestyle='--')"
   ]
  },
  {
   "cell_type": "code",
   "execution_count": 71,
   "id": "arctic-hungary",
   "metadata": {},
   "outputs": [],
   "source": [
    "# Denoising with SVD\n",
    "S_dom = jnp.diag(jax.ops.index_update(S, jax.ops.index[5:], 0))\n",
    "y_denoised = (U @ S_dom @ V)"
   ]
  },
  {
   "cell_type": "code",
   "execution_count": 72,
   "id": "diverse-hello",
   "metadata": {},
   "outputs": [
    {
     "data": {
      "text/plain": [
       "<matplotlib.legend.Legend at 0x7f044c4f5670>"
      ]
     },
     "execution_count": 72,
     "metadata": {},
     "output_type": "execute_result"
    },
    {
     "data": {
      "image/png": "[encoded data removed]",
      "text/plain": [
       "<Figure size 432x288 with 1 Axes>"
      ]
     },
     "metadata": {
      "needs_background": "light"
     },
     "output_type": "display_data"
    }
   ],
   "source": [
    "frame = 10\n",
    "plt.plot(y[frame], 'k', label='Truth')\n",
    "plt.plot(y_noisy[frame], label='Noisy')\n",
    "plt.plot(y_denoised[frame], label='Denoised')\n",
    "\n",
    "plt.legend()"
   ]
  },
  {
   "cell_type": "code",
   "execution_count": 73,
   "id": "painful-lecture",
   "metadata": {},
   "outputs": [],
   "source": [
    "# Calculating splines \n",
    "splines = jnp.stack([jnp.stack([UnivariateSpline(x, yi, k=5, s=0.0).derivatives(xi) for xi in x]) for yi in y_denoised])\n",
    "u = splines[..., 0]\n",
    "\n",
    "# TIme deriv is gradient of spline\n",
    "dt = jnp.gradient(u, t[1]-t[0], axis=0).reshape(-1, 1)\n",
    "\n",
    "# Derivs\n",
    "derivs = splines[..., 1:-1].reshape(-1, 4)\n",
    "derivs = jnp.concatenate([jnp.ones((derivs.shape[0], 1)), derivs], axis=1)\n",
    "\n",
    "# polynomial\n",
    "poly = jnp.concatenate([jnp.ones((derivs.shape[0], 1)), u.reshape(-1, 1), (u**2).reshape(-1, 1), (u**3).reshape(-1, 1)], axis=1)\n",
    "\n",
    "# defining theta\n",
    "theta = (jnp.expand_dims(poly, axis=-1) @ jnp.expand_dims(derivs, axis=-2)).reshape(derivs.shape[0], -1)"
   ]
  },
  {
   "cell_type": "code",
   "execution_count": 74,
   "id": "demanding-anxiety",
   "metadata": {},
   "outputs": [
    {
     "data": {
      "text/plain": [
       "<matplotlib.contour.QuadContourSet at 0x7f044c42f2b0>"
      ]
     },
     "execution_count": 74,
     "metadata": {},
     "output_type": "execute_result"
    },
    {
     "data": {
      "image/png": "[encoded data removed]",
      "text/plain": [
       "<Figure size 432x288 with 1 Axes>"
      ]
     },
     "metadata": {
      "needs_background": "light"
     },
     "output_type": "display_data"
    }
   ],
   "source": [
    "plt.contourf(u)"
   ]
  },
  {
   "cell_type": "code",
   "execution_count": 75,
   "id": "biblical-poland",
   "metadata": {},
   "outputs": [
    {
     "data": {
      "text/plain": [
       "[<matplotlib.lines.Line2D at 0x7f044c3dd8e0>]"
      ]
     },
     "execution_count": 75,
     "metadata": {},
     "output_type": "execute_result"
    },
    {
     "data": {
      "image/png": "[encoded data removed]",
      "text/plain": [
       "<Figure size 432x288 with 1 Axes>"
      ]
     },
     "metadata": {
      "needs_background": "light"
     },
     "output_type": "display_data"
    }
   ],
   "source": [
    "plt.plot((derivs[:, 1].reshape(x_grid.shape)[:, 10]))\n",
    "plt.plot(u[:, 10])"
   ]
  },
  {
   "cell_type": "code",
   "execution_count": 76,
   "id": "finite-diamond",
   "metadata": {},
   "outputs": [],
   "source": [
    "# SBL results \n",
    "SBL = ARDRegression(fit_intercept=False)\n",
    "SBL.fit(theta, dt.squeeze())\n",
    "\n",
    "eq_SBL = SBL.coef_"
   ]
  },
  {
   "cell_type": "code",
   "execution_count": 77,
   "id": "lucky-cannon",
   "metadata": {},
   "outputs": [
    {
     "data": {
      "text/plain": [
       "95.98157112045742"
      ]
     },
     "execution_count": 77,
     "metadata": {},
     "output_type": "execute_result"
    }
   ],
   "source": [
    "SBL.alpha_"
   ]
  },
  {
   "cell_type": "code",
   "execution_count": 78,
   "id": "romance-certification",
   "metadata": {},
   "outputs": [
    {
     "data": {
      "text/plain": [
       "<matplotlib.lines.Line2D at 0x7f044c3507c0>"
      ]
     },
     "execution_count": 78,
     "metadata": {},
     "output_type": "execute_result"
    },
    {
     "data": {
      "image/png": "[encoded data removed]",
      "text/plain": [
       "<Figure size 432x288 with 1 Axes>"
      ]
     },
     "metadata": {
      "needs_background": "light"
     },
     "output_type": "display_data"
    }
   ],
   "source": [
    "plt.semilogy(SBL.lambda_, 'o')\n",
    "plt.axvline(2)\n",
    "plt.axvline(6)"
   ]
  },
  {
   "cell_type": "code",
   "execution_count": 79,
   "id": "boxed-ambassador",
   "metadata": {},
   "outputs": [
    {
     "data": {
      "text/plain": [
       "<matplotlib.lines.Line2D at 0x7f044c1cd700>"
      ]
     },
     "execution_count": 79,
     "metadata": {},
     "output_type": "execute_result"
    },
    {
     "data": {
      "image/png": "[encoded data removed]",
      "text/plain": [
       "<Figure size 432x288 with 1 Axes>"
      ]
     },
     "metadata": {
      "needs_background": "light"
     },
     "output_type": "display_data"
    }
   ],
   "source": [
    "plt.plot(SBL.coef_, 'o')\n",
    "plt.axvline(2)\n",
    "plt.axvline(6)"
   ]
  },
  {
   "cell_type": "code",
   "execution_count": 80,
   "id": "satisfied-worship",
   "metadata": {},
   "outputs": [],
   "source": [
    "eq_sindy = TrainSTRidge(theta, dt, lam=1e-2, d_tol=0.1)"
   ]
  },
  {
   "cell_type": "code",
   "execution_count": 81,
   "id": "international-sewing",
   "metadata": {},
   "outputs": [
    {
     "name": "stdout",
     "output_type": "stream",
     "text": [
      "[[ 0.      +0.j]\n",
      " [ 0.      +0.j]\n",
      " [ 0.      +0.j]\n",
      " [ 0.      +0.j]\n",
      " [ 0.      +0.j]\n",
      " [ 0.      +0.j]\n",
      " [-0.495206+0.j]\n",
      " [ 0.      +0.j]\n",
      " [ 0.      +0.j]\n",
      " [ 0.      +0.j]\n",
      " [ 0.      +0.j]\n",
      " [ 0.      +0.j]\n",
      " [ 0.      +0.j]\n",
      " [ 0.      +0.j]\n",
      " [ 0.      +0.j]\n",
      " [ 0.      +0.j]\n",
      " [ 0.      +0.j]\n",
      " [ 0.      +0.j]\n",
      " [ 0.      +0.j]\n",
      " [ 0.      +0.j]]\n"
     ]
    }
   ],
   "source": [
    "print(eq_sindy)"
   ]
  },
  {
   "cell_type": "code",
   "execution_count": 82,
   "id": "sensitive-divorce",
   "metadata": {},
   "outputs": [
    {
     "name": "stdout",
     "output_type": "stream",
     "text": [
      "[[ 1.97755062e-02]\n",
      " [ 0.00000000e+00]\n",
      " [ 0.00000000e+00]\n",
      " [ 0.00000000e+00]\n",
      " [ 0.00000000e+00]\n",
      " [ 0.00000000e+00]\n",
      " [-1.03644475e+00]\n",
      " [ 0.00000000e+00]\n",
      " [ 0.00000000e+00]\n",
      " [ 0.00000000e+00]\n",
      " [-4.76492173e-04]\n",
      " [ 4.95272412e-04]\n",
      " [ 0.00000000e+00]\n",
      " [-1.54230793e-02]\n",
      " [ 0.00000000e+00]\n",
      " [-6.72287671e-01]\n",
      " [ 7.03908230e-01]\n",
      " [ 0.00000000e+00]\n",
      " [ 1.26526700e-02]\n",
      " [ 0.00000000e+00]]\n"
     ]
    }
   ],
   "source": [
    "print(eq_SBL[:, None])"
   ]
  },
  {
   "cell_type": "code",
   "execution_count": null,
   "id": "popular-blond",
   "metadata": {},
   "outputs": [],
   "source": []
  }
 ],
 "metadata": {
  "kernelspec": {
   "display_name": "Python [conda env:root] *",
   "language": "python",
   "name": "conda-root-py"
  },
  "language_info": {
   "codemirror_mode": {
    "name": "ipython",
    "version": 3
   },
   "file_extension": ".py",
   "mimetype": "text/x-python",
   "name": "python",
   "nbconvert_exporter": "python",
   "pygments_lexer": "ipython3",
   "version": "3.8.3"
  }
 },
 "nbformat": 4,
 "nbformat_minor": 5
}
