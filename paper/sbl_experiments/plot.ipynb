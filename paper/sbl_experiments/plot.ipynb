{
 "cells": [
  {
   "cell_type": "code",
   "execution_count": null,
   "id": "initial-syracuse",
   "metadata": {},
   "outputs": [],
   "source": [
    "# imports\n",
    "import matplotlib.pyplot as plt\n",
    "import seaborn as sns\n",
    "\n",
    "import numpy as np\n",
    "from deepymod.analysis import load_tensorboard\n",
    "from natsort import natsorted\n",
    "import os"
   ]
  },
  {
   "cell_type": "code",
   "execution_count": null,
   "id": "innovative-sacramento",
   "metadata": {},
   "outputs": [],
   "source": [
    "# settings\n",
    "sns.set(context='paper', style='white')\n",
    "col_width = 5.5 # neurips style column width in inches\n",
    "font_size = 8\n",
    "plt.rcParams.update({'font.size': font_size})\n"
   ]
  },
  {
   "cell_type": "markdown",
   "id": "instructional-variance",
   "metadata": {},
   "source": [
    "# Single run plot"
   ]
  },
  {
   "cell_type": "code",
   "execution_count": null,
   "id": "spread-removal",
   "metadata": {},
   "outputs": [],
   "source": [
    "#loading noise dataframes\n",
    "df_noise = []\n",
    "for file in natsorted(filter(lambda x: x.find('noise') != -1, os.listdir('runs/'))):\n",
    "    path = os.path.join('runs/', file)\n",
    "    df_noise.append(load_tensorboard(path))\n",
    "    \n",
    "#loading sparsity dataframes\n",
    "df_nx = []\n",
    "for file in natsorted(filter(lambda x: x.find('nx') != -1, os.listdir('runs/'))):\n",
    "    path = os.path.join('runs/', file)\n",
    "    df_nx.append(load_tensorboard(path))"
   ]
  },
  {
   "cell_type": "code",
   "execution_count": null,
   "id": "consecutive-diabetes",
   "metadata": {},
   "outputs": [],
   "source": [
    "prior_keys = natsorted(filter(lambda key: key.find('alpha') == 0, df_noise[0].keys()))\n",
    "\n",
    "\n",
    "final_prior_noise = np.stack([df[prior_keys].loc[df.BIC.idxmin()] for df in df_noise], axis=0)\n",
    "final_prior_nx = np.stack([df[prior_keys].loc[df.BIC.idxmin()] for df in df_nx], axis=0)\n",
    "\n",
    "final_prior_noise = np.stack([df[prior_keys].iloc[-1] for df in df_noise], axis=0)\n",
    "final_prior_nx = np.stack([df[prior_keys].iloc[-1] for df in df_nx], axis=0)"
   ]
  },
  {
   "cell_type": "code",
   "execution_count": null,
   "id": "affiliated-scale",
   "metadata": {},
   "outputs": [],
   "source": [
    "final_prior_noise.shape"
   ]
  },
  {
   "cell_type": "code",
   "execution_count": null,
   "id": "stupid-cedar",
   "metadata": {},
   "outputs": [],
   "source": [
    "fig, axes = plt.subplots(ncols=2, nrows=1, figsize=(0.9 * col_width, 0.25 * col_width), constrained_layout=True)\n",
    "\n",
    "ax = axes[0]\n",
    "ax.plot(np.arange(0, 101, 10), final_prior_noise)\n",
    "ax.plot(np.arange(0, 101, 10), final_prior_noise[:, 2], lw=2)\n",
    "ax.plot(np.arange(0, 101, 10), final_prior_noise[:, 6], lw=2)\n",
    "ax.set_yscale('log')\n",
    "ax.axhline(1e4, color='k', linestyle='--')\n",
    "##ax.set_xscale('log')\n",
    "ax.set_xlabel('noise (%)')\n",
    "ax.set_ylabel(r'$\\alpha$')\n",
    "#ax.set_title('Prior as function of noise')\n",
    "#ax.set_ylabel(\"Loss\")\n",
    "#ax.ticklabel_format(axis='x', style='sci', scilimits=[0, 0])\n",
    "#ax.legend()\n",
    "ax.set_ylim([5e-1, 2e5])\n",
    "ax.text(-40, 1e5, 'a', fontdict={'weight':'bold', 'size': font_size})\n",
    "#ax.set_title('A ')\n",
    "\n",
    "ax = axes[1]\n",
    "ax.plot(np.arange(10, 101, 10), final_prior_nx)\n",
    "ax.plot(np.arange(10, 101, 10), final_prior_nx[:, 2], lw=2)\n",
    "ax.plot(np.arange(10, 101, 10), final_prior_nx[:, 6], lw=2)\n",
    "ax.axhline(1e4, color='k', linestyle='--')\n",
    "ax.set_yscale('log')\n",
    "ax.set_xlabel(r'$n_x$')\n",
    "ax.set_ylim([5e-1, 2e5])\n",
    "ax.set_ylabel(r'$\\alpha$')\n",
    "#ax.set_title('Prior as function of dataset size')\n",
    "#ax.ticklabel_format(axis='x', style='sci', scilimits=[0, 0])\n",
    "ax.text(-25, 1e5, 'b', fontdict={'weight':'bold', 'size': font_size})\n",
    "\n",
    "plt.savefig('sbl_experiments.pdf', bbox_inches='tight', pad_inches=0.0)"
   ]
  },
  {
   "cell_type": "code",
   "execution_count": null,
   "id": "dated-hungarian",
   "metadata": {},
   "outputs": [],
   "source": [
    "idx = 3\n",
    "plt.axvline(df_noise[idx].BIC.idxmin())\n",
    "plt.semilogy(df_noise[idx][prior_keys])\n",
    "plt.semilogy(df_noise[idx][prior_keys[2]], 'k--')\n",
    "plt.semilogy(df_noise[idx][prior_keys[6]], 'k--')"
   ]
  }
 ],
 "metadata": {
  "kernelspec": {
   "display_name": "Python 3",
   "language": "python",
   "name": "python3"
  },
  "language_info": {
   "codemirror_mode": {
    "name": "ipython",
    "version": 3
   },
   "file_extension": ".py",
   "mimetype": "text/x-python",
   "name": "python",
   "nbconvert_exporter": "python",
   "pygments_lexer": "ipython3",
   "version": "3.8.3"
  }
 },
 "nbformat": 4,
 "nbformat_minor": 5
}
