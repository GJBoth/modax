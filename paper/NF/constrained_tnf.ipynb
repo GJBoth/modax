{
 "cells": [
  {
   "cell_type": "code",
   "execution_count": null,
   "id": "sixth-aberdeen",
   "metadata": {},
   "outputs": [],
   "source": [
    "import jax.numpy as jnp\n",
    "import numpy as np\n",
    "import jax.random as random\n",
    "\n",
    "from data import random_walk\n",
    "from nf import AmortizedNormalizingFlow\n",
    "from loss_models import loss_fn_SBL, NF_library\n",
    "\n",
    "from modax.training import create_update, train_max_iter\n",
    "from modax.models.models import DeepmodBase\n",
    "from modax.layers.regression import LeastSquares\n",
    "from flax import optim\n",
    "from deepymod.analysis import load_tensorboard\n",
    "from functools import partial\n",
    "\n",
    "import matplotlib.pyplot as plt\n",
    "import seaborn as sns\n",
    "sns.set()\n",
    "from natsort import natsorted\n",
    "from matplotlib.gridspec import GridSpec\n",
    "\n",
    "%load_ext autoreload\n",
    "%autoreload 2"
   ]
  },
  {
   "cell_type": "code",
   "execution_count": null,
   "id": "affecting-tyler",
   "metadata": {},
   "outputs": [],
   "source": [
    "key = random.PRNGKey(42)"
   ]
  },
  {
   "cell_type": "markdown",
   "id": "motivated-tongue",
   "metadata": {},
   "source": [
    "# Creating data"
   ]
  },
  {
   "cell_type": "code",
   "execution_count": null,
   "id": "unlike-friendly",
   "metadata": {},
   "outputs": [],
   "source": [
    "def dataset(key, n_steps, n_walkers, D, v, dt, sigma0, x0):\n",
    "    def initial_condition(loc, width, key, shape):\n",
    "        key1, key2 = random.split(key)\n",
    "        ini_1 = loc[0] + width[0] * random.normal(key1, (shape[0], int(shape[1] /2)))\n",
    "        ini_2 = loc[1] + width[1] * random.normal(key2, (shape[0], int(shape[1] /2)))\n",
    "        return jnp.concatenate([ini_1, ini_2], axis=1)\n",
    "    \n",
    "    ini = partial(initial_condition, x0, sigma0)\n",
    "    locs, t = random_walk(key, ini, n_steps, n_walkers, D, v, dt=dt)\n",
    "    return jnp.expand_dims(locs, -1), jnp.expand_dims(t, -1)"
   ]
  },
  {
   "cell_type": "code",
   "execution_count": null,
   "id": "textile-sterling",
   "metadata": {},
   "outputs": [],
   "source": [
    "D = 1.5\n",
    "v = 0.5\n",
    "dt= 0.1\n",
    "sigma0 = [1.5, 0.5]\n",
    "x0=[-5, 1]\n",
    "n_steps = 50\n",
    "n_walkers = 100\n",
    "\n",
    "X, t = dataset(key, n_steps, n_walkers, D, v, dt, sigma0, x0)\n",
    "X_true = np.array(dataset(key, n_steps, 10000, D, v, dt, sigma0, x0)[0])"
   ]
  },
  {
   "cell_type": "code",
   "execution_count": null,
   "id": "cleared-badge",
   "metadata": {},
   "outputs": [],
   "source": [
    "X.shape"
   ]
  },
  {
   "cell_type": "code",
   "execution_count": null,
   "id": "supported-packaging",
   "metadata": {},
   "outputs": [],
   "source": [
    "sns.displot(X_true[0])"
   ]
  },
  {
   "cell_type": "code",
   "execution_count": null,
   "id": "manual-plain",
   "metadata": {},
   "outputs": [],
   "source": [
    "sns.displot(X_true[50])"
   ]
  },
  {
   "cell_type": "code",
   "execution_count": null,
   "id": "equipped-spanking",
   "metadata": {},
   "outputs": [],
   "source": [
    "def dataset(key, n_steps, n_walkers, D, v, dt, sigma0, x0):\n",
    "    def initial_condition(loc, width, key, shape):\n",
    "        return loc + width * random.normal(key, shape)\n",
    "    \n",
    "    ini = partial(initial_condition, x0, sigma0)\n",
    "    locs, t = random_walk(key, ini, n_steps, n_walkers, D, v, dt=dt)\n",
    "    return jnp.expand_dims(locs, -1), jnp.expand_dims(t, -1)"
   ]
  },
  {
   "cell_type": "code",
   "execution_count": null,
   "id": "electoral-invalid",
   "metadata": {},
   "outputs": [],
   "source": [
    "D = 1.5\n",
    "v = 0.5\n",
    "dt= 0.1\n",
    "sigma0 =0.5\n",
    "x0=-1\n",
    "n_steps = 50\n",
    "n_walkers = 100\n",
    "\n",
    "X, t = dataset(key, n_steps, n_walkers, D, v, dt, sigma0, x0)\n",
    "t += 1.0 # add an offset otherwise it has lots of issues with t=0"
   ]
  },
  {
   "cell_type": "code",
   "execution_count": null,
   "id": "guilty-store",
   "metadata": {},
   "outputs": [],
   "source": [
    "X.shape"
   ]
  },
  {
   "cell_type": "code",
   "execution_count": null,
   "id": "unnecessary-concern",
   "metadata": {},
   "outputs": [],
   "source": [
    "model = DeepmodBase(AmortizedNormalizingFlow, ([30, 30], 10, ), NF_library, (), LeastSquares, ())\n",
    "optimizer_def = optim.Adam(learning_rate=2e-3, beta1=0.99, beta2=0.99)"
   ]
  },
  {
   "cell_type": "code",
   "execution_count": null,
   "id": "completed-agency",
   "metadata": {},
   "outputs": [],
   "source": [
    "variables = model.init(key, (X, t))\n",
    "state, params = variables.pop(\"params\")\n",
    "state = (state, {\"prior_init\": None})  # adding prior to state\n",
    "optimizer = optimizer_def.create(params)\n",
    "update_fn = create_update(loss_fn_SBL, (model, (X, t)))"
   ]
  },
  {
   "cell_type": "code",
   "execution_count": null,
   "id": "analyzed-birth",
   "metadata": {},
   "outputs": [],
   "source": [
    "optimizer, state = train_max_iter(update_fn, optimizer, state, 20000)"
   ]
  },
  {
   "cell_type": "code",
   "execution_count": null,
   "id": "expanded-tampa",
   "metadata": {},
   "outputs": [],
   "source": [
    "jnp.save('trained_model', optimizer.target)"
   ]
  },
  {
   "cell_type": "code",
   "execution_count": null,
   "id": "flexible-citizenship",
   "metadata": {},
   "outputs": [],
   "source": [
    "# Sampling on a grid for nice pictures\n",
    "x = jnp.linspace(-10, 10, 200)\n",
    "x_grid = jnp.meshgrid(x, t.squeeze())[0][:, :, None]\n",
    "\n",
    "model_state, loss_state = state\n",
    "log_p, dt, theta, coeffs = model.apply({'params': optimizer.target, **model_state}, (x_grid, t))\n",
    "p = jnp.exp(log_p).reshape(x_grid.shape[:2])"
   ]
  },
  {
   "cell_type": "code",
   "execution_count": null,
   "id": "viral-suspension",
   "metadata": {},
   "outputs": [],
   "source": [
    "# Making analytical solution\n",
    "def adv_diff(x, t, v, D, sigma0, x0):\n",
    "    return  (2 * jnp.pi * sigma0 ** 2 + 4 * jnp.pi * D * t) ** (-1 / 2) * jnp.exp(\n",
    "        -((x - x0 - v * t) ** 2) / (2 * sigma0 ** 2 + 4 * D * t)\n",
    "    )\n",
    "\n",
    "p_true = adv_diff(x_grid.squeeze(), jnp.ones_like(x_grid.squeeze()) * (t-1), v, D, sigma0, x0) # undo t+1 offset"
   ]
  },
  {
   "cell_type": "code",
   "execution_count": null,
   "id": "independent-combination",
   "metadata": {},
   "outputs": [],
   "source": [
    "frame = 1\n",
    "plt.plot(x, p_true[frame, :], 'k--', label='true')\n",
    "plt.plot(x, p[frame, :], 'r', label='Inferred NF')\n",
    "sns.histplot(X[frame, :], bins='auto', stat='density', kde=True)\n",
    "plt.legend()"
   ]
  },
  {
   "cell_type": "code",
   "execution_count": null,
   "id": "finite-damages",
   "metadata": {},
   "outputs": [],
   "source": [
    "frame = 10\n",
    "plt.plot(x, p_true[frame, :], 'k--', label='true')\n",
    "plt.plot(x, p[frame, :], 'r', label='Inferred NF')\n",
    "sns.histplot(X[frame, :], bins='auto', stat='density', kde=True)\n",
    "plt.legend()"
   ]
  },
  {
   "cell_type": "code",
   "execution_count": null,
   "id": "outstanding-domain",
   "metadata": {},
   "outputs": [],
   "source": [
    "frame = 20\n",
    "plt.plot(x, p_true[frame, :], 'k--', label='true')\n",
    "plt.plot(x, p[frame, :], 'r', label='Inferred NF')\n",
    "sns.histplot(X[frame, :], bins='auto', stat='density', kde=True)\n",
    "plt.legend()"
   ]
  },
  {
   "cell_type": "code",
   "execution_count": null,
   "id": "adult-slave",
   "metadata": {},
   "outputs": [],
   "source": [
    "frame = 40\n",
    "plt.plot(x, p_true[frame, :], 'k--', label='true')\n",
    "plt.plot(x, p[frame, :], 'r', label='Inferred NF')\n",
    "sns.histplot(X[frame, :], bins=20, stat='density', kde=True)\n",
    "plt.legend()"
   ]
  },
  {
   "cell_type": "code",
   "execution_count": null,
   "id": "unknown-inflation",
   "metadata": {},
   "outputs": [],
   "source": [
    "frame = 55\n",
    "plt.plot(x, p_true[frame, :], 'k--', label='True')\n",
    "plt.plot(x, p[frame, :], 'r', label='NF')\n",
    "sns.histplot(X[frame, :], bins=20, stat='density', kde=True)\n",
    "plt.legend()"
   ]
  },
  {
   "cell_type": "code",
   "execution_count": null,
   "id": "pleasant-holocaust",
   "metadata": {},
   "outputs": [],
   "source": [
    "sns.heatmap(p_true)"
   ]
  },
  {
   "cell_type": "code",
   "execution_count": null,
   "id": "educated-convention",
   "metadata": {},
   "outputs": [],
   "source": [
    "sns.heatmap(p)"
   ]
  },
  {
   "cell_type": "markdown",
   "id": "precise-memphis",
   "metadata": {},
   "source": [
    "# Plot"
   ]
  },
  {
   "cell_type": "code",
   "execution_count": null,
   "id": "forced-douglas",
   "metadata": {},
   "outputs": [],
   "source": [
    "# settings\n",
    "sns.set(context='paper', style='white')\n",
    "col_width = 5.5 # neurips style column width in inches\n",
    "font_size = 8\n",
    "plt.rcParams.update({'font.size': 22})"
   ]
  },
  {
   "cell_type": "code",
   "execution_count": null,
   "id": "micro-cholesterol",
   "metadata": {},
   "outputs": [],
   "source": [
    "df = load_tensorboard('runs/May17_18-40-24_workstationgj/')"
   ]
  },
  {
   "cell_type": "code",
   "execution_count": null,
   "id": "similar-sleep",
   "metadata": {},
   "outputs": [],
   "source": [
    "prior_keys = natsorted([key for key in df.keys() if key.find('alpha') == 0])\n",
    "coeff_keys = natsorted([key for key in df.keys() if key.find('coeff') == 0])"
   ]
  },
  {
   "cell_type": "code",
   "execution_count": null,
   "id": "occasional-commons",
   "metadata": {},
   "outputs": [],
   "source": [
    "fig = plt.figure(constrained_layout=True, figsize=(0.9 * col_width, 0.3 * col_width))\n",
    "gs = GridSpec(2, 3, figure=fig)\n",
    "\n",
    "ax = fig.add_subplot(gs[:, 2])\n",
    "ax.plot(df[prior_keys].ewm(alpha=0.1).mean())\n",
    "ax.plot(df[prior_keys[1]].ewm(alpha=0.1).mean(), lw=2)\n",
    "ax.plot(df[prior_keys[2]].ewm(alpha=0.1).mean(), lw=2)\n",
    "ax.set_yscale('log')\n",
    "ax.set_xticks([])\n",
    "ax.set_xlabel('Epoch')\n",
    "ax.set_ylim([1e-1, 2e5])\n",
    "\n",
    "\n",
    "\n",
    "ax = fig.add_subplot(gs[0, 1])\n",
    "frame = 15\n",
    "ax.plot(x, p_true[frame, :], 'k--')\n",
    "ax.plot(x, p[frame, :], 'r')\n",
    "sns.histplot(X[frame, :], bins=20, ax=ax, stat='density', legend=False)\n",
    "ax.set_ylabel('')\n",
    "ax.set_xticks([])\n",
    "ax.set_yticks([])\n",
    "ax.set_xlim([-10, 10])\n",
    "\n",
    "\n",
    "ax = fig.add_subplot(gs[1, 1])\n",
    "frame = 45\n",
    "ax.plot(x, p_true[frame, :], 'k--', label='Truth')\n",
    "ax.plot(x, p[frame, :], 'r', label='NF')\n",
    "sns.histplot(X[frame, :], ax=ax, bins=20, stat='density', legend=True)\n",
    "ax.set_ylabel('')\n",
    "ax.set_yticks([])\n",
    "ax.set_xlim([-10, 10])\n",
    "\n",
    "ax = fig.add_subplot(gs[:, 0])\n",
    "sns.heatmap(p_true, ax=ax, xticklabels=[], yticklabels=[], cbar=False)\n",
    "ax.axhline(45, linestyle='--', color='r')\n",
    "ax.axhline(15, linestyle='--', color='r')\n",
    "ax.set_xlabel('space')\n",
    "ax.set_ylabel('time')\n",
    "plt.savefig('NF.pdf', bbox_inches='tight', pad_inches=0.0)"
   ]
  },
  {
   "cell_type": "code",
   "execution_count": null,
   "id": "confirmed-lafayette",
   "metadata": {},
   "outputs": [],
   "source": [
    "t[55]"
   ]
  },
  {
   "cell_type": "code",
   "execution_count": null,
   "id": "tropical-audience",
   "metadata": {},
   "outputs": [],
   "source": [
    "frame = 55\n",
    "plt.plot(x, p_true[frame, :], 'k--', label='True')\n",
    "plt.plot(x, p[frame, :], 'r', label='NF')\n",
    "sns.histplot(X[frame, :], bins=20, stat='density')\n",
    "plt.legend()"
   ]
  },
  {
   "cell_type": "code",
   "execution_count": null,
   "id": "thirty-republican",
   "metadata": {},
   "outputs": [],
   "source": [
    "frame = 20\n",
    "plt.plot(x, p_true[frame, :], 'k--', label='True')\n",
    "plt.plot(x, p[frame, :], 'r', label='NF')\n",
    "sns.histplot(X[frame, :], bins=20, stat='density')\n",
    "plt.legend()"
   ]
  },
  {
   "cell_type": "code",
   "execution_count": null,
   "id": "dynamic-length",
   "metadata": {},
   "outputs": [],
   "source": [
    "plt.semilogy(df[prior_keys].ewm(alpha=0.1).mean())"
   ]
  },
  {
   "cell_type": "code",
   "execution_count": null,
   "id": "mineral-munich",
   "metadata": {},
   "outputs": [],
   "source": [
    "p = jnp.load('inferred_density.npy')"
   ]
  },
  {
   "cell_type": "code",
   "execution_count": null,
   "id": "norman-aberdeen",
   "metadata": {},
   "outputs": [],
   "source": [
    "frame = 20\n",
    "#sns.displot(X_true[frame], stat='density', bins='auto')\n",
    "sns.displot(X[frame], stat='density', bins='auto')\n",
    "plt.plot(np.linspace(-10, 10, 200), p[frame, :])\n",
    "#plt.plot(p[40, :])"
   ]
  },
  {
   "cell_type": "code",
   "execution_count": null,
   "id": "legislative-samba",
   "metadata": {},
   "outputs": [],
   "source": [
    "p.shape"
   ]
  }
 ],
 "metadata": {
  "kernelspec": {
   "display_name": "Python [conda env:root] *",
   "language": "python",
   "name": "conda-root-py"
  },
  "language_info": {
   "codemirror_mode": {
    "name": "ipython",
    "version": 3
   },
   "file_extension": ".py",
   "mimetype": "text/x-python",
   "name": "python",
   "nbconvert_exporter": "python",
   "pygments_lexer": "ipython3",
   "version": "3.8.3"
  }
 },
 "nbformat": 4,
 "nbformat_minor": 5
}
