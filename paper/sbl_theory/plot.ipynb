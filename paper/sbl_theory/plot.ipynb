{
 "cells": [
  {
   "cell_type": "code",
   "execution_count": null,
   "id": "further-sender",
   "metadata": {},
   "outputs": [],
   "source": [
    "# imports\n",
    "import matplotlib.pyplot as plt\n",
    "import seaborn as sns\n",
    "\n",
    "import numpy as np\n",
    "from deepymod.analysis import load_tensorboard\n",
    "from natsort import natsorted\n",
    "import os\n",
    "import pandas as pd\n",
    "\n",
    "from matplotlib.gridspec import GridSpec\n"
   ]
  },
  {
   "cell_type": "code",
   "execution_count": null,
   "id": "close-attachment",
   "metadata": {},
   "outputs": [],
   "source": [
    "# settings\n",
    "sns.set(context='paper', style='white')\n",
    "col_width = 5.5 # neurips style column width in inches\n",
    "\n"
   ]
  },
  {
   "cell_type": "markdown",
   "id": "criminal-position",
   "metadata": {},
   "source": [
    "# Single run plot"
   ]
  },
  {
   "cell_type": "code",
   "execution_count": null,
   "id": "first-cigarette",
   "metadata": {},
   "outputs": [],
   "source": [
    "df_pinn = load_tensorboard(\"runs/pinn_run_0/\")\n",
    "df_bayes = load_tensorboard(\"runs/SBL_run_0/\")"
   ]
  },
  {
   "cell_type": "code",
   "execution_count": null,
   "id": "leading-membrane",
   "metadata": {},
   "outputs": [],
   "source": [
    "coeff_keys_pinn = natsorted(filter(lambda key: key.find('coeff') == 0, df_pinn.keys()))\n",
    "coeff_keys_bayes = natsorted(filter(lambda key: key.find('coeffs') == 0, df_bayes.keys()))\n",
    "prior_keys = natsorted(filter(lambda key: key.find('alpha') == 0, df_bayes.keys()))"
   ]
  },
  {
   "cell_type": "code",
   "execution_count": null,
   "id": "alone-tragedy",
   "metadata": {},
   "outputs": [],
   "source": [
    "fig, axes = plt.subplots(ncols=2, nrows=2, figsize=(0.9 * col_width, 0.6 * col_width), constrained_layout=True)\n",
    "\n",
    "ax = axes[0, 0]\n",
    "ax.plot(df_bayes.index, df_bayes.mse + df_bayes.reg, label=\"Bayes\")\n",
    "ax.plot(df_pinn.index, df_pinn.mse + df_pinn.reg, label=\"PINN\")\n",
    "ax.set_yscale('log')\n",
    "ax.set_xscale('log')\n",
    "ax.set_xlabel('Epoch')\n",
    "ax.set_ylabel(\"Loss\")\n",
    "#ax.ticklabel_format(axis='x', style='sci', scilimits=[0, 0])\n",
    "ax.legend()\n",
    "\n",
    "\n",
    "ax = axes[0, 1]\n",
    "ax.plot(df_bayes.index, df_bayes[prior_keys])\n",
    "ax.plot(df_bayes.index, df_bayes[prior_keys[2]], lw=2)\n",
    "ax.plot(df_bayes.index, df_bayes[prior_keys[5]], lw=2)\n",
    "ax.axhline(1e4, color='k', linestyle='--')\n",
    "ax.set_yscale('log')\n",
    "ax.set_xscale('log')\n",
    "ax.set_xlabel('Epoch')\n",
    "ax.set_ylabel(\"Prior\")\n",
    "#ax.ticklabel_format(axis='x', style='sci', scilimits=[0, 0])\n",
    "\n",
    "\n",
    "ax = axes[1, 0]\n",
    "ax.plot(df_pinn.index, df_pinn[coeff_keys_pinn])\n",
    "ax.plot(df_pinn.index, df_pinn[coeff_keys_pinn[2]], lw=2)\n",
    "ax.plot(df_pinn.index, df_pinn[coeff_keys_pinn[5]], lw=2)\n",
    "#ax.set_yscale('symlog')\n",
    "#ax.set_xscale('log')\n",
    "ax.set_xlabel('Epoch')\n",
    "ax.set_ylim([-2, 1])\n",
    "ax.set_ylabel(\"Coefficient\")\n",
    "ax.ticklabel_format(axis='x', style='sci', scilimits=[0, 0])\n",
    "\n",
    "\n",
    "ax = axes[1, 1]\n",
    "ax.plot(df_bayes.index, df_bayes[coeff_keys_bayes])\n",
    "ax.plot(df_bayes.index, df_bayes[coeff_keys_bayes[2]], lw=2)\n",
    "ax.plot(df_bayes.index, df_bayes[coeff_keys_bayes[5]], lw=2)\n",
    "#ax.set_yscale('symlog')\n",
    "#ax.set_xscale('log')\n",
    "ax.set_xlabel('Epoch')\n",
    "ax.set_ylim([-1.2, 0.2])\n",
    "ax.set_ylabel(\"Coefficient\")\n",
    "ax.ticklabel_format(axis='x', style='sci', scilimits=[0, 0])\n",
    "\n",
    "plt.savefig('SBL.pdf', bbox_inches='tight')"
   ]
  },
  {
   "cell_type": "markdown",
   "id": "organic-avatar",
   "metadata": {},
   "source": [
    "# Multiple runs"
   ]
  },
  {
   "cell_type": "code",
   "execution_count": null,
   "id": "sorted-mason",
   "metadata": {},
   "outputs": [],
   "source": [
    "files = natsorted([file for file in os.listdir('runs') if file.find('SBL')==0])\n",
    "dfs_sbl = [load_tensorboard(f'runs/{file}') for file in files]"
   ]
  },
  {
   "cell_type": "code",
   "execution_count": null,
   "id": "considerable-frontier",
   "metadata": {},
   "outputs": [],
   "source": [
    "files = natsorted([file for file in os.listdir('runs') if file.find('pinn')==0])\n",
    "dfs_pinn = [load_tensorboard(f'runs/{file}') for file in files]"
   ]
  },
  {
   "cell_type": "code",
   "execution_count": null,
   "id": "solar-hamburg",
   "metadata": {},
   "outputs": [],
   "source": [
    "def mean_std(prop, df_list, log):\n",
    "    \"\"\"Returns mean and std and (mean - std, mean + std) of prop for all dataframes in df_list.\"\"\"\n",
    "    data = np.stack([prop(df) for df in df_list], axis=-1)\n",
    "    if log:\n",
    "        data = np.log10(data)\n",
    "    mean = np.mean(data, axis=-1)  \n",
    "    std = np.std(data, axis=-1)  \n",
    "    return mean, std, (mean-std, mean + std)"
   ]
  },
  {
   "cell_type": "code",
   "execution_count": null,
   "id": "pursuant-ceramic",
   "metadata": {},
   "outputs": [],
   "source": [
    "dfs_sbl[0].keys()"
   ]
  },
  {
   "cell_type": "code",
   "execution_count": null,
   "id": "recognized-aurora",
   "metadata": {},
   "outputs": [],
   "source": [
    "sbl_mse = mean_std(lambda df: df.mse, dfs_sbl, log=True)\n",
    "pinn_mse = mean_std(lambda df: df.mse, dfs_pinn, log=True)\n",
    "\n",
    "sbl_reg = mean_std(lambda df: df.reg, dfs_sbl, log=True)\n",
    "sbl_masked_reg = mean_std(lambda df: df.masked_reg, dfs_sbl, log=True)\n",
    "pinn_reg = mean_std(lambda df: df.reg, dfs_pinn, log=True)\n",
    "\n",
    "x_vals = dfs_pinn[0].index"
   ]
  },
  {
   "cell_type": "code",
   "execution_count": null,
   "id": "handmade-twelve",
   "metadata": {},
   "outputs": [],
   "source": [
    "plt.plot(x_vals, sbl_mse[0])\n",
    "plt.fill_between(x_vals, sbl_mse[2][0], sbl_mse[2][1], alpha=0.4)\n",
    "\n",
    "plt.plot(x_vals, pinn_mse[0])\n",
    "plt.fill_between(x_vals, pinn_mse[2][0], pinn_mse[2][1], alpha=0.4)"
   ]
  },
  {
   "cell_type": "code",
   "execution_count": null,
   "id": "acquired-tension",
   "metadata": {},
   "outputs": [],
   "source": [
    "plt.plot(x_vals, sbl_reg[0])\n",
    "plt.fill_between(x_vals, sbl_reg[2][0], sbl_reg[2][1], alpha=0.4)\n",
    "\n",
    "plt.plot(x_vals, pinn_reg[0])\n",
    "plt.fill_between(x_vals, pinn_reg[2][0], pinn_reg[2][1], alpha=0.4)"
   ]
  },
  {
   "cell_type": "code",
   "execution_count": null,
   "id": "accomplished-salem",
   "metadata": {},
   "outputs": [],
   "source": [
    "plt.plot(x_vals, sbl_masked_reg[0])\n",
    "plt.fill_between(x_vals, sbl_masked_reg[2][0], sbl_masked_reg[2][1], alpha=0.4)"
   ]
  },
  {
   "cell_type": "code",
   "execution_count": null,
   "id": "engaging-gazette",
   "metadata": {},
   "outputs": [],
   "source": [
    "plt.plot(x_vals, sbl_reg[0])\n",
    "plt.fill_between(x_vals, sbl_reg[2][0], sbl_reg[2][1], alpha=0.4)\n",
    "\n",
    "plt.plot(x_vals, pinn_reg[0])\n",
    "plt.fill_between(x_vals, pinn_reg[2][0], pinn_reg[2][1], alpha=0.4)\n",
    "\n"
   ]
  },
  {
   "cell_type": "code",
   "execution_count": null,
   "id": "occasional-table",
   "metadata": {},
   "outputs": [],
   "source": [
    "plt.plot(x_vals, sbl_loss[0])\n",
    "plt.fill_between(x_vals, sbl_loss[2][0], sbl_loss[2][1], alpha=0.4)\n",
    "\n",
    "plt.plot(x_vals, pinn_loss[0])\n",
    "plt.fill_between(x_vals, pinn_loss[2][0], pinn_loss[2][1], alpha=0.4)"
   ]
  },
  {
   "cell_type": "code",
   "execution_count": null,
   "id": "existing-breast",
   "metadata": {},
   "outputs": [],
   "source": [
    "prior_keys = natsorted(key for key in dfs_sbl[0].keys() if key.find('alpha') == 0)\n",
    "coeff_keys = natsorted(key for key in dfs_sbl[0].keys() if key.find('coeffs') == 0)\n",
    "bayes_coeff_keys = natsorted(key for key in dfs_sbl[0].keys() if key.find('bayes') == 0)"
   ]
  },
  {
   "cell_type": "code",
   "execution_count": null,
   "id": "intellectual-outline",
   "metadata": {},
   "outputs": [],
   "source": [
    "sbl_prior = mean_std(lambda df: df[prior_keys], dfs_sbl, log=True)"
   ]
  },
  {
   "cell_type": "code",
   "execution_count": null,
   "id": "simple-logging",
   "metadata": {},
   "outputs": [],
   "source": [
    "plt.plot(x_vals, sbl_prior[0])\n",
    "for idx in np.arange(sbl_prior[0].shape[-1]):\n",
    "    plt.fill_between(x_vals, sbl_prior[2][0][:, idx], sbl_prior[2][1][:, idx], alpha=0.4)"
   ]
  },
  {
   "cell_type": "code",
   "execution_count": null,
   "id": "individual-external",
   "metadata": {},
   "outputs": [],
   "source": [
    "sbl_coeffs = mean_std(lambda df: df[coeff_keys], dfs_sbl, log=False)\n",
    "pinn_coeffs = mean_std(lambda df: df[coeff_keys], dfs_pinn, log=False)"
   ]
  },
  {
   "cell_type": "code",
   "execution_count": null,
   "id": "foster-thirty",
   "metadata": {},
   "outputs": [],
   "source": [
    "plt.plot(x_vals, sbl_coeffs[0])\n",
    "plt.plot(x_vals, sbl_coeffs[0][:, 2], linewidth=2)\n",
    "plt.plot(x_vals, sbl_coeffs[0][:, 5], linewidth=2)\n",
    "for idx in np.arange(sbl_coeffs[0].shape[-1]):\n",
    "    plt.fill_between(x_vals, sbl_coeffs[2][0][:, idx], sbl_coeffs[2][1][:, idx], alpha=0.4)\n",
    "    \n",
    "plt.ylim([-1.2, 1])"
   ]
  },
  {
   "cell_type": "code",
   "execution_count": null,
   "id": "radio-niger",
   "metadata": {},
   "outputs": [],
   "source": [
    "plt.plot(x_vals, pinn_coeffs[0])\n",
    "plt.plot(x_vals, pinn_coeffs[0][:, 2], linewidth=2)\n",
    "plt.plot(x_vals, pinn_coeffs[0][:, 5], linewidth=2)\n",
    "for idx in np.arange(pinn_coeffs[0].shape[-1]):\n",
    "    plt.fill_between(x_vals, pinn_coeffs[2][0][:, idx], pinn_coeffs[2][1][:, idx], alpha=0.4)\n",
    "    \n",
    "plt.ylim([-1.2, 1])"
   ]
  },
  {
   "cell_type": "code",
   "execution_count": null,
   "id": "reasonable-sixth",
   "metadata": {},
   "outputs": [],
   "source": [
    "fig = plt.figure(constrained_layout=True, figsize=(0.5 * col_width, 0.7 * col_width))\n",
    "gs = GridSpec(3, 2, figure=fig)\n",
    "\n",
    "#Upper left\n",
    "ax = fig.add_subplot(gs[0, 0])\n",
    "ax.plot(x_vals, pinn_loss[0], label='PINN')\n",
    "ax.fill_between(x_vals, pinn_loss[2][0], pinn_loss[2][1], alpha=0.4)\n",
    "\n",
    "ax.plot(x_vals, sbl_loss[0], label='SBL')\n",
    "ax.fill_between(x_vals, sbl_loss[2][0], sbl_loss[2][1], alpha=0.4)\n",
    "\n",
    "#ax.set_ylim([-3.4, -2])\n",
    "ax.set_title('Loss')\n",
    "ax.legend()\n",
    "ax.text(-7000.0, -0.5, 'a', fontdict={'weight':'bold', 'size': 12})\n",
    "   \n",
    "    \n",
    "\n",
    "#Lower left\n",
    "ax = fig.add_subplot(gs[0, 1])\n",
    "ax.plot(x_vals, sbl_prior[0])\n",
    "for idx in np.arange(sbl_prior[0].shape[-1]):\n",
    "    plt.fill_between(x_vals, sbl_prior[2][0][:, idx], sbl_prior[2][1][:, idx], alpha=0.4)\n",
    "ax.plot(x_vals, sbl_prior[0][:, 2], linewidth=2)\n",
    "ax.plot(x_vals, sbl_prior[0][:, 2], linewidth=2)\n",
    "ax.set_ylim([-0.5, 5.5])\n",
    "ax.set_title(\"Prior\")\n",
    "ax.plot(x_vals, sbl_prior[0])\n",
    "ax.text(-5100.0, 5.3, 'b', fontdict={'weight':'bold', 'size': 12})\n",
    "   \n",
    "    \n",
    "# middle\n",
    "ax = fig.add_subplot(gs[1, :])\n",
    "ax.plot(x_vals, pinn_coeffs[0])\n",
    "ax.plot(x_vals, pinn_coeffs[0][:, 2], linewidth=2)\n",
    "ax.plot(x_vals, pinn_coeffs[0][:, 5], linewidth=2)\n",
    "for idx in np.arange(pinn_coeffs[0].shape[-1]):\n",
    "    ax.fill_between(x_vals, pinn_coeffs[2][0][:, idx], pinn_coeffs[2][1][:, idx], alpha=0.4)\n",
    "ax.set_xticks([])\n",
    "ax.set_ylim([-1.2, 0.3])\n",
    "ax.set_title(\"Coefficients PINN\")\n",
    "ax.text(-3000.0, 0.25, 'c', fontdict={'weight':'bold', 'size': 12})\n",
    "    \n",
    "# right\n",
    "ax = fig.add_subplot(gs[2, :])\n",
    "ax.plot(x_vals, sbl_coeffs[0])\n",
    "ax.plot(x_vals, sbl_coeffs[0][:, 2], linewidth=2)\n",
    "ax.plot(x_vals, sbl_coeffs[0][:, 5], linewidth=2)\n",
    "for idx in np.arange(sbl_coeffs[0].shape[-1]):\n",
    "    ax.fill_between(x_vals, sbl_coeffs[2][0][:, idx], sbl_coeffs[2][1][:, idx], alpha=0.4)\n",
    "ax.set_xlabel('Epoch', fontdict={'weight':'bold'})\n",
    "ax.set_ylim([-1.2, 0.3])\n",
    "ax.set_xticks([0, 5000, 10000])\n",
    "ax.set_title(\"Coefficients SBL\")\n",
    "ax.text(-3000.0, 0.25, 'd', fontdict={'weight':'bold', 'size': 12})\n",
    "plt.savefig('SBL.pdf', bbox_inches='tight')"
   ]
  },
  {
   "cell_type": "code",
   "execution_count": null,
   "id": "earned-artist",
   "metadata": {},
   "outputs": [],
   "source": [
    "ax.text(-500.0, 11, 'B', fontdict={'weight':'bold', 'size': 12})\n",
    "ax.legend(loc='upper right')\n",
    "ax.set_xlabel('Epoch', fontdict={'weight':'bold'})\n",
    "ax.set_ylabel('log prec.',  fontdict={'weight':'bold'})\n",
    "\n",
    "ax.set_xlim([0, 2000])"
   ]
  },
  {
   "cell_type": "code",
   "execution_count": null,
   "id": "eastern-memorial",
   "metadata": {},
   "outputs": [],
   "source": [
    "df = dfs_sbl[0]\n",
    "masked_coeff_keys = natsorted(key for key in df.keys() if key.find('masked_coeffs') == 0)"
   ]
  },
  {
   "cell_type": "code",
   "execution_count": null,
   "id": "latin-coordinator",
   "metadata": {},
   "outputs": [],
   "source": [
    "plt.axvline(df.BIC.idxmin(), linestyle='--', color='k')\n",
    "plt.plot(df.index, df.BIC.ewm(alpha=0.1).mean())\n",
    "#plt.ylim([0, 1000])\n",
    "plt.ylabel(r\"$\\Delta$ BIC\")\n",
    "#plt.xlim([0, 50000])"
   ]
  },
  {
   "cell_type": "code",
   "execution_count": null,
   "id": "elect-reset",
   "metadata": {},
   "outputs": [],
   "source": [
    "true_coeffs = np.zeros((1, 12))\n",
    "true_coeffs[0, 2] = 0.1\n",
    "true_coeffs[0, 5] = -1"
   ]
  },
  {
   "cell_type": "code",
   "execution_count": null,
   "id": "initial-knitting",
   "metadata": {},
   "outputs": [],
   "source": [
    "coeff_error = np.mean(np.abs(df[coeff_keys] - true_coeffs), axis=1)\n",
    "masked_coeff_error = np.mean(np.abs(df[masked_coeff_keys] - true_coeffs), axis=1)"
   ]
  },
  {
   "cell_type": "code",
   "execution_count": null,
   "id": "magnetic-worst",
   "metadata": {},
   "outputs": [],
   "source": [
    "plt.semilogy(df.index, coeff_error.ewm(alpha=0.1).mean())\n",
    "plt.semilogy(df.index, masked_coeff_error.ewm(alpha=0.1).mean())\n",
    "plt.axvline(df.BIC.idxmin(), linestyle='--', color='k')"
   ]
  },
  {
   "cell_type": "code",
   "execution_count": null,
   "id": "extensive-curve",
   "metadata": {},
   "outputs": [],
   "source": [
    "df[masked_coeff_keys].tail(1)"
   ]
  },
  {
   "cell_type": "code",
   "execution_count": null,
   "id": "dangerous-acoustic",
   "metadata": {},
   "outputs": [],
   "source": [
    "df[coeff_keys]."
   ]
  },
  {
   "cell_type": "markdown",
   "id": "impossible-audience",
   "metadata": {},
   "source": [
    "# Plot 2.0"
   ]
  },
  {
   "cell_type": "code",
   "execution_count": null,
   "id": "standing-rehabilitation",
   "metadata": {},
   "outputs": [],
   "source": [
    "files = natsorted([file for file in os.listdir('runs') if file.find('SBL')==0])\n",
    "dfs_sbl = [load_tensorboard(f'runs/{file}') for file in files]\n",
    "\n",
    "df = dfs_sbl[0]\n",
    "\n",
    "df_pinn = dfs_pinn[0]"
   ]
  },
  {
   "cell_type": "code",
   "execution_count": null,
   "id": "thousand-yahoo",
   "metadata": {},
   "outputs": [],
   "source": [
    "plt.plot(df_pinn[coeff_keys])\n",
    "plt.plot(df_pinn[coeff_keys[2]], lw=2)\n",
    "plt.plot(df_pinn[coeff_keys[6]], lw=2)\n",
    "plt.ylim([-1.5, 1.5])"
   ]
  },
  {
   "cell_type": "code",
   "execution_count": null,
   "id": "worst-output",
   "metadata": {},
   "outputs": [],
   "source": [
    "plt.plot(df[coeff_keys])\n",
    "plt.plot(df[coeff_keys[2]], lw=2)\n",
    "plt.plot(df[coeff_keys[6]], lw=2)\n",
    "plt.ylim([-1, 1.5])"
   ]
  },
  {
   "cell_type": "code",
   "execution_count": null,
   "id": "continental-representative",
   "metadata": {},
   "outputs": [],
   "source": [
    "plt.plot(df.its)"
   ]
  },
  {
   "cell_type": "code",
   "execution_count": null,
   "id": "excessive-template",
   "metadata": {},
   "outputs": [],
   "source": [
    "plt.plot(df[bayes_coeff_keys])\n",
    "plt.plot(df[bayes_coeff_keys[2]], lw=2)\n",
    "plt.plot(df[bayes_coeff_keys[6]], lw=2)\n",
    "plt.ylim([-1.5, 1])"
   ]
  },
  {
   "cell_type": "code",
   "execution_count": null,
   "id": "solved-alexandria",
   "metadata": {},
   "outputs": [],
   "source": [
    "plt.plot(df[masked_coeff_keys])\n",
    "plt.plot(df[masked_coeff_keys[2]], lw=2)\n",
    "plt.plot(df[masked_coeff_keys[6]], lw=2)\n",
    "plt.ylim([-1.5, 1])"
   ]
  },
  {
   "cell_type": "code",
   "execution_count": null,
   "id": "preceding-street",
   "metadata": {},
   "outputs": [],
   "source": [
    "plt.semilogy(df.mse)\n",
    "plt.semilogy(df.reg)\n",
    "\n",
    "#plt.semilogy(df.masked_reg)\n",
    "\n",
    "\n",
    "plt.semilogy(df_pinn.mse, '--')\n",
    "plt.semilogy(df_pinn.reg, '--')"
   ]
  },
  {
   "cell_type": "code",
   "execution_count": null,
   "id": "friendly-replica",
   "metadata": {},
   "outputs": [],
   "source": [
    "plt.plot(df.loss)"
   ]
  },
  {
   "cell_type": "code",
   "execution_count": null,
   "id": "leading-interference",
   "metadata": {},
   "outputs": [],
   "source": [
    "# %% Imports\n",
    "from jax import numpy as jnp, random\n",
    "from modax.data.burgers import burgers\n",
    "\n",
    "key = random.PRNGKey(42)\n",
    "noise = 0.10\n",
    "\n",
    "# Making data\n",
    "x = jnp.linspace(-3, 4, 50)\n",
    "t = jnp.linspace(0.5, 5.0, 20)\n",
    "t_grid, x_grid = jnp.meshgrid(t, x, indexing=\"ij\")\n",
    "u = burgers(x_grid, t_grid, 0.1, 1.0)\n",
    "\n",
    "X = jnp.concatenate([t_grid.reshape(-1, 1), x_grid.reshape(-1, 1)], axis=1)\n",
    "u_noisy = u + noise * jnp.std(u) * random.normal(key, u.shape)"
   ]
  },
  {
   "cell_type": "code",
   "execution_count": null,
   "id": "three-jurisdiction",
   "metadata": {},
   "outputs": [],
   "source": [
    "fig = plt.figure(constrained_layout=True, figsize=(0.9 * col_width, 0.4 * col_width))\n",
    "gs = GridSpec(2, 3, figure=fig)\n",
    "\n",
    "\n",
    "ax = fig.add_subplot(gs[0, 0])\n",
    "plt.plot(u_noisy[0, :])\n",
    "plt.plot(u[0, :], 'k--')\n",
    "\n",
    "plt.plot(u_noisy[10, :])\n",
    "plt.plot(u[10, :], 'k--')\n",
    "\n",
    "plt.plot(u_noisy[20, :])\n",
    "plt.plot(u[20, :], 'k--')\n",
    "\n",
    "ax.set_xticks([])\n",
    "ax.set_yticks([])\n",
    "ax.set_title('Burgers')\n",
    "ax.text(-17, 1.25, 'a', fontdict={\"weight\": \"bold\"})\n",
    "\n",
    "\n",
    "ax = fig.add_subplot(gs[1, 0])\n",
    "ax.plot(df.mse)\n",
    "ax.plot(df.reg)\n",
    "ax.plot(df_pinn.mse, '--')\n",
    "ax.plot(df_pinn.reg, '--')\n",
    "ax.set_yscale('log')\n",
    "ax.set_xticks([])\n",
    "ax.set_xlabel(\"Epoch\")\n",
    "ax.set_title('Losses')\n",
    "ax.text(-3500, 1e-1, 'd', fontdict={\"weight\": \"bold\"})\n",
    "\n",
    "\n",
    "ax = fig.add_subplot(gs[0, 1])\n",
    "ax.plot(df[prior_keys])\n",
    "ax.plot(df[prior_keys[2]], lw=2)\n",
    "ax.plot(df[prior_keys[6]], lw=2)\n",
    "ax.axhline(1e4, color='k', linestyle='--')\n",
    "ax.set_yscale('log')\n",
    "ax.set_xticks([])\n",
    "#ax.set_xlabel(\"Epoch\")\n",
    "ax.set_title('Prior')\n",
    "ax.text(-3500, 2e5, 'b', fontdict={\"weight\": \"bold\"})\n",
    "\n",
    "\n",
    "ax = fig.add_subplot(gs[1, 1])\n",
    "ax.plot(df[bayes_coeff_keys])\n",
    "ax.plot(df[bayes_coeff_keys[2]], lw=2)\n",
    "ax.plot(df[bayes_coeff_keys[6]], lw=2)\n",
    "ax.set_ylim([-1.2, 0.2])\n",
    "ax.set_xticks([])\n",
    "ax.set_xlabel(\"Epoch\")\n",
    "ax.set_title('Posterior')\n",
    "ax.text(-3500, 0.2, 'e', fontdict={\"weight\": \"bold\"})\n",
    "\n",
    "ax = fig.add_subplot(gs[0, 2])\n",
    "ax.plot(df[coeff_keys])\n",
    "ax.plot(df[coeff_keys[2]], lw=2)\n",
    "ax.plot(df[coeff_keys[6]], lw=2)\n",
    "ax.set_ylim([-1.2, 0.2])\n",
    "ax.set_xticks([])\n",
    "#ax.set_xlabel('Epoch')\n",
    "ax.set_title('OLS')\n",
    "ax.text(-3500, 0.2, 'c', fontdict={\"weight\": \"bold\"})\n",
    "\n",
    "\n",
    "ax = fig.add_subplot(gs[1, 2])\n",
    "ax.plot(df_pinn[coeff_keys])\n",
    "ax.plot(df_pinn[coeff_keys[2]], lw=2)\n",
    "ax.plot(df_pinn[coeff_keys[6]], lw=2)\n",
    "ax.set_ylim([-1.2, 0.2])\n",
    "ax.set_xticks([])\n",
    "ax.set_xlabel(\"Epoch\")\n",
    "ax.set_title('PINN')\n",
    "ax.text(-3500, 0.2, 'f', fontdict={\"weight\": \"bold\"})\n",
    "\n",
    "plt.savefig('SBL.pdf', bbox_inches='tight', pad_inches=0.0)"
   ]
  }
 ],
 "metadata": {
  "kernelspec": {
   "display_name": "Python 3",
   "language": "python",
   "name": "python3"
  },
  "language_info": {
   "codemirror_mode": {
    "name": "ipython",
    "version": 3
   },
   "file_extension": ".py",
   "mimetype": "text/x-python",
   "name": "python",
   "nbconvert_exporter": "python",
   "pygments_lexer": "ipython3",
   "version": "3.8.3"
  }
 },
 "nbformat": 4,
 "nbformat_minor": 5
}
