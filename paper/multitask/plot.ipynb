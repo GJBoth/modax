{
 "cells": [
  {
   "cell_type": "code",
   "execution_count": null,
   "id": "major-tunnel",
   "metadata": {},
   "outputs": [],
   "source": [
    "# imports\n",
    "import matplotlib.pyplot as plt\n",
    "import seaborn as sns\n",
    "\n",
    "import numpy as np\n",
    "from deepymod.analysis import load_tensorboard\n",
    "from natsort import natsorted\n",
    "import os\n",
    "import pandas as pd"
   ]
  },
  {
   "cell_type": "code",
   "execution_count": null,
   "id": "amazing-breath",
   "metadata": {},
   "outputs": [],
   "source": [
    "# settings\n",
    "plt.style.use('seaborn-paper')\n",
    "col_width = 5.5 # neurips style column width in inches\n",
    "fontsize=8\n",
    "plt.rcParams.update({'font.size': fontsize})"
   ]
  },
  {
   "cell_type": "markdown",
   "id": "acute-arcade",
   "metadata": {},
   "source": [
    "# Single run plot"
   ]
  },
  {
   "cell_type": "code",
   "execution_count": null,
   "id": "derived-stomach",
   "metadata": {},
   "outputs": [],
   "source": [
    "# loading data\n",
    "df_bayes = load_tensorboard(\"runs_single/bayes_run_0/\")\n",
    "df_pinn = load_tensorboard(\"runs_single/pinn_run_0/\")\n",
    "df_mt = load_tensorboard(\"runs_single/multitask_run_0/\")"
   ]
  },
  {
   "cell_type": "code",
   "execution_count": null,
   "id": "virgin-modern",
   "metadata": {},
   "outputs": [],
   "source": [
    "fig, axes = plt.subplots(nrows=2, figsize=(0.5 * col_width, 0.5 * col_width), constrained_layout=True)\n",
    "\n",
    "ax = axes[0]\n",
    "ax.plot(df_pinn.index, df_pinn.loss, label='PINN')\n",
    "ax.plot(df_mt.index, df_mt.reg + df_mt.mse, label='MT')\n",
    "ax.plot(df_bayes.index, df_bayes.reg + df_bayes.mse, label='BMT')\n",
    "\n",
    "ax.ticklabel_format(axis='x', style='sci', scilimits=[0, 0])\n",
    "ax.legend()\n",
    "#ax.set_xlabel('Epoch')\n",
    "#ax.set_ylabel('Loss')\n",
    "#ax.set_xticks([])\n",
    "ax.set_yscale('log')\n",
    "ax.set_xlim([0, 2500])\n",
    "ax.set_ylim([5e-4, 3e-1])\n",
    "\n",
    "ax = axes[1]\n",
    "ax.plot(df_mt.index, df_mt.tau, label=r'$\\tau_{MT}$')\n",
    "ax.plot(df_mt.index, df_mt.nu, label=r'$\\beta_{MT}$')\n",
    "\n",
    "ax.plot(df_bayes.index, df_bayes.tau, label=r'$\\tau_{BMT}$', linestyle='--')\n",
    "ax.plot(df_bayes.index, df_bayes.nu, label=r'$\\beta_{BMT}$', linestyle='--')\n",
    "\n",
    "\n",
    "ax.ticklabel_format(axis='x', style='sci', scilimits=[0, 0])\n",
    "ax.legend(loc='upper right')\n",
    "ax.set_xlabel('Epoch')\n",
    "#ax.set_ylabel('Precision')\n",
    "ax.set_yscale('log')\n",
    "ax.set_xlim([0, 2500])\n",
    "\n",
    "plt.savefig('multitask.pdf', bbox_inches='tight')"
   ]
  },
  {
   "cell_type": "markdown",
   "id": "occasional-difference",
   "metadata": {},
   "source": [
    "# Multple run plot"
   ]
  },
  {
   "cell_type": "code",
   "execution_count": null,
   "id": "checked-preserve",
   "metadata": {},
   "outputs": [],
   "source": [
    "files = natsorted([file for file in os.listdir('runs') if file.find('bayes')==0])\n",
    "dfs_bayes = [load_tensorboard(f'runs/{file}') for file in files]"
   ]
  },
  {
   "cell_type": "code",
   "execution_count": null,
   "id": "sealed-galaxy",
   "metadata": {},
   "outputs": [],
   "source": [
    "files = natsorted([file for file in os.listdir('runs') if file.find('multitask')==0])\n",
    "dfs_mt = [load_tensorboard(f'runs/{file}') for file in files]"
   ]
  },
  {
   "cell_type": "code",
   "execution_count": null,
   "id": "clear-secretary",
   "metadata": {},
   "outputs": [],
   "source": [
    "files = natsorted([file for file in os.listdir('runs') if file.find('pinn')==0])\n",
    "dfs_pinn = [load_tensorboard(f'runs/{file}') for file in files]"
   ]
  },
  {
   "cell_type": "code",
   "execution_count": null,
   "id": "settled-reach",
   "metadata": {},
   "outputs": [],
   "source": [
    "def mean_std(prop, df_list, log):\n",
    "    \"\"\"Returns mean and std and (mean - std, mean + std) of prop for all dataframes in df_list.\"\"\"\n",
    "    data = np.stack([prop(df) for df in df_list], axis=1)\n",
    "    if log:\n",
    "        data = np.log10(data)\n",
    "    mean = np.mean(data, axis=1)  \n",
    "    std = np.std(data, axis=1)  \n",
    "    return mean, std, (mean-std, mean + std)"
   ]
  },
  {
   "cell_type": "code",
   "execution_count": null,
   "id": "intellectual-primary",
   "metadata": {},
   "outputs": [],
   "source": [
    "bayes_mu_std = mean_std(lambda df: df.mse + df.reg, dfs_bayes, log=True)\n",
    "mt_mu_std = mean_std(lambda df: df.mse + df.reg, dfs_mt, log=True)\n",
    "pinn_mu_std = mean_std(lambda df: df.mse + df.reg, dfs_pinn, log=True)"
   ]
  },
  {
   "cell_type": "code",
   "execution_count": null,
   "id": "collected-double",
   "metadata": {},
   "outputs": [],
   "source": [
    "x_vals = dfs_bayes[0].index"
   ]
  },
  {
   "cell_type": "code",
   "execution_count": null,
   "id": "statutory-stretch",
   "metadata": {},
   "outputs": [],
   "source": [
    "tau_bayes = mean_std(lambda df: df.tau, dfs_bayes, log=True)\n",
    "tau_mt = mean_std(lambda df: df.tau, dfs_mt, log=True)\n",
    "\n",
    "beta_bayes = mean_std(lambda df: df.nu, dfs_bayes, log=True)\n",
    "beta_mt = mean_std(lambda df: df.nu, dfs_mt, log=True)"
   ]
  },
  {
   "cell_type": "code",
   "execution_count": null,
   "id": "natural-watershed",
   "metadata": {},
   "outputs": [],
   "source": [
    "fontsize = 8\n",
    "plt.rcParams.update({'font.size': fontsize})"
   ]
  },
  {
   "cell_type": "code",
   "execution_count": null,
   "id": "pleased-communication",
   "metadata": {},
   "outputs": [],
   "source": [
    "fig, axes = plt.subplots(nrows=2, figsize=(0.5 * col_width, 0.5 * col_width), constrained_layout=True)\n",
    "\n",
    "ax = axes[0]\n",
    "ax.plot(x_vals, pinn_mu_std[0], label=\"PINN\")\n",
    "ax.fill_between(x_vals, pinn_mu_std[2][0], pinn_mu_std[2][1], alpha=0.4)\n",
    "ax.plot(x_vals, mt_mu_std[0], label='MT')\n",
    "ax.fill_between(x_vals, mt_mu_std[2][0], mt_mu_std[2][1], alpha=0.4)\n",
    "\n",
    "ax.plot(x_vals, bayes_mu_std[0], label='BMT')\n",
    "ax.fill_between(x_vals, bayes_mu_std[2][0], bayes_mu_std[2][1], alpha=0.4)\n",
    "\n",
    "ax.legend(loc='upper right')\n",
    "ax.set_ylabel('log loss', fontdict={'weight':'bold', \"size\": fontsize})\n",
    "ax.set_xlim([0, 2000])\n",
    "ax.set_xticks([0, 1000, 2000])\n",
    "ax.text(-700.0, -0.8, 'a)',fontdict={'weight':'bold', 'size': fontsize})\n",
    "\n",
    "\n",
    "ax = axes[1]\n",
    "color = plt.rcParams['axes.prop_cycle'].by_key()['color'][1]\n",
    "ax.plot(x_vals, tau_mt[0], label='MT', color=color)\n",
    "ax.fill_between(x_vals, tau_mt[2][0], tau_mt[2][1], alpha=0.4, color=color)\n",
    "\n",
    "ax.plot(x_vals, beta_mt[0], linestyle='--', color=color)\n",
    "ax.fill_between(x_vals, beta_mt[2][0], beta_mt[2][1], alpha=0.4, color=color)\n",
    "\n",
    "color = plt.rcParams['axes.prop_cycle'].by_key()['color'][2]\n",
    "ax.plot(x_vals, tau_bayes[0], label='BMT', color=color)\n",
    "ax.fill_between(x_vals, tau_bayes[2][0], tau_bayes[2][1], alpha=0.4, color=color)\n",
    "\n",
    "ax.plot(x_vals, beta_bayes[0], linestyle='--', color=color)\n",
    "ax.fill_between(x_vals, beta_bayes[2][0], beta_bayes[2][1], alpha=0.4, color=color)\n",
    "\n",
    "ax.text(-700.0, 11, 'b)', fontdict={'weight':'bold', 'size': fontsize})\n",
    "ax.legend(loc='upper right')\n",
    "ax.set_xlabel('Epoch', fontdict={'weight':'bold', \"size\": fontsize})\n",
    "ax.set_ylabel('log prec.',  fontdict={'weight':'bold', \"size\":fontsize })\n",
    "ax.set_xticks([0, 1000, 2000])\n",
    "ax.set_xlim([0, 2000])\n",
    "\n",
    "plt.savefig('multitask.pdf', bbox_inches='tight', pad_inches=0)"
   ]
  },
  {
   "cell_type": "markdown",
   "id": "express-coalition",
   "metadata": {},
   "source": [
    "# Plot 2.0"
   ]
  },
  {
   "cell_type": "code",
   "execution_count": null,
   "id": "standing-dividend",
   "metadata": {},
   "outputs": [],
   "source": [
    "files = natsorted([file for file in os.listdir('runs') if file.find('bayes')==0])\n",
    "dfs_bayes = [load_tensorboard(f'runs/{file}') for file in files]"
   ]
  },
  {
   "cell_type": "code",
   "execution_count": null,
   "id": "infectious-mapping",
   "metadata": {},
   "outputs": [],
   "source": [
    "files = natsorted([file for file in os.listdir('runs') if file.find('multitask')==0])\n",
    "dfs_mt = [load_tensorboard(f'runs/{file}') for file in files]"
   ]
  },
  {
   "cell_type": "code",
   "execution_count": null,
   "id": "precise-sweden",
   "metadata": {},
   "outputs": [],
   "source": [
    "files = natsorted([file for file in os.listdir('runs') if file.find('pinn')==0])\n",
    "dfs_pinn = [load_tensorboard(f'runs/{file}') for file in files]"
   ]
  },
  {
   "cell_type": "code",
   "execution_count": null,
   "id": "median-fossil",
   "metadata": {},
   "outputs": [],
   "source": [
    "def mean_std(prop, df_list, log):\n",
    "    \"\"\"Returns mean and std and (mean - std, mean + std) of prop for all dataframes in df_list.\"\"\"\n",
    "    data = np.stack([prop(df) for df in df_list], axis=1)\n",
    "    if log:\n",
    "        data = np.log10(data)\n",
    "    mean = np.mean(data, axis=1)  \n",
    "    std = np.std(data, axis=1)  \n",
    "    return mean, std, (mean-std, mean + std)"
   ]
  },
  {
   "cell_type": "code",
   "execution_count": null,
   "id": "twenty-tracy",
   "metadata": {},
   "outputs": [],
   "source": [
    "bayes_mse = mean_std(lambda df: df.mse, dfs_bayes, log=True)\n",
    "mt_mse = mean_std(lambda df: df.mse, dfs_mt, log=True)\n",
    "pinn_mse = mean_std(lambda df: df.mse, dfs_pinn, log=True)\n",
    "\n",
    "bayes_reg = mean_std(lambda df: df.reg, dfs_bayes, log=True)\n",
    "mt_reg = mean_std(lambda df: df.reg, dfs_mt, log=True)\n",
    "pinn_reg = mean_std(lambda df: df.reg, dfs_pinn, log=True)"
   ]
  },
  {
   "cell_type": "code",
   "execution_count": null,
   "id": "recovered-sentence",
   "metadata": {},
   "outputs": [],
   "source": [
    "x_vals = dfs_bayes[0].index"
   ]
  },
  {
   "cell_type": "code",
   "execution_count": null,
   "id": "dedicated-stanley",
   "metadata": {},
   "outputs": [],
   "source": [
    "tau_bayes = mean_std(lambda df: df.tau, dfs_bayes, log=True)\n",
    "tau_mt = mean_std(lambda df: df.tau, dfs_mt, log=True)\n",
    "\n",
    "beta_bayes = mean_std(lambda df: df.nu, dfs_bayes, log=True)\n",
    "beta_mt = mean_std(lambda df: df.nu, dfs_mt, log=True)"
   ]
  },
  {
   "cell_type": "code",
   "execution_count": null,
   "id": "geographic-department",
   "metadata": {},
   "outputs": [],
   "source": [
    "fontsize = 8\n",
    "plt.rcParams.update({'font.size': fontsize})"
   ]
  },
  {
   "cell_type": "code",
   "execution_count": null,
   "id": "sought-aging",
   "metadata": {},
   "outputs": [],
   "source": [
    "fig, axes = plt.subplots(nrows=1, ncols=3, figsize=(0.9 * col_width, 0.25 * col_width), constrained_layout=True)\n",
    "\n",
    "ax = axes[0]\n",
    "ax.plot(x_vals, pinn_mse[0], label=\"PINN\")\n",
    "ax.fill_between(x_vals, pinn_mse[2][0], pinn_mse[2][1], alpha=0.4)\n",
    "ax.plot(x_vals, mt_mse[0], label='MT')\n",
    "ax.fill_between(x_vals, mt_mse[2][0], mt_mse[2][1], alpha=0.4)\n",
    "ax.plot(x_vals, bayes_mse[0], label='BMT')\n",
    "ax.fill_between(x_vals, bayes_mse[2][0], bayes_mse[2][1], alpha=0.4)\n",
    "\n",
    "ax.legend()\n",
    "#ax.set_ylabel('log loss', fontdict={'weight':'bold', \"size\": fontsize})\n",
    "ax.set_xlim([0, 2000])\n",
    "#ax.set_xticks([0, 1000, 2000])\n",
    "ax.set_ylim([-3.5, -1])\n",
    "ax.text(-650.0, -0.7, 'a)',fontdict={'weight':'bold', 'size': fontsize})\n",
    "ax.set_xticks([])\n",
    "ax.set_xlabel('Epoch', fontdict={'weight':'bold', \"size\": fontsize})\n",
    "ax.set_title(r'$\\log \\mathcal{L}_{fit}$')\n",
    "\n",
    "ax = axes[1]\n",
    "ax.plot(x_vals, pinn_reg[0], label=\"PINN\")\n",
    "ax.fill_between(x_vals, pinn_reg[2][0], pinn_reg[2][1], alpha=0.4)\n",
    "ax.plot(x_vals, mt_reg[0], label='MT')\n",
    "ax.fill_between(x_vals, mt_reg[2][0], mt_reg[2][1], alpha=0.4)\n",
    "ax.plot(x_vals, bayes_reg[0], label='BMT')\n",
    "ax.fill_between(x_vals, bayes_reg[2][0], bayes_reg[2][1], alpha=0.4)\n",
    "\n",
    "#ax.legend(loc='upper right')\n",
    "ax.set_title(r'$\\log \\mathcal{L}_{reg}$')\n",
    "ax.set_xlim([0, 2000])\n",
    "#ax.set_xticks([0, 1000, 2000])\n",
    "ax.text(-650.0, -2, 'b)',fontdict={'weight':'bold', 'size': fontsize})\n",
    "ax.set_ylim([-8.5, -2.5])\n",
    "ax.set_xticks([])\n",
    "ax.set_xlabel('Epoch', fontdict={'weight':'bold', \"size\": fontsize})\n",
    "\n",
    "\n",
    "ax = axes[2]\n",
    "color = plt.rcParams['axes.prop_cycle'].by_key()['color'][1]\n",
    "ax.plot(x_vals, tau_mt[0], label='MT', color=color)\n",
    "ax.fill_between(x_vals, tau_mt[2][0], tau_mt[2][1], alpha=0.4, color=color)\n",
    "\n",
    "ax.plot(x_vals, beta_mt[0], linestyle='--', color=color)\n",
    "ax.fill_between(x_vals, beta_mt[2][0], beta_mt[2][1], alpha=0.4, color=color)\n",
    "\n",
    "color = plt.rcParams['axes.prop_cycle'].by_key()['color'][2]\n",
    "ax.plot(x_vals, tau_bayes[0], label='BMT', color=color)\n",
    "ax.fill_between(x_vals, tau_bayes[2][0], tau_bayes[2][1], alpha=0.4, color=color)\n",
    "\n",
    "ax.plot(x_vals, beta_bayes[0], linestyle='--', color=color)\n",
    "ax.fill_between(x_vals, beta_bayes[2][0], beta_bayes[2][1], alpha=0.4, color=color)\n",
    "\n",
    "ax.text(-650.0, 12, 'c)', fontdict={'weight':'bold', 'size': fontsize})\n",
    "ax.legend(loc='upper right')\n",
    "ax.set_xticks([])\n",
    "ax.set_xlabel('Epoch', fontdict={'weight':'bold', \"size\": fontsize})\n",
    "\n",
    "ax.set_title('log prec.')\n",
    "#ax.set_xticks([0, 1000, 2000])\n",
    "\n",
    "ax.set_xlim([0, 2000])\n",
    "\n",
    "plt.savefig('multitask.pdf', bbox_inches='tight', pad_inches=0)"
   ]
  },
  {
   "cell_type": "code",
   "execution_count": null,
   "id": "frozen-athletics",
   "metadata": {},
   "outputs": [],
   "source": [
    "coeff_keys = natsorted([key for key in dfs_mt[0].keys() if key.find('coeff') == 0])\n",
    "pinn_coeff_keys = natsorted([key for key in dfs_pinn[0].keys() if key.find('coeff') == 0])"
   ]
  },
  {
   "cell_type": "code",
   "execution_count": null,
   "id": "incident-integral",
   "metadata": {},
   "outputs": [],
   "source": [
    "plt.plot(dfs_mt[0][coeff_keys])\n",
    "plt.ylim([-5, 5])"
   ]
  },
  {
   "cell_type": "code",
   "execution_count": null,
   "id": "rubber-cotton",
   "metadata": {},
   "outputs": [],
   "source": [
    "plt.plot(dfs_pinn[0][pinn_coeff_keys])\n",
    "plt.ylim([-5, 5])"
   ]
  }
 ],
 "metadata": {
  "kernelspec": {
   "display_name": "Python 3",
   "language": "python",
   "name": "python3"
  },
  "language_info": {
   "codemirror_mode": {
    "name": "ipython",
    "version": 3
   },
   "file_extension": ".py",
   "mimetype": "text/x-python",
   "name": "python",
   "nbconvert_exporter": "python",
   "pygments_lexer": "ipython3",
   "version": "3.8.3"
  }
 },
 "nbformat": 4,
 "nbformat_minor": 5
}
