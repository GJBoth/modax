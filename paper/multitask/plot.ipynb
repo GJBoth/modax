{
 "cells": [
  {
   "cell_type": "code",
   "execution_count": 1,
   "id": "sitting-tactics",
   "metadata": {},
   "outputs": [],
   "source": [
    "# imports\n",
    "import matplotlib.pyplot as plt\n",
    "import seaborn as sns\n",
    "\n",
    "import numpy as np\n",
    "from deepymod.analysis import load_tensorboard\n",
    "from natsort import natsorted\n",
    "import os\n",
    "import pandas as pd"
   ]
  },
  {
   "cell_type": "code",
   "execution_count": 16,
   "id": "dominican-index",
   "metadata": {},
   "outputs": [],
   "source": [
    "# settings\n",
    "plt.style.use('seaborn-paper')\n",
    "col_width = 5.5 # neurips style column width in inches\n",
    "fontsize=10\n",
    "plt.rcParams.update({'font.size': fontsize})"
   ]
  },
  {
   "cell_type": "markdown",
   "id": "continuous-valuable",
   "metadata": {},
   "source": [
    "# Single run plot"
   ]
  },
  {
   "cell_type": "code",
   "execution_count": 3,
   "id": "systematic-monaco",
   "metadata": {},
   "outputs": [],
   "source": [
    "# loading data\n",
    "df_bayes = load_tensorboard(\"runs_single/bayes_run_0/\")\n",
    "df_pinn = load_tensorboard(\"runs_single/pinn_run_0/\")\n",
    "df_mt = load_tensorboard(\"runs_single/multitask_run_0/\")"
   ]
  },
  {
   "cell_type": "code",
   "execution_count": 4,
   "id": "british-jerusalem",
   "metadata": {},
   "outputs": [
    {
     "ename": "AttributeError",
     "evalue": "'DataFrame' object has no attribute 'loss'",
     "output_type": "error",
     "traceback": [
      "\u001b[0;31m---------------------------------------------------------------------------\u001b[0m",
      "\u001b[0;31mAttributeError\u001b[0m                            Traceback (most recent call last)",
      "\u001b[0;32m<ipython-input-4-be01e1627a46>\u001b[0m in \u001b[0;36m<module>\u001b[0;34m\u001b[0m\n\u001b[1;32m      2\u001b[0m \u001b[0;34m\u001b[0m\u001b[0m\n\u001b[1;32m      3\u001b[0m \u001b[0max\u001b[0m \u001b[0;34m=\u001b[0m \u001b[0maxes\u001b[0m\u001b[0;34m[\u001b[0m\u001b[0;36m0\u001b[0m\u001b[0;34m]\u001b[0m\u001b[0;34m\u001b[0m\u001b[0;34m\u001b[0m\u001b[0m\n\u001b[0;32m----> 4\u001b[0;31m \u001b[0max\u001b[0m\u001b[0;34m.\u001b[0m\u001b[0mplot\u001b[0m\u001b[0;34m(\u001b[0m\u001b[0mdf_pinn\u001b[0m\u001b[0;34m.\u001b[0m\u001b[0mindex\u001b[0m\u001b[0;34m,\u001b[0m \u001b[0mdf_pinn\u001b[0m\u001b[0;34m.\u001b[0m\u001b[0mloss\u001b[0m\u001b[0;34m,\u001b[0m \u001b[0mlabel\u001b[0m\u001b[0;34m=\u001b[0m\u001b[0;34m'PINN'\u001b[0m\u001b[0;34m)\u001b[0m\u001b[0;34m\u001b[0m\u001b[0;34m\u001b[0m\u001b[0m\n\u001b[0m\u001b[1;32m      5\u001b[0m \u001b[0max\u001b[0m\u001b[0;34m.\u001b[0m\u001b[0mplot\u001b[0m\u001b[0;34m(\u001b[0m\u001b[0mdf_mt\u001b[0m\u001b[0;34m.\u001b[0m\u001b[0mindex\u001b[0m\u001b[0;34m,\u001b[0m \u001b[0mdf_mt\u001b[0m\u001b[0;34m.\u001b[0m\u001b[0mreg\u001b[0m \u001b[0;34m+\u001b[0m \u001b[0mdf_mt\u001b[0m\u001b[0;34m.\u001b[0m\u001b[0mmse\u001b[0m\u001b[0;34m,\u001b[0m \u001b[0mlabel\u001b[0m\u001b[0;34m=\u001b[0m\u001b[0;34m'MT'\u001b[0m\u001b[0;34m)\u001b[0m\u001b[0;34m\u001b[0m\u001b[0;34m\u001b[0m\u001b[0m\n\u001b[1;32m      6\u001b[0m \u001b[0max\u001b[0m\u001b[0;34m.\u001b[0m\u001b[0mplot\u001b[0m\u001b[0;34m(\u001b[0m\u001b[0mdf_bayes\u001b[0m\u001b[0;34m.\u001b[0m\u001b[0mindex\u001b[0m\u001b[0;34m,\u001b[0m \u001b[0mdf_bayes\u001b[0m\u001b[0;34m.\u001b[0m\u001b[0mreg\u001b[0m \u001b[0;34m+\u001b[0m \u001b[0mdf_bayes\u001b[0m\u001b[0;34m.\u001b[0m\u001b[0mmse\u001b[0m\u001b[0;34m,\u001b[0m \u001b[0mlabel\u001b[0m\u001b[0;34m=\u001b[0m\u001b[0;34m'BMT'\u001b[0m\u001b[0;34m)\u001b[0m\u001b[0;34m\u001b[0m\u001b[0;34m\u001b[0m\u001b[0m\n",
      "\u001b[0;32m~/anaconda3/envs/updated/lib/python3.8/site-packages/pandas/core/generic.py\u001b[0m in \u001b[0;36m__getattr__\u001b[0;34m(self, name)\u001b[0m\n\u001b[1;32m   5460\u001b[0m             \u001b[0;32mif\u001b[0m \u001b[0mself\u001b[0m\u001b[0;34m.\u001b[0m\u001b[0m_info_axis\u001b[0m\u001b[0;34m.\u001b[0m\u001b[0m_can_hold_identifiers_and_holds_name\u001b[0m\u001b[0;34m(\u001b[0m\u001b[0mname\u001b[0m\u001b[0;34m)\u001b[0m\u001b[0;34m:\u001b[0m\u001b[0;34m\u001b[0m\u001b[0;34m\u001b[0m\u001b[0m\n\u001b[1;32m   5461\u001b[0m                 \u001b[0;32mreturn\u001b[0m \u001b[0mself\u001b[0m\u001b[0;34m[\u001b[0m\u001b[0mname\u001b[0m\u001b[0;34m]\u001b[0m\u001b[0;34m\u001b[0m\u001b[0;34m\u001b[0m\u001b[0m\n\u001b[0;32m-> 5462\u001b[0;31m             \u001b[0;32mreturn\u001b[0m \u001b[0mobject\u001b[0m\u001b[0;34m.\u001b[0m\u001b[0m__getattribute__\u001b[0m\u001b[0;34m(\u001b[0m\u001b[0mself\u001b[0m\u001b[0;34m,\u001b[0m \u001b[0mname\u001b[0m\u001b[0;34m)\u001b[0m\u001b[0;34m\u001b[0m\u001b[0;34m\u001b[0m\u001b[0m\n\u001b[0m\u001b[1;32m   5463\u001b[0m \u001b[0;34m\u001b[0m\u001b[0m\n\u001b[1;32m   5464\u001b[0m     \u001b[0;32mdef\u001b[0m \u001b[0m__setattr__\u001b[0m\u001b[0;34m(\u001b[0m\u001b[0mself\u001b[0m\u001b[0;34m,\u001b[0m \u001b[0mname\u001b[0m\u001b[0;34m:\u001b[0m \u001b[0mstr\u001b[0m\u001b[0;34m,\u001b[0m \u001b[0mvalue\u001b[0m\u001b[0;34m)\u001b[0m \u001b[0;34m->\u001b[0m \u001b[0;32mNone\u001b[0m\u001b[0;34m:\u001b[0m\u001b[0;34m\u001b[0m\u001b[0;34m\u001b[0m\u001b[0m\n",
      "\u001b[0;31mAttributeError\u001b[0m: 'DataFrame' object has no attribute 'loss'"
     ]
    },
    {
     "data": {
      "image/png": "[encoded data removed]",
      "text/plain": [
       "<Figure size 198x198 with 2 Axes>"
      ]
     },
     "metadata": {
      "needs_background": "light"
     },
     "output_type": "display_data"
    }
   ],
   "source": [
    "fig, axes = plt.subplots(nrows=2, figsize=(0.5 * col_width, 0.5 * col_width), constrained_layout=True)\n",
    "\n",
    "ax = axes[0]\n",
    "ax.plot(df_pinn.index, df_pinn.loss, label='PINN')\n",
    "ax.plot(df_mt.index, df_mt.reg + df_mt.mse, label='MT')\n",
    "ax.plot(df_bayes.index, df_bayes.reg + df_bayes.mse, label='BMT')\n",
    "\n",
    "ax.ticklabel_format(axis='x', style='sci', scilimits=[0, 0])\n",
    "ax.legend()\n",
    "#ax.set_xlabel('Epoch')\n",
    "#ax.set_ylabel('Loss')\n",
    "#ax.set_xticks([])\n",
    "ax.set_yscale('log')\n",
    "ax.set_xlim([0, 2500])\n",
    "ax.set_ylim([5e-4, 3e-1])\n",
    "\n",
    "ax = axes[1]\n",
    "ax.plot(df_mt.index, df_mt.tau, label=r'$\\tau_{MT}$')\n",
    "ax.plot(df_mt.index, df_mt.nu, label=r'$\\beta_{MT}$')\n",
    "\n",
    "ax.plot(df_bayes.index, df_bayes.tau, label=r'$\\tau_{BMT}$', linestyle='--')\n",
    "ax.plot(df_bayes.index, df_bayes.nu, label=r'$\\beta_{BMT}$', linestyle='--')\n",
    "\n",
    "\n",
    "ax.ticklabel_format(axis='x', style='sci', scilimits=[0, 0])\n",
    "ax.legend(loc='upper right')\n",
    "ax.set_xlabel('Epoch')\n",
    "#ax.set_ylabel('Precision')\n",
    "ax.set_yscale('log')\n",
    "ax.set_xlim([0, 2500])\n",
    "\n",
    "plt.savefig('multitask.pdf', bbox_inches='tight')"
   ]
  },
  {
   "cell_type": "markdown",
   "id": "acute-deadline",
   "metadata": {},
   "source": [
    "# Multple run plot"
   ]
  },
  {
   "cell_type": "code",
   "execution_count": 6,
   "id": "presidential-association",
   "metadata": {},
   "outputs": [],
   "source": [
    "files = natsorted([file for file in os.listdir('runs') if file.find('bayes')==0])\n",
    "dfs_bayes = [load_tensorboard(f'runs/{file}') for file in files]"
   ]
  },
  {
   "cell_type": "code",
   "execution_count": 7,
   "id": "amended-malpractice",
   "metadata": {},
   "outputs": [],
   "source": [
    "files = natsorted([file for file in os.listdir('runs') if file.find('multitask')==0])\n",
    "dfs_mt = [load_tensorboard(f'runs/{file}') for file in files]"
   ]
  },
  {
   "cell_type": "code",
   "execution_count": 8,
   "id": "fitting-tongue",
   "metadata": {},
   "outputs": [],
   "source": [
    "files = natsorted([file for file in os.listdir('runs') if file.find('pinn')==0])\n",
    "dfs_pinn = [load_tensorboard(f'runs/{file}') for file in files]"
   ]
  },
  {
   "cell_type": "code",
   "execution_count": 9,
   "id": "mature-management",
   "metadata": {},
   "outputs": [],
   "source": [
    "def mean_std(prop, df_list, log):\n",
    "    \"\"\"Returns mean and std and (mean - std, mean + std) of prop for all dataframes in df_list.\"\"\"\n",
    "    data = np.stack([prop(df) for df in df_list], axis=1)\n",
    "    if log:\n",
    "        data = np.log10(data)\n",
    "    mean = np.mean(data, axis=1)  \n",
    "    std = np.std(data, axis=1)  \n",
    "    return mean, std, (mean-std, mean + std)"
   ]
  },
  {
   "cell_type": "code",
   "execution_count": 10,
   "id": "surrounded-architecture",
   "metadata": {},
   "outputs": [],
   "source": [
    "bayes_mu_std = mean_std(lambda df: df.mse + df.reg, dfs_bayes, log=True)\n",
    "mt_mu_std = mean_std(lambda df: df.mse + df.reg, dfs_mt, log=True)\n",
    "pinn_mu_std = mean_std(lambda df: df.mse + df.reg, dfs_pinn, log=True)"
   ]
  },
  {
   "cell_type": "code",
   "execution_count": 11,
   "id": "brilliant-rapid",
   "metadata": {},
   "outputs": [],
   "source": [
    "x_vals = dfs_bayes[0].index"
   ]
  },
  {
   "cell_type": "code",
   "execution_count": 12,
   "id": "criminal-charger",
   "metadata": {},
   "outputs": [],
   "source": [
    "tau_bayes = mean_std(lambda df: df.tau, dfs_bayes, log=True)\n",
    "tau_mt = mean_std(lambda df: df.tau, dfs_mt, log=True)\n",
    "\n",
    "beta_bayes = mean_std(lambda df: df.nu, dfs_bayes, log=True)\n",
    "beta_mt = mean_std(lambda df: df.nu, dfs_mt, log=True)"
   ]
  },
  {
   "cell_type": "code",
   "execution_count": 39,
   "id": "dressed-symbol",
   "metadata": {},
   "outputs": [],
   "source": [
    "fontsize = 8\n",
    "plt.rcParams.update({'font.size': fontsize})"
   ]
  },
  {
   "cell_type": "code",
   "execution_count": 48,
   "id": "modern-bonus",
   "metadata": {},
   "outputs": [
    {
     "data": {
      "image/png": "[encoded data removed]",
      "text/plain": [
       "<Figure size 198x198 with 2 Axes>"
      ]
     },
     "metadata": {
      "needs_background": "light"
     },
     "output_type": "display_data"
    }
   ],
   "source": [
    "fig, axes = plt.subplots(nrows=2, figsize=(0.5 * col_width, 0.5 * col_width), constrained_layout=True)\n",
    "\n",
    "ax = axes[0]\n",
    "ax.plot(x_vals, pinn_mu_std[0], label=\"PINN\")\n",
    "ax.fill_between(x_vals, pinn_mu_std[2][0], pinn_mu_std[2][1], alpha=0.4)\n",
    "ax.plot(x_vals, mt_mu_std[0], label='MT')\n",
    "ax.fill_between(x_vals, mt_mu_std[2][0], mt_mu_std[2][1], alpha=0.4)\n",
    "\n",
    "ax.plot(x_vals, bayes_mu_std[0], label='BMT')\n",
    "ax.fill_between(x_vals, bayes_mu_std[2][0], bayes_mu_std[2][1], alpha=0.4)\n",
    "\n",
    "ax.legend(loc='upper right')\n",
    "ax.set_ylabel('log loss', fontdict={'weight':'bold', \"size\": fontsize})\n",
    "ax.set_xlim([0, 2000])\n",
    "ax.set_xticks([0, 1000, 2000])\n",
    "ax.text(-700.0, -0.8, 'a)',fontdict={'weight':'bold', 'size': fontsize})\n",
    "\n",
    "\n",
    "ax = axes[1]\n",
    "color = plt.rcParams['axes.prop_cycle'].by_key()['color'][1]\n",
    "ax.plot(x_vals, tau_mt[0], label='MT', color=color)\n",
    "ax.fill_between(x_vals, tau_mt[2][0], tau_mt[2][1], alpha=0.4, color=color)\n",
    "\n",
    "ax.plot(x_vals, beta_mt[0], linestyle='--', color=color)\n",
    "ax.fill_between(x_vals, beta_mt[2][0], beta_mt[2][1], alpha=0.4, color=color)\n",
    "\n",
    "color = plt.rcParams['axes.prop_cycle'].by_key()['color'][2]\n",
    "ax.plot(x_vals, tau_bayes[0], label='BMT', color=color)\n",
    "ax.fill_between(x_vals, tau_bayes[2][0], tau_bayes[2][1], alpha=0.4, color=color)\n",
    "\n",
    "ax.plot(x_vals, beta_bayes[0], linestyle='--', color=color)\n",
    "ax.fill_between(x_vals, beta_bayes[2][0], beta_bayes[2][1], alpha=0.4, color=color)\n",
    "\n",
    "ax.text(-700.0, 11, 'b)', fontdict={'weight':'bold', 'size': fontsize})\n",
    "ax.legend(loc='upper right')\n",
    "ax.set_xlabel('Epoch', fontdict={'weight':'bold', \"size\": fontsize})\n",
    "ax.set_ylabel('log prec.',  fontdict={'weight':'bold', \"size\":fontsize })\n",
    "ax.set_xticks([0, 1000, 2000])\n",
    "ax.set_xlim([0, 2000])\n",
    "\n",
    "plt.savefig('multitask.pdf', bbox_inches='tight', pad_inches=0)"
   ]
  },
  {
   "cell_type": "code",
   "execution_count": null,
   "id": "innovative-crime",
   "metadata": {},
   "outputs": [],
   "source": []
  }
 ],
 "metadata": {
  "kernelspec": {
   "display_name": "Python 3",
   "language": "python",
   "name": "python3"
  },
  "language_info": {
   "codemirror_mode": {
    "name": "ipython",
    "version": 3
   },
   "file_extension": ".py",
   "mimetype": "text/x-python",
   "name": "python",
   "nbconvert_exporter": "python",
   "pygments_lexer": "ipython3",
   "version": "3.8.3"
  }
 },
 "nbformat": 4,
 "nbformat_minor": 5
}
